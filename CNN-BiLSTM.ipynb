{
 "cells": [
  {
   "cell_type": "markdown",
   "metadata": {},
   "source": [
    ",,degrees_east,degrees_north,UTC,millibars,degrees true,knots,knots,meters,seconds,degrees_true,meters,degrees_C,degrees_C,degrees_C,dimensionless,percent,degrees,degrees_true,seconds,"
   ]
  },
  {
   "cell_type": "code",
   "execution_count": 1,
   "metadata": {},
   "outputs": [
    {
     "name": "stdout",
     "output_type": "stream",
     "text": [
      "Data loading...\n"
     ]
    },
    {
     "name": "stderr",
     "output_type": "stream",
     "text": [
      "100%|██████████| 19306/19306 [00:00<00:00, 877390.35it/s]"
     ]
    },
    {
     "name": "stdout",
     "output_type": "stream",
     "text": [
      "测试集大小为3862\n",
      "Model loading...\n"
     ]
    },
    {
     "name": "stderr",
     "output_type": "stream",
     "text": [
      "\n"
     ]
    },
    {
     "name": "stdout",
     "output_type": "stream",
     "text": [
      "Training...\n",
      "torch.Size([30, 1, 10])\n",
      "Epoch: 0 batch: 0 | loss: 0.05971825495362282\n",
      "Epoch: 0 batch: 10 | loss: 0.4856701195240021\n",
      "Epoch: 0 batch: 20 | loss: 0.008249416947364807\n",
      "Epoch: 0 batch: 30 | loss: 0.3555789887905121\n",
      "Epoch: 0 batch: 40 | loss: 0.033816125243902206\n",
      "Epoch: 0 batch: 50 | loss: 0.05954332649707794\n",
      "Epoch: 0 batch: 60 | loss: 0.18440456688404083\n",
      "Epoch: 0 batch: 70 | loss: 0.010550400242209435\n",
      "Epoch: 0 batch: 80 | loss: 0.17919707298278809\n",
      "Epoch: 0 batch: 90 | loss: 0.027140997350215912\n",
      "Epoch: 0 batch: 100 | loss: 0.035722147673368454\n",
      "Epoch: 0 batch: 110 | loss: 0.026083121076226234\n",
      "Epoch: 0 batch: 120 | loss: 0.05620283633470535\n",
      "Epoch: 0 batch: 130 | loss: 0.036196671426296234\n",
      "Epoch: 0 batch: 140 | loss: 0.0172728281468153\n",
      "Epoch: 0 batch: 150 | loss: 0.017467442899942398\n",
      "Epoch: 0 batch: 160 | loss: 0.03107597678899765\n",
      "Epoch: 0 batch: 170 | loss: 0.03543759137392044\n",
      "Epoch: 0 batch: 180 | loss: 0.028504718095064163\n",
      "Epoch: 0 batch: 190 | loss: 0.02478492632508278\n",
      "Epoch: 0 batch: 200 | loss: 0.01716088317334652\n",
      "Epoch: 0 batch: 210 | loss: 0.0307504590600729\n",
      "Epoch: 0 batch: 220 | loss: 0.05636133998632431\n",
      "Epoch: 0 batch: 230 | loss: 0.03442743793129921\n",
      "Epoch: 0 batch: 240 | loss: 0.05808054283261299\n",
      "Epoch: 0 batch: 250 | loss: 0.08306262642145157\n",
      "Epoch: 0 batch: 260 | loss: 0.10928208380937576\n",
      "Epoch: 0 batch: 270 | loss: 0.07462701946496964\n",
      "Epoch: 0 batch: 280 | loss: 0.01863311417400837\n",
      "Epoch: 0 batch: 290 | loss: 0.011570164002478123\n",
      "Epoch: 0 batch: 300 | loss: 0.08124677836894989\n",
      "Epoch: 0 batch: 310 | loss: 0.07066331058740616\n",
      "Epoch: 0 batch: 320 | loss: 0.10043646395206451\n",
      "Epoch: 0 batch: 330 | loss: 0.06064755097031593\n",
      "Epoch: 0 batch: 340 | loss: 0.037298042327165604\n",
      "Epoch: 0 batch: 350 | loss: 0.028369460254907608\n",
      "Epoch: 0 batch: 360 | loss: 0.026846086606383324\n",
      "Epoch: 0 batch: 370 | loss: 0.06319155544042587\n",
      "Epoch: 0 batch: 380 | loss: 0.04733739793300629\n",
      "Epoch: 0 batch: 390 | loss: 0.020207656547427177\n",
      "Epoch: 0 batch: 400 | loss: 0.00793551467359066\n",
      "Epoch: 0 batch: 410 | loss: 0.01619977317750454\n",
      "Epoch: 0 batch: 420 | loss: 0.06288058310747147\n",
      "Epoch: 0 batch: 430 | loss: 0.0661226287484169\n",
      "Epoch: 0 batch: 440 | loss: 0.08775892108678818\n"
     ]
    },
    {
     "name": "stderr",
     "output_type": "stream",
     "text": [
      "59it [00:01, 60.08it/s]"
     ]
    },
    {
     "name": "stdout",
     "output_type": "stream",
     "text": [
      "torch.Size([30, 1, 10])\n"
     ]
    },
    {
     "name": "stderr",
     "output_type": "stream",
     "text": [
      "65it [00:01, 41.81it/s]\n"
     ]
    },
    {
     "name": "stdout",
     "output_type": "stream",
     "text": [
      "Epoch: 0 valLoss: 0.05462353663275835\n",
      "torch.Size([30, 1, 10])\n",
      "Epoch: 1 batch: 0 | loss: 0.06985025852918625\n",
      "Epoch: 1 batch: 10 | loss: 0.05057549849152565\n",
      "Epoch: 1 batch: 20 | loss: 0.09023846685886383\n",
      "Epoch: 1 batch: 30 | loss: 0.04646296799182892\n",
      "Epoch: 1 batch: 40 | loss: 0.024618232622742653\n",
      "Epoch: 1 batch: 50 | loss: 0.01662636175751686\n",
      "Epoch: 1 batch: 60 | loss: 0.03171193599700928\n",
      "Epoch: 1 batch: 70 | loss: 0.06503349542617798\n",
      "Epoch: 1 batch: 80 | loss: 0.05101297050714493\n",
      "Epoch: 1 batch: 90 | loss: 0.022390855476260185\n",
      "Epoch: 1 batch: 100 | loss: 0.02864123322069645\n",
      "Epoch: 1 batch: 110 | loss: 0.020086269825696945\n",
      "Epoch: 1 batch: 120 | loss: 0.04254387319087982\n",
      "Epoch: 1 batch: 130 | loss: 0.023077724501490593\n",
      "Epoch: 1 batch: 140 | loss: 0.00910029374063015\n",
      "Epoch: 1 batch: 150 | loss: 0.006117969285696745\n",
      "Epoch: 1 batch: 160 | loss: 0.01725545898079872\n",
      "Epoch: 1 batch: 170 | loss: 0.016020899638533592\n",
      "Epoch: 1 batch: 180 | loss: 0.018942706286907196\n",
      "Epoch: 1 batch: 190 | loss: 0.010702010244131088\n",
      "Epoch: 1 batch: 200 | loss: 0.004500661510974169\n",
      "Epoch: 1 batch: 210 | loss: 0.012103068642318249\n",
      "Epoch: 1 batch: 220 | loss: 0.008590447716414928\n",
      "Epoch: 1 batch: 230 | loss: 0.0088419821113348\n",
      "Epoch: 1 batch: 240 | loss: 0.009869865141808987\n",
      "Epoch: 1 batch: 250 | loss: 0.008051853626966476\n",
      "Epoch: 1 batch: 260 | loss: 0.013106497004628181\n",
      "Epoch: 1 batch: 270 | loss: 0.005807385314255953\n",
      "Epoch: 1 batch: 280 | loss: 0.00809481367468834\n",
      "Epoch: 1 batch: 290 | loss: 0.004169436637312174\n",
      "Epoch: 1 batch: 300 | loss: 0.009421954862773418\n",
      "Epoch: 1 batch: 310 | loss: 0.007039961405098438\n",
      "Epoch: 1 batch: 320 | loss: 0.013126838952302933\n",
      "Epoch: 1 batch: 330 | loss: 0.009838889352977276\n",
      "Epoch: 1 batch: 340 | loss: 0.007039605639874935\n",
      "Epoch: 1 batch: 350 | loss: 0.008905543945729733\n",
      "Epoch: 1 batch: 360 | loss: 0.005821318831294775\n",
      "Epoch: 1 batch: 370 | loss: 0.0032542808912694454\n",
      "Epoch: 1 batch: 380 | loss: 0.0037714880891144276\n",
      "Epoch: 1 batch: 390 | loss: 0.004179077688604593\n",
      "Epoch: 1 batch: 400 | loss: 0.002465039025992155\n",
      "Epoch: 1 batch: 410 | loss: 0.002069443231448531\n",
      "Epoch: 1 batch: 420 | loss: 0.004174669738858938\n",
      "Epoch: 1 batch: 430 | loss: 0.004401250742375851\n",
      "Epoch: 1 batch: 440 | loss: 0.008616729639470577\n"
     ]
    },
    {
     "name": "stderr",
     "output_type": "stream",
     "text": [
      "52it [00:01, 55.76it/s]"
     ]
    },
    {
     "name": "stdout",
     "output_type": "stream",
     "text": [
      "torch.Size([30, 1, 10])\n"
     ]
    },
    {
     "name": "stderr",
     "output_type": "stream",
     "text": [
      "65it [00:01, 42.71it/s]\n"
     ]
    },
    {
     "name": "stdout",
     "output_type": "stream",
     "text": [
      "Epoch: 1 valLoss: 0.005589459501529317\n",
      "torch.Size([30, 1, 10])\n",
      "Epoch: 2 batch: 0 | loss: 0.005612628068774939\n",
      "Epoch: 2 batch: 10 | loss: 0.003762397915124893\n",
      "Epoch: 2 batch: 20 | loss: 0.0033720287028700113\n",
      "Epoch: 2 batch: 30 | loss: 0.003885391168296337\n",
      "Epoch: 2 batch: 40 | loss: 0.0028479089960455894\n",
      "Epoch: 2 batch: 50 | loss: 0.004906745627522469\n",
      "Epoch: 2 batch: 60 | loss: 0.003815971314907074\n",
      "Epoch: 2 batch: 70 | loss: 0.0039053901564329863\n",
      "Epoch: 2 batch: 80 | loss: 0.005821527447551489\n",
      "Epoch: 2 batch: 90 | loss: 0.004515666980296373\n",
      "Epoch: 2 batch: 100 | loss: 0.00734122097492218\n",
      "Epoch: 2 batch: 110 | loss: 0.007835695520043373\n",
      "Epoch: 2 batch: 120 | loss: 0.008613348007202148\n",
      "Epoch: 2 batch: 130 | loss: 0.011328520253300667\n",
      "Epoch: 2 batch: 140 | loss: 0.008161832578480244\n",
      "Epoch: 2 batch: 150 | loss: 0.004069624934345484\n",
      "Epoch: 2 batch: 160 | loss: 0.0030933627858757973\n",
      "Epoch: 2 batch: 170 | loss: 0.001347533892840147\n",
      "Epoch: 2 batch: 180 | loss: 0.003128691576421261\n",
      "Epoch: 2 batch: 190 | loss: 0.003751747775822878\n",
      "Epoch: 2 batch: 200 | loss: 0.0048554134555161\n",
      "Epoch: 2 batch: 210 | loss: 0.0014548995532095432\n",
      "Epoch: 2 batch: 220 | loss: 0.006177511997520924\n",
      "Epoch: 2 batch: 230 | loss: 0.0057504805736243725\n",
      "Epoch: 2 batch: 240 | loss: 0.00675202114507556\n",
      "Epoch: 2 batch: 250 | loss: 0.003384766634553671\n",
      "Epoch: 2 batch: 260 | loss: 0.004493857733905315\n",
      "Epoch: 2 batch: 270 | loss: 0.001798173296265304\n",
      "Epoch: 2 batch: 280 | loss: 0.005288523156195879\n",
      "Epoch: 2 batch: 290 | loss: 0.005244025960564613\n",
      "Epoch: 2 batch: 300 | loss: 0.004930895287543535\n",
      "Epoch: 2 batch: 310 | loss: 0.002011992735788226\n",
      "Epoch: 2 batch: 320 | loss: 0.0051097325049340725\n",
      "Epoch: 2 batch: 330 | loss: 0.003849256783723831\n",
      "Epoch: 2 batch: 340 | loss: 0.005569611210376024\n",
      "Epoch: 2 batch: 350 | loss: 0.010074677877128124\n",
      "Epoch: 2 batch: 360 | loss: 0.007127887569367886\n",
      "Epoch: 2 batch: 370 | loss: 0.005786439869552851\n",
      "Epoch: 2 batch: 380 | loss: 0.0044770436361432076\n",
      "Epoch: 2 batch: 390 | loss: 0.002776551991701126\n",
      "Epoch: 2 batch: 400 | loss: 0.002825895557180047\n",
      "Epoch: 2 batch: 410 | loss: 0.0020338664762675762\n",
      "Epoch: 2 batch: 420 | loss: 0.0031234344933182\n",
      "Epoch: 2 batch: 430 | loss: 0.003275875700637698\n",
      "Epoch: 2 batch: 440 | loss: 0.004528871737420559\n"
     ]
    },
    {
     "name": "stderr",
     "output_type": "stream",
     "text": [
      "20it [00:01, 20.92it/s]"
     ]
    },
    {
     "name": "stdout",
     "output_type": "stream",
     "text": [
      "torch.Size([30, 1, 10])\n"
     ]
    },
    {
     "name": "stderr",
     "output_type": "stream",
     "text": [
      "65it [00:01, 40.95it/s]\n"
     ]
    },
    {
     "name": "stdout",
     "output_type": "stream",
     "text": [
      "Epoch: 2 valLoss: 0.004798692912958878\n",
      "torch.Size([30, 1, 10])\n",
      "Epoch: 3 batch: 0 | loss: 0.003474054392427206\n",
      "Epoch: 3 batch: 10 | loss: 0.004334541503340006\n",
      "Epoch: 3 batch: 20 | loss: 0.001147399889305234\n",
      "Epoch: 3 batch: 30 | loss: 0.0020397892221808434\n",
      "Epoch: 3 batch: 40 | loss: 0.002645681379362941\n",
      "Epoch: 3 batch: 50 | loss: 0.0034270549658685923\n",
      "Epoch: 3 batch: 60 | loss: 0.0033305869437754154\n",
      "Epoch: 3 batch: 70 | loss: 0.0017282351618632674\n",
      "Epoch: 3 batch: 80 | loss: 0.0030031136702746153\n",
      "Epoch: 3 batch: 90 | loss: 0.009396175853908062\n",
      "Epoch: 3 batch: 100 | loss: 0.006603499408811331\n",
      "Epoch: 3 batch: 110 | loss: 0.0046264841221272945\n",
      "Epoch: 3 batch: 120 | loss: 0.009049487300217152\n",
      "Epoch: 3 batch: 130 | loss: 0.008086281828582287\n",
      "Epoch: 3 batch: 140 | loss: 0.0057987309992313385\n",
      "Epoch: 3 batch: 150 | loss: 0.004054517950862646\n",
      "Epoch: 3 batch: 160 | loss: 0.003205937333405018\n",
      "Epoch: 3 batch: 170 | loss: 0.0012185010127723217\n",
      "Epoch: 3 batch: 180 | loss: 0.0010741377482190728\n",
      "Epoch: 3 batch: 190 | loss: 0.0016579139046370983\n",
      "Epoch: 3 batch: 200 | loss: 0.003884705947712064\n",
      "Epoch: 3 batch: 210 | loss: 0.0024687612894922495\n",
      "Epoch: 3 batch: 220 | loss: 0.004152600187808275\n",
      "Epoch: 3 batch: 230 | loss: 0.0033435276709496975\n",
      "Epoch: 3 batch: 240 | loss: 0.009814717806875706\n",
      "Epoch: 3 batch: 250 | loss: 0.0034848125651478767\n",
      "Epoch: 3 batch: 260 | loss: 0.004296150989830494\n",
      "Epoch: 3 batch: 270 | loss: 0.0010875747539103031\n",
      "Epoch: 3 batch: 280 | loss: 0.0023795964661985636\n",
      "Epoch: 3 batch: 290 | loss: 0.002969905501231551\n",
      "Epoch: 3 batch: 300 | loss: 0.00569511903449893\n",
      "Epoch: 3 batch: 310 | loss: 0.0033876863308250904\n",
      "Epoch: 3 batch: 320 | loss: 0.004203746095299721\n",
      "Epoch: 3 batch: 330 | loss: 0.0020151925273239613\n",
      "Epoch: 3 batch: 340 | loss: 0.005255571100860834\n",
      "Epoch: 3 batch: 350 | loss: 0.006093594711273909\n",
      "Epoch: 3 batch: 360 | loss: 0.006396148819476366\n",
      "Epoch: 3 batch: 370 | loss: 0.003985022660344839\n",
      "Epoch: 3 batch: 380 | loss: 0.002403863240033388\n",
      "Epoch: 3 batch: 390 | loss: 0.0030174520798027515\n",
      "Epoch: 3 batch: 400 | loss: 0.0021366875153034925\n",
      "Epoch: 3 batch: 410 | loss: 0.0010508651612326503\n",
      "Epoch: 3 batch: 420 | loss: 0.0024365424178540707\n",
      "Epoch: 3 batch: 430 | loss: 0.002512690844014287\n",
      "Epoch: 3 batch: 440 | loss: 0.0019105698447674513\n"
     ]
    },
    {
     "name": "stderr",
     "output_type": "stream",
     "text": [
      "18it [00:01, 19.43it/s]"
     ]
    },
    {
     "name": "stdout",
     "output_type": "stream",
     "text": [
      "torch.Size([30, 1, 10])\n"
     ]
    },
    {
     "name": "stderr",
     "output_type": "stream",
     "text": [
      "65it [00:01, 42.06it/s]\n"
     ]
    },
    {
     "name": "stdout",
     "output_type": "stream",
     "text": [
      "Epoch: 3 valLoss: 0.004147462272862317\n",
      "torch.Size([30, 1, 10])\n",
      "Epoch: 4 batch: 0 | loss: 0.0035445154644548893\n",
      "Epoch: 4 batch: 10 | loss: 0.0039694360457360744\n",
      "Epoch: 4 batch: 20 | loss: 0.001021208125166595\n",
      "Epoch: 4 batch: 30 | loss: 0.0037929394748061895\n",
      "Epoch: 4 batch: 40 | loss: 0.0016189048765227199\n",
      "Epoch: 4 batch: 50 | loss: 0.0020082893315702677\n",
      "Epoch: 4 batch: 60 | loss: 0.0016928918194025755\n",
      "Epoch: 4 batch: 70 | loss: 0.0012024500174447894\n",
      "Epoch: 4 batch: 80 | loss: 0.0024925628677010536\n",
      "Epoch: 4 batch: 90 | loss: 0.004702792968600988\n",
      "Epoch: 4 batch: 100 | loss: 0.005054904613643885\n",
      "Epoch: 4 batch: 110 | loss: 0.005135618150234222\n",
      "Epoch: 4 batch: 120 | loss: 0.007451955229043961\n",
      "Epoch: 4 batch: 130 | loss: 0.007466230075806379\n",
      "Epoch: 4 batch: 140 | loss: 0.0050032371655106544\n",
      "Epoch: 4 batch: 150 | loss: 0.003374154679477215\n",
      "Epoch: 4 batch: 160 | loss: 0.0020187152549624443\n",
      "Epoch: 4 batch: 170 | loss: 0.0021452424116432667\n",
      "Epoch: 4 batch: 180 | loss: 0.001561543671414256\n",
      "Epoch: 4 batch: 190 | loss: 0.0020526063162833452\n",
      "Epoch: 4 batch: 200 | loss: 0.003966601565480232\n",
      "Epoch: 4 batch: 210 | loss: 0.0015299990773200989\n",
      "Epoch: 4 batch: 220 | loss: 0.004196178168058395\n",
      "Epoch: 4 batch: 230 | loss: 0.002898500533774495\n",
      "Epoch: 4 batch: 240 | loss: 0.005601527635008097\n",
      "Epoch: 4 batch: 250 | loss: 0.0026109954342246056\n",
      "Epoch: 4 batch: 260 | loss: 0.0023639281280338764\n",
      "Epoch: 4 batch: 270 | loss: 0.0008159786812029779\n",
      "Epoch: 4 batch: 280 | loss: 0.001853067078627646\n",
      "Epoch: 4 batch: 290 | loss: 0.0025172587484121323\n",
      "Epoch: 4 batch: 300 | loss: 0.0025632178876549006\n",
      "Epoch: 4 batch: 310 | loss: 0.0028292841743677855\n",
      "Epoch: 4 batch: 320 | loss: 0.0026877832133322954\n",
      "Epoch: 4 batch: 330 | loss: 0.0018370464676991105\n",
      "Epoch: 4 batch: 340 | loss: 0.004605904687196016\n",
      "Epoch: 4 batch: 350 | loss: 0.0046620676293969154\n",
      "Epoch: 4 batch: 360 | loss: 0.0059253983199596405\n",
      "Epoch: 4 batch: 370 | loss: 0.003424872877076268\n",
      "Epoch: 4 batch: 380 | loss: 0.0021583528723567724\n",
      "Epoch: 4 batch: 390 | loss: 0.002174947177991271\n",
      "Epoch: 4 batch: 400 | loss: 0.0022759914863854647\n",
      "Epoch: 4 batch: 410 | loss: 0.0012440911959856749\n",
      "Epoch: 4 batch: 420 | loss: 0.0023032347671687603\n",
      "Epoch: 4 batch: 430 | loss: 0.0018381539266556501\n",
      "Epoch: 4 batch: 440 | loss: 0.002537015825510025\n"
     ]
    },
    {
     "name": "stderr",
     "output_type": "stream",
     "text": [
      "35it [00:01, 37.31it/s]"
     ]
    },
    {
     "name": "stdout",
     "output_type": "stream",
     "text": [
      "torch.Size([30, 1, 10])\n"
     ]
    },
    {
     "name": "stderr",
     "output_type": "stream",
     "text": [
      "65it [00:01, 42.26it/s]\n"
     ]
    },
    {
     "name": "stdout",
     "output_type": "stream",
     "text": [
      "Epoch: 4 valLoss: 0.0035569687829789674\n",
      "torch.Size([30, 1, 10])\n",
      "Epoch: 5 batch: 0 | loss: 0.002143176505342126\n",
      "Epoch: 5 batch: 10 | loss: 0.004529849626123905\n",
      "Epoch: 5 batch: 20 | loss: 0.0009057497372850776\n",
      "Epoch: 5 batch: 30 | loss: 0.002456196118146181\n",
      "Epoch: 5 batch: 40 | loss: 0.0011230215895920992\n",
      "Epoch: 5 batch: 50 | loss: 0.0024558769073337317\n",
      "Epoch: 5 batch: 60 | loss: 0.002258153399452567\n",
      "Epoch: 5 batch: 70 | loss: 0.0012012735242024064\n",
      "Epoch: 5 batch: 80 | loss: 0.004354933276772499\n",
      "Epoch: 5 batch: 90 | loss: 0.003921739757061005\n",
      "Epoch: 5 batch: 100 | loss: 0.003365499898791313\n",
      "Epoch: 5 batch: 110 | loss: 0.005280311219394207\n",
      "Epoch: 5 batch: 120 | loss: 0.0059799375012516975\n",
      "Epoch: 5 batch: 130 | loss: 0.0045518637634813786\n",
      "Epoch: 5 batch: 140 | loss: 0.004426212515681982\n",
      "Epoch: 5 batch: 150 | loss: 0.004107525572180748\n",
      "Epoch: 5 batch: 160 | loss: 0.0018210209673270583\n",
      "Epoch: 5 batch: 170 | loss: 0.0019151833839714527\n",
      "Epoch: 5 batch: 180 | loss: 0.0009068195358850062\n",
      "Epoch: 5 batch: 190 | loss: 0.0018671326106414199\n",
      "Epoch: 5 batch: 200 | loss: 0.0034291690681129694\n",
      "Epoch: 5 batch: 210 | loss: 0.0026949779130518436\n",
      "Epoch: 5 batch: 220 | loss: 0.00506636081263423\n",
      "Epoch: 5 batch: 230 | loss: 0.003828017506748438\n",
      "Epoch: 5 batch: 240 | loss: 0.005206429399549961\n",
      "Epoch: 5 batch: 250 | loss: 0.0020671349484473467\n",
      "Epoch: 5 batch: 260 | loss: 0.003796009346842766\n",
      "Epoch: 5 batch: 270 | loss: 0.0010872135171666741\n",
      "Epoch: 5 batch: 280 | loss: 0.0017016599886119366\n",
      "Epoch: 5 batch: 290 | loss: 0.0021280525252223015\n",
      "Epoch: 5 batch: 300 | loss: 0.002703477628529072\n",
      "Epoch: 5 batch: 310 | loss: 0.0021731106098741293\n",
      "Epoch: 5 batch: 320 | loss: 0.0021183721255511045\n",
      "Epoch: 5 batch: 330 | loss: 0.001842376310378313\n",
      "Epoch: 5 batch: 340 | loss: 0.0033955485559999943\n",
      "Epoch: 5 batch: 350 | loss: 0.005482536740601063\n",
      "Epoch: 5 batch: 360 | loss: 0.005385194905102253\n",
      "Epoch: 5 batch: 370 | loss: 0.003218362806364894\n",
      "Epoch: 5 batch: 380 | loss: 0.002871624194085598\n",
      "Epoch: 5 batch: 390 | loss: 0.001390224788337946\n",
      "Epoch: 5 batch: 400 | loss: 0.0012786434963345528\n",
      "Epoch: 5 batch: 410 | loss: 0.0007352530374191701\n",
      "Epoch: 5 batch: 420 | loss: 0.001413683407008648\n",
      "Epoch: 5 batch: 430 | loss: 0.0021688814740628004\n",
      "Epoch: 5 batch: 440 | loss: 0.0016098420601338148\n"
     ]
    },
    {
     "name": "stderr",
     "output_type": "stream",
     "text": [
      "19it [00:01, 20.48it/s]"
     ]
    },
    {
     "name": "stdout",
     "output_type": "stream",
     "text": [
      "torch.Size([30, 1, 10])\n"
     ]
    },
    {
     "name": "stderr",
     "output_type": "stream",
     "text": [
      "65it [00:01, 41.95it/s]\n"
     ]
    },
    {
     "name": "stdout",
     "output_type": "stream",
     "text": [
      "Epoch: 5 valLoss: 0.0032284611745050126\n",
      "torch.Size([30, 1, 10])\n",
      "Epoch: 6 batch: 0 | loss: 0.0023430967703461647\n",
      "Epoch: 6 batch: 10 | loss: 0.004447336308658123\n",
      "Epoch: 6 batch: 20 | loss: 0.0004434212460182607\n",
      "Epoch: 6 batch: 30 | loss: 0.002636650111526251\n",
      "Epoch: 6 batch: 40 | loss: 0.002039722865447402\n",
      "Epoch: 6 batch: 50 | loss: 0.002818427514284849\n",
      "Epoch: 6 batch: 60 | loss: 0.002263092203065753\n",
      "Epoch: 6 batch: 70 | loss: 0.0008557742112316191\n",
      "Epoch: 6 batch: 80 | loss: 0.003202853025868535\n",
      "Epoch: 6 batch: 90 | loss: 0.004277425352483988\n",
      "Epoch: 6 batch: 100 | loss: 0.005248683970421553\n",
      "Epoch: 6 batch: 110 | loss: 0.0025202136021107435\n",
      "Epoch: 6 batch: 120 | loss: 0.004344078712165356\n",
      "Epoch: 6 batch: 130 | loss: 0.0055364384315907955\n",
      "Epoch: 6 batch: 140 | loss: 0.004042692482471466\n",
      "Epoch: 6 batch: 150 | loss: 0.0018723987741395831\n",
      "Epoch: 6 batch: 160 | loss: 0.0014016226632520556\n",
      "Epoch: 6 batch: 170 | loss: 0.0014516761293634772\n",
      "Epoch: 6 batch: 180 | loss: 0.0007014713482931256\n",
      "Epoch: 6 batch: 190 | loss: 0.0007259343401528895\n",
      "Epoch: 6 batch: 200 | loss: 0.0021312725730240345\n",
      "Epoch: 6 batch: 210 | loss: 0.0009873069357126951\n",
      "Epoch: 6 batch: 220 | loss: 0.003604083089157939\n",
      "Epoch: 6 batch: 230 | loss: 0.002868444425985217\n",
      "Epoch: 6 batch: 240 | loss: 0.0036548173520714045\n",
      "Epoch: 6 batch: 250 | loss: 0.0013440673938021064\n",
      "Epoch: 6 batch: 260 | loss: 0.0030634505674242973\n",
      "Epoch: 6 batch: 270 | loss: 0.000769376871176064\n",
      "Epoch: 6 batch: 280 | loss: 0.002051174407824874\n",
      "Epoch: 6 batch: 290 | loss: 0.002259590895846486\n",
      "Epoch: 6 batch: 300 | loss: 0.0020041093230247498\n",
      "Epoch: 6 batch: 310 | loss: 0.003568407613784075\n",
      "Epoch: 6 batch: 320 | loss: 0.0021140610333532095\n",
      "Epoch: 6 batch: 330 | loss: 0.0017315911827608943\n",
      "Epoch: 6 batch: 340 | loss: 0.0030568973161280155\n",
      "Epoch: 6 batch: 350 | loss: 0.0037815822288393974\n",
      "Epoch: 6 batch: 360 | loss: 0.0044703357852995396\n",
      "Epoch: 6 batch: 370 | loss: 0.0024635600857436657\n",
      "Epoch: 6 batch: 380 | loss: 0.0020913679618388414\n",
      "Epoch: 6 batch: 390 | loss: 0.0016327465418726206\n",
      "Epoch: 6 batch: 400 | loss: 0.0011916731018573046\n",
      "Epoch: 6 batch: 410 | loss: 0.0003700816596392542\n",
      "Epoch: 6 batch: 420 | loss: 0.001496963668614626\n",
      "Epoch: 6 batch: 430 | loss: 0.002225524978712201\n",
      "Epoch: 6 batch: 440 | loss: 0.0016080259811133146\n"
     ]
    },
    {
     "name": "stderr",
     "output_type": "stream",
     "text": [
      "29it [00:01, 30.98it/s]"
     ]
    },
    {
     "name": "stdout",
     "output_type": "stream",
     "text": [
      "torch.Size([30, 1, 10])\n"
     ]
    },
    {
     "name": "stderr",
     "output_type": "stream",
     "text": [
      "65it [00:01, 41.52it/s]\n"
     ]
    },
    {
     "name": "stdout",
     "output_type": "stream",
     "text": [
      "Epoch: 6 valLoss: 0.0025694858544625227\n",
      "torch.Size([30, 1, 10])\n",
      "Epoch: 7 batch: 0 | loss: 0.002099247183650732\n",
      "Epoch: 7 batch: 10 | loss: 0.0025225405115634203\n",
      "Epoch: 7 batch: 20 | loss: 0.0006324236746877432\n",
      "Epoch: 7 batch: 30 | loss: 0.0012419831473380327\n",
      "Epoch: 7 batch: 40 | loss: 0.0006441111327148974\n",
      "Epoch: 7 batch: 50 | loss: 0.0014327061362564564\n",
      "Epoch: 7 batch: 60 | loss: 0.0022330922074615955\n",
      "Epoch: 7 batch: 70 | loss: 0.0014265525387600064\n",
      "Epoch: 7 batch: 80 | loss: 0.002152560045942664\n",
      "Epoch: 7 batch: 90 | loss: 0.001799252931959927\n",
      "Epoch: 7 batch: 100 | loss: 0.003135611303150654\n",
      "Epoch: 7 batch: 110 | loss: 0.002317950362339616\n",
      "Epoch: 7 batch: 120 | loss: 0.004701418802142143\n",
      "Epoch: 7 batch: 130 | loss: 0.004644079599529505\n",
      "Epoch: 7 batch: 140 | loss: 0.003434962360188365\n",
      "Epoch: 7 batch: 150 | loss: 0.0016775241820141673\n",
      "Epoch: 7 batch: 160 | loss: 0.000650668574962765\n",
      "Epoch: 7 batch: 170 | loss: 0.0018492686795070767\n",
      "Epoch: 7 batch: 180 | loss: 0.0005905303405597806\n",
      "Epoch: 7 batch: 190 | loss: 0.0012535637943074107\n",
      "Epoch: 7 batch: 200 | loss: 0.0016391968820244074\n",
      "Epoch: 7 batch: 210 | loss: 0.0009337793453596532\n",
      "Epoch: 7 batch: 220 | loss: 0.002394652459770441\n",
      "Epoch: 7 batch: 230 | loss: 0.0028213129844516516\n",
      "Epoch: 7 batch: 240 | loss: 0.0039732372388243675\n",
      "Epoch: 7 batch: 250 | loss: 0.0021218187175691128\n",
      "Epoch: 7 batch: 260 | loss: 0.003978285938501358\n",
      "Epoch: 7 batch: 270 | loss: 0.0007036273600533605\n",
      "Epoch: 7 batch: 280 | loss: 0.001412254641763866\n",
      "Epoch: 7 batch: 290 | loss: 0.001104710390791297\n",
      "Epoch: 7 batch: 300 | loss: 0.0019051269628107548\n",
      "Epoch: 7 batch: 310 | loss: 0.001780786900781095\n",
      "Epoch: 7 batch: 320 | loss: 0.0012952229008078575\n",
      "Epoch: 7 batch: 330 | loss: 0.0023974748328328133\n",
      "Epoch: 7 batch: 340 | loss: 0.0019527145195752382\n",
      "Epoch: 7 batch: 350 | loss: 0.00289239757694304\n",
      "Epoch: 7 batch: 360 | loss: 0.0018219019984826446\n",
      "Epoch: 7 batch: 370 | loss: 0.0017784020164981484\n",
      "Epoch: 7 batch: 380 | loss: 0.002185401739552617\n",
      "Epoch: 7 batch: 390 | loss: 0.0008032817277126014\n",
      "Epoch: 7 batch: 400 | loss: 0.0007045512902550399\n",
      "Epoch: 7 batch: 410 | loss: 0.0005115646054036915\n",
      "Epoch: 7 batch: 420 | loss: 0.002128005027770996\n",
      "Epoch: 7 batch: 430 | loss: 0.001726465648971498\n",
      "Epoch: 7 batch: 440 | loss: 0.0018056952394545078\n"
     ]
    },
    {
     "name": "stderr",
     "output_type": "stream",
     "text": [
      "52it [00:01, 55.05it/s]"
     ]
    },
    {
     "name": "stdout",
     "output_type": "stream",
     "text": [
      "torch.Size([30, 1, 10])\n"
     ]
    },
    {
     "name": "stderr",
     "output_type": "stream",
     "text": [
      "65it [00:01, 42.22it/s]\n"
     ]
    },
    {
     "name": "stdout",
     "output_type": "stream",
     "text": [
      "Epoch: 7 valLoss: 0.0022444521258303944\n",
      "torch.Size([30, 1, 10])\n",
      "Epoch: 8 batch: 0 | loss: 0.0014962374698370695\n",
      "Epoch: 8 batch: 10 | loss: 0.0017126211896538734\n",
      "Epoch: 8 batch: 20 | loss: 0.0005490572657436132\n",
      "Epoch: 8 batch: 30 | loss: 0.0011892362963408232\n",
      "Epoch: 8 batch: 40 | loss: 0.000783283612690866\n",
      "Epoch: 8 batch: 50 | loss: 0.0014134468510746956\n",
      "Epoch: 8 batch: 60 | loss: 0.0011807340197265148\n",
      "Epoch: 8 batch: 70 | loss: 0.0010065403766930103\n",
      "Epoch: 8 batch: 80 | loss: 0.0015412040520459414\n",
      "Epoch: 8 batch: 90 | loss: 0.0023038771469146013\n",
      "Epoch: 8 batch: 100 | loss: 0.0028829816728830338\n",
      "Epoch: 8 batch: 110 | loss: 0.0020037787035107613\n",
      "Epoch: 8 batch: 120 | loss: 0.004129144828766584\n",
      "Epoch: 8 batch: 130 | loss: 0.0038724986370652914\n",
      "Epoch: 8 batch: 140 | loss: 0.002681838581338525\n",
      "Epoch: 8 batch: 150 | loss: 0.0018119694432243705\n",
      "Epoch: 8 batch: 160 | loss: 0.0003801541170105338\n",
      "Epoch: 8 batch: 170 | loss: 0.0013932468136772513\n",
      "Epoch: 8 batch: 180 | loss: 0.0008943987777456641\n",
      "Epoch: 8 batch: 190 | loss: 0.0012537735747173429\n",
      "Epoch: 8 batch: 200 | loss: 0.0016500200144946575\n",
      "Epoch: 8 batch: 210 | loss: 0.0012014199746772647\n",
      "Epoch: 8 batch: 220 | loss: 0.0024879651609808207\n",
      "Epoch: 8 batch: 230 | loss: 0.0023245688062161207\n",
      "Epoch: 8 batch: 240 | loss: 0.003572389716282487\n",
      "Epoch: 8 batch: 250 | loss: 0.002021468011662364\n",
      "Epoch: 8 batch: 260 | loss: 0.0032406896352767944\n",
      "Epoch: 8 batch: 270 | loss: 0.0006259738584049046\n",
      "Epoch: 8 batch: 280 | loss: 0.0012065062765032053\n",
      "Epoch: 8 batch: 290 | loss: 0.00157574110198766\n",
      "Epoch: 8 batch: 300 | loss: 0.001930958591401577\n",
      "Epoch: 8 batch: 310 | loss: 0.0018103222828358412\n",
      "Epoch: 8 batch: 320 | loss: 0.001554948277771473\n",
      "Epoch: 8 batch: 330 | loss: 0.0028590159490704536\n",
      "Epoch: 8 batch: 340 | loss: 0.0017544408328831196\n",
      "Epoch: 8 batch: 350 | loss: 0.002753817941993475\n",
      "Epoch: 8 batch: 360 | loss: 0.0018914338434115052\n",
      "Epoch: 8 batch: 370 | loss: 0.0017395112663507462\n",
      "Epoch: 8 batch: 380 | loss: 0.0014711911790072918\n",
      "Epoch: 8 batch: 390 | loss: 0.0006841582944616675\n",
      "Epoch: 8 batch: 400 | loss: 0.000594030658248812\n",
      "Epoch: 8 batch: 410 | loss: 0.00029629835626110435\n",
      "Epoch: 8 batch: 420 | loss: 0.0011383516248315573\n",
      "Epoch: 8 batch: 430 | loss: 0.0016902991337701678\n",
      "Epoch: 8 batch: 440 | loss: 0.0013963314704596996\n"
     ]
    },
    {
     "name": "stderr",
     "output_type": "stream",
     "text": [
      "18it [00:01, 20.48it/s]"
     ]
    },
    {
     "name": "stdout",
     "output_type": "stream",
     "text": [
      "torch.Size([30, 1, 10])\n"
     ]
    },
    {
     "name": "stderr",
     "output_type": "stream",
     "text": [
      "65it [00:01, 43.52it/s]\n"
     ]
    },
    {
     "name": "stdout",
     "output_type": "stream",
     "text": [
      "Epoch: 8 valLoss: 0.0017704731559879607\n",
      "torch.Size([30, 1, 10])\n",
      "Epoch: 9 batch: 0 | loss: 0.001244263956323266\n",
      "Epoch: 9 batch: 10 | loss: 0.0016220510005950928\n",
      "Epoch: 9 batch: 20 | loss: 0.000718663795851171\n",
      "Epoch: 9 batch: 30 | loss: 0.0012411349453032017\n",
      "Epoch: 9 batch: 40 | loss: 0.0005459547974169254\n",
      "Epoch: 9 batch: 50 | loss: 0.0012332176556810737\n",
      "Epoch: 9 batch: 60 | loss: 0.0013736860128119588\n",
      "Epoch: 9 batch: 70 | loss: 0.0007902489742264152\n",
      "Epoch: 9 batch: 80 | loss: 0.001061705406755209\n",
      "Epoch: 9 batch: 90 | loss: 0.0017187735065817833\n",
      "Epoch: 9 batch: 100 | loss: 0.0027670208364725113\n",
      "Epoch: 9 batch: 110 | loss: 0.0008697782759554684\n",
      "Epoch: 9 batch: 120 | loss: 0.002443518955260515\n",
      "Epoch: 9 batch: 130 | loss: 0.004219799768179655\n",
      "Epoch: 9 batch: 140 | loss: 0.0014890447491779923\n",
      "Epoch: 9 batch: 150 | loss: 0.0007518419879488647\n",
      "Epoch: 9 batch: 160 | loss: 0.0004005469672847539\n",
      "Epoch: 9 batch: 170 | loss: 0.000871283991727978\n",
      "Epoch: 9 batch: 180 | loss: 0.0006003673188388348\n",
      "Epoch: 9 batch: 190 | loss: 0.0010195622453466058\n",
      "Epoch: 9 batch: 200 | loss: 0.000990915228612721\n",
      "Epoch: 9 batch: 210 | loss: 0.0010410508839413524\n",
      "Epoch: 9 batch: 220 | loss: 0.0014966982416808605\n",
      "Epoch: 9 batch: 230 | loss: 0.0015665617538616061\n",
      "Epoch: 9 batch: 240 | loss: 0.0023062345571815968\n",
      "Epoch: 9 batch: 250 | loss: 0.001952655497007072\n",
      "Epoch: 9 batch: 260 | loss: 0.003333285916596651\n",
      "Epoch: 9 batch: 270 | loss: 0.00047618511598557234\n",
      "Epoch: 9 batch: 280 | loss: 0.000956091214902699\n",
      "Epoch: 9 batch: 290 | loss: 0.0008880189270712435\n",
      "Epoch: 9 batch: 300 | loss: 0.0015861333813518286\n",
      "Epoch: 9 batch: 310 | loss: 0.001685646246187389\n",
      "Epoch: 9 batch: 320 | loss: 0.001675560139119625\n",
      "Epoch: 9 batch: 330 | loss: 0.001326217083260417\n",
      "Epoch: 9 batch: 340 | loss: 0.001014182809740305\n",
      "Epoch: 9 batch: 350 | loss: 0.001865579281002283\n",
      "Epoch: 9 batch: 360 | loss: 0.0011123425792902708\n",
      "Epoch: 9 batch: 370 | loss: 0.0011444505071267486\n",
      "Epoch: 9 batch: 380 | loss: 0.0013805852504447103\n",
      "Epoch: 9 batch: 390 | loss: 0.00042149247019551694\n",
      "Epoch: 9 batch: 400 | loss: 0.0006788636674173176\n",
      "Epoch: 9 batch: 410 | loss: 0.00044782552868127823\n",
      "Epoch: 9 batch: 420 | loss: 0.0014463536208495498\n",
      "Epoch: 9 batch: 430 | loss: 0.0013185837306082249\n",
      "Epoch: 9 batch: 440 | loss: 0.001058818306773901\n"
     ]
    },
    {
     "name": "stderr",
     "output_type": "stream",
     "text": [
      "35it [00:01, 36.67it/s]"
     ]
    },
    {
     "name": "stdout",
     "output_type": "stream",
     "text": [
      "torch.Size([30, 1, 10])\n"
     ]
    },
    {
     "name": "stderr",
     "output_type": "stream",
     "text": [
      "65it [00:01, 41.61it/s]\n"
     ]
    },
    {
     "name": "stdout",
     "output_type": "stream",
     "text": [
      "Epoch: 9 valLoss: 0.0014839552574879115\n",
      "Testing... 129\n"
     ]
    },
    {
     "name": "stderr",
     "output_type": "stream",
     "text": [
      "46it [00:01, 47.14it/s]"
     ]
    },
    {
     "name": "stdout",
     "output_type": "stream",
     "text": [
      "torch.Size([30, 1, 10])\n"
     ]
    },
    {
     "name": "stderr",
     "output_type": "stream",
     "text": [
      "129it [00:01, 76.85it/s] \n"
     ]
    },
    {
     "name": "stdout",
     "output_type": "stream",
     "text": [
      "r2Score:  0.9658994287212367\n",
      "meanSquaredError:  0.001764190125954151\n",
      "RMSE:  0.04200226334323129\n",
      "meanAbsoluteError:  0.02831919923794163\n"
     ]
    },
    {
     "data": {
      "image/png": "[encoded data removed]",
      "text/plain": [
       "<Figure size 432x288 with 1 Axes>"
      ]
     },
     "metadata": {
      "needs_background": "light"
     },
     "output_type": "display_data"
    }
   ],
   "source": [
    "import torch\n",
    "from torch.utils.data import DataLoader\n",
    "\n",
    "from config import Config\n",
    "\n",
    "from utils.dataTools import *\n",
    "from utils.models import lstm_reg,CNNBiLSTM\n",
    "from utils.trainer import CNNBiLstm_evaluate,CNNBiLstmtrain\n",
    "\n",
    "if __name__ == '__main__':\n",
    "    config = Config()\n",
    "\n",
    "    print(\"Data loading...\")\n",
    "    # 序列数据\n",
    "    dataset = mydataReader(\"./dataProcessed/testData.csv\")\n",
    "\n",
    "    # 创建X/Y\n",
    "    # 划分训练集和测试集，70% 作为训练集,10%作为验证集,20%作为测试集\n",
    "    (train_X ,train_Y ), (val_X,val_Y), (test_X ,test_Y )= dataset.split(lookback=config.lookback,trainSet_ratio=0.7,valSet_ratio=0.1)\n",
    "\n",
    "    # 创建Pytorch使用的dataset\n",
    "    trainSet = custom_dataset(train_X,train_Y)\n",
    "    valSet = custom_dataset(val_X,val_Y)\n",
    "    testSet = custom_dataset(test_X,test_Y)\n",
    "\n",
    "    train_loader = DataLoader(trainSet, batch_size = config.batch_size,\n",
    "                              shuffle=False, pin_memory=True, num_workers=4, drop_last=True)\n",
    "    val_loader = DataLoader(valSet, batch_size = config.batch_size,\n",
    "                              shuffle=False, pin_memory=True, num_workers=4, drop_last=False)\n",
    "    test_loader = DataLoader(testSet, batch_size = config.batch_size,\n",
    "                            shuffle=False, pin_memory=True, num_workers=4, drop_last=False)\n",
    "\n",
    "\n",
    "    print(\"Model loading...\")\n",
    "    model = CNNBiLSTM(hidden_size=12,num_layers=2).to(config.device)\n",
    "    criterion = torch.nn.MSELoss()\n",
    "    optimizer = torch.optim.AdamW(model.parameters(),\n",
    "                                 lr=config.learning_rate, weight_decay=config.weight_decay)\n",
    "\n",
    "    print(\"Training...\")\n",
    "    model = CNNBiLstmtrain(model,\n",
    "                  trainloader=train_loader,\n",
    "                  valloader=val_loader,\n",
    "                  criterion=criterion,\n",
    "                  optimizer=optimizer,\n",
    "                  config=config)\n",
    "\n",
    "    print(\"Testing...\", round(len(testSet)/config.batch_size))\n",
    "    CNNBiLstm_evaluate(model, test_loader, config)\n"
   ]
  },
  {
   "cell_type": "code",
   "execution_count": 4,
   "metadata": {},
   "outputs": [],
   "source": [
    "pd.DataFrame({'y_true':y,'y_pre':y_pre}).to_csv(\"./result/BiLSTMpre.csv\",index=False)\n"
   ]
  },
  {
   "cell_type": "code",
   "execution_count": 2,
   "metadata": {},
   "outputs": [
    {
     "data": {
      "text/plain": [
       "0.09816730208634447"
      ]
     },
     "execution_count": 2,
     "metadata": {},
     "output_type": "execute_result"
    }
   ],
   "source": [
    "np.sqrt(0.00963681919891161)"
   ]
  },
  {
   "cell_type": "code",
   "execution_count": 4,
   "metadata": {},
   "outputs": [
    {
     "data": {
      "text/plain": [
       "(13514, 1)"
      ]
     },
     "execution_count": 4,
     "metadata": {},
     "output_type": "execute_result"
    }
   ],
   "source": [
    "train_Y.shape"
   ]
  },
  {
   "cell_type": "code",
   "execution_count": 8,
   "metadata": {},
   "outputs": [
    {
     "data": {
      "text/plain": [
       "(3856, 1)"
      ]
     },
     "execution_count": 8,
     "metadata": {},
     "output_type": "execute_result"
    }
   ],
   "source": [
    "test_Y.shape"
   ]
  },
  {
   "cell_type": "code",
   "execution_count": 20,
   "metadata": {},
   "outputs": [
    {
     "name": "stdout",
     "output_type": "stream",
     "text": [
      "[14:54:19] WARNING: C:/Users/Administrator/workspace/xgboost-win64_release_1.5.1/src/learner.cc:576: \n",
      "Parameters: { \"randam_state\" } might not be used.\n",
      "\n",
      "  This could be a false alarm, with some parameters getting used by language bindings but\n",
      "  then being mistakenly passed down to XGBoost core, or some parameter actually being used\n",
      "  but getting flagged wrongly here. Please open an issue if you find any such cases.\n",
      "\n",
      "\n",
      "测试集MSELoss:  0.0009612862\n",
      "测试集MAELoss:  0.02005486\n",
      "测试集RMSELoss:  0.031004615\n",
      "测试集r2-score:  0.981383996664568\n"
     ]
    },
    {
     "data": {
      "text/plain": [
       "<matplotlib.legend.Legend at 0x14e447b7a00>"
      ]
     },
     "execution_count": 20,
     "metadata": {},
     "output_type": "execute_result"
    },
    {
     "data": {
      "image/png": "[encoded data removed]",
      "text/plain": [
       "<Figure size 432x288 with 1 Axes>"
      ]
     },
     "metadata": {
      "needs_background": "light"
     },
     "output_type": "display_data"
    }
   ],
   "source": [
    "# 加载xgboost模型\n",
    "from sklearn.metrics import mean_squared_error,mean_absolute_error\n",
    "from sklearn.metrics import r2_score\n",
    "import xgboost as xgb\n",
    "import numpy as np\n",
    "# 定义模型\n",
    "# model = xgb.XGBRegressor(max_depth = 6,learning_rate = 0.05,n_estimators = 100,randam_state=42)\n",
    "model = xgb.XGBRegressor(max_depth = 3,learning_rate = 0.05,n_estimators = 50,randam_state=42)\n",
    "\n",
    "# 训练\n",
    "model.fit(train_X.squeeze(),train_Y.squeeze())\n",
    "test_predict=model.predict(test_X.squeeze())\n",
    "train_predict = model.predict(train_X.squeeze())\n",
    "\n",
    "# MSE\n",
    "msetest=mean_squared_error(test_Y.squeeze(),test_predict)\n",
    "maetest=mean_absolute_error(test_Y.squeeze(),test_predict)\n",
    "msetrain=mean_squared_error(train_Y.squeeze(),train_predict)\n",
    "print(\"测试集MSELoss: \",msetest)\n",
    "print(\"测试集MAELoss: \",maetest)\n",
    "print(\"测试集RMSELoss: \",np.sqrt(msetest))\n",
    "# print(msetrain)\n",
    "\n",
    "# R2-score\n",
    "r2Test = r2_score(test_Y.squeeze(),test_predict)\n",
    "print(\"测试集r2-score: \",r2Test)\n",
    "\n",
    "# 画出实际结果和预测的结果\n",
    "import matplotlib.pyplot as plt\n",
    "y = test_Y.squeeze()\n",
    "y_pre = test_predict\n",
    "pd.DataFrame({'y_true':y,'y_pre':y_pre}).to_csv(\"./result/XGBoostpre.csv\",index=False)\n",
    "plt.plot(range(len(y[:1000])),y_pre[:1000],color = 'red',linewidth = 1.5,linestyle = '-.',label='prediction')\n",
    "plt.plot(range(len(y[:1000])),y[:1000],color = 'blue',linewidth = 1.5,linestyle = '-', label='real')\n",
    "plt.legend(loc='best')"
   ]
  },
  {
   "cell_type": "code",
   "execution_count": null,
   "metadata": {},
   "outputs": [],
   "source": []
  }
 ],
 "metadata": {
  "interpreter": {
   "hash": "0585272c6395396341ee04675bd50926ae099db04beb93efeb4cdfb816b7c2a3"
  },
  "kernelspec": {
   "display_name": "Python 3.8.12 ('mytorch')",
   "language": "python",
   "name": "python3"
  },
  "language_info": {
   "codemirror_mode": {
    "name": "ipython",
    "version": 3
   },
   "file_extension": ".py",
   "mimetype": "text/x-python",
   "name": "python",
   "nbconvert_exporter": "python",
   "pygments_lexer": "ipython3",
   "version": "3.8.12"
  },
  "orig_nbformat": 4
 },
 "nbformat": 4,
 "nbformat_minor": 2
}
