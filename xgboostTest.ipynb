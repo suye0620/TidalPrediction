{
 "cells": [
  {
   "cell_type": "code",
   "execution_count": 2,
   "metadata": {},
   "outputs": [
    {
     "name": "stderr",
     "output_type": "stream",
     "text": [
      "E:\\Anaconda3\\envs\\mytorch\\lib\\site-packages\\sklearn\\utils\\deprecation.py:87: FutureWarning: Function load_boston is deprecated; `load_boston` is deprecated in 1.0 and will be removed in 1.2.\n",
      "\n",
      "    The Boston housing prices dataset has an ethical problem. You can refer to\n",
      "    the documentation of this function for further details.\n",
      "\n",
      "    The scikit-learn maintainers therefore strongly discourage the use of this\n",
      "    dataset unless the purpose of the code is to study and educate about\n",
      "    ethical issues in data science and machine learning.\n",
      "\n",
      "    In this special case, you can fetch the dataset from the original\n",
      "    source::\n",
      "\n",
      "        import pandas as pd\n",
      "        import numpy as np\n",
      "\n",
      "\n",
      "        data_url = \"http://lib.stat.cmu.edu/datasets/boston\"\n",
      "        raw_df = pd.read_csv(data_url, sep=\"\\s+\", skiprows=22, header=None)\n",
      "        data = np.hstack([raw_df.values[::2, :], raw_df.values[1::2, :2]])\n",
      "        target = raw_df.values[1::2, 2]\n",
      "\n",
      "    Alternative datasets include the California housing dataset (i.e.\n",
      "    :func:`~sklearn.datasets.fetch_california_housing`) and the Ames housing\n",
      "    dataset. You can load the datasets as follows::\n",
      "\n",
      "        from sklearn.datasets import fetch_california_housing\n",
      "        housing = fetch_california_housing()\n",
      "\n",
      "    for the California housing dataset and::\n",
      "\n",
      "        from sklearn.datasets import fetch_openml\n",
      "        housing = fetch_openml(name=\"house_prices\", as_frame=True)\n",
      "\n",
      "    for the Ames housing dataset.\n",
      "    \n",
      "  warnings.warn(msg, category=FutureWarning)\n"
     ]
    }
   ],
   "source": [
    "from sklearn.datasets import load_boston\n",
    "from sklearn.model_selection import train_test_split\n",
    "# 加载数据\n",
    "dataBoston = load_boston()\n",
    "dataX = dataBoston['data']\n",
    "dataY = dataBoston['target']\n",
    "names = dataBoston['feature_names']\n",
    "\n",
    "# 划分训练集和测试集\n",
    "trainX,testX,trainY,testY = train_test_split(dataX,dataY,test_size=0.2,random_state=125)\n"
   ]
  },
  {
   "cell_type": "code",
   "execution_count": 8,
   "metadata": {},
   "outputs": [
    {
     "data": {
      "text/plain": [
       "array([16.6, 21.4, 19.5, 14.2, 23.2, 21.2, 15.1, 25. , 13.4, 22.4, 24.2,\n",
       "        5. , 23.3, 18.8, 21. , 24.5,  7.2, 24.3, 14.6, 27.1, 22.6, 13.6,\n",
       "        5. ,  8.4, 22.5, 16.1, 23. , 25. , 50. , 24.6, 22.8, 22.6, 13.3,\n",
       "       30.1, 23.4, 21.7, 34.6, 14.4, 30.5,  5.6, 25. , 19.8, 37.2, 15.6,\n",
       "       21.5, 19.3, 17.2, 32.5,  8.3, 20.1, 30.8, 37.9, 21.7, 15.6, 33.4,\n",
       "       21.4, 24.5, 19.3, 20.6, 10.5, 21.4, 23.3, 14.9, 28. , 29.9, 22.2,\n",
       "       19.8, 46.7, 20.7, 17.4, 27.5, 15.2, 20.5, 22.2, 18.3, 31.6, 22. ,\n",
       "       18.7, 18.9, 50. , 20.3, 20.6, 20.7, 13.2,  8.3, 13.1, 23.8, 21.6,\n",
       "       26.4, 22. , 17.8, 10.5, 21.7, 23.5, 31.7, 22.8, 22.9, 21.8, 21.1,\n",
       "       21.6, 18.4, 24.4, 13.1, 15.4, 24.5, 20.4, 16.2, 12.7, 39.8, 42.3,\n",
       "       19.5, 14. , 18.1, 21.9, 22.7, 12.8, 19.7, 26.4, 48.8,  8.5, 23.1,\n",
       "       27.5, 28.4, 25.3, 29.8, 27.9, 13.8, 15.3, 28.7, 22.3, 20.3, 19.3,\n",
       "       21.5, 21.4, 25.1, 16.5, 31.5, 19.4, 11.9, 20.1, 17.8, 16.1, 29.6,\n",
       "       18.4, 34.7, 30.3, 22. , 22.1, 14.3, 17.2, 28.7, 22.4, 43.1, 43.8,\n",
       "       18.6, 22.6, 17.1, 18.7, 16.3, 25. , 13.1, 23.6, 13. , 21.8, 28.7,\n",
       "       12.6, 24.6, 43.5, 22.5, 19.5, 50. , 11.7, 10.2, 23.6, 20.9, 20. ,\n",
       "       25.2, 27. , 23.7, 19.2, 18.2, 13.3, 12.1, 23.1, 17.8, 19.2, 32.9,\n",
       "       13.3, 15.2, 46. , 21.9, 23.1, 22.6, 23.2, 23.8, 11.3, 21. , 20. ,\n",
       "       50. , 34.9, 23.3, 29.1, 19.6, 35.4, 20.4, 17.2, 21.2, 13.8, 22.7,\n",
       "       29.8, 22.2, 21.2, 16.8, 19.6,  8.4, 19.3, 21. ,  8.8, 17.5, 22.3,\n",
       "       20.8, 19. , 25. , 24.8, 10.8, 50. , 14.4, 19.6, 38.7,  6.3, 33.2,\n",
       "       25. , 41.7, 34.9, 22. , 17.4, 36.2, 18.3, 36.4,  8.1, 18.2, 14.6,\n",
       "        9.6, 13.8, 19.9, 16.7, 16. , 10.9, 23.2, 20. , 50. , 23.8, 15.6,\n",
       "       19.4, 50. , 19.9, 29. , 13.9, 20.5, 48.5, 14.8, 11.7, 20.5, 15. ,\n",
       "       31.2, 20.1, 23.9, 20.1, 33.8, 22.9, 24.7, 10.4, 15.4, 23.1, 19. ,\n",
       "       27.1,  7.2, 33.4, 23. , 19.9, 29.1, 19.5, 50. , 19.6, 12.5, 24.4,\n",
       "        9.5, 18.6, 15.6, 10.9, 13.8, 22.8, 21.7, 19.1, 23.1, 26.6, 22.9,\n",
       "       24.4, 17.8, 11. ,  8.8, 22. , 17. , 10.4, 31.1, 17.9, 20.6, 12. ,\n",
       "       23.4, 32.7, 17.4, 36.1, 18.9, 26.7, 18. , 33.1, 35.4, 18.8, 20.8,\n",
       "       14.5,  7.2, 44.8, 23.8, 17.6, 32.4, 26.2, 14.5, 15. , 14.1, 20.6,\n",
       "       11.8, 17.1, 23.7, 45.4, 13.4, 11.5, 22.2, 28.5, 32. , 23.1, 16.4,\n",
       "       13.6, 15. , 23.3, 23.1, 23.7, 27.9, 21.2, 16.5, 29.4, 26.6, 21.4,\n",
       "       16.7, 17.5, 37.3, 20.8, 12.3, 16.8, 33.3, 23. , 23.9, 13.8, 20.3,\n",
       "       32.2, 31. , 24.8, 16.6, 20. ,  8.7, 19.6, 18.5, 15.7, 22.8, 22.9,\n",
       "       20.4, 15.2, 20.6,  7.5, 17.5, 21.9, 19.7, 24.8, 19.1, 44. , 50. ,\n",
       "       36.2,  7. , 15.6, 30.1, 23.9, 22.5, 23.9, 33. , 16.2, 29. , 19.9,\n",
       "       22.6, 21.7, 18.5, 20.9, 23.9, 37.6, 41.3, 11.8])"
      ]
     },
     "execution_count": 8,
     "metadata": {},
     "output_type": "execute_result"
    }
   ],
   "source": [
    "trainY"
   ]
  },
  {
   "cell_type": "code",
   "execution_count": 6,
   "metadata": {},
   "outputs": [
    {
     "name": "stdout",
     "output_type": "stream",
     "text": [
      "[1]\tvalid_0's l1: 7.27976\tvalid_0's l2: 101.986\n",
      "Training until validation scores don't improve for 5 rounds\n",
      "[2]\tvalid_0's l1: 7.00672\tvalid_0's l2: 95.3253\n",
      "[3]\tvalid_0's l1: 6.74405\tvalid_0's l2: 88.9922\n",
      "[4]\tvalid_0's l1: 6.51005\tvalid_0's l2: 83.9671\n",
      "[5]\tvalid_0's l1: 6.28728\tvalid_0's l2: 79.2524\n",
      "[6]\tvalid_0's l1: 6.05892\tvalid_0's l2: 74.6186\n",
      "[7]\tvalid_0's l1: 5.87113\tvalid_0's l2: 70.8514\n",
      "[8]\tvalid_0's l1: 5.68884\tvalid_0's l2: 67.02\n",
      "[9]\tvalid_0's l1: 5.52762\tvalid_0's l2: 63.9648\n",
      "[10]\tvalid_0's l1: 5.36521\tvalid_0's l2: 60.78\n",
      "[11]\tvalid_0's l1: 5.21417\tvalid_0's l2: 57.8276\n",
      "[12]\tvalid_0's l1: 5.07394\tvalid_0's l2: 55.449\n",
      "[13]\tvalid_0's l1: 4.93357\tvalid_0's l2: 52.9113\n",
      "[14]\tvalid_0's l1: 4.80945\tvalid_0's l2: 50.8068\n",
      "[15]\tvalid_0's l1: 4.69581\tvalid_0's l2: 49.0269\n",
      "[16]\tvalid_0's l1: 4.58363\tvalid_0's l2: 47.4185\n",
      "[17]\tvalid_0's l1: 4.46743\tvalid_0's l2: 45.5192\n",
      "[18]\tvalid_0's l1: 4.35942\tvalid_0's l2: 44.0587\n",
      "[19]\tvalid_0's l1: 4.26863\tvalid_0's l2: 42.7404\n",
      "[20]\tvalid_0's l1: 4.17194\tvalid_0's l2: 41.3666\n",
      "[21]\tvalid_0's l1: 4.0875\tvalid_0's l2: 40.3564\n",
      "[22]\tvalid_0's l1: 4.00201\tvalid_0's l2: 39.295\n",
      "[23]\tvalid_0's l1: 3.92104\tvalid_0's l2: 38.3686\n",
      "[24]\tvalid_0's l1: 3.84492\tvalid_0's l2: 37.524\n",
      "[25]\tvalid_0's l1: 3.76795\tvalid_0's l2: 36.5669\n",
      "[26]\tvalid_0's l1: 3.70813\tvalid_0's l2: 35.7836\n",
      "[27]\tvalid_0's l1: 3.6453\tvalid_0's l2: 35.0797\n",
      "[28]\tvalid_0's l1: 3.58695\tvalid_0's l2: 34.3919\n",
      "[29]\tvalid_0's l1: 3.53222\tvalid_0's l2: 33.6322\n",
      "[30]\tvalid_0's l1: 3.48631\tvalid_0's l2: 33.0147\n",
      "[31]\tvalid_0's l1: 3.43346\tvalid_0's l2: 32.1653\n",
      "[32]\tvalid_0's l1: 3.40502\tvalid_0's l2: 31.6369\n",
      "[33]\tvalid_0's l1: 3.35386\tvalid_0's l2: 30.7711\n",
      "[34]\tvalid_0's l1: 3.32008\tvalid_0's l2: 30.3764\n",
      "[35]\tvalid_0's l1: 3.2731\tvalid_0's l2: 29.6344\n",
      "[36]\tvalid_0's l1: 3.24142\tvalid_0's l2: 29.1789\n",
      "[37]\tvalid_0's l1: 3.21105\tvalid_0's l2: 28.7984\n",
      "[38]\tvalid_0's l1: 3.16681\tvalid_0's l2: 28.1548\n",
      "[39]\tvalid_0's l1: 3.14015\tvalid_0's l2: 27.8598\n",
      "[40]\tvalid_0's l1: 3.09737\tvalid_0's l2: 27.2859\n",
      "[41]\tvalid_0's l1: 3.06794\tvalid_0's l2: 27.0483\n",
      "[42]\tvalid_0's l1: 3.03562\tvalid_0's l2: 26.5652\n",
      "[43]\tvalid_0's l1: 3.01843\tvalid_0's l2: 26.3416\n",
      "[44]\tvalid_0's l1: 2.98134\tvalid_0's l2: 25.8554\n",
      "[45]\tvalid_0's l1: 2.95874\tvalid_0's l2: 25.6396\n",
      "[46]\tvalid_0's l1: 2.92662\tvalid_0's l2: 25.2104\n",
      "[47]\tvalid_0's l1: 2.90588\tvalid_0's l2: 25.0205\n",
      "[48]\tvalid_0's l1: 2.87609\tvalid_0's l2: 24.6353\n",
      "[49]\tvalid_0's l1: 2.85803\tvalid_0's l2: 24.488\n",
      "[50]\tvalid_0's l1: 2.84134\tvalid_0's l2: 24.3307\n",
      "[51]\tvalid_0's l1: 2.82899\tvalid_0's l2: 24.1804\n",
      "[52]\tvalid_0's l1: 2.81157\tvalid_0's l2: 23.9564\n",
      "[53]\tvalid_0's l1: 2.79944\tvalid_0's l2: 23.8063\n",
      "[54]\tvalid_0's l1: 2.78759\tvalid_0's l2: 23.6718\n",
      "[55]\tvalid_0's l1: 2.77382\tvalid_0's l2: 23.474\n",
      "[56]\tvalid_0's l1: 2.76059\tvalid_0's l2: 23.314\n",
      "[57]\tvalid_0's l1: 2.74722\tvalid_0's l2: 23.1132\n",
      "[58]\tvalid_0's l1: 2.73514\tvalid_0's l2: 22.9855\n",
      "[59]\tvalid_0's l1: 2.72926\tvalid_0's l2: 22.8821\n",
      "[60]\tvalid_0's l1: 2.71735\tvalid_0's l2: 22.7018\n",
      "[61]\tvalid_0's l1: 2.70911\tvalid_0's l2: 22.6174\n",
      "[62]\tvalid_0's l1: 2.70147\tvalid_0's l2: 22.5071\n",
      "[63]\tvalid_0's l1: 2.69513\tvalid_0's l2: 22.4459\n",
      "[64]\tvalid_0's l1: 2.68941\tvalid_0's l2: 22.3645\n",
      "[65]\tvalid_0's l1: 2.68012\tvalid_0's l2: 22.191\n",
      "[66]\tvalid_0's l1: 2.67852\tvalid_0's l2: 22.2029\n",
      "[67]\tvalid_0's l1: 2.66186\tvalid_0's l2: 22.0133\n",
      "[68]\tvalid_0's l1: 2.65862\tvalid_0's l2: 22.0188\n",
      "[69]\tvalid_0's l1: 2.65168\tvalid_0's l2: 21.8666\n",
      "[70]\tvalid_0's l1: 2.64826\tvalid_0's l2: 21.8717\n",
      "[71]\tvalid_0's l1: 2.64096\tvalid_0's l2: 21.7944\n",
      "[72]\tvalid_0's l1: 2.63397\tvalid_0's l2: 21.6742\n",
      "[73]\tvalid_0's l1: 2.62638\tvalid_0's l2: 21.6678\n",
      "[74]\tvalid_0's l1: 2.61934\tvalid_0's l2: 21.5576\n",
      "[75]\tvalid_0's l1: 2.61765\tvalid_0's l2: 21.6043\n",
      "[76]\tvalid_0's l1: 2.60687\tvalid_0's l2: 21.5163\n",
      "[77]\tvalid_0's l1: 2.5988\tvalid_0's l2: 21.3989\n",
      "[78]\tvalid_0's l1: 2.596\tvalid_0's l2: 21.4023\n",
      "[79]\tvalid_0's l1: 2.59168\tvalid_0's l2: 21.3137\n",
      "[80]\tvalid_0's l1: 2.58862\tvalid_0's l2: 21.3315\n",
      "[81]\tvalid_0's l1: 2.58522\tvalid_0's l2: 21.2493\n",
      "[82]\tvalid_0's l1: 2.58382\tvalid_0's l2: 21.2674\n",
      "[83]\tvalid_0's l1: 2.5774\tvalid_0's l2: 21.184\n",
      "[84]\tvalid_0's l1: 2.57298\tvalid_0's l2: 21.1163\n",
      "[85]\tvalid_0's l1: 2.56398\tvalid_0's l2: 21.009\n",
      "[86]\tvalid_0's l1: 2.55872\tvalid_0's l2: 20.9595\n",
      "[87]\tvalid_0's l1: 2.55337\tvalid_0's l2: 20.8826\n",
      "[88]\tvalid_0's l1: 2.54901\tvalid_0's l2: 20.8388\n",
      "[89]\tvalid_0's l1: 2.53892\tvalid_0's l2: 20.7327\n",
      "[90]\tvalid_0's l1: 2.54058\tvalid_0's l2: 20.7719\n",
      "[91]\tvalid_0's l1: 2.53785\tvalid_0's l2: 20.7231\n",
      "[92]\tvalid_0's l1: 2.5328\tvalid_0's l2: 20.6748\n",
      "[93]\tvalid_0's l1: 2.52752\tvalid_0's l2: 20.613\n",
      "[94]\tvalid_0's l1: 2.5247\tvalid_0's l2: 20.5571\n",
      "[95]\tvalid_0's l1: 2.51993\tvalid_0's l2: 20.4933\n",
      "[96]\tvalid_0's l1: 2.51394\tvalid_0's l2: 20.4489\n",
      "[97]\tvalid_0's l1: 2.51627\tvalid_0's l2: 20.41\n",
      "[98]\tvalid_0's l1: 2.5128\tvalid_0's l2: 20.3681\n",
      "[99]\tvalid_0's l1: 2.50832\tvalid_0's l2: 20.3006\n",
      "[100]\tvalid_0's l1: 2.49951\tvalid_0's l2: 20.2426\n",
      "Did not meet early stopping. Best iteration is:\n",
      "[100]\tvalid_0's l1: 2.49951\tvalid_0's l2: 20.2426\n",
      "MSE:  20.24258667913504\n",
      "r2:  0.809531904764121\n"
     ]
    }
   ],
   "source": [
    "# 加载lightGBM模型\n",
    "from sklearn.metrics import mean_squared_error\n",
    "from sklearn.metrics import r2_score\n",
    "import lightgbm as lgb\n",
    "\n",
    "# 定义模型\n",
    "gbm = lgb.LGBMRegressor(objective='regression', num_leaves=31, learning_rate=0.05, n_estimators=100)\n",
    "\n",
    "# 训练trainX,testX,trainY,testY\n",
    "gbm.fit(trainX, trainY, eval_set=[(testX, testY)], eval_metric='l1', early_stopping_rounds=5)\n",
    "\n",
    "# 预测\n",
    "test_predict = gbm.predict(testX, num_iteration=gbm.best_iteration_)\n",
    "\n",
    "# MSE\n",
    "msetest=mean_squared_error(testY,test_predict)\n",
    "print(\"MSE: \",msetest)\n",
    "\n",
    "# R2-score\n",
    "r2Test = r2_score(testY,test_predict)\n",
    "print('r2: ',r2Test)\n"
   ]
  },
  {
   "cell_type": "code",
   "execution_count": 2,
   "metadata": {},
   "outputs": [
    {
     "name": "stdout",
     "output_type": "stream",
     "text": [
      "[15:20:35] WARNING: C:/Users/Administrator/workspace/xgboost-win64_release_1.5.1/src/learner.cc:576: \n",
      "Parameters: { \"randam_state\" } might not be used.\n",
      "\n",
      "  This could be a false alarm, with some parameters getting used by language bindings but\n",
      "  then being mistakenly passed down to XGBoost core, or some parameter actually being used\n",
      "  but getting flagged wrongly here. Please open an issue if you find any such cases.\n",
      "\n",
      "\n",
      "16.572240442570333\n",
      "0.8078363284614934\n"
     ]
    }
   ],
   "source": [
    "# 加载xgboost模型\n",
    "from sklearn.metrics import mean_squared_error\n",
    "from sklearn.metrics import r2_score\n",
    "import xgboost as xgb\n",
    "\n",
    "# 定义模型\n",
    "model = xgb.XGBRegressor(max_depth = 6,learning_rate = 0.05,n_estimators = 100,randam_state=42)\n",
    "\n",
    "# 训练\n",
    "model.fit(trainX,trainY)\n",
    "test_predict=model.predict(testX)\n",
    "train_predict = model.predict(trainX)\n",
    "\n",
    "# MSE\n",
    "msetest=mean_squared_error(testY,test_predict)\n",
    "msetrain=mean_squared_error(trainY,train_predict)\n",
    "print(msetest)\n",
    "print(msetrain)\n",
    "\n",
    "# R2-score\n",
    "r2Test = r2_score(testY,test_predict)"
   ]
  },
  {
   "cell_type": "code",
   "execution_count": 7,
   "metadata": {},
   "outputs": [
    {
     "data": {
      "image/png": "[encoded data removed]",
      "text/plain": [
       "<Figure size 432x288 with 1 Axes>"
      ]
     },
     "metadata": {},
     "output_type": "display_data"
    }
   ],
   "source": [
    "# 绘制对比折线图，看回归效果\n",
    "import matplotlib.pyplot as plt\n",
    "import seaborn as sns\n",
    "sns.set_theme(style=\"whitegrid\")\n",
    "plt.rcParams['font.sans-serif'] = ['SimHei']  # 用来正常显示中文标签\n",
    "plt.rcParams['axes.unicode_minus'] = False  # 用来正常显示负号\n",
    "\n",
    "fig = plt.figure()\n",
    "ax = fig.add_subplot(1,1,1)\n",
    "sns.set_theme(style=\"whitegrid\")\n",
    "\n",
    "ax.plot(range(testY.shape[0]),testY,color = 'blue',linewidth = 1.5,linestyle = '-')\n",
    "ax.plot(range(testY.shape[0]),test_predict,color = 'red',linewidth = 1.5,linestyle = '-.')\n",
    "ax.legend(['true',\"predict\"])\n",
    "\n",
    "# 将x轴斜过来显示更好看\n",
    "fig.autofmt_xdate()\n"
   ]
  },
  {
   "cell_type": "code",
   "execution_count": 14,
   "metadata": {},
   "outputs": [
    {
     "name": "stdout",
     "output_type": "stream",
     "text": [
      "0.8440672073722226\n"
     ]
    }
   ],
   "source": [
    "print(r2Test)"
   ]
  },
  {
   "cell_type": "code",
   "execution_count": null,
   "metadata": {},
   "outputs": [],
   "source": []
  }
 ],
 "metadata": {
  "interpreter": {
   "hash": "0585272c6395396341ee04675bd50926ae099db04beb93efeb4cdfb816b7c2a3"
  },
  "kernelspec": {
   "display_name": "Python 3 (ipykernel)",
   "language": "python",
   "name": "python3"
  },
  "language_info": {
   "codemirror_mode": {
    "name": "ipython",
    "version": 3
   },
   "file_extension": ".py",
   "mimetype": "text/x-python",
   "name": "python",
   "nbconvert_exporter": "python",
   "pygments_lexer": "ipython3",
   "version": "3.8.12"
  }
 },
 "nbformat": 4,
 "nbformat_minor": 4
}
