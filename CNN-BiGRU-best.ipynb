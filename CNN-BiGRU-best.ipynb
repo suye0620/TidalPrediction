{
 "cells": [
  {
   "cell_type": "code",
   "execution_count": null,
   "metadata": {},
   "outputs": [],
   "source": [
    "import torch\n",
    "from torch.utils.data import DataLoader\n",
    "\n",
    "from config import Config\n",
    "\n",
    "from utils.dataTools import *\n",
    "# 你可以在model里修改,决定使用LSTM还是GRU\n",
    "from utils.models import CNNBiLSTM\n",
    "from utils.trainer import CNNBiLstm_evaluate,CNNBiLstmtrain\n",
    "\n",
    "if __name__ == '__main__':\n",
    "    config = Config()\n",
    "\n",
    "    print(\"Data loading...\")\n",
    "    # 序列数据\n",
    "    dataset = mydataReader(\"./dataProcessed/testData.csv\")\n",
    "\n",
    "    # 创建X/Y\n",
    "    # 划分训练集和测试集，70% 作为训练集,10%作为验证集,20%作为测试集\n",
    "    (train_X ,train_Y ), (val_X,val_Y), (test_X ,test_Y )= dataset.split(lookback=config.lookback,trainSet_ratio=0.7,valSet_ratio=0.1)\n",
    "\n",
    "    # 创建Pytorch使用的dataset\n",
    "    trainSet = custom_dataset(train_X,train_Y)\n",
    "    valSet = custom_dataset(val_X,val_Y)\n",
    "    testSet = custom_dataset(test_X,test_Y)\n",
    "\n",
    "    train_loader = DataLoader(trainSet, batch_size = config.batch_size,\n",
    "                              shuffle=False, pin_memory=True, num_workers=4, drop_last=True)\n",
    "    val_loader = DataLoader(valSet, batch_size = config.batch_size,\n",
    "                              shuffle=False, pin_memory=True, num_workers=4, drop_last=False)\n",
    "    test_loader = DataLoader(testSet, batch_size = config.batch_size,\n",
    "                            shuffle=False, pin_memory=True, num_workers=4, drop_last=False)\n",
    "\n",
    "\n",
    "    print(\"Model loading...\")\n",
    "    model = CNNBiLSTM(hidden_size=12,num_layers=1).to(config.device)\n",
    "    criterion = torch.nn.MSELoss()\n",
    "    optimizer = torch.optim.AdamW(model.parameters(),\n",
    "                                 lr=config.learning_rate, weight_decay=config.weight_decay)\n",
    "\n",
    "    print(\"Training...\")\n",
    "    model = CNNBiLstmtrain(model,\n",
    "                  trainloader=train_loader,\n",
    "                  valloader=val_loader,\n",
    "                  criterion=criterion,\n",
    "                  optimizer=optimizer,\n",
    "                  config=config)\n",
    "\n",
    "    print(\"Testing...\", round(len(testSet)/config.batch_size))\n",
    "    y_pre,y = CNNBiLstm_evaluate(model, test_loader, config)\n"
   ]
  },
  {
   "cell_type": "code",
   "execution_count": null,
   "metadata": {},
   "outputs": [],
   "source": [
    "pd.DataFrame({'y_true':y,'y_pre':y_pre}).to_csv(\"./result/CNN-BiLSTMpre-best.csv\",index=False)\n"
   ]
  },
  {
   "cell_type": "markdown",
   "metadata": {},
   "source": [
    "CNN-BiLSTM-middle\n",
    "r2Score:  0.9732221421565376\n",
    "meanSquaredError:  0.0013827450061916385\n",
    "RMSE:  0.037185279428715315\n",
    "meanAbsoluteError:  0.013599438024481905"
   ]
  },
  {
   "cell_type": "markdown",
   "metadata": {},
   "source": [
    "## LightGBM"
   ]
  },
  {
   "cell_type": "code",
   "execution_count": null,
   "metadata": {},
   "outputs": [],
   "source": [
    "from config import Config\n",
    "from utils.dataTools import *\n",
    "\n",
    "if __name__ == '__main__':\n",
    "    config = Config()\n",
    "\n",
    "    print(\"Data loading...\")\n",
    "    # 序列数据\n",
    "    dataset = mydataReader(\"./dataProcessed/testData.csv\")\n",
    "\n",
    "    # 创建X/Y\n",
    "    # 划分训练集和测试集，70% 作为训练集,10%作为验证集,20%作为测试集\n",
    "    (train_X ,train_Y ), (val_X,val_Y), (test_X ,test_Y )= dataset.split(lookback=config.lookback,trainSet_ratio=0.7,valSet_ratio=0.1)"
   ]
  },
  {
   "cell_type": "code",
   "execution_count": null,
   "metadata": {},
   "outputs": [],
   "source": [
    "# 加载lightGBM模型\n",
    "from sklearn.metrics import mean_squared_error,mean_absolute_error\n",
    "from sklearn.metrics import r2_score\n",
    "import lightgbm as lgb\n",
    "import numpy as np\n",
    "\n",
    "# 定义模型\n",
    "model = lgb.LGBMRegressor(objective='regression', num_leaves=32, learning_rate=0.05, n_estimators=100,random_state=42)\n",
    "\n",
    "# 训练\n",
    "model.fit(train_X.squeeze(),train_Y.squeeze())\n",
    "test_predict=model.predict(test_X.squeeze())\n",
    "train_predict = model.predict(train_X.squeeze())\n",
    "\n",
    "# MSE\n",
    "msetest=mean_squared_error(test_Y.squeeze(),test_predict)\n",
    "maetest=mean_absolute_error(test_Y.squeeze(),test_predict)\n",
    "\n",
    "print(\"测试集MSELoss: \",msetest)\n",
    "print(\"测试集MAELoss: \",maetest)\n",
    "print(\"测试集RMSELoss: \",np.sqrt(msetest))\n",
    "# print(msetrain)\n",
    "\n",
    "# R2-score\n",
    "r2Test = r2_score(test_Y.squeeze(),test_predict)\n",
    "print(\"测试集r2-score: \",r2Test)\n",
    "\n",
    "# 画出实际结果和预测的结果\n",
    "import matplotlib.pyplot as plt\n",
    "y = test_Y.squeeze()\n",
    "y_pre = test_predict\n",
    "pd.DataFrame({'y_true':y,'y_pre':y_pre}).to_csv(\"./result/LightGBMpre-best.csv\",index=False)\n",
    "plt.plot(range(len(y[:1000])),y_pre[:1000],color = 'red',linewidth = 1.5,linestyle = '-.',label='prediction')\n",
    "plt.plot(range(len(y[:1000])),y[:1000],color = 'blue',linewidth = 1.5,linestyle = '-', label='real')\n",
    "plt.legend(loc='best')"
   ]
  },
  {
   "cell_type": "markdown",
   "metadata": {},
   "source": [
    "树-80\n",
    "测试集MSELoss:  0.0005582242\n",
    "测试集MAELoss:  0.008747728\n",
    "测试集RMSELoss:  0.023626769\n",
    "测试集r2-score:  0.9891895839209156"
   ]
  }
 ],
 "metadata": {
  "kernelspec": {
   "display_name": "Python 3.9.15 ('mytorch')",
   "language": "python",
   "name": "python3"
  },
  "language_info": {
   "codemirror_mode": {
    "name": "ipython",
    "version": 3
   },
   "file_extension": ".py",
   "mimetype": "text/x-python",
   "name": "python",
   "nbconvert_exporter": "python",
   "pygments_lexer": "ipython3",
   "version": "3.9.15"
  },
  "vscode": {
   "interpreter": {
    "hash": "b37abde0529af7da1a963f31ba3242770f93db2f07c6f8aaa89fc53ac00eddbe"
   }
  }
 },
 "nbformat": 4,
 "nbformat_minor": 4
}
