{
 "cells": [
  {
   "cell_type": "code",
   "execution_count": 1,
   "metadata": {},
   "outputs": [],
   "source": [
    "import pandas as pd\n",
    "import numpy as np\n",
    "import os"
   ]
  },
  {
   "cell_type": "code",
   "execution_count": 73,
   "metadata": {},
   "outputs": [],
   "source": [
    "# 统计各地点的数据量(2017-2018)\n",
    "list_filenames = os.listdir(\"./data\")\n",
    "\n",
    "# 处理时间\n",
    "df_Ballycotton_Harbour = pd.read_csv(\"./data/\"+list_filenames[3])"
   ]
  },
  {
   "cell_type": "code",
   "execution_count": 74,
   "metadata": {},
   "outputs": [
    {
     "data": {
      "text/plain": [
       "Index(['time', 'altitude', 'latitude', 'longitude', 'station_id',\n",
       "       'datasourceid', 'Water_Level_LAT', 'Water_Level_OD_Malin', 'QC_Flag'],\n",
       "      dtype='object')"
      ]
     },
     "execution_count": 74,
     "metadata": {},
     "output_type": "execute_result"
    }
   ],
   "source": [
    "df_Ballycotton_Harbour.columns"
   ]
  },
  {
   "cell_type": "code",
   "execution_count": 75,
   "metadata": {},
   "outputs": [],
   "source": [
    "df_Ballycotton_Harbour['time'] = pd.to_datetime(df_Ballycotton_Harbour['time'],format='%Y-%m-%dT%H:%M:%SZ')"
   ]
  },
  {
   "cell_type": "code",
   "execution_count": 76,
   "metadata": {},
   "outputs": [],
   "source": [
    "df_Ballycotton_Harbour = df_Ballycotton_Harbour.set_index(\"time\")"
   ]
  },
  {
   "cell_type": "code",
   "execution_count": 80,
   "metadata": {},
   "outputs": [
    {
     "name": "stderr",
     "output_type": "stream",
     "text": [
      "C:\\Users\\Administrator\\AppData\\Local\\Temp/ipykernel_13592/3029003015.py:1: FutureWarning: Indexing a DataFrame with a datetimelike index using a single string to slice the rows, like `frame[string]`, is deprecated and will be removed in a future version. Use `frame.loc[string]` instead.\n",
      "  df_Ballycotton_Harbour[\"2018\"].to_csv(\"./dataProcessed/IrishNationalTideGaugeNetwork_sligo2018.csv\")\n"
     ]
    }
   ],
   "source": [
    "df_Ballycotton_Harbour[\"2018\"].to_csv(\"./dataProcessed/IrishNationalTideGaugeNetwork_sligo2018.csv\")"
   ]
  },
  {
   "cell_type": "code",
   "execution_count": 77,
   "metadata": {},
   "outputs": [
    {
     "data": {
      "text/plain": [
       "'IrishNationalTideGaugeNetwork_sligo.csv'"
      ]
     },
     "execution_count": 77,
     "metadata": {},
     "output_type": "execute_result"
    }
   ],
   "source": [
    "list_filenames[3]"
   ]
  },
  {
   "cell_type": "code",
   "execution_count": 79,
   "metadata": {},
   "outputs": [
    {
     "name": "stderr",
     "output_type": "stream",
     "text": [
      "C:\\Users\\Administrator\\AppData\\Local\\Temp/ipykernel_13592/833326536.py:1: FutureWarning: Indexing a DataFrame with a datetimelike index using a single string to slice the rows, like `frame[string]`, is deprecated and will be removed in a future version. Use `frame.loc[string]` instead.\n",
      "  df_Ballycotton_Harbour[\"2018\"]\n"
     ]
    },
    {
     "data": {
      "text/html": [
       "<div>\n",
       "<style scoped>\n",
       "    .dataframe tbody tr th:only-of-type {\n",
       "        vertical-align: middle;\n",
       "    }\n",
       "\n",
       "    .dataframe tbody tr th {\n",
       "        vertical-align: top;\n",
       "    }\n",
       "\n",
       "    .dataframe thead th {\n",
       "        text-align: right;\n",
       "    }\n",
       "</style>\n",
       "<table border=\"1\" class=\"dataframe\">\n",
       "  <thead>\n",
       "    <tr style=\"text-align: right;\">\n",
       "      <th></th>\n",
       "      <th>altitude</th>\n",
       "      <th>latitude</th>\n",
       "      <th>longitude</th>\n",
       "      <th>station_id</th>\n",
       "      <th>datasourceid</th>\n",
       "      <th>Water_Level_LAT</th>\n",
       "      <th>Water_Level_OD_Malin</th>\n",
       "      <th>QC_Flag</th>\n",
       "    </tr>\n",
       "    <tr>\n",
       "      <th>time</th>\n",
       "      <th></th>\n",
       "      <th></th>\n",
       "      <th></th>\n",
       "      <th></th>\n",
       "      <th></th>\n",
       "      <th></th>\n",
       "      <th></th>\n",
       "      <th></th>\n",
       "    </tr>\n",
       "  </thead>\n",
       "  <tbody>\n",
       "    <tr>\n",
       "      <th>2018-01-01 00:00:00</th>\n",
       "      <td>0.0</td>\n",
       "      <td>54.3099</td>\n",
       "      <td>-8.582</td>\n",
       "      <td>Sligo</td>\n",
       "      <td>62</td>\n",
       "      <td>1.541</td>\n",
       "      <td>-0.921</td>\n",
       "      <td>1</td>\n",
       "    </tr>\n",
       "    <tr>\n",
       "      <th>2018-01-01 00:06:00</th>\n",
       "      <td>0.0</td>\n",
       "      <td>54.3099</td>\n",
       "      <td>-8.582</td>\n",
       "      <td>Sligo</td>\n",
       "      <td>62</td>\n",
       "      <td>1.628</td>\n",
       "      <td>-0.834</td>\n",
       "      <td>1</td>\n",
       "    </tr>\n",
       "    <tr>\n",
       "      <th>2018-01-01 00:12:00</th>\n",
       "      <td>0.0</td>\n",
       "      <td>54.3099</td>\n",
       "      <td>-8.582</td>\n",
       "      <td>Sligo</td>\n",
       "      <td>62</td>\n",
       "      <td>1.680</td>\n",
       "      <td>-0.782</td>\n",
       "      <td>1</td>\n",
       "    </tr>\n",
       "    <tr>\n",
       "      <th>2018-01-01 00:18:00</th>\n",
       "      <td>0.0</td>\n",
       "      <td>54.3099</td>\n",
       "      <td>-8.582</td>\n",
       "      <td>Sligo</td>\n",
       "      <td>62</td>\n",
       "      <td>1.766</td>\n",
       "      <td>-0.696</td>\n",
       "      <td>1</td>\n",
       "    </tr>\n",
       "    <tr>\n",
       "      <th>2018-01-01 00:24:00</th>\n",
       "      <td>0.0</td>\n",
       "      <td>54.3099</td>\n",
       "      <td>-8.582</td>\n",
       "      <td>Sligo</td>\n",
       "      <td>62</td>\n",
       "      <td>1.839</td>\n",
       "      <td>-0.623</td>\n",
       "      <td>1</td>\n",
       "    </tr>\n",
       "    <tr>\n",
       "      <th>...</th>\n",
       "      <td>...</td>\n",
       "      <td>...</td>\n",
       "      <td>...</td>\n",
       "      <td>...</td>\n",
       "      <td>...</td>\n",
       "      <td>...</td>\n",
       "      <td>...</td>\n",
       "      <td>...</td>\n",
       "    </tr>\n",
       "    <tr>\n",
       "      <th>2018-12-31 23:30:00</th>\n",
       "      <td>0.0</td>\n",
       "      <td>54.3099</td>\n",
       "      <td>-8.582</td>\n",
       "      <td>Sligo</td>\n",
       "      <td>62</td>\n",
       "      <td>2.555</td>\n",
       "      <td>0.093</td>\n",
       "      <td>0</td>\n",
       "    </tr>\n",
       "    <tr>\n",
       "      <th>2018-12-31 23:36:00</th>\n",
       "      <td>0.0</td>\n",
       "      <td>54.3099</td>\n",
       "      <td>-8.582</td>\n",
       "      <td>Sligo</td>\n",
       "      <td>62</td>\n",
       "      <td>2.596</td>\n",
       "      <td>0.134</td>\n",
       "      <td>0</td>\n",
       "    </tr>\n",
       "    <tr>\n",
       "      <th>2018-12-31 23:42:00</th>\n",
       "      <td>0.0</td>\n",
       "      <td>54.3099</td>\n",
       "      <td>-8.582</td>\n",
       "      <td>Sligo</td>\n",
       "      <td>62</td>\n",
       "      <td>2.646</td>\n",
       "      <td>0.184</td>\n",
       "      <td>0</td>\n",
       "    </tr>\n",
       "    <tr>\n",
       "      <th>2018-12-31 23:48:00</th>\n",
       "      <td>0.0</td>\n",
       "      <td>54.3099</td>\n",
       "      <td>-8.582</td>\n",
       "      <td>Sligo</td>\n",
       "      <td>62</td>\n",
       "      <td>2.689</td>\n",
       "      <td>0.227</td>\n",
       "      <td>0</td>\n",
       "    </tr>\n",
       "    <tr>\n",
       "      <th>2018-12-31 23:54:00</th>\n",
       "      <td>0.0</td>\n",
       "      <td>54.3099</td>\n",
       "      <td>-8.582</td>\n",
       "      <td>Sligo</td>\n",
       "      <td>62</td>\n",
       "      <td>2.742</td>\n",
       "      <td>0.280</td>\n",
       "      <td>0</td>\n",
       "    </tr>\n",
       "  </tbody>\n",
       "</table>\n",
       "<p>86964 rows × 8 columns</p>\n",
       "</div>"
      ],
      "text/plain": [
       "                     altitude  latitude  longitude station_id  datasourceid  \\\n",
       "time                                                                          \n",
       "2018-01-01 00:00:00       0.0   54.3099     -8.582      Sligo            62   \n",
       "2018-01-01 00:06:00       0.0   54.3099     -8.582      Sligo            62   \n",
       "2018-01-01 00:12:00       0.0   54.3099     -8.582      Sligo            62   \n",
       "2018-01-01 00:18:00       0.0   54.3099     -8.582      Sligo            62   \n",
       "2018-01-01 00:24:00       0.0   54.3099     -8.582      Sligo            62   \n",
       "...                       ...       ...        ...        ...           ...   \n",
       "2018-12-31 23:30:00       0.0   54.3099     -8.582      Sligo            62   \n",
       "2018-12-31 23:36:00       0.0   54.3099     -8.582      Sligo            62   \n",
       "2018-12-31 23:42:00       0.0   54.3099     -8.582      Sligo            62   \n",
       "2018-12-31 23:48:00       0.0   54.3099     -8.582      Sligo            62   \n",
       "2018-12-31 23:54:00       0.0   54.3099     -8.582      Sligo            62   \n",
       "\n",
       "                     Water_Level_LAT  Water_Level_OD_Malin  QC_Flag  \n",
       "time                                                                 \n",
       "2018-01-01 00:00:00            1.541                -0.921        1  \n",
       "2018-01-01 00:06:00            1.628                -0.834        1  \n",
       "2018-01-01 00:12:00            1.680                -0.782        1  \n",
       "2018-01-01 00:18:00            1.766                -0.696        1  \n",
       "2018-01-01 00:24:00            1.839                -0.623        1  \n",
       "...                              ...                   ...      ...  \n",
       "2018-12-31 23:30:00            2.555                 0.093        0  \n",
       "2018-12-31 23:36:00            2.596                 0.134        0  \n",
       "2018-12-31 23:42:00            2.646                 0.184        0  \n",
       "2018-12-31 23:48:00            2.689                 0.227        0  \n",
       "2018-12-31 23:54:00            2.742                 0.280        0  \n",
       "\n",
       "[86964 rows x 8 columns]"
      ]
     },
     "execution_count": 79,
     "metadata": {},
     "output_type": "execute_result"
    }
   ],
   "source": [
    "df_Ballycotton_Harbour[\"2018\"]"
   ]
  },
  {
   "cell_type": "code",
   "execution_count": 2,
   "metadata": {},
   "outputs": [],
   "source": [
    "df_test = pd.read_csv(\"./dataProcessed/IrishNationalTideGaugeNetwork_Ballycotton Harbour2017.csv\", usecols=['time','Water_Level_LAT'],\n",
    "        index_col='time',parse_dates=['time'])"
   ]
  },
  {
   "cell_type": "code",
   "execution_count": 5,
   "metadata": {},
   "outputs": [],
   "source": [
    "df_test.loc[:'2017-03-31'].to_csv(\"./dataProcessed/testData.csv\")"
   ]
  },
  {
   "cell_type": "code",
   "execution_count": null,
   "metadata": {},
   "outputs": [],
   "source": []
  }
 ],
 "metadata": {
  "interpreter": {
   "hash": "0585272c6395396341ee04675bd50926ae099db04beb93efeb4cdfb816b7c2a3"
  },
  "kernelspec": {
   "display_name": "Python 3.8.12 ('mytorch')",
   "language": "python",
   "name": "python3"
  },
  "language_info": {
   "codemirror_mode": {
    "name": "ipython",
    "version": 3
   },
   "file_extension": ".py",
   "mimetype": "text/x-python",
   "name": "python",
   "nbconvert_exporter": "python",
   "pygments_lexer": "ipython3",
   "version": "3.8.12"
  },
  "orig_nbformat": 4
 },
 "nbformat": 4,
 "nbformat_minor": 2
}
