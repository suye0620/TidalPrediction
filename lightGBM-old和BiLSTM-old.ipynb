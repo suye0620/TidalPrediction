{
 "cells": [
  {
   "cell_type": "markdown",
   "metadata": {},
   "source": [
    ",,degrees_east,degrees_north,UTC,millibars,degrees true,knots,knots,meters,seconds,degrees_true,meters,degrees_C,degrees_C,degrees_C,dimensionless,percent,degrees,degrees_true,seconds,"
   ]
  },
  {
   "cell_type": "code",
   "execution_count": 38,
   "metadata": {},
   "outputs": [],
   "source": [
    "import numpy as np\n",
    "import pandas as pd\n",
    "import seaborn as sns\n",
    "sns.set_theme(style=\"whitegrid\")\n",
    "\n",
    "# 加载数据\n",
    "df_Ballycotton = pd.read_csv(\"./dataProcessed/testData.csv\",encoding = \"utf-8\",index_col=['time'],parse_dates = [\"time\"],usecols = ['time','Water_Level_LAT'])\n",
    "# 转化为时间序列\n",
    "# df_Ballycotton['time'] = pd.to_datetime(df_Ballycotton['time'])\n",
    "# 设置时间索引\n",
    "# df_Ballycotton = df_Ballycotton.set_index(\"time\")\n"
   ]
  },
  {
   "cell_type": "code",
   "execution_count": 39,
   "metadata": {},
   "outputs": [],
   "source": [
    "# df_Ballycotton['2017-07':].to_csv(\"./dataProcessed/formaldata.csv\")"
   ]
  },
  {
   "cell_type": "code",
   "execution_count": 41,
   "metadata": {},
   "outputs": [
    {
     "data": {
      "image/png": "[encoded data removed]",
      "text/plain": [
       "<Figure size 432x288 with 1 Axes>"
      ]
     },
     "metadata": {},
     "output_type": "display_data"
    }
   ],
   "source": [
    "# 画图\n",
    "import matplotlib.pyplot as plt\n",
    "\n",
    "fig = plt.figure()\n",
    "ax = fig.add_subplot(1,1,1)\n",
    "sns.set_theme(style=\"whitegrid\")\n",
    "# dataPlot = df_Ballycotton.loc[:,\"Water_Level_LAT\"]\n",
    "sns.lineplot(data=df_Ballycotton, palette=\"tab10\", linewidth=2.5,ax=ax)\n",
    "# 将x轴斜过来显示更好看\n",
    "fig.autofmt_xdate()"
   ]
  },
  {
   "cell_type": "code",
   "execution_count": 42,
   "metadata": {},
   "outputs": [
    {
     "data": {
      "text/plain": [
       "0"
      ]
     },
     "execution_count": 42,
     "metadata": {},
     "output_type": "execute_result"
    }
   ],
   "source": [
    "# 数据缺失情况\n",
    "sum(df_Ballycotton.loc[:,'Water_Level_LAT'].isna())"
   ]
  },
  {
   "cell_type": "code",
   "execution_count": 3,
   "metadata": {},
   "outputs": [
    {
     "name": "stdout",
     "output_type": "stream",
     "text": [
      "Data loading...\n"
     ]
    },
    {
     "name": "stderr",
     "output_type": "stream",
     "text": [
      "100%|██████████| 19274/19274 [00:00<00:00, 917584.34it/s]"
     ]
    },
    {
     "name": "stdout",
     "output_type": "stream",
     "text": [
      "测试集大小为3856\n",
      "Model loading...\n",
      "Training...\n"
     ]
    },
    {
     "name": "stderr",
     "output_type": "stream",
     "text": [
      "\n",
      "E:\\Anaconda3\\envs\\mytorch\\lib\\site-packages\\torch\\nn\\modules\\rnn.py:62: UserWarning: dropout option adds dropout after all but last recurrent layer, so non-zero dropout expects num_layers greater than 1, but got dropout=0.3 and num_layers=1\n",
      "  warnings.warn(\"dropout option adds dropout after all but last \"\n"
     ]
    },
    {
     "name": "stdout",
     "output_type": "stream",
     "text": [
      "Epoch: 0 batch: 0 | loss: 0.08963146805763245\n",
      "Epoch: 0 batch: 10 | loss: 0.609164297580719\n",
      "Epoch: 0 batch: 20 | loss: 0.03866790235042572\n",
      "Epoch: 0 batch: 30 | loss: 0.5257909297943115\n",
      "Epoch: 0 batch: 40 | loss: 0.10790737718343735\n",
      "Epoch: 0 batch: 50 | loss: 0.1630203276872635\n",
      "Epoch: 0 batch: 60 | loss: 0.3811226189136505\n",
      "Epoch: 0 batch: 70 | loss: 0.017693227156996727\n",
      "Epoch: 0 batch: 80 | loss: 0.4213300347328186\n",
      "Epoch: 0 batch: 90 | loss: 0.1210964173078537\n",
      "Epoch: 0 batch: 100 | loss: 0.12127473950386047\n",
      "Epoch: 0 batch: 110 | loss: 0.11966065317392349\n",
      "Epoch: 0 batch: 120 | loss: 0.04333358258008957\n",
      "Epoch: 0 batch: 130 | loss: 0.12727952003479004\n",
      "Epoch: 0 batch: 140 | loss: 0.10111909359693527\n",
      "Epoch: 0 batch: 150 | loss: 0.13704368472099304\n",
      "Epoch: 0 batch: 160 | loss: 0.014009812846779823\n",
      "Epoch: 0 batch: 170 | loss: 0.19912320375442505\n",
      "Epoch: 0 batch: 180 | loss: 0.008105120621621609\n",
      "Epoch: 0 batch: 190 | loss: 0.13008378446102142\n",
      "Epoch: 0 batch: 200 | loss: 0.08864111453294754\n",
      "Epoch: 0 batch: 210 | loss: 0.034696340560913086\n",
      "Epoch: 0 batch: 220 | loss: 0.17418114840984344\n",
      "Epoch: 0 batch: 230 | loss: 0.048504091799259186\n",
      "Epoch: 0 batch: 240 | loss: 0.14691706001758575\n",
      "Epoch: 0 batch: 250 | loss: 0.019909033551812172\n",
      "Epoch: 0 batch: 260 | loss: 0.23042498528957367\n",
      "Epoch: 0 batch: 270 | loss: 0.013943766243755817\n",
      "Epoch: 0 batch: 280 | loss: 0.05906618759036064\n",
      "Epoch: 0 batch: 290 | loss: 0.028563005849719048\n",
      "Epoch: 0 batch: 300 | loss: 0.039750147610902786\n",
      "Epoch: 0 batch: 310 | loss: 0.10540817677974701\n",
      "Epoch: 0 batch: 320 | loss: 0.06847019493579865\n",
      "Epoch: 0 batch: 330 | loss: 0.07217595726251602\n",
      "Epoch: 0 batch: 340 | loss: 0.025152411311864853\n",
      "Epoch: 0 batch: 350 | loss: 0.029376020655035973\n",
      "Epoch: 0 batch: 360 | loss: 0.03350108489394188\n",
      "Epoch: 0 batch: 370 | loss: 0.04514792189002037\n",
      "Epoch: 0 batch: 380 | loss: 0.053428370505571365\n",
      "Epoch: 0 batch: 390 | loss: 0.014959978871047497\n",
      "Epoch: 0 batch: 400 | loss: 0.006178381387144327\n",
      "Epoch: 0 batch: 410 | loss: 0.015947215259075165\n",
      "Epoch: 0 batch: 420 | loss: 0.06096164882183075\n",
      "Epoch: 0 batch: 430 | loss: 0.06172996386885643\n",
      "Epoch: 0 batch: 440 | loss: 0.06836997717618942\n"
     ]
    },
    {
     "name": "stderr",
     "output_type": "stream",
     "text": [
      "65it [00:01, 47.60it/s]\n"
     ]
    },
    {
     "name": "stdout",
     "output_type": "stream",
     "text": [
      "Epoch: 0 valLoss: 0.05349013202695493\n",
      "Epoch: 1 batch: 0 | loss: 0.05006015673279762\n",
      "Epoch: 1 batch: 10 | loss: 0.06570564210414886\n",
      "Epoch: 1 batch: 20 | loss: 0.06398583948612213\n",
      "Epoch: 1 batch: 30 | loss: 0.05244157463312149\n",
      "Epoch: 1 batch: 40 | loss: 0.01973915286362171\n",
      "Epoch: 1 batch: 50 | loss: 0.012282419949769974\n",
      "Epoch: 1 batch: 60 | loss: 0.031220298260450363\n",
      "Epoch: 1 batch: 70 | loss: 0.055945318192243576\n",
      "Epoch: 1 batch: 80 | loss: 0.05463745817542076\n",
      "Epoch: 1 batch: 90 | loss: 0.017220813781023026\n",
      "Epoch: 1 batch: 100 | loss: 0.021936804056167603\n",
      "Epoch: 1 batch: 110 | loss: 0.01892019994556904\n",
      "Epoch: 1 batch: 120 | loss: 0.033251985907554626\n",
      "Epoch: 1 batch: 130 | loss: 0.023259766399860382\n",
      "Epoch: 1 batch: 140 | loss: 0.009357509203255177\n",
      "Epoch: 1 batch: 150 | loss: 0.009643277153372765\n",
      "Epoch: 1 batch: 160 | loss: 0.012325079180300236\n",
      "Epoch: 1 batch: 170 | loss: 0.02570013888180256\n",
      "Epoch: 1 batch: 180 | loss: 0.014239675365388393\n",
      "Epoch: 1 batch: 190 | loss: 0.018501274287700653\n",
      "Epoch: 1 batch: 200 | loss: 0.01015811413526535\n",
      "Epoch: 1 batch: 210 | loss: 0.011505556292831898\n",
      "Epoch: 1 batch: 220 | loss: 0.035631921142339706\n",
      "Epoch: 1 batch: 230 | loss: 0.014391795732080936\n",
      "Epoch: 1 batch: 240 | loss: 0.03317679092288017\n",
      "Epoch: 1 batch: 250 | loss: 0.02654816024005413\n",
      "Epoch: 1 batch: 260 | loss: 0.06691527366638184\n",
      "Epoch: 1 batch: 270 | loss: 0.02335106022655964\n",
      "Epoch: 1 batch: 280 | loss: 0.011597471311688423\n",
      "Epoch: 1 batch: 290 | loss: 0.004937285557389259\n",
      "Epoch: 1 batch: 300 | loss: 0.020998064428567886\n",
      "Epoch: 1 batch: 310 | loss: 0.02869323268532753\n",
      "Epoch: 1 batch: 320 | loss: 0.029984889551997185\n",
      "Epoch: 1 batch: 330 | loss: 0.02393840253353119\n",
      "Epoch: 1 batch: 340 | loss: 0.01242739986628294\n",
      "Epoch: 1 batch: 350 | loss: 0.008661496452987194\n",
      "Epoch: 1 batch: 360 | loss: 0.007169653661549091\n",
      "Epoch: 1 batch: 370 | loss: 0.006545159034430981\n",
      "Epoch: 1 batch: 380 | loss: 0.0073601058684289455\n",
      "Epoch: 1 batch: 390 | loss: 0.0012160622281953692\n",
      "Epoch: 1 batch: 400 | loss: 0.0006407158216461539\n",
      "Epoch: 1 batch: 410 | loss: 0.0009320311364717782\n",
      "Epoch: 1 batch: 420 | loss: 0.00859472993761301\n",
      "Epoch: 1 batch: 430 | loss: 0.008092162199318409\n",
      "Epoch: 1 batch: 440 | loss: 0.006844539660960436\n"
     ]
    },
    {
     "name": "stderr",
     "output_type": "stream",
     "text": [
      "65it [00:01, 47.02it/s]\n"
     ]
    },
    {
     "name": "stdout",
     "output_type": "stream",
     "text": [
      "Epoch: 1 valLoss: 0.010306494478525562\n",
      "Epoch: 2 batch: 0 | loss: 0.004437488038092852\n",
      "Epoch: 2 batch: 10 | loss: 0.006052470300346613\n",
      "Epoch: 2 batch: 20 | loss: 0.005193347577005625\n",
      "Epoch: 2 batch: 30 | loss: 0.004987061955034733\n",
      "Epoch: 2 batch: 40 | loss: 0.003931378945708275\n",
      "Epoch: 2 batch: 50 | loss: 0.0030632964335381985\n",
      "Epoch: 2 batch: 60 | loss: 0.0017424504039809108\n",
      "Epoch: 2 batch: 70 | loss: 0.0028423306066542864\n",
      "Epoch: 2 batch: 80 | loss: 0.007319430820643902\n",
      "Epoch: 2 batch: 90 | loss: 0.007470236625522375\n",
      "Epoch: 2 batch: 100 | loss: 0.006957028526812792\n",
      "Epoch: 2 batch: 110 | loss: 0.008800674229860306\n",
      "Epoch: 2 batch: 120 | loss: 0.007188429124653339\n",
      "Epoch: 2 batch: 130 | loss: 0.011303397826850414\n",
      "Epoch: 2 batch: 140 | loss: 0.006194026675075293\n",
      "Epoch: 2 batch: 150 | loss: 0.003531207563355565\n",
      "Epoch: 2 batch: 160 | loss: 0.0015233965823426843\n",
      "Epoch: 2 batch: 170 | loss: 0.0003994258295278996\n",
      "Epoch: 2 batch: 180 | loss: 0.0009174220613203943\n",
      "Epoch: 2 batch: 190 | loss: 0.003976637031883001\n",
      "Epoch: 2 batch: 200 | loss: 0.00445158127695322\n",
      "Epoch: 2 batch: 210 | loss: 0.004429874010384083\n",
      "Epoch: 2 batch: 220 | loss: 0.004799173679202795\n",
      "Epoch: 2 batch: 230 | loss: 0.006452382076531649\n",
      "Epoch: 2 batch: 240 | loss: 0.006786191835999489\n",
      "Epoch: 2 batch: 250 | loss: 0.0028142142109572887\n",
      "Epoch: 2 batch: 260 | loss: 0.004972411785274744\n",
      "Epoch: 2 batch: 270 | loss: 0.001879187417216599\n",
      "Epoch: 2 batch: 280 | loss: 0.002327714581042528\n",
      "Epoch: 2 batch: 290 | loss: 0.00501814903691411\n",
      "Epoch: 2 batch: 300 | loss: 0.006093350239098072\n",
      "Epoch: 2 batch: 310 | loss: 0.0018126359209418297\n",
      "Epoch: 2 batch: 320 | loss: 0.0032565004657953978\n",
      "Epoch: 2 batch: 330 | loss: 0.006447155494242907\n",
      "Epoch: 2 batch: 340 | loss: 0.008207358419895172\n",
      "Epoch: 2 batch: 350 | loss: 0.008651873096823692\n",
      "Epoch: 2 batch: 360 | loss: 0.007746437098830938\n",
      "Epoch: 2 batch: 370 | loss: 0.003582248231396079\n",
      "Epoch: 2 batch: 380 | loss: 0.0017501161200925708\n",
      "Epoch: 2 batch: 390 | loss: 0.003154770703986287\n",
      "Epoch: 2 batch: 400 | loss: 0.001972933765500784\n",
      "Epoch: 2 batch: 410 | loss: 0.0011086054146289825\n",
      "Epoch: 2 batch: 420 | loss: 0.0009734773775562644\n",
      "Epoch: 2 batch: 430 | loss: 0.002031340729445219\n",
      "Epoch: 2 batch: 440 | loss: 0.002231558784842491\n"
     ]
    },
    {
     "name": "stderr",
     "output_type": "stream",
     "text": [
      "65it [00:01, 46.57it/s]\n"
     ]
    },
    {
     "name": "stdout",
     "output_type": "stream",
     "text": [
      "Epoch: 2 valLoss: 0.006603462826155507\n",
      "Epoch: 3 batch: 0 | loss: 0.003677948610857129\n",
      "Epoch: 3 batch: 10 | loss: 0.0025262318085879087\n",
      "Epoch: 3 batch: 20 | loss: 0.0015937185380607843\n",
      "Epoch: 3 batch: 30 | loss: 0.001764929387718439\n",
      "Epoch: 3 batch: 40 | loss: 0.0021871395874768496\n",
      "Epoch: 3 batch: 50 | loss: 0.004472868982702494\n",
      "Epoch: 3 batch: 60 | loss: 0.0017979933181777596\n",
      "Epoch: 3 batch: 70 | loss: 0.001572977053001523\n",
      "Epoch: 3 batch: 80 | loss: 0.005087791010737419\n",
      "Epoch: 3 batch: 90 | loss: 0.0066750869154930115\n",
      "Epoch: 3 batch: 100 | loss: 0.007641549222171307\n",
      "Epoch: 3 batch: 110 | loss: 0.00765217375010252\n",
      "Epoch: 3 batch: 120 | loss: 0.007335025817155838\n",
      "Epoch: 3 batch: 130 | loss: 0.009611432440578938\n",
      "Epoch: 3 batch: 140 | loss: 0.006640804000198841\n",
      "Epoch: 3 batch: 150 | loss: 0.0029594935476779938\n",
      "Epoch: 3 batch: 160 | loss: 0.0014943511923775077\n",
      "Epoch: 3 batch: 170 | loss: 0.00043953428394161165\n",
      "Epoch: 3 batch: 180 | loss: 0.0007096909102983773\n",
      "Epoch: 3 batch: 190 | loss: 0.003729170421138406\n",
      "Epoch: 3 batch: 200 | loss: 0.0041098324581980705\n",
      "Epoch: 3 batch: 210 | loss: 0.004381144884973764\n",
      "Epoch: 3 batch: 220 | loss: 0.004243994131684303\n",
      "Epoch: 3 batch: 230 | loss: 0.00629405165091157\n",
      "Epoch: 3 batch: 240 | loss: 0.005828600376844406\n",
      "Epoch: 3 batch: 250 | loss: 0.0025946926325559616\n",
      "Epoch: 3 batch: 260 | loss: 0.003417481202632189\n",
      "Epoch: 3 batch: 270 | loss: 0.0014856730122119188\n",
      "Epoch: 3 batch: 280 | loss: 0.002411987166851759\n",
      "Epoch: 3 batch: 290 | loss: 0.004172199405729771\n",
      "Epoch: 3 batch: 300 | loss: 0.005440414417535067\n",
      "Epoch: 3 batch: 310 | loss: 0.0014401054941117764\n",
      "Epoch: 3 batch: 320 | loss: 0.0032200878486037254\n",
      "Epoch: 3 batch: 330 | loss: 0.00595831498503685\n",
      "Epoch: 3 batch: 340 | loss: 0.006957797799259424\n",
      "Epoch: 3 batch: 350 | loss: 0.008102577179670334\n",
      "Epoch: 3 batch: 360 | loss: 0.006629656534641981\n",
      "Epoch: 3 batch: 370 | loss: 0.003204579930752516\n",
      "Epoch: 3 batch: 380 | loss: 0.0015721655217930675\n",
      "Epoch: 3 batch: 390 | loss: 0.0027970075607299805\n",
      "Epoch: 3 batch: 400 | loss: 0.0015242231311276555\n",
      "Epoch: 3 batch: 410 | loss: 0.0009038774878717959\n",
      "Epoch: 3 batch: 420 | loss: 0.000835516897495836\n",
      "Epoch: 3 batch: 430 | loss: 0.0017996318638324738\n",
      "Epoch: 3 batch: 440 | loss: 0.002116729039698839\n"
     ]
    },
    {
     "name": "stderr",
     "output_type": "stream",
     "text": [
      "65it [00:01, 47.38it/s]\n"
     ]
    },
    {
     "name": "stdout",
     "output_type": "stream",
     "text": [
      "Epoch: 3 valLoss: 0.005834103378959491\n",
      "Epoch: 4 batch: 0 | loss: 0.003332216292619705\n",
      "Epoch: 4 batch: 10 | loss: 0.0022181575186550617\n",
      "Epoch: 4 batch: 20 | loss: 0.001509148976765573\n",
      "Epoch: 4 batch: 30 | loss: 0.0016738944686949253\n",
      "Epoch: 4 batch: 40 | loss: 0.0017572137294337153\n",
      "Epoch: 4 batch: 50 | loss: 0.004078064113855362\n",
      "Epoch: 4 batch: 60 | loss: 0.0015893857926130295\n",
      "Epoch: 4 batch: 70 | loss: 0.0015173439169302583\n",
      "Epoch: 4 batch: 80 | loss: 0.004540461581200361\n",
      "Epoch: 4 batch: 90 | loss: 0.005812379531562328\n",
      "Epoch: 4 batch: 100 | loss: 0.007035178132355213\n",
      "Epoch: 4 batch: 110 | loss: 0.0065911137498915195\n",
      "Epoch: 4 batch: 120 | loss: 0.006621327716857195\n",
      "Epoch: 4 batch: 130 | loss: 0.00831308588385582\n",
      "Epoch: 4 batch: 140 | loss: 0.00612079119309783\n",
      "Epoch: 4 batch: 150 | loss: 0.0024534559343010187\n",
      "Epoch: 4 batch: 160 | loss: 0.0012886883923783898\n",
      "Epoch: 4 batch: 170 | loss: 0.0004234254010953009\n",
      "Epoch: 4 batch: 180 | loss: 0.0006389425834640861\n",
      "Epoch: 4 batch: 190 | loss: 0.003386342665180564\n",
      "Epoch: 4 batch: 200 | loss: 0.0036799826193600893\n",
      "Epoch: 4 batch: 210 | loss: 0.0040230960585176945\n",
      "Epoch: 4 batch: 220 | loss: 0.0037893166299909353\n",
      "Epoch: 4 batch: 230 | loss: 0.0058396668173372746\n",
      "Epoch: 4 batch: 240 | loss: 0.005072803236544132\n",
      "Epoch: 4 batch: 250 | loss: 0.0023386343382298946\n",
      "Epoch: 4 batch: 260 | loss: 0.002695030067116022\n",
      "Epoch: 4 batch: 270 | loss: 0.001288639847189188\n",
      "Epoch: 4 batch: 280 | loss: 0.002310782903805375\n",
      "Epoch: 4 batch: 290 | loss: 0.0034903031773865223\n",
      "Epoch: 4 batch: 300 | loss: 0.004879185929894447\n",
      "Epoch: 4 batch: 310 | loss: 0.0012315262574702501\n",
      "Epoch: 4 batch: 320 | loss: 0.002932218601927161\n",
      "Epoch: 4 batch: 330 | loss: 0.005331810563802719\n",
      "Epoch: 4 batch: 340 | loss: 0.006031590513885021\n",
      "Epoch: 4 batch: 350 | loss: 0.0073586199432611465\n",
      "Epoch: 4 batch: 360 | loss: 0.005762564018368721\n",
      "Epoch: 4 batch: 370 | loss: 0.002845757408067584\n",
      "Epoch: 4 batch: 380 | loss: 0.001379805151373148\n",
      "Epoch: 4 batch: 390 | loss: 0.002438739174976945\n",
      "Epoch: 4 batch: 400 | loss: 0.0012412582291290164\n",
      "Epoch: 4 batch: 410 | loss: 0.0007539500948041677\n",
      "Epoch: 4 batch: 420 | loss: 0.0007531662122346461\n",
      "Epoch: 4 batch: 430 | loss: 0.0016165580600500107\n",
      "Epoch: 4 batch: 440 | loss: 0.0018675317987799644\n"
     ]
    },
    {
     "name": "stderr",
     "output_type": "stream",
     "text": [
      "65it [00:01, 46.81it/s]\n"
     ]
    },
    {
     "name": "stdout",
     "output_type": "stream",
     "text": [
      "Epoch: 4 valLoss: 0.005142263204345958\n",
      "Epoch: 5 batch: 0 | loss: 0.002945197280496359\n",
      "Epoch: 5 batch: 10 | loss: 0.0019761750008910894\n",
      "Epoch: 5 batch: 20 | loss: 0.0013249799376353621\n",
      "Epoch: 5 batch: 30 | loss: 0.0015608351677656174\n",
      "Epoch: 5 batch: 40 | loss: 0.0014782213838770986\n",
      "Epoch: 5 batch: 50 | loss: 0.0036326732952147722\n",
      "Epoch: 5 batch: 60 | loss: 0.0013976815389469266\n",
      "Epoch: 5 batch: 70 | loss: 0.0013517760671675205\n",
      "Epoch: 5 batch: 80 | loss: 0.003995145205408335\n",
      "Epoch: 5 batch: 90 | loss: 0.005078570451587439\n",
      "Epoch: 5 batch: 100 | loss: 0.00633901497349143\n",
      "Epoch: 5 batch: 110 | loss: 0.005694807972759008\n",
      "Epoch: 5 batch: 120 | loss: 0.005862078163772821\n",
      "Epoch: 5 batch: 130 | loss: 0.007253888063132763\n",
      "Epoch: 5 batch: 140 | loss: 0.005462611094117165\n",
      "Epoch: 5 batch: 150 | loss: 0.002081950195133686\n",
      "Epoch: 5 batch: 160 | loss: 0.0011008618166670203\n",
      "Epoch: 5 batch: 170 | loss: 0.0003884331963490695\n",
      "Epoch: 5 batch: 180 | loss: 0.0005778600461781025\n",
      "Epoch: 5 batch: 190 | loss: 0.0030111121013760567\n",
      "Epoch: 5 batch: 200 | loss: 0.0032566525042057037\n",
      "Epoch: 5 batch: 210 | loss: 0.0036032970529049635\n",
      "Epoch: 5 batch: 220 | loss: 0.0033630335237830877\n",
      "Epoch: 5 batch: 230 | loss: 0.00530226668342948\n",
      "Epoch: 5 batch: 240 | loss: 0.0043908110819756985\n",
      "Epoch: 5 batch: 250 | loss: 0.0020767312962561846\n",
      "Epoch: 5 batch: 260 | loss: 0.0022403679322451353\n",
      "Epoch: 5 batch: 270 | loss: 0.0011352626606822014\n",
      "Epoch: 5 batch: 280 | loss: 0.0021308499854058027\n",
      "Epoch: 5 batch: 290 | loss: 0.002899149199947715\n",
      "Epoch: 5 batch: 300 | loss: 0.004346190951764584\n",
      "Epoch: 5 batch: 310 | loss: 0.0010634217178449035\n",
      "Epoch: 5 batch: 320 | loss: 0.0025666423607617617\n",
      "Epoch: 5 batch: 330 | loss: 0.004650300834327936\n",
      "Epoch: 5 batch: 340 | loss: 0.005209756083786488\n",
      "Epoch: 5 batch: 350 | loss: 0.0065324208699166775\n",
      "Epoch: 5 batch: 360 | loss: 0.004970652982592583\n",
      "Epoch: 5 batch: 370 | loss: 0.002497350797057152\n",
      "Epoch: 5 batch: 380 | loss: 0.0011812386801466346\n",
      "Epoch: 5 batch: 390 | loss: 0.002089842688292265\n",
      "Epoch: 5 batch: 400 | loss: 0.0010257051326334476\n",
      "Epoch: 5 batch: 410 | loss: 0.0006276775966398418\n",
      "Epoch: 5 batch: 420 | loss: 0.0006768549210391939\n",
      "Epoch: 5 batch: 430 | loss: 0.001432651886716485\n",
      "Epoch: 5 batch: 440 | loss: 0.0015934662660583854\n"
     ]
    },
    {
     "name": "stderr",
     "output_type": "stream",
     "text": [
      "65it [00:01, 46.95it/s]\n"
     ]
    },
    {
     "name": "stdout",
     "output_type": "stream",
     "text": [
      "Epoch: 5 valLoss: 0.004475669626640439\n",
      "Epoch: 6 batch: 0 | loss: 0.0025561777874827385\n",
      "Epoch: 6 batch: 10 | loss: 0.0017436729976907372\n",
      "Epoch: 6 batch: 20 | loss: 0.0011220864253118634\n",
      "Epoch: 6 batch: 30 | loss: 0.0014247805811464787\n",
      "Epoch: 6 batch: 40 | loss: 0.0012466482585296035\n",
      "Epoch: 6 batch: 50 | loss: 0.003161251312121749\n",
      "Epoch: 6 batch: 60 | loss: 0.0012090863892808557\n",
      "Epoch: 6 batch: 70 | loss: 0.001162829459644854\n",
      "Epoch: 6 batch: 80 | loss: 0.0034425901249051094\n",
      "Epoch: 6 batch: 90 | loss: 0.00436478853225708\n",
      "Epoch: 6 batch: 100 | loss: 0.005594291724264622\n",
      "Epoch: 6 batch: 110 | loss: 0.004837287589907646\n",
      "Epoch: 6 batch: 120 | loss: 0.005098063498735428\n",
      "Epoch: 6 batch: 130 | loss: 0.006264240946620703\n",
      "Epoch: 6 batch: 140 | loss: 0.0047383988276124\n",
      "Epoch: 6 batch: 150 | loss: 0.001756781479343772\n",
      "Epoch: 6 batch: 160 | loss: 0.0009224823443219066\n",
      "Epoch: 6 batch: 170 | loss: 0.0003427056653890759\n",
      "Epoch: 6 batch: 180 | loss: 0.0005112139042466879\n",
      "Epoch: 6 batch: 190 | loss: 0.002618907019495964\n",
      "Epoch: 6 batch: 200 | loss: 0.0028122044168412685\n",
      "Epoch: 6 batch: 210 | loss: 0.003145021153613925\n",
      "Epoch: 6 batch: 220 | loss: 0.0029204965103417635\n",
      "Epoch: 6 batch: 230 | loss: 0.004709912464022636\n",
      "Epoch: 6 batch: 240 | loss: 0.0036997415591031313\n",
      "Epoch: 6 batch: 250 | loss: 0.001812998321838677\n",
      "Epoch: 6 batch: 260 | loss: 0.0019016977166756988\n",
      "Epoch: 6 batch: 270 | loss: 0.000992593471892178\n",
      "Epoch: 6 batch: 280 | loss: 0.0019089753041043878\n",
      "Epoch: 6 batch: 290 | loss: 0.0023326585069298744\n",
      "Epoch: 6 batch: 300 | loss: 0.003814190160483122\n",
      "Epoch: 6 batch: 310 | loss: 0.0009015744435600936\n",
      "Epoch: 6 batch: 320 | loss: 0.002197550842538476\n",
      "Epoch: 6 batch: 330 | loss: 0.003922214265912771\n",
      "Epoch: 6 batch: 340 | loss: 0.0043969121761620045\n",
      "Epoch: 6 batch: 350 | loss: 0.005633374210447073\n",
      "Epoch: 6 batch: 360 | loss: 0.004164929501712322\n",
      "Epoch: 6 batch: 370 | loss: 0.0021504261530935764\n",
      "Epoch: 6 batch: 380 | loss: 0.0009666572441346943\n",
      "Epoch: 6 batch: 390 | loss: 0.0017418194329366088\n",
      "Epoch: 6 batch: 400 | loss: 0.000836941588204354\n",
      "Epoch: 6 batch: 410 | loss: 0.0005117791588418186\n",
      "Epoch: 6 batch: 420 | loss: 0.0005912355263717473\n",
      "Epoch: 6 batch: 430 | loss: 0.0012253267923370004\n",
      "Epoch: 6 batch: 440 | loss: 0.0013289928901940584\n"
     ]
    },
    {
     "name": "stderr",
     "output_type": "stream",
     "text": [
      "65it [00:01, 46.58it/s]\n"
     ]
    },
    {
     "name": "stdout",
     "output_type": "stream",
     "text": [
      "Epoch: 6 valLoss: 0.003798137265432658\n",
      "Epoch: 7 batch: 0 | loss: 0.002165238605812192\n",
      "Epoch: 7 batch: 10 | loss: 0.0014926992589607835\n",
      "Epoch: 7 batch: 20 | loss: 0.0009234304307028651\n",
      "Epoch: 7 batch: 30 | loss: 0.0012661127839237452\n",
      "Epoch: 7 batch: 40 | loss: 0.001028113649226725\n",
      "Epoch: 7 batch: 50 | loss: 0.0026489589363336563\n",
      "Epoch: 7 batch: 60 | loss: 0.001007645740173757\n",
      "Epoch: 7 batch: 70 | loss: 0.0009744719136506319\n",
      "Epoch: 7 batch: 80 | loss: 0.002862066263332963\n",
      "Epoch: 7 batch: 90 | loss: 0.003612012369558215\n",
      "Epoch: 7 batch: 100 | loss: 0.004773302003741264\n",
      "Epoch: 7 batch: 110 | loss: 0.003955475520342588\n",
      "Epoch: 7 batch: 120 | loss: 0.004312541335821152\n",
      "Epoch: 7 batch: 130 | loss: 0.005264054052531719\n",
      "Epoch: 7 batch: 140 | loss: 0.003945180680602789\n",
      "Epoch: 7 batch: 150 | loss: 0.0014385407557711005\n",
      "Epoch: 7 batch: 160 | loss: 0.0007490562275052071\n",
      "Epoch: 7 batch: 170 | loss: 0.0002850850287359208\n",
      "Epoch: 7 batch: 180 | loss: 0.0004321205778978765\n",
      "Epoch: 7 batch: 190 | loss: 0.002192859072238207\n",
      "Epoch: 7 batch: 200 | loss: 0.00231806468218565\n",
      "Epoch: 7 batch: 210 | loss: 0.0026216984260827303\n",
      "Epoch: 7 batch: 220 | loss: 0.0024288042914122343\n",
      "Epoch: 7 batch: 230 | loss: 0.004029687028378248\n",
      "Epoch: 7 batch: 240 | loss: 0.0029556334484368563\n",
      "Epoch: 7 batch: 250 | loss: 0.0015373603673651814\n",
      "Epoch: 7 batch: 260 | loss: 0.001630313228815794\n",
      "Epoch: 7 batch: 270 | loss: 0.0008499656105414033\n",
      "Epoch: 7 batch: 280 | loss: 0.0016379717271775007\n",
      "Epoch: 7 batch: 290 | loss: 0.0017671871464699507\n",
      "Epoch: 7 batch: 300 | loss: 0.003260672092437744\n",
      "Epoch: 7 batch: 310 | loss: 0.0007328914944082499\n",
      "Epoch: 7 batch: 320 | loss: 0.0018363347044214606\n",
      "Epoch: 7 batch: 330 | loss: 0.0031173937022686005\n",
      "Epoch: 7 batch: 340 | loss: 0.003559849690645933\n",
      "Epoch: 7 batch: 350 | loss: 0.004619843792170286\n",
      "Epoch: 7 batch: 360 | loss: 0.003329636063426733\n",
      "Epoch: 7 batch: 370 | loss: 0.00179390050470829\n",
      "Epoch: 7 batch: 380 | loss: 0.0007393143023364246\n",
      "Epoch: 7 batch: 390 | loss: 0.0013851386029273272\n",
      "Epoch: 7 batch: 400 | loss: 0.0006626693648286164\n",
      "Epoch: 7 batch: 410 | loss: 0.000403589045163244\n",
      "Epoch: 7 batch: 420 | loss: 0.0004896732280030847\n",
      "Epoch: 7 batch: 430 | loss: 0.0009883465245366096\n",
      "Epoch: 7 batch: 440 | loss: 0.001078196568414569\n"
     ]
    },
    {
     "name": "stderr",
     "output_type": "stream",
     "text": [
      "65it [00:01, 45.51it/s]\n"
     ]
    },
    {
     "name": "stdout",
     "output_type": "stream",
     "text": [
      "Epoch: 7 valLoss: 0.0030974206608794536\n",
      "Epoch: 8 batch: 0 | loss: 0.0017581797437742352\n",
      "Epoch: 8 batch: 10 | loss: 0.0012188296532258391\n",
      "Epoch: 8 batch: 20 | loss: 0.0007284908788278699\n",
      "Epoch: 8 batch: 30 | loss: 0.0010712479706853628\n",
      "Epoch: 8 batch: 40 | loss: 0.0008199717267416418\n",
      "Epoch: 8 batch: 50 | loss: 0.002082158112898469\n",
      "Epoch: 8 batch: 60 | loss: 0.0007926904363557696\n",
      "Epoch: 8 batch: 70 | loss: 0.0007824543281458318\n",
      "Epoch: 8 batch: 80 | loss: 0.0022431956604123116\n",
      "Epoch: 8 batch: 90 | loss: 0.002830265089869499\n",
      "Epoch: 8 batch: 100 | loss: 0.0038448369596153498\n",
      "Epoch: 8 batch: 110 | loss: 0.003067490179091692\n",
      "Epoch: 8 batch: 120 | loss: 0.0034889020025730133\n",
      "Epoch: 8 batch: 130 | loss: 0.004264598712325096\n",
      "Epoch: 8 batch: 140 | loss: 0.0030875091906636953\n",
      "Epoch: 8 batch: 150 | loss: 0.0011241502361372113\n",
      "Epoch: 8 batch: 160 | loss: 0.0005846957792527974\n",
      "Epoch: 8 batch: 170 | loss: 0.00021831478807143867\n",
      "Epoch: 8 batch: 180 | loss: 0.0003401896683499217\n",
      "Epoch: 8 batch: 190 | loss: 0.0017179904971271753\n",
      "Epoch: 8 batch: 200 | loss: 0.0018049872014671564\n",
      "Epoch: 8 batch: 210 | loss: 0.002033626427873969\n",
      "Epoch: 8 batch: 220 | loss: 0.0019035694422200322\n",
      "Epoch: 8 batch: 230 | loss: 0.003248833818361163\n",
      "Epoch: 8 batch: 240 | loss: 0.0022237817756831646\n",
      "Epoch: 8 batch: 250 | loss: 0.0012449083151295781\n",
      "Epoch: 8 batch: 260 | loss: 0.0014245158527046442\n",
      "Epoch: 8 batch: 270 | loss: 0.0006913181859999895\n",
      "Epoch: 8 batch: 280 | loss: 0.0013209627941250801\n",
      "Epoch: 8 batch: 290 | loss: 0.0012613307917490602\n",
      "Epoch: 8 batch: 300 | loss: 0.002687712898477912\n",
      "Epoch: 8 batch: 310 | loss: 0.0005660853930748999\n",
      "Epoch: 8 batch: 320 | loss: 0.0014666441129520535\n",
      "Epoch: 8 batch: 330 | loss: 0.0022981080692261457\n",
      "Epoch: 8 batch: 340 | loss: 0.0027165140490978956\n",
      "Epoch: 8 batch: 350 | loss: 0.003544783918187022\n",
      "Epoch: 8 batch: 360 | loss: 0.002517106244340539\n",
      "Epoch: 8 batch: 370 | loss: 0.0014309115940704942\n",
      "Epoch: 8 batch: 380 | loss: 0.0005325655220076442\n",
      "Epoch: 8 batch: 390 | loss: 0.001030698767863214\n",
      "Epoch: 8 batch: 400 | loss: 0.0004996202187612653\n",
      "Epoch: 8 batch: 410 | loss: 0.0003049146616831422\n",
      "Epoch: 8 batch: 420 | loss: 0.0003848206833936274\n",
      "Epoch: 8 batch: 430 | loss: 0.0007573550101369619\n",
      "Epoch: 8 batch: 440 | loss: 0.0008462732657790184\n"
     ]
    },
    {
     "name": "stderr",
     "output_type": "stream",
     "text": [
      "65it [00:01, 43.97it/s]\n"
     ]
    },
    {
     "name": "stdout",
     "output_type": "stream",
     "text": [
      "Epoch: 8 valLoss: 0.002416739749430217\n",
      "Epoch: 9 batch: 0 | loss: 0.0013505351962521672\n",
      "Epoch: 9 batch: 10 | loss: 0.0009458190761506557\n",
      "Epoch: 9 batch: 20 | loss: 0.0005437388899736106\n",
      "Epoch: 9 batch: 30 | loss: 0.0008447670843452215\n",
      "Epoch: 9 batch: 40 | loss: 0.000624753360170871\n",
      "Epoch: 9 batch: 50 | loss: 0.0015102954348549247\n",
      "Epoch: 9 batch: 60 | loss: 0.0005813536699861288\n",
      "Epoch: 9 batch: 70 | loss: 0.0005948700127191842\n",
      "Epoch: 9 batch: 80 | loss: 0.0016346490010619164\n",
      "Epoch: 9 batch: 90 | loss: 0.002068107482045889\n",
      "Epoch: 9 batch: 100 | loss: 0.0028994122985750437\n",
      "Epoch: 9 batch: 110 | loss: 0.002201674273237586\n",
      "Epoch: 9 batch: 120 | loss: 0.0026706804055720568\n",
      "Epoch: 9 batch: 130 | loss: 0.0033065397292375565\n",
      "Epoch: 9 batch: 140 | loss: 0.002244638279080391\n",
      "Epoch: 9 batch: 150 | loss: 0.0008164433529600501\n",
      "Epoch: 9 batch: 160 | loss: 0.0004306980990804732\n",
      "Epoch: 9 batch: 170 | loss: 0.0001552128087496385\n",
      "Epoch: 9 batch: 180 | loss: 0.0002481652772985399\n",
      "Epoch: 9 batch: 190 | loss: 0.0012342415284365416\n",
      "Epoch: 9 batch: 200 | loss: 0.0013307504123076797\n",
      "Epoch: 9 batch: 210 | loss: 0.0014730069087818265\n",
      "Epoch: 9 batch: 220 | loss: 0.0013800623128190637\n",
      "Epoch: 9 batch: 230 | loss: 0.0024557728320360184\n",
      "Epoch: 9 batch: 240 | loss: 0.0015834540827199817\n",
      "Epoch: 9 batch: 250 | loss: 0.0009508049697615206\n",
      "Epoch: 9 batch: 260 | loss: 0.0012801021803170443\n",
      "Epoch: 9 batch: 270 | loss: 0.0005140572320669889\n",
      "Epoch: 9 batch: 280 | loss: 0.000999852200038731\n",
      "Epoch: 9 batch: 290 | loss: 0.0008609466603957117\n",
      "Epoch: 9 batch: 300 | loss: 0.0021225002128630877\n",
      "Epoch: 9 batch: 310 | loss: 0.000419072835939005\n",
      "Epoch: 9 batch: 320 | loss: 0.0011081475531682372\n",
      "Epoch: 9 batch: 330 | loss: 0.001599300536327064\n",
      "Epoch: 9 batch: 340 | loss: 0.0018979465821757913\n",
      "Epoch: 9 batch: 350 | loss: 0.002546930219978094\n",
      "Epoch: 9 batch: 360 | loss: 0.0017394496826454997\n",
      "Epoch: 9 batch: 370 | loss: 0.001064741867594421\n",
      "Epoch: 9 batch: 380 | loss: 0.00036360041121952236\n",
      "Epoch: 9 batch: 390 | loss: 0.0006887398776598275\n",
      "Epoch: 9 batch: 400 | loss: 0.00033600282040424645\n",
      "Epoch: 9 batch: 410 | loss: 0.0002100886922562495\n",
      "Epoch: 9 batch: 420 | loss: 0.00029226276092231274\n",
      "Epoch: 9 batch: 430 | loss: 0.000562755623832345\n",
      "Epoch: 9 batch: 440 | loss: 0.0006426776526495814\n"
     ]
    },
    {
     "name": "stderr",
     "output_type": "stream",
     "text": [
      "65it [00:01, 45.64it/s]\n"
     ]
    },
    {
     "name": "stdout",
     "output_type": "stream",
     "text": [
      "Epoch: 9 valLoss: 0.0018034950256433401\n",
      "Testing... 129\n"
     ]
    },
    {
     "name": "stderr",
     "output_type": "stream",
     "text": [
      "129it [00:01, 86.43it/s]"
     ]
    },
    {
     "name": "stdout",
     "output_type": "stream",
     "text": [
      "r2Score:  0.9646050021863019\n",
      "meanSquaredError:  0.0018277136564530637\n",
      "RMSE:  0.04275176787517756\n",
      "meanAbsoluteError:  0.029179116863423102\n"
     ]
    },
    {
     "name": "stderr",
     "output_type": "stream",
     "text": [
      "\n"
     ]
    },
    {
     "data": {
      "image/png": "[encoded data removed]",
      "text/plain": [
       "<Figure size 432x288 with 1 Axes>"
      ]
     },
     "metadata": {
      "needs_background": "light"
     },
     "output_type": "display_data"
    }
   ],
   "source": [
    "import torch\n",
    "from torch.utils.data import DataLoader\n",
    "\n",
    "from config import Config\n",
    "\n",
    "from utils.dataTools import *\n",
    "from utils.models import BiLSTM_Reg,CNNBiLSTM\n",
    "from utils.trainer import RNNtrain,RNNevaluate,CNNBiLstmtrain,CNNBiLstm_evaluate\n",
    "\n",
    "if __name__ == '__main__':\n",
    "    config = Config()\n",
    "\n",
    "    print(\"Data loading...\")\n",
    "    # 序列数据\n",
    "    dataset = mydataReader(\"./dataProcessed/testData.csv\")\n",
    "\n",
    "    # 创建X/Y\n",
    "    # 划分训练集和测试集，70% 作为训练集,10%作为验证集,20%作为测试集\n",
    "    (train_X ,train_Y ), (val_X,val_Y), (test_X ,test_Y )= dataset.split(lookback=config.lookback,trainSet_ratio=0.7,valSet_ratio=0.1)\n",
    "\n",
    "    # 创建Pytorch使用的dataset\n",
    "    trainSet = custom_dataset(train_X,train_Y)\n",
    "    valSet = custom_dataset(val_X,val_Y)\n",
    "    testSet = custom_dataset(test_X,test_Y)\n",
    "\n",
    "    train_loader = DataLoader(trainSet, batch_size = config.batch_size,\n",
    "                              shuffle=False, pin_memory=True, num_workers=4, drop_last=True)\n",
    "    val_loader = DataLoader(valSet, batch_size = config.batch_size,\n",
    "                              shuffle=False, pin_memory=True, num_workers=4, drop_last=False)\n",
    "    test_loader = DataLoader(testSet, batch_size = config.batch_size,\n",
    "                            shuffle=False, pin_memory=True, num_workers=4, drop_last=False)\n",
    "\n",
    "    print(\"Model loading...\")\n",
    "    model = BiLSTM_Reg(1,hidden_size=4,num_layers=1).to(config.device)\n",
    "    criterion = torch.nn.MSELoss()\n",
    "    optimizer = torch.optim.AdamW(model.parameters(),\n",
    "                                 lr=config.learning_rate, weight_decay=config.weight_decay)\n",
    "\n",
    "    print(\"Training...\")\n",
    "    model = RNNtrain(model,\n",
    "                  trainloader=train_loader,\n",
    "                  valloader=val_loader,\n",
    "                  criterion=criterion,\n",
    "                  optimizer=optimizer,\n",
    "                  config=config)\n",
    "\n",
    "    print(\"Testing...\", round(len(testSet)/config.batch_size))\n",
    "    y_pre,y = RNNevaluate(model, test_loader, config)\n"
   ]
  },
  {
   "cell_type": "code",
   "execution_count": 4,
   "metadata": {},
   "outputs": [],
   "source": [
    "pd.DataFrame({'y_true':y,'y_pre':y_pre}).to_csv(\"./result/BiLSTMpre.csv\",index=False)\n"
   ]
  },
  {
   "cell_type": "code",
   "execution_count": 1,
   "metadata": {},
   "outputs": [
    {
     "name": "stdout",
     "output_type": "stream",
     "text": [
      "Data loading...\n"
     ]
    },
    {
     "name": "stderr",
     "output_type": "stream",
     "text": [
      "100%|██████████| 19306/19306 [00:00<00:00, 877390.35it/s]"
     ]
    },
    {
     "name": "stdout",
     "output_type": "stream",
     "text": [
      "测试集大小为3862\n",
      "Model loading...\n"
     ]
    },
    {
     "name": "stderr",
     "output_type": "stream",
     "text": [
      "\n"
     ]
    },
    {
     "name": "stdout",
     "output_type": "stream",
     "text": [
      "Training...\n",
      "torch.Size([30, 1, 10])\n",
      "Epoch: 0 batch: 0 | loss: 0.05971825495362282\n",
      "Epoch: 0 batch: 10 | loss: 0.4856701195240021\n",
      "Epoch: 0 batch: 20 | loss: 0.008249416947364807\n",
      "Epoch: 0 batch: 30 | loss: 0.3555789887905121\n",
      "Epoch: 0 batch: 40 | loss: 0.033816125243902206\n",
      "Epoch: 0 batch: 50 | loss: 0.05954332649707794\n",
      "Epoch: 0 batch: 60 | loss: 0.18440456688404083\n",
      "Epoch: 0 batch: 70 | loss: 0.010550400242209435\n",
      "Epoch: 0 batch: 80 | loss: 0.17919707298278809\n",
      "Epoch: 0 batch: 90 | loss: 0.027140997350215912\n",
      "Epoch: 0 batch: 100 | loss: 0.035722147673368454\n",
      "Epoch: 0 batch: 110 | loss: 0.026083121076226234\n",
      "Epoch: 0 batch: 120 | loss: 0.05620283633470535\n",
      "Epoch: 0 batch: 130 | loss: 0.036196671426296234\n",
      "Epoch: 0 batch: 140 | loss: 0.0172728281468153\n",
      "Epoch: 0 batch: 150 | loss: 0.017467442899942398\n",
      "Epoch: 0 batch: 160 | loss: 0.03107597678899765\n",
      "Epoch: 0 batch: 170 | loss: 0.03543759137392044\n",
      "Epoch: 0 batch: 180 | loss: 0.028504718095064163\n",
      "Epoch: 0 batch: 190 | loss: 0.02478492632508278\n",
      "Epoch: 0 batch: 200 | loss: 0.01716088317334652\n",
      "Epoch: 0 batch: 210 | loss: 0.0307504590600729\n",
      "Epoch: 0 batch: 220 | loss: 0.05636133998632431\n",
      "Epoch: 0 batch: 230 | loss: 0.03442743793129921\n",
      "Epoch: 0 batch: 240 | loss: 0.05808054283261299\n",
      "Epoch: 0 batch: 250 | loss: 0.08306262642145157\n",
      "Epoch: 0 batch: 260 | loss: 0.10928208380937576\n",
      "Epoch: 0 batch: 270 | loss: 0.07462701946496964\n",
      "Epoch: 0 batch: 280 | loss: 0.01863311417400837\n",
      "Epoch: 0 batch: 290 | loss: 0.011570164002478123\n",
      "Epoch: 0 batch: 300 | loss: 0.08124677836894989\n",
      "Epoch: 0 batch: 310 | loss: 0.07066331058740616\n",
      "Epoch: 0 batch: 320 | loss: 0.10043646395206451\n",
      "Epoch: 0 batch: 330 | loss: 0.06064755097031593\n",
      "Epoch: 0 batch: 340 | loss: 0.037298042327165604\n",
      "Epoch: 0 batch: 350 | loss: 0.028369460254907608\n",
      "Epoch: 0 batch: 360 | loss: 0.026846086606383324\n",
      "Epoch: 0 batch: 370 | loss: 0.06319155544042587\n",
      "Epoch: 0 batch: 380 | loss: 0.04733739793300629\n",
      "Epoch: 0 batch: 390 | loss: 0.020207656547427177\n",
      "Epoch: 0 batch: 400 | loss: 0.00793551467359066\n",
      "Epoch: 0 batch: 410 | loss: 0.01619977317750454\n",
      "Epoch: 0 batch: 420 | loss: 0.06288058310747147\n",
      "Epoch: 0 batch: 430 | loss: 0.0661226287484169\n",
      "Epoch: 0 batch: 440 | loss: 0.08775892108678818\n"
     ]
    },
    {
     "name": "stderr",
     "output_type": "stream",
     "text": [
      "59it [00:01, 60.08it/s]"
     ]
    },
    {
     "name": "stdout",
     "output_type": "stream",
     "text": [
      "torch.Size([30, 1, 10])\n"
     ]
    },
    {
     "name": "stderr",
     "output_type": "stream",
     "text": [
      "65it [00:01, 41.81it/s]\n"
     ]
    },
    {
     "name": "stdout",
     "output_type": "stream",
     "text": [
      "Epoch: 0 valLoss: 0.05462353663275835\n",
      "torch.Size([30, 1, 10])\n",
      "Epoch: 1 batch: 0 | loss: 0.06985025852918625\n",
      "Epoch: 1 batch: 10 | loss: 0.05057549849152565\n",
      "Epoch: 1 batch: 20 | loss: 0.09023846685886383\n",
      "Epoch: 1 batch: 30 | loss: 0.04646296799182892\n",
      "Epoch: 1 batch: 40 | loss: 0.024618232622742653\n",
      "Epoch: 1 batch: 50 | loss: 0.01662636175751686\n",
      "Epoch: 1 batch: 60 | loss: 0.03171193599700928\n",
      "Epoch: 1 batch: 70 | loss: 0.06503349542617798\n",
      "Epoch: 1 batch: 80 | loss: 0.05101297050714493\n",
      "Epoch: 1 batch: 90 | loss: 0.022390855476260185\n",
      "Epoch: 1 batch: 100 | loss: 0.02864123322069645\n",
      "Epoch: 1 batch: 110 | loss: 0.020086269825696945\n",
      "Epoch: 1 batch: 120 | loss: 0.04254387319087982\n",
      "Epoch: 1 batch: 130 | loss: 0.023077724501490593\n",
      "Epoch: 1 batch: 140 | loss: 0.00910029374063015\n",
      "Epoch: 1 batch: 150 | loss: 0.006117969285696745\n",
      "Epoch: 1 batch: 160 | loss: 0.01725545898079872\n",
      "Epoch: 1 batch: 170 | loss: 0.016020899638533592\n",
      "Epoch: 1 batch: 180 | loss: 0.018942706286907196\n",
      "Epoch: 1 batch: 190 | loss: 0.010702010244131088\n",
      "Epoch: 1 batch: 200 | loss: 0.004500661510974169\n",
      "Epoch: 1 batch: 210 | loss: 0.012103068642318249\n",
      "Epoch: 1 batch: 220 | loss: 0.008590447716414928\n",
      "Epoch: 1 batch: 230 | loss: 0.0088419821113348\n",
      "Epoch: 1 batch: 240 | loss: 0.009869865141808987\n",
      "Epoch: 1 batch: 250 | loss: 0.008051853626966476\n",
      "Epoch: 1 batch: 260 | loss: 0.013106497004628181\n",
      "Epoch: 1 batch: 270 | loss: 0.005807385314255953\n",
      "Epoch: 1 batch: 280 | loss: 0.00809481367468834\n",
      "Epoch: 1 batch: 290 | loss: 0.004169436637312174\n",
      "Epoch: 1 batch: 300 | loss: 0.009421954862773418\n",
      "Epoch: 1 batch: 310 | loss: 0.007039961405098438\n",
      "Epoch: 1 batch: 320 | loss: 0.013126838952302933\n",
      "Epoch: 1 batch: 330 | loss: 0.009838889352977276\n",
      "Epoch: 1 batch: 340 | loss: 0.007039605639874935\n",
      "Epoch: 1 batch: 350 | loss: 0.008905543945729733\n",
      "Epoch: 1 batch: 360 | loss: 0.005821318831294775\n",
      "Epoch: 1 batch: 370 | loss: 0.0032542808912694454\n",
      "Epoch: 1 batch: 380 | loss: 0.0037714880891144276\n",
      "Epoch: 1 batch: 390 | loss: 0.004179077688604593\n",
      "Epoch: 1 batch: 400 | loss: 0.002465039025992155\n",
      "Epoch: 1 batch: 410 | loss: 0.002069443231448531\n",
      "Epoch: 1 batch: 420 | loss: 0.004174669738858938\n",
      "Epoch: 1 batch: 430 | loss: 0.004401250742375851\n",
      "Epoch: 1 batch: 440 | loss: 0.008616729639470577\n"
     ]
    },
    {
     "name": "stderr",
     "output_type": "stream",
     "text": [
      "52it [00:01, 55.76it/s]"
     ]
    },
    {
     "name": "stdout",
     "output_type": "stream",
     "text": [
      "torch.Size([30, 1, 10])\n"
     ]
    },
    {
     "name": "stderr",
     "output_type": "stream",
     "text": [
      "65it [00:01, 42.71it/s]\n"
     ]
    },
    {
     "name": "stdout",
     "output_type": "stream",
     "text": [
      "Epoch: 1 valLoss: 0.005589459501529317\n",
      "torch.Size([30, 1, 10])\n",
      "Epoch: 2 batch: 0 | loss: 0.005612628068774939\n",
      "Epoch: 2 batch: 10 | loss: 0.003762397915124893\n",
      "Epoch: 2 batch: 20 | loss: 0.0033720287028700113\n",
      "Epoch: 2 batch: 30 | loss: 0.003885391168296337\n",
      "Epoch: 2 batch: 40 | loss: 0.0028479089960455894\n",
      "Epoch: 2 batch: 50 | loss: 0.004906745627522469\n",
      "Epoch: 2 batch: 60 | loss: 0.003815971314907074\n",
      "Epoch: 2 batch: 70 | loss: 0.0039053901564329863\n",
      "Epoch: 2 batch: 80 | loss: 0.005821527447551489\n",
      "Epoch: 2 batch: 90 | loss: 0.004515666980296373\n",
      "Epoch: 2 batch: 100 | loss: 0.00734122097492218\n",
      "Epoch: 2 batch: 110 | loss: 0.007835695520043373\n",
      "Epoch: 2 batch: 120 | loss: 0.008613348007202148\n",
      "Epoch: 2 batch: 130 | loss: 0.011328520253300667\n",
      "Epoch: 2 batch: 140 | loss: 0.008161832578480244\n",
      "Epoch: 2 batch: 150 | loss: 0.004069624934345484\n",
      "Epoch: 2 batch: 160 | loss: 0.0030933627858757973\n",
      "Epoch: 2 batch: 170 | loss: 0.001347533892840147\n",
      "Epoch: 2 batch: 180 | loss: 0.003128691576421261\n",
      "Epoch: 2 batch: 190 | loss: 0.003751747775822878\n",
      "Epoch: 2 batch: 200 | loss: 0.0048554134555161\n",
      "Epoch: 2 batch: 210 | loss: 0.0014548995532095432\n",
      "Epoch: 2 batch: 220 | loss: 0.006177511997520924\n",
      "Epoch: 2 batch: 230 | loss: 0.0057504805736243725\n",
      "Epoch: 2 batch: 240 | loss: 0.00675202114507556\n",
      "Epoch: 2 batch: 250 | loss: 0.003384766634553671\n",
      "Epoch: 2 batch: 260 | loss: 0.004493857733905315\n",
      "Epoch: 2 batch: 270 | loss: 0.001798173296265304\n",
      "Epoch: 2 batch: 280 | loss: 0.005288523156195879\n",
      "Epoch: 2 batch: 290 | loss: 0.005244025960564613\n",
      "Epoch: 2 batch: 300 | loss: 0.004930895287543535\n",
      "Epoch: 2 batch: 310 | loss: 0.002011992735788226\n",
      "Epoch: 2 batch: 320 | loss: 0.0051097325049340725\n",
      "Epoch: 2 batch: 330 | loss: 0.003849256783723831\n",
      "Epoch: 2 batch: 340 | loss: 0.005569611210376024\n",
      "Epoch: 2 batch: 350 | loss: 0.010074677877128124\n",
      "Epoch: 2 batch: 360 | loss: 0.007127887569367886\n",
      "Epoch: 2 batch: 370 | loss: 0.005786439869552851\n",
      "Epoch: 2 batch: 380 | loss: 0.0044770436361432076\n",
      "Epoch: 2 batch: 390 | loss: 0.002776551991701126\n",
      "Epoch: 2 batch: 400 | loss: 0.002825895557180047\n",
      "Epoch: 2 batch: 410 | loss: 0.0020338664762675762\n",
      "Epoch: 2 batch: 420 | loss: 0.0031234344933182\n",
      "Epoch: 2 batch: 430 | loss: 0.003275875700637698\n",
      "Epoch: 2 batch: 440 | loss: 0.004528871737420559\n"
     ]
    },
    {
     "name": "stderr",
     "output_type": "stream",
     "text": [
      "20it [00:01, 20.92it/s]"
     ]
    },
    {
     "name": "stdout",
     "output_type": "stream",
     "text": [
      "torch.Size([30, 1, 10])\n"
     ]
    },
    {
     "name": "stderr",
     "output_type": "stream",
     "text": [
      "65it [00:01, 40.95it/s]\n"
     ]
    },
    {
     "name": "stdout",
     "output_type": "stream",
     "text": [
      "Epoch: 2 valLoss: 0.004798692912958878\n",
      "torch.Size([30, 1, 10])\n",
      "Epoch: 3 batch: 0 | loss: 0.003474054392427206\n",
      "Epoch: 3 batch: 10 | loss: 0.004334541503340006\n",
      "Epoch: 3 batch: 20 | loss: 0.001147399889305234\n",
      "Epoch: 3 batch: 30 | loss: 0.0020397892221808434\n",
      "Epoch: 3 batch: 40 | loss: 0.002645681379362941\n",
      "Epoch: 3 batch: 50 | loss: 0.0034270549658685923\n",
      "Epoch: 3 batch: 60 | loss: 0.0033305869437754154\n",
      "Epoch: 3 batch: 70 | loss: 0.0017282351618632674\n",
      "Epoch: 3 batch: 80 | loss: 0.0030031136702746153\n",
      "Epoch: 3 batch: 90 | loss: 0.009396175853908062\n",
      "Epoch: 3 batch: 100 | loss: 0.006603499408811331\n",
      "Epoch: 3 batch: 110 | loss: 0.0046264841221272945\n",
      "Epoch: 3 batch: 120 | loss: 0.009049487300217152\n",
      "Epoch: 3 batch: 130 | loss: 0.008086281828582287\n",
      "Epoch: 3 batch: 140 | loss: 0.0057987309992313385\n",
      "Epoch: 3 batch: 150 | loss: 0.004054517950862646\n",
      "Epoch: 3 batch: 160 | loss: 0.003205937333405018\n",
      "Epoch: 3 batch: 170 | loss: 0.0012185010127723217\n",
      "Epoch: 3 batch: 180 | loss: 0.0010741377482190728\n",
      "Epoch: 3 batch: 190 | loss: 0.0016579139046370983\n",
      "Epoch: 3 batch: 200 | loss: 0.003884705947712064\n",
      "Epoch: 3 batch: 210 | loss: 0.0024687612894922495\n",
      "Epoch: 3 batch: 220 | loss: 0.004152600187808275\n",
      "Epoch: 3 batch: 230 | loss: 0.0033435276709496975\n",
      "Epoch: 3 batch: 240 | loss: 0.009814717806875706\n",
      "Epoch: 3 batch: 250 | loss: 0.0034848125651478767\n",
      "Epoch: 3 batch: 260 | loss: 0.004296150989830494\n",
      "Epoch: 3 batch: 270 | loss: 0.0010875747539103031\n",
      "Epoch: 3 batch: 280 | loss: 0.0023795964661985636\n",
      "Epoch: 3 batch: 290 | loss: 0.002969905501231551\n",
      "Epoch: 3 batch: 300 | loss: 0.00569511903449893\n",
      "Epoch: 3 batch: 310 | loss: 0.0033876863308250904\n",
      "Epoch: 3 batch: 320 | loss: 0.004203746095299721\n",
      "Epoch: 3 batch: 330 | loss: 0.0020151925273239613\n",
      "Epoch: 3 batch: 340 | loss: 0.005255571100860834\n",
      "Epoch: 3 batch: 350 | loss: 0.006093594711273909\n",
      "Epoch: 3 batch: 360 | loss: 0.006396148819476366\n",
      "Epoch: 3 batch: 370 | loss: 0.003985022660344839\n",
      "Epoch: 3 batch: 380 | loss: 0.002403863240033388\n",
      "Epoch: 3 batch: 390 | loss: 0.0030174520798027515\n",
      "Epoch: 3 batch: 400 | loss: 0.0021366875153034925\n",
      "Epoch: 3 batch: 410 | loss: 0.0010508651612326503\n",
      "Epoch: 3 batch: 420 | loss: 0.0024365424178540707\n",
      "Epoch: 3 batch: 430 | loss: 0.002512690844014287\n",
      "Epoch: 3 batch: 440 | loss: 0.0019105698447674513\n"
     ]
    },
    {
     "name": "stderr",
     "output_type": "stream",
     "text": [
      "18it [00:01, 19.43it/s]"
     ]
    },
    {
     "name": "stdout",
     "output_type": "stream",
     "text": [
      "torch.Size([30, 1, 10])\n"
     ]
    },
    {
     "name": "stderr",
     "output_type": "stream",
     "text": [
      "65it [00:01, 42.06it/s]\n"
     ]
    },
    {
     "name": "stdout",
     "output_type": "stream",
     "text": [
      "Epoch: 3 valLoss: 0.004147462272862317\n",
      "torch.Size([30, 1, 10])\n",
      "Epoch: 4 batch: 0 | loss: 0.0035445154644548893\n",
      "Epoch: 4 batch: 10 | loss: 0.0039694360457360744\n",
      "Epoch: 4 batch: 20 | loss: 0.001021208125166595\n",
      "Epoch: 4 batch: 30 | loss: 0.0037929394748061895\n",
      "Epoch: 4 batch: 40 | loss: 0.0016189048765227199\n",
      "Epoch: 4 batch: 50 | loss: 0.0020082893315702677\n",
      "Epoch: 4 batch: 60 | loss: 0.0016928918194025755\n",
      "Epoch: 4 batch: 70 | loss: 0.0012024500174447894\n",
      "Epoch: 4 batch: 80 | loss: 0.0024925628677010536\n",
      "Epoch: 4 batch: 90 | loss: 0.004702792968600988\n",
      "Epoch: 4 batch: 100 | loss: 0.005054904613643885\n",
      "Epoch: 4 batch: 110 | loss: 0.005135618150234222\n",
      "Epoch: 4 batch: 120 | loss: 0.007451955229043961\n",
      "Epoch: 4 batch: 130 | loss: 0.007466230075806379\n",
      "Epoch: 4 batch: 140 | loss: 0.0050032371655106544\n",
      "Epoch: 4 batch: 150 | loss: 0.003374154679477215\n",
      "Epoch: 4 batch: 160 | loss: 0.0020187152549624443\n",
      "Epoch: 4 batch: 170 | loss: 0.0021452424116432667\n",
      "Epoch: 4 batch: 180 | loss: 0.001561543671414256\n",
      "Epoch: 4 batch: 190 | loss: 0.0020526063162833452\n",
      "Epoch: 4 batch: 200 | loss: 0.003966601565480232\n",
      "Epoch: 4 batch: 210 | loss: 0.0015299990773200989\n",
      "Epoch: 4 batch: 220 | loss: 0.004196178168058395\n",
      "Epoch: 4 batch: 230 | loss: 0.002898500533774495\n",
      "Epoch: 4 batch: 240 | loss: 0.005601527635008097\n",
      "Epoch: 4 batch: 250 | loss: 0.0026109954342246056\n",
      "Epoch: 4 batch: 260 | loss: 0.0023639281280338764\n",
      "Epoch: 4 batch: 270 | loss: 0.0008159786812029779\n",
      "Epoch: 4 batch: 280 | loss: 0.001853067078627646\n",
      "Epoch: 4 batch: 290 | loss: 0.0025172587484121323\n",
      "Epoch: 4 batch: 300 | loss: 0.0025632178876549006\n",
      "Epoch: 4 batch: 310 | loss: 0.0028292841743677855\n",
      "Epoch: 4 batch: 320 | loss: 0.0026877832133322954\n",
      "Epoch: 4 batch: 330 | loss: 0.0018370464676991105\n",
      "Epoch: 4 batch: 340 | loss: 0.004605904687196016\n",
      "Epoch: 4 batch: 350 | loss: 0.0046620676293969154\n",
      "Epoch: 4 batch: 360 | loss: 0.0059253983199596405\n",
      "Epoch: 4 batch: 370 | loss: 0.003424872877076268\n",
      "Epoch: 4 batch: 380 | loss: 0.0021583528723567724\n",
      "Epoch: 4 batch: 390 | loss: 0.002174947177991271\n",
      "Epoch: 4 batch: 400 | loss: 0.0022759914863854647\n",
      "Epoch: 4 batch: 410 | loss: 0.0012440911959856749\n",
      "Epoch: 4 batch: 420 | loss: 0.0023032347671687603\n",
      "Epoch: 4 batch: 430 | loss: 0.0018381539266556501\n",
      "Epoch: 4 batch: 440 | loss: 0.002537015825510025\n"
     ]
    },
    {
     "name": "stderr",
     "output_type": "stream",
     "text": [
      "35it [00:01, 37.31it/s]"
     ]
    },
    {
     "name": "stdout",
     "output_type": "stream",
     "text": [
      "torch.Size([30, 1, 10])\n"
     ]
    },
    {
     "name": "stderr",
     "output_type": "stream",
     "text": [
      "65it [00:01, 42.26it/s]\n"
     ]
    },
    {
     "name": "stdout",
     "output_type": "stream",
     "text": [
      "Epoch: 4 valLoss: 0.0035569687829789674\n",
      "torch.Size([30, 1, 10])\n",
      "Epoch: 5 batch: 0 | loss: 0.002143176505342126\n",
      "Epoch: 5 batch: 10 | loss: 0.004529849626123905\n",
      "Epoch: 5 batch: 20 | loss: 0.0009057497372850776\n",
      "Epoch: 5 batch: 30 | loss: 0.002456196118146181\n",
      "Epoch: 5 batch: 40 | loss: 0.0011230215895920992\n",
      "Epoch: 5 batch: 50 | loss: 0.0024558769073337317\n",
      "Epoch: 5 batch: 60 | loss: 0.002258153399452567\n",
      "Epoch: 5 batch: 70 | loss: 0.0012012735242024064\n",
      "Epoch: 5 batch: 80 | loss: 0.004354933276772499\n",
      "Epoch: 5 batch: 90 | loss: 0.003921739757061005\n",
      "Epoch: 5 batch: 100 | loss: 0.003365499898791313\n",
      "Epoch: 5 batch: 110 | loss: 0.005280311219394207\n",
      "Epoch: 5 batch: 120 | loss: 0.0059799375012516975\n",
      "Epoch: 5 batch: 130 | loss: 0.0045518637634813786\n",
      "Epoch: 5 batch: 140 | loss: 0.004426212515681982\n",
      "Epoch: 5 batch: 150 | loss: 0.004107525572180748\n",
      "Epoch: 5 batch: 160 | loss: 0.0018210209673270583\n",
      "Epoch: 5 batch: 170 | loss: 0.0019151833839714527\n",
      "Epoch: 5 batch: 180 | loss: 0.0009068195358850062\n",
      "Epoch: 5 batch: 190 | loss: 0.0018671326106414199\n",
      "Epoch: 5 batch: 200 | loss: 0.0034291690681129694\n",
      "Epoch: 5 batch: 210 | loss: 0.0026949779130518436\n",
      "Epoch: 5 batch: 220 | loss: 0.00506636081263423\n",
      "Epoch: 5 batch: 230 | loss: 0.003828017506748438\n",
      "Epoch: 5 batch: 240 | loss: 0.005206429399549961\n",
      "Epoch: 5 batch: 250 | loss: 0.0020671349484473467\n",
      "Epoch: 5 batch: 260 | loss: 0.003796009346842766\n",
      "Epoch: 5 batch: 270 | loss: 0.0010872135171666741\n",
      "Epoch: 5 batch: 280 | loss: 0.0017016599886119366\n",
      "Epoch: 5 batch: 290 | loss: 0.0021280525252223015\n",
      "Epoch: 5 batch: 300 | loss: 0.002703477628529072\n",
      "Epoch: 5 batch: 310 | loss: 0.0021731106098741293\n",
      "Epoch: 5 batch: 320 | loss: 0.0021183721255511045\n",
      "Epoch: 5 batch: 330 | loss: 0.001842376310378313\n",
      "Epoch: 5 batch: 340 | loss: 0.0033955485559999943\n",
      "Epoch: 5 batch: 350 | loss: 0.005482536740601063\n",
      "Epoch: 5 batch: 360 | loss: 0.005385194905102253\n",
      "Epoch: 5 batch: 370 | loss: 0.003218362806364894\n",
      "Epoch: 5 batch: 380 | loss: 0.002871624194085598\n",
      "Epoch: 5 batch: 390 | loss: 0.001390224788337946\n",
      "Epoch: 5 batch: 400 | loss: 0.0012786434963345528\n",
      "Epoch: 5 batch: 410 | loss: 0.0007352530374191701\n",
      "Epoch: 5 batch: 420 | loss: 0.001413683407008648\n",
      "Epoch: 5 batch: 430 | loss: 0.0021688814740628004\n",
      "Epoch: 5 batch: 440 | loss: 0.0016098420601338148\n"
     ]
    },
    {
     "name": "stderr",
     "output_type": "stream",
     "text": [
      "19it [00:01, 20.48it/s]"
     ]
    },
    {
     "name": "stdout",
     "output_type": "stream",
     "text": [
      "torch.Size([30, 1, 10])\n"
     ]
    },
    {
     "name": "stderr",
     "output_type": "stream",
     "text": [
      "65it [00:01, 41.95it/s]\n"
     ]
    },
    {
     "name": "stdout",
     "output_type": "stream",
     "text": [
      "Epoch: 5 valLoss: 0.0032284611745050126\n",
      "torch.Size([30, 1, 10])\n",
      "Epoch: 6 batch: 0 | loss: 0.0023430967703461647\n",
      "Epoch: 6 batch: 10 | loss: 0.004447336308658123\n",
      "Epoch: 6 batch: 20 | loss: 0.0004434212460182607\n",
      "Epoch: 6 batch: 30 | loss: 0.002636650111526251\n",
      "Epoch: 6 batch: 40 | loss: 0.002039722865447402\n",
      "Epoch: 6 batch: 50 | loss: 0.002818427514284849\n",
      "Epoch: 6 batch: 60 | loss: 0.002263092203065753\n",
      "Epoch: 6 batch: 70 | loss: 0.0008557742112316191\n",
      "Epoch: 6 batch: 80 | loss: 0.003202853025868535\n",
      "Epoch: 6 batch: 90 | loss: 0.004277425352483988\n",
      "Epoch: 6 batch: 100 | loss: 0.005248683970421553\n",
      "Epoch: 6 batch: 110 | loss: 0.0025202136021107435\n",
      "Epoch: 6 batch: 120 | loss: 0.004344078712165356\n",
      "Epoch: 6 batch: 130 | loss: 0.0055364384315907955\n",
      "Epoch: 6 batch: 140 | loss: 0.004042692482471466\n",
      "Epoch: 6 batch: 150 | loss: 0.0018723987741395831\n",
      "Epoch: 6 batch: 160 | loss: 0.0014016226632520556\n",
      "Epoch: 6 batch: 170 | loss: 0.0014516761293634772\n",
      "Epoch: 6 batch: 180 | loss: 0.0007014713482931256\n",
      "Epoch: 6 batch: 190 | loss: 0.0007259343401528895\n",
      "Epoch: 6 batch: 200 | loss: 0.0021312725730240345\n",
      "Epoch: 6 batch: 210 | loss: 0.0009873069357126951\n",
      "Epoch: 6 batch: 220 | loss: 0.003604083089157939\n",
      "Epoch: 6 batch: 230 | loss: 0.002868444425985217\n",
      "Epoch: 6 batch: 240 | loss: 0.0036548173520714045\n",
      "Epoch: 6 batch: 250 | loss: 0.0013440673938021064\n",
      "Epoch: 6 batch: 260 | loss: 0.0030634505674242973\n",
      "Epoch: 6 batch: 270 | loss: 0.000769376871176064\n",
      "Epoch: 6 batch: 280 | loss: 0.002051174407824874\n",
      "Epoch: 6 batch: 290 | loss: 0.002259590895846486\n",
      "Epoch: 6 batch: 300 | loss: 0.0020041093230247498\n",
      "Epoch: 6 batch: 310 | loss: 0.003568407613784075\n",
      "Epoch: 6 batch: 320 | loss: 0.0021140610333532095\n",
      "Epoch: 6 batch: 330 | loss: 0.0017315911827608943\n",
      "Epoch: 6 batch: 340 | loss: 0.0030568973161280155\n",
      "Epoch: 6 batch: 350 | loss: 0.0037815822288393974\n",
      "Epoch: 6 batch: 360 | loss: 0.0044703357852995396\n",
      "Epoch: 6 batch: 370 | loss: 0.0024635600857436657\n",
      "Epoch: 6 batch: 380 | loss: 0.0020913679618388414\n",
      "Epoch: 6 batch: 390 | loss: 0.0016327465418726206\n",
      "Epoch: 6 batch: 400 | loss: 0.0011916731018573046\n",
      "Epoch: 6 batch: 410 | loss: 0.0003700816596392542\n",
      "Epoch: 6 batch: 420 | loss: 0.001496963668614626\n",
      "Epoch: 6 batch: 430 | loss: 0.002225524978712201\n",
      "Epoch: 6 batch: 440 | loss: 0.0016080259811133146\n"
     ]
    },
    {
     "name": "stderr",
     "output_type": "stream",
     "text": [
      "29it [00:01, 30.98it/s]"
     ]
    },
    {
     "name": "stdout",
     "output_type": "stream",
     "text": [
      "torch.Size([30, 1, 10])\n"
     ]
    },
    {
     "name": "stderr",
     "output_type": "stream",
     "text": [
      "65it [00:01, 41.52it/s]\n"
     ]
    },
    {
     "name": "stdout",
     "output_type": "stream",
     "text": [
      "Epoch: 6 valLoss: 0.0025694858544625227\n",
      "torch.Size([30, 1, 10])\n",
      "Epoch: 7 batch: 0 | loss: 0.002099247183650732\n",
      "Epoch: 7 batch: 10 | loss: 0.0025225405115634203\n",
      "Epoch: 7 batch: 20 | loss: 0.0006324236746877432\n",
      "Epoch: 7 batch: 30 | loss: 0.0012419831473380327\n",
      "Epoch: 7 batch: 40 | loss: 0.0006441111327148974\n",
      "Epoch: 7 batch: 50 | loss: 0.0014327061362564564\n",
      "Epoch: 7 batch: 60 | loss: 0.0022330922074615955\n",
      "Epoch: 7 batch: 70 | loss: 0.0014265525387600064\n",
      "Epoch: 7 batch: 80 | loss: 0.002152560045942664\n",
      "Epoch: 7 batch: 90 | loss: 0.001799252931959927\n",
      "Epoch: 7 batch: 100 | loss: 0.003135611303150654\n",
      "Epoch: 7 batch: 110 | loss: 0.002317950362339616\n",
      "Epoch: 7 batch: 120 | loss: 0.004701418802142143\n",
      "Epoch: 7 batch: 130 | loss: 0.004644079599529505\n",
      "Epoch: 7 batch: 140 | loss: 0.003434962360188365\n",
      "Epoch: 7 batch: 150 | loss: 0.0016775241820141673\n",
      "Epoch: 7 batch: 160 | loss: 0.000650668574962765\n",
      "Epoch: 7 batch: 170 | loss: 0.0018492686795070767\n",
      "Epoch: 7 batch: 180 | loss: 0.0005905303405597806\n",
      "Epoch: 7 batch: 190 | loss: 0.0012535637943074107\n",
      "Epoch: 7 batch: 200 | loss: 0.0016391968820244074\n",
      "Epoch: 7 batch: 210 | loss: 0.0009337793453596532\n",
      "Epoch: 7 batch: 220 | loss: 0.002394652459770441\n",
      "Epoch: 7 batch: 230 | loss: 0.0028213129844516516\n",
      "Epoch: 7 batch: 240 | loss: 0.0039732372388243675\n",
      "Epoch: 7 batch: 250 | loss: 0.0021218187175691128\n",
      "Epoch: 7 batch: 260 | loss: 0.003978285938501358\n",
      "Epoch: 7 batch: 270 | loss: 0.0007036273600533605\n",
      "Epoch: 7 batch: 280 | loss: 0.001412254641763866\n",
      "Epoch: 7 batch: 290 | loss: 0.001104710390791297\n",
      "Epoch: 7 batch: 300 | loss: 0.0019051269628107548\n",
      "Epoch: 7 batch: 310 | loss: 0.001780786900781095\n",
      "Epoch: 7 batch: 320 | loss: 0.0012952229008078575\n",
      "Epoch: 7 batch: 330 | loss: 0.0023974748328328133\n",
      "Epoch: 7 batch: 340 | loss: 0.0019527145195752382\n",
      "Epoch: 7 batch: 350 | loss: 0.00289239757694304\n",
      "Epoch: 7 batch: 360 | loss: 0.0018219019984826446\n",
      "Epoch: 7 batch: 370 | loss: 0.0017784020164981484\n",
      "Epoch: 7 batch: 380 | loss: 0.002185401739552617\n",
      "Epoch: 7 batch: 390 | loss: 0.0008032817277126014\n",
      "Epoch: 7 batch: 400 | loss: 0.0007045512902550399\n",
      "Epoch: 7 batch: 410 | loss: 0.0005115646054036915\n",
      "Epoch: 7 batch: 420 | loss: 0.002128005027770996\n",
      "Epoch: 7 batch: 430 | loss: 0.001726465648971498\n",
      "Epoch: 7 batch: 440 | loss: 0.0018056952394545078\n"
     ]
    },
    {
     "name": "stderr",
     "output_type": "stream",
     "text": [
      "52it [00:01, 55.05it/s]"
     ]
    },
    {
     "name": "stdout",
     "output_type": "stream",
     "text": [
      "torch.Size([30, 1, 10])\n"
     ]
    },
    {
     "name": "stderr",
     "output_type": "stream",
     "text": [
      "65it [00:01, 42.22it/s]\n"
     ]
    },
    {
     "name": "stdout",
     "output_type": "stream",
     "text": [
      "Epoch: 7 valLoss: 0.0022444521258303944\n",
      "torch.Size([30, 1, 10])\n",
      "Epoch: 8 batch: 0 | loss: 0.0014962374698370695\n",
      "Epoch: 8 batch: 10 | loss: 0.0017126211896538734\n",
      "Epoch: 8 batch: 20 | loss: 0.0005490572657436132\n",
      "Epoch: 8 batch: 30 | loss: 0.0011892362963408232\n",
      "Epoch: 8 batch: 40 | loss: 0.000783283612690866\n",
      "Epoch: 8 batch: 50 | loss: 0.0014134468510746956\n",
      "Epoch: 8 batch: 60 | loss: 0.0011807340197265148\n",
      "Epoch: 8 batch: 70 | loss: 0.0010065403766930103\n",
      "Epoch: 8 batch: 80 | loss: 0.0015412040520459414\n",
      "Epoch: 8 batch: 90 | loss: 0.0023038771469146013\n",
      "Epoch: 8 batch: 100 | loss: 0.0028829816728830338\n",
      "Epoch: 8 batch: 110 | loss: 0.0020037787035107613\n",
      "Epoch: 8 batch: 120 | loss: 0.004129144828766584\n",
      "Epoch: 8 batch: 130 | loss: 0.0038724986370652914\n",
      "Epoch: 8 batch: 140 | loss: 0.002681838581338525\n",
      "Epoch: 8 batch: 150 | loss: 0.0018119694432243705\n",
      "Epoch: 8 batch: 160 | loss: 0.0003801541170105338\n",
      "Epoch: 8 batch: 170 | loss: 0.0013932468136772513\n",
      "Epoch: 8 batch: 180 | loss: 0.0008943987777456641\n",
      "Epoch: 8 batch: 190 | loss: 0.0012537735747173429\n",
      "Epoch: 8 batch: 200 | loss: 0.0016500200144946575\n",
      "Epoch: 8 batch: 210 | loss: 0.0012014199746772647\n",
      "Epoch: 8 batch: 220 | loss: 0.0024879651609808207\n",
      "Epoch: 8 batch: 230 | loss: 0.0023245688062161207\n",
      "Epoch: 8 batch: 240 | loss: 0.003572389716282487\n",
      "Epoch: 8 batch: 250 | loss: 0.002021468011662364\n",
      "Epoch: 8 batch: 260 | loss: 0.0032406896352767944\n",
      "Epoch: 8 batch: 270 | loss: 0.0006259738584049046\n",
      "Epoch: 8 batch: 280 | loss: 0.0012065062765032053\n",
      "Epoch: 8 batch: 290 | loss: 0.00157574110198766\n",
      "Epoch: 8 batch: 300 | loss: 0.001930958591401577\n",
      "Epoch: 8 batch: 310 | loss: 0.0018103222828358412\n",
      "Epoch: 8 batch: 320 | loss: 0.001554948277771473\n",
      "Epoch: 8 batch: 330 | loss: 0.0028590159490704536\n",
      "Epoch: 8 batch: 340 | loss: 0.0017544408328831196\n",
      "Epoch: 8 batch: 350 | loss: 0.002753817941993475\n",
      "Epoch: 8 batch: 360 | loss: 0.0018914338434115052\n",
      "Epoch: 8 batch: 370 | loss: 0.0017395112663507462\n",
      "Epoch: 8 batch: 380 | loss: 0.0014711911790072918\n",
      "Epoch: 8 batch: 390 | loss: 0.0006841582944616675\n",
      "Epoch: 8 batch: 400 | loss: 0.000594030658248812\n",
      "Epoch: 8 batch: 410 | loss: 0.00029629835626110435\n",
      "Epoch: 8 batch: 420 | loss: 0.0011383516248315573\n",
      "Epoch: 8 batch: 430 | loss: 0.0016902991337701678\n",
      "Epoch: 8 batch: 440 | loss: 0.0013963314704596996\n"
     ]
    },
    {
     "name": "stderr",
     "output_type": "stream",
     "text": [
      "18it [00:01, 20.48it/s]"
     ]
    },
    {
     "name": "stdout",
     "output_type": "stream",
     "text": [
      "torch.Size([30, 1, 10])\n"
     ]
    },
    {
     "name": "stderr",
     "output_type": "stream",
     "text": [
      "65it [00:01, 43.52it/s]\n"
     ]
    },
    {
     "name": "stdout",
     "output_type": "stream",
     "text": [
      "Epoch: 8 valLoss: 0.0017704731559879607\n",
      "torch.Size([30, 1, 10])\n",
      "Epoch: 9 batch: 0 | loss: 0.001244263956323266\n",
      "Epoch: 9 batch: 10 | loss: 0.0016220510005950928\n",
      "Epoch: 9 batch: 20 | loss: 0.000718663795851171\n",
      "Epoch: 9 batch: 30 | loss: 0.0012411349453032017\n",
      "Epoch: 9 batch: 40 | loss: 0.0005459547974169254\n",
      "Epoch: 9 batch: 50 | loss: 0.0012332176556810737\n",
      "Epoch: 9 batch: 60 | loss: 0.0013736860128119588\n",
      "Epoch: 9 batch: 70 | loss: 0.0007902489742264152\n",
      "Epoch: 9 batch: 80 | loss: 0.001061705406755209\n",
      "Epoch: 9 batch: 90 | loss: 0.0017187735065817833\n",
      "Epoch: 9 batch: 100 | loss: 0.0027670208364725113\n",
      "Epoch: 9 batch: 110 | loss: 0.0008697782759554684\n",
      "Epoch: 9 batch: 120 | loss: 0.002443518955260515\n",
      "Epoch: 9 batch: 130 | loss: 0.004219799768179655\n",
      "Epoch: 9 batch: 140 | loss: 0.0014890447491779923\n",
      "Epoch: 9 batch: 150 | loss: 0.0007518419879488647\n",
      "Epoch: 9 batch: 160 | loss: 0.0004005469672847539\n",
      "Epoch: 9 batch: 170 | loss: 0.000871283991727978\n",
      "Epoch: 9 batch: 180 | loss: 0.0006003673188388348\n",
      "Epoch: 9 batch: 190 | loss: 0.0010195622453466058\n",
      "Epoch: 9 batch: 200 | loss: 0.000990915228612721\n",
      "Epoch: 9 batch: 210 | loss: 0.0010410508839413524\n",
      "Epoch: 9 batch: 220 | loss: 0.0014966982416808605\n",
      "Epoch: 9 batch: 230 | loss: 0.0015665617538616061\n",
      "Epoch: 9 batch: 240 | loss: 0.0023062345571815968\n",
      "Epoch: 9 batch: 250 | loss: 0.001952655497007072\n",
      "Epoch: 9 batch: 260 | loss: 0.003333285916596651\n",
      "Epoch: 9 batch: 270 | loss: 0.00047618511598557234\n",
      "Epoch: 9 batch: 280 | loss: 0.000956091214902699\n",
      "Epoch: 9 batch: 290 | loss: 0.0008880189270712435\n",
      "Epoch: 9 batch: 300 | loss: 0.0015861333813518286\n",
      "Epoch: 9 batch: 310 | loss: 0.001685646246187389\n",
      "Epoch: 9 batch: 320 | loss: 0.001675560139119625\n",
      "Epoch: 9 batch: 330 | loss: 0.001326217083260417\n",
      "Epoch: 9 batch: 340 | loss: 0.001014182809740305\n",
      "Epoch: 9 batch: 350 | loss: 0.001865579281002283\n",
      "Epoch: 9 batch: 360 | loss: 0.0011123425792902708\n",
      "Epoch: 9 batch: 370 | loss: 0.0011444505071267486\n",
      "Epoch: 9 batch: 380 | loss: 0.0013805852504447103\n",
      "Epoch: 9 batch: 390 | loss: 0.00042149247019551694\n",
      "Epoch: 9 batch: 400 | loss: 0.0006788636674173176\n",
      "Epoch: 9 batch: 410 | loss: 0.00044782552868127823\n",
      "Epoch: 9 batch: 420 | loss: 0.0014463536208495498\n",
      "Epoch: 9 batch: 430 | loss: 0.0013185837306082249\n",
      "Epoch: 9 batch: 440 | loss: 0.001058818306773901\n"
     ]
    },
    {
     "name": "stderr",
     "output_type": "stream",
     "text": [
      "35it [00:01, 36.67it/s]"
     ]
    },
    {
     "name": "stdout",
     "output_type": "stream",
     "text": [
      "torch.Size([30, 1, 10])\n"
     ]
    },
    {
     "name": "stderr",
     "output_type": "stream",
     "text": [
      "65it [00:01, 41.61it/s]\n"
     ]
    },
    {
     "name": "stdout",
     "output_type": "stream",
     "text": [
      "Epoch: 9 valLoss: 0.0014839552574879115\n",
      "Testing... 129\n"
     ]
    },
    {
     "name": "stderr",
     "output_type": "stream",
     "text": [
      "46it [00:01, 47.14it/s]"
     ]
    },
    {
     "name": "stdout",
     "output_type": "stream",
     "text": [
      "torch.Size([30, 1, 10])\n"
     ]
    },
    {
     "name": "stderr",
     "output_type": "stream",
     "text": [
      "129it [00:01, 76.85it/s] \n"
     ]
    },
    {
     "name": "stdout",
     "output_type": "stream",
     "text": [
      "r2Score:  0.9658994287212367\n",
      "meanSquaredError:  0.001764190125954151\n",
      "RMSE:  0.04200226334323129\n",
      "meanAbsoluteError:  0.02831919923794163\n"
     ]
    },
    {
     "data": {
      "image/png": "[encoded data removed]",
      "text/plain": [
       "<Figure size 432x288 with 1 Axes>"
      ]
     },
     "metadata": {
      "needs_background": "light"
     },
     "output_type": "display_data"
    }
   ],
   "source": [
    "import torch\n",
    "from torch.utils.data import DataLoader\n",
    "\n",
    "from config import Config\n",
    "\n",
    "from utils.dataTools import *\n",
    "from utils.models import lstm_reg,CNNBiLSTM\n",
    "from utils.trainer import CNNBiLstm_evaluate,CNNBiLstmtrain\n",
    "\n",
    "if __name__ == '__main__':\n",
    "    config = Config()\n",
    "\n",
    "    print(\"Data loading...\")\n",
    "    # 序列数据\n",
    "    dataset = mydataReader(\"./dataProcessed/testData.csv\")\n",
    "\n",
    "    # 创建X/Y\n",
    "    # 划分训练集和测试集，70% 作为训练集,10%作为验证集,20%作为测试集\n",
    "    (train_X ,train_Y ), (val_X,val_Y), (test_X ,test_Y )= dataset.split(lookback=config.lookback,trainSet_ratio=0.7,valSet_ratio=0.1)\n",
    "\n",
    "    # 创建Pytorch使用的dataset\n",
    "    trainSet = custom_dataset(train_X,train_Y)\n",
    "    valSet = custom_dataset(val_X,val_Y)\n",
    "    testSet = custom_dataset(test_X,test_Y)\n",
    "\n",
    "    train_loader = DataLoader(trainSet, batch_size = config.batch_size,\n",
    "                              shuffle=False, pin_memory=True, num_workers=4, drop_last=True)\n",
    "    val_loader = DataLoader(valSet, batch_size = config.batch_size,\n",
    "                              shuffle=False, pin_memory=True, num_workers=4, drop_last=False)\n",
    "    test_loader = DataLoader(testSet, batch_size = config.batch_size,\n",
    "                            shuffle=False, pin_memory=True, num_workers=4, drop_last=False)\n",
    "\n",
    "\n",
    "    print(\"Model loading...\")\n",
    "    model = CNNBiLSTM(hidden_size=12,num_layers=2).to(config.device)\n",
    "    criterion = torch.nn.MSELoss()\n",
    "    optimizer = torch.optim.AdamW(model.parameters(),\n",
    "                                 lr=config.learning_rate, weight_decay=config.weight_decay)\n",
    "\n",
    "    print(\"Training...\")\n",
    "    model = CNNBiLstmtrain(model,\n",
    "                  trainloader=train_loader,\n",
    "                  valloader=val_loader,\n",
    "                  criterion=criterion,\n",
    "                  optimizer=optimizer,\n",
    "                  config=config)\n",
    "\n",
    "    print(\"Testing...\", round(len(testSet)/config.batch_size))\n",
    "    CNNBiLstm_evaluate(model, test_loader, config)\n"
   ]
  },
  {
   "cell_type": "code",
   "execution_count": 2,
   "metadata": {},
   "outputs": [
    {
     "data": {
      "text/plain": [
       "0.09816730208634447"
      ]
     },
     "execution_count": 2,
     "metadata": {},
     "output_type": "execute_result"
    }
   ],
   "source": [
    "np.sqrt(0.00963681919891161)"
   ]
  },
  {
   "cell_type": "code",
   "execution_count": 4,
   "metadata": {},
   "outputs": [
    {
     "data": {
      "text/plain": [
       "(13514, 1)"
      ]
     },
     "execution_count": 4,
     "metadata": {},
     "output_type": "execute_result"
    }
   ],
   "source": [
    "train_Y.shape"
   ]
  },
  {
   "cell_type": "code",
   "execution_count": 8,
   "metadata": {},
   "outputs": [
    {
     "data": {
      "text/plain": [
       "(3856, 1)"
      ]
     },
     "execution_count": 8,
     "metadata": {},
     "output_type": "execute_result"
    }
   ],
   "source": [
    "test_Y.shape"
   ]
  },
  {
   "cell_type": "code",
   "execution_count": 1,
   "metadata": {},
   "outputs": [
    {
     "name": "stdout",
     "output_type": "stream",
     "text": [
      "Data loading...\n"
     ]
    },
    {
     "name": "stderr",
     "output_type": "stream",
     "text": [
      "100%|██████████| 19274/19274 [00:00<00:00, 918491.34it/s]"
     ]
    },
    {
     "name": "stdout",
     "output_type": "stream",
     "text": [
      "测试集大小为3856\n"
     ]
    },
    {
     "name": "stderr",
     "output_type": "stream",
     "text": [
      "\n"
     ]
    }
   ],
   "source": [
    "from config import Config\n",
    "from utils.dataTools import *\n",
    "\n",
    "if __name__ == '__main__':\n",
    "    config = Config()\n",
    "\n",
    "    print(\"Data loading...\")\n",
    "    # 序列数据\n",
    "    dataset = mydataReader(\"./dataProcessed/testData.csv\")\n",
    "\n",
    "    # 创建X/Y\n",
    "    # 划分训练集和测试集，70% 作为训练集,10%作为验证集,20%作为测试集\n",
    "    (train_X ,train_Y ), (val_X,val_Y), (test_X ,test_Y )= dataset.split(lookback=config.lookback,trainSet_ratio=0.7,valSet_ratio=0.1)"
   ]
  },
  {
   "cell_type": "code",
   "execution_count": 2,
   "metadata": {},
   "outputs": [
    {
     "name": "stdout",
     "output_type": "stream",
     "text": [
      "测试集MSELoss:  0.0009843986350889157\n",
      "测试集MAELoss:  0.02119958729479223\n",
      "测试集RMSELoss:  0.0313751276505597\n",
      "测试集r2-score:  0.9809364079500809\n"
     ]
    },
    {
     "data": {
      "text/plain": [
       "<matplotlib.legend.Legend at 0x22cfd065370>"
      ]
     },
     "execution_count": 2,
     "metadata": {},
     "output_type": "execute_result"
    },
    {
     "data": {
      "image/png": "[encoded data removed]",
      "text/plain": [
       "<Figure size 432x288 with 1 Axes>"
      ]
     },
     "metadata": {
      "needs_background": "light"
     },
     "output_type": "display_data"
    }
   ],
   "source": [
    "# 加载lightGBM模型\n",
    "from sklearn.metrics import mean_squared_error,mean_absolute_error\n",
    "from sklearn.metrics import r2_score\n",
    "import lightgbm as lgb\n",
    "import numpy as np\n",
    "\n",
    "# 定义模型\n",
    "model = lgb.LGBMRegressor(objective='regression', num_leaves=26, learning_rate=0.05, n_estimators=46,random_state=42)\n",
    "\n",
    "# 训练\n",
    "model.fit(train_X.squeeze(),train_Y.squeeze())\n",
    "test_predict=model.predict(test_X.squeeze())\n",
    "train_predict = model.predict(train_X.squeeze())\n",
    "\n",
    "# MSE\n",
    "msetest=mean_squared_error(test_Y.squeeze(),test_predict)\n",
    "maetest=mean_absolute_error(test_Y.squeeze(),test_predict)\n",
    "\n",
    "print(\"测试集MSELoss: \",msetest)\n",
    "print(\"测试集MAELoss: \",maetest)\n",
    "print(\"测试集RMSELoss: \",np.sqrt(msetest))\n",
    "# print(msetrain)\n",
    "\n",
    "# R2-score\n",
    "r2Test = r2_score(test_Y.squeeze(),test_predict)\n",
    "print(\"测试集r2-score: \",r2Test)\n",
    "\n",
    "# 画出实际结果和预测的结果\n",
    "import matplotlib.pyplot as plt\n",
    "y = test_Y.squeeze()\n",
    "y_pre = test_predict\n",
    "pd.DataFrame({'y_true':y,'y_pre':y_pre}).to_csv(\"./result/LightGBMpre.csv\",index=False)\n",
    "plt.plot(range(len(y[:1000])),y_pre[:1000],color = 'red',linewidth = 1.5,linestyle = '-.',label='prediction')\n",
    "plt.plot(range(len(y[:1000])),y[:1000],color = 'blue',linewidth = 1.5,linestyle = '-', label='real')\n",
    "plt.legend(loc='best')"
   ]
  },
  {
   "cell_type": "code",
   "execution_count": null,
   "metadata": {},
   "outputs": [],
   "source": []
  }
 ],
 "metadata": {
  "interpreter": {
   "hash": "0585272c6395396341ee04675bd50926ae099db04beb93efeb4cdfb816b7c2a3"
  },
  "kernelspec": {
   "display_name": "Python 3 (ipykernel)",
   "language": "python",
   "name": "python3"
  },
  "language_info": {
   "codemirror_mode": {
    "name": "ipython",
    "version": 3
   },
   "file_extension": ".py",
   "mimetype": "text/x-python",
   "name": "python",
   "nbconvert_exporter": "python",
   "pygments_lexer": "ipython3",
   "version": "3.8.12"
  }
 },
 "nbformat": 4,
 "nbformat_minor": 4
}
