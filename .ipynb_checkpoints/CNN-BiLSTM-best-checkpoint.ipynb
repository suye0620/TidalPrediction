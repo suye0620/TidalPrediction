{
 "cells": [
  {
   "cell_type": "markdown",
   "metadata": {},
   "source": [
    ",,degrees_east,degrees_north,UTC,millibars,degrees true,knots,knots,meters,seconds,degrees_true,meters,degrees_C,degrees_C,degrees_C,dimensionless,percent,degrees,degrees_true,seconds,"
   ]
  },
  {
   "cell_type": "code",
   "execution_count": 1,
   "metadata": {},
   "outputs": [
    {
     "name": "stdout",
     "output_type": "stream",
     "text": [
      "Data loading...\n"
     ]
    },
    {
     "name": "stderr",
     "output_type": "stream",
     "text": [
      "100%|██████████| 19274/19274 [00:00<00:00, 982582.78it/s]"
     ]
    },
    {
     "name": "stdout",
     "output_type": "stream",
     "text": [
      "测试集大小为3856\n",
      "Model loading...\n"
     ]
    },
    {
     "name": "stderr",
     "output_type": "stream",
     "text": [
      "\n"
     ]
    },
    {
     "name": "stdout",
     "output_type": "stream",
     "text": [
      "Training...\n",
      "Epoch: 0 batch: 0 | loss: 0.13153475522994995\n",
      "Epoch: 0 batch: 10 | loss: 0.7066007256507874\n",
      "Epoch: 0 batch: 20 | loss: 0.05019402503967285\n",
      "Epoch: 0 batch: 30 | loss: 0.5335361361503601\n",
      "Epoch: 0 batch: 40 | loss: 0.0878688395023346\n",
      "Epoch: 0 batch: 50 | loss: 0.10970866680145264\n",
      "Epoch: 0 batch: 60 | loss: 0.24949957430362701\n",
      "Epoch: 0 batch: 70 | loss: 0.006003221496939659\n",
      "Epoch: 0 batch: 80 | loss: 0.1519186794757843\n",
      "Epoch: 0 batch: 90 | loss: 0.023592542856931686\n",
      "Epoch: 0 batch: 100 | loss: 0.03776240721344948\n",
      "Epoch: 0 batch: 110 | loss: 0.027941429987549782\n",
      "Epoch: 0 batch: 120 | loss: 0.05926690623164177\n",
      "Epoch: 0 batch: 130 | loss: 0.03258727863430977\n",
      "Epoch: 0 batch: 140 | loss: 0.016367219388484955\n",
      "Epoch: 0 batch: 150 | loss: 0.01802833192050457\n",
      "Epoch: 0 batch: 160 | loss: 0.021925373002886772\n",
      "Epoch: 0 batch: 170 | loss: 0.03300065919756889\n",
      "Epoch: 0 batch: 180 | loss: 0.02369094453752041\n",
      "Epoch: 0 batch: 190 | loss: 0.023264814168214798\n",
      "Epoch: 0 batch: 200 | loss: 0.013380736112594604\n",
      "Epoch: 0 batch: 210 | loss: 0.028467942029237747\n",
      "Epoch: 0 batch: 220 | loss: 0.03346603736281395\n",
      "Epoch: 0 batch: 230 | loss: 0.028758257627487183\n",
      "Epoch: 0 batch: 240 | loss: 0.040617603808641434\n",
      "Epoch: 0 batch: 250 | loss: 0.05792677029967308\n",
      "Epoch: 0 batch: 260 | loss: 0.06710099428892136\n",
      "Epoch: 0 batch: 270 | loss: 0.0602073073387146\n",
      "Epoch: 0 batch: 280 | loss: 0.011028031818568707\n",
      "Epoch: 0 batch: 290 | loss: 0.006483954843133688\n",
      "Epoch: 0 batch: 300 | loss: 0.03970788046717644\n",
      "Epoch: 0 batch: 310 | loss: 0.04234621673822403\n",
      "Epoch: 0 batch: 320 | loss: 0.049467433243989944\n",
      "Epoch: 0 batch: 330 | loss: 0.027234207838773727\n",
      "Epoch: 0 batch: 340 | loss: 0.020544283092021942\n",
      "Epoch: 0 batch: 350 | loss: 0.009924452751874924\n",
      "Epoch: 0 batch: 360 | loss: 0.007108563091605902\n",
      "Epoch: 0 batch: 370 | loss: 0.00545355724170804\n",
      "Epoch: 0 batch: 380 | loss: 0.004278619308024645\n",
      "Epoch: 0 batch: 390 | loss: 0.004017416853457689\n",
      "Epoch: 0 batch: 400 | loss: 0.00403430825099349\n",
      "Epoch: 0 batch: 410 | loss: 0.0032845395617187023\n",
      "Epoch: 0 batch: 420 | loss: 0.004433903843164444\n",
      "Epoch: 0 batch: 430 | loss: 0.004183104727417231\n",
      "Epoch: 0 batch: 440 | loss: 0.006453200243413448\n"
     ]
    },
    {
     "name": "stderr",
     "output_type": "stream",
     "text": [
      "65it [00:00, 285.10it/s]"
     ]
    },
    {
     "name": "stdout",
     "output_type": "stream",
     "text": [
      "Epoch: 0 valLoss: 0.006223895698771334\n"
     ]
    },
    {
     "name": "stderr",
     "output_type": "stream",
     "text": [
      "\n"
     ]
    },
    {
     "name": "stdout",
     "output_type": "stream",
     "text": [
      "Epoch: 1 batch: 0 | loss: 0.0061607761308550835\n",
      "Epoch: 1 batch: 10 | loss: 0.005631113424897194\n",
      "Epoch: 1 batch: 20 | loss: 0.0024504021275788546\n",
      "Epoch: 1 batch: 30 | loss: 0.0042853099294006824\n",
      "Epoch: 1 batch: 40 | loss: 0.0035739911254495382\n",
      "Epoch: 1 batch: 50 | loss: 0.005841173231601715\n",
      "Epoch: 1 batch: 60 | loss: 0.004273620434105396\n",
      "Epoch: 1 batch: 70 | loss: 0.001912083476781845\n",
      "Epoch: 1 batch: 80 | loss: 0.005106580909341574\n",
      "Epoch: 1 batch: 90 | loss: 0.007395693566650152\n",
      "Epoch: 1 batch: 100 | loss: 0.00873793475329876\n",
      "Epoch: 1 batch: 110 | loss: 0.009040651842951775\n",
      "Epoch: 1 batch: 120 | loss: 0.011550642549991608\n",
      "Epoch: 1 batch: 130 | loss: 0.010737894102931023\n",
      "Epoch: 1 batch: 140 | loss: 0.008452403359115124\n",
      "Epoch: 1 batch: 150 | loss: 0.005706191994249821\n",
      "Epoch: 1 batch: 160 | loss: 0.0024683319497853518\n",
      "Epoch: 1 batch: 170 | loss: 0.001971616642549634\n",
      "Epoch: 1 batch: 180 | loss: 0.0016644177958369255\n",
      "Epoch: 1 batch: 190 | loss: 0.002454854315146804\n",
      "Epoch: 1 batch: 200 | loss: 0.005562452599406242\n",
      "Epoch: 1 batch: 210 | loss: 0.0023296945728361607\n",
      "Epoch: 1 batch: 220 | loss: 0.007749231066554785\n",
      "Epoch: 1 batch: 230 | loss: 0.006433482281863689\n",
      "Epoch: 1 batch: 240 | loss: 0.010705258697271347\n",
      "Epoch: 1 batch: 250 | loss: 0.004124695435166359\n",
      "Epoch: 1 batch: 260 | loss: 0.0035050176084041595\n",
      "Epoch: 1 batch: 270 | loss: 0.0014678615843877196\n",
      "Epoch: 1 batch: 280 | loss: 0.0038886198308318853\n",
      "Epoch: 1 batch: 290 | loss: 0.0038235767278820276\n",
      "Epoch: 1 batch: 300 | loss: 0.007687749806791544\n",
      "Epoch: 1 batch: 310 | loss: 0.0041482578963041306\n",
      "Epoch: 1 batch: 320 | loss: 0.004665208514779806\n",
      "Epoch: 1 batch: 330 | loss: 0.00477174436673522\n",
      "Epoch: 1 batch: 340 | loss: 0.008839976042509079\n",
      "Epoch: 1 batch: 350 | loss: 0.00880485400557518\n",
      "Epoch: 1 batch: 360 | loss: 0.00999370776116848\n",
      "Epoch: 1 batch: 370 | loss: 0.004747014492750168\n",
      "Epoch: 1 batch: 380 | loss: 0.005109658930450678\n",
      "Epoch: 1 batch: 390 | loss: 0.006142998579889536\n",
      "Epoch: 1 batch: 400 | loss: 0.005295606795698404\n",
      "Epoch: 1 batch: 410 | loss: 0.0023506153374910355\n",
      "Epoch: 1 batch: 420 | loss: 0.00346339656971395\n",
      "Epoch: 1 batch: 430 | loss: 0.0042808218859136105\n",
      "Epoch: 1 batch: 440 | loss: 0.004416301380842924\n"
     ]
    },
    {
     "name": "stderr",
     "output_type": "stream",
     "text": [
      "65it [00:00, 267.53it/s]"
     ]
    },
    {
     "name": "stdout",
     "output_type": "stream",
     "text": [
      "Epoch: 1 valLoss: 0.0057482916530813095\n"
     ]
    },
    {
     "name": "stderr",
     "output_type": "stream",
     "text": [
      "\n"
     ]
    },
    {
     "name": "stdout",
     "output_type": "stream",
     "text": [
      "Epoch: 2 batch: 0 | loss: 0.004995541647076607\n",
      "Epoch: 2 batch: 10 | loss: 0.0034673342015594244\n",
      "Epoch: 2 batch: 20 | loss: 0.0016767862252891064\n",
      "Epoch: 2 batch: 30 | loss: 0.002202630043029785\n",
      "Epoch: 2 batch: 40 | loss: 0.0024870922788977623\n",
      "Epoch: 2 batch: 50 | loss: 0.0035575684159994125\n",
      "Epoch: 2 batch: 60 | loss: 0.0029778939206153154\n",
      "Epoch: 2 batch: 70 | loss: 0.0010496423346921802\n",
      "Epoch: 2 batch: 80 | loss: 0.005201595835387707\n",
      "Epoch: 2 batch: 90 | loss: 0.008293661288917065\n",
      "Epoch: 2 batch: 100 | loss: 0.005721367429941893\n",
      "Epoch: 2 batch: 110 | loss: 0.006811696570366621\n",
      "Epoch: 2 batch: 120 | loss: 0.0069582522846758366\n",
      "Epoch: 2 batch: 130 | loss: 0.008199098519980907\n",
      "Epoch: 2 batch: 140 | loss: 0.008099263533949852\n",
      "Epoch: 2 batch: 150 | loss: 0.005489675793796778\n",
      "Epoch: 2 batch: 160 | loss: 0.0031101061031222343\n",
      "Epoch: 2 batch: 170 | loss: 0.001447636866942048\n",
      "Epoch: 2 batch: 180 | loss: 0.0013659304240718484\n",
      "Epoch: 2 batch: 190 | loss: 0.0036181770265102386\n",
      "Epoch: 2 batch: 200 | loss: 0.004186580888926983\n",
      "Epoch: 2 batch: 210 | loss: 0.002396505791693926\n",
      "Epoch: 2 batch: 220 | loss: 0.003906907979398966\n",
      "Epoch: 2 batch: 230 | loss: 0.0058242324739694595\n",
      "Epoch: 2 batch: 240 | loss: 0.006908553186804056\n",
      "Epoch: 2 batch: 250 | loss: 0.003590933745726943\n",
      "Epoch: 2 batch: 260 | loss: 0.003923764452338219\n",
      "Epoch: 2 batch: 270 | loss: 0.002032661344856024\n",
      "Epoch: 2 batch: 280 | loss: 0.004046000074595213\n",
      "Epoch: 2 batch: 290 | loss: 0.004120043944567442\n",
      "Epoch: 2 batch: 300 | loss: 0.0064447964541614056\n",
      "Epoch: 2 batch: 310 | loss: 0.004328785464167595\n",
      "Epoch: 2 batch: 320 | loss: 0.0034174718894064426\n",
      "Epoch: 2 batch: 330 | loss: 0.004625373519957066\n",
      "Epoch: 2 batch: 340 | loss: 0.004807868041098118\n",
      "Epoch: 2 batch: 350 | loss: 0.006657419726252556\n",
      "Epoch: 2 batch: 360 | loss: 0.010505584999918938\n",
      "Epoch: 2 batch: 370 | loss: 0.004076659679412842\n",
      "Epoch: 2 batch: 380 | loss: 0.0038406518287956715\n",
      "Epoch: 2 batch: 390 | loss: 0.0037528937682509422\n",
      "Epoch: 2 batch: 400 | loss: 0.00352523778565228\n",
      "Epoch: 2 batch: 410 | loss: 0.0013570155715569854\n",
      "Epoch: 2 batch: 420 | loss: 0.002707609673961997\n",
      "Epoch: 2 batch: 430 | loss: 0.0032395056914538145\n",
      "Epoch: 2 batch: 440 | loss: 0.0032299307640641928\n"
     ]
    },
    {
     "name": "stderr",
     "output_type": "stream",
     "text": [
      "65it [00:00, 308.24it/s]"
     ]
    },
    {
     "name": "stdout",
     "output_type": "stream",
     "text": [
      "Epoch: 2 valLoss: 0.005055335989837003\n"
     ]
    },
    {
     "name": "stderr",
     "output_type": "stream",
     "text": [
      "\n"
     ]
    },
    {
     "name": "stdout",
     "output_type": "stream",
     "text": [
      "Epoch: 3 batch: 0 | loss: 0.00485218595713377\n",
      "Epoch: 3 batch: 10 | loss: 0.0036274532321840525\n",
      "Epoch: 3 batch: 20 | loss: 0.0010859955800697207\n",
      "Epoch: 3 batch: 30 | loss: 0.0020896089263260365\n",
      "Epoch: 3 batch: 40 | loss: 0.0021277209743857384\n",
      "Epoch: 3 batch: 50 | loss: 0.005097012966871262\n",
      "Epoch: 3 batch: 60 | loss: 0.00300205429084599\n",
      "Epoch: 3 batch: 70 | loss: 0.002691496629267931\n",
      "Epoch: 3 batch: 80 | loss: 0.004467771388590336\n",
      "Epoch: 3 batch: 90 | loss: 0.004748189821839333\n",
      "Epoch: 3 batch: 100 | loss: 0.006274636834859848\n",
      "Epoch: 3 batch: 110 | loss: 0.00515161594375968\n",
      "Epoch: 3 batch: 120 | loss: 0.00861605629324913\n",
      "Epoch: 3 batch: 130 | loss: 0.006453377194702625\n",
      "Epoch: 3 batch: 140 | loss: 0.007208530325442553\n",
      "Epoch: 3 batch: 150 | loss: 0.006424416322261095\n",
      "Epoch: 3 batch: 160 | loss: 0.0018276668852195144\n",
      "Epoch: 3 batch: 170 | loss: 0.001098299166187644\n",
      "Epoch: 3 batch: 180 | loss: 0.0010718847624957561\n",
      "Epoch: 3 batch: 190 | loss: 0.0029992416966706514\n",
      "Epoch: 3 batch: 200 | loss: 0.004241397604346275\n",
      "Epoch: 3 batch: 210 | loss: 0.0028705454897135496\n",
      "Epoch: 3 batch: 220 | loss: 0.005005246493965387\n",
      "Epoch: 3 batch: 230 | loss: 0.005760562140494585\n",
      "Epoch: 3 batch: 240 | loss: 0.00641218526288867\n",
      "Epoch: 3 batch: 250 | loss: 0.003003403777256608\n",
      "Epoch: 3 batch: 260 | loss: 0.0029063120018690825\n",
      "Epoch: 3 batch: 270 | loss: 0.0016616637585684657\n",
      "Epoch: 3 batch: 280 | loss: 0.0043141841888427734\n",
      "Epoch: 3 batch: 290 | loss: 0.0021512298844754696\n",
      "Epoch: 3 batch: 300 | loss: 0.006001495756208897\n",
      "Epoch: 3 batch: 310 | loss: 0.0021849251352250576\n",
      "Epoch: 3 batch: 320 | loss: 0.003094293409958482\n",
      "Epoch: 3 batch: 330 | loss: 0.0030670228879898787\n",
      "Epoch: 3 batch: 340 | loss: 0.005281069781631231\n",
      "Epoch: 3 batch: 350 | loss: 0.0062421043403446674\n",
      "Epoch: 3 batch: 360 | loss: 0.006048272363841534\n",
      "Epoch: 3 batch: 370 | loss: 0.005212645512074232\n",
      "Epoch: 3 batch: 380 | loss: 0.0028008371591567993\n",
      "Epoch: 3 batch: 390 | loss: 0.0023255920968949795\n",
      "Epoch: 3 batch: 400 | loss: 0.003179465653374791\n",
      "Epoch: 3 batch: 410 | loss: 0.0015069087967276573\n",
      "Epoch: 3 batch: 420 | loss: 0.0023918109945952892\n",
      "Epoch: 3 batch: 430 | loss: 0.00300825503654778\n",
      "Epoch: 3 batch: 440 | loss: 0.0030778495129197836\n"
     ]
    },
    {
     "name": "stderr",
     "output_type": "stream",
     "text": [
      "65it [00:00, 275.79it/s]"
     ]
    },
    {
     "name": "stdout",
     "output_type": "stream",
     "text": [
      "Epoch: 3 valLoss: 0.004635608386907533\n"
     ]
    },
    {
     "name": "stderr",
     "output_type": "stream",
     "text": [
      "\n"
     ]
    },
    {
     "name": "stdout",
     "output_type": "stream",
     "text": [
      "Epoch: 4 batch: 0 | loss: 0.004181740805506706\n",
      "Epoch: 4 batch: 10 | loss: 0.003202534280717373\n",
      "Epoch: 4 batch: 20 | loss: 0.0012160439509898424\n",
      "Epoch: 4 batch: 30 | loss: 0.0015111747197806835\n",
      "Epoch: 4 batch: 40 | loss: 0.0012864620657637715\n",
      "Epoch: 4 batch: 50 | loss: 0.0034449000377207994\n",
      "Epoch: 4 batch: 60 | loss: 0.0035749413073062897\n",
      "Epoch: 4 batch: 70 | loss: 0.0021994656417518854\n",
      "Epoch: 4 batch: 80 | loss: 0.003570587607100606\n",
      "Epoch: 4 batch: 90 | loss: 0.004847834352403879\n",
      "Epoch: 4 batch: 100 | loss: 0.005552664864808321\n",
      "Epoch: 4 batch: 110 | loss: 0.004995580762624741\n",
      "Epoch: 4 batch: 120 | loss: 0.007034542970359325\n",
      "Epoch: 4 batch: 130 | loss: 0.005443586502224207\n",
      "Epoch: 4 batch: 140 | loss: 0.0049925004132092\n",
      "Epoch: 4 batch: 150 | loss: 0.004852952901273966\n",
      "Epoch: 4 batch: 160 | loss: 0.0008148649358190596\n",
      "Epoch: 4 batch: 170 | loss: 0.0013203289126977324\n",
      "Epoch: 4 batch: 180 | loss: 0.0006229595164768398\n",
      "Epoch: 4 batch: 190 | loss: 0.002965527819469571\n",
      "Epoch: 4 batch: 200 | loss: 0.003357291454449296\n",
      "Epoch: 4 batch: 210 | loss: 0.0031633470207452774\n",
      "Epoch: 4 batch: 220 | loss: 0.0040327380411326885\n",
      "Epoch: 4 batch: 230 | loss: 0.004248289857059717\n",
      "Epoch: 4 batch: 240 | loss: 0.00748744560405612\n",
      "Epoch: 4 batch: 250 | loss: 0.0029793763533234596\n",
      "Epoch: 4 batch: 260 | loss: 0.0029808860272169113\n",
      "Epoch: 4 batch: 270 | loss: 0.00039320020005106926\n",
      "Epoch: 4 batch: 280 | loss: 0.0025334644597023726\n",
      "Epoch: 4 batch: 290 | loss: 0.004103889688849449\n",
      "Epoch: 4 batch: 300 | loss: 0.005289087537676096\n",
      "Epoch: 4 batch: 310 | loss: 0.0019691651687026024\n",
      "Epoch: 4 batch: 320 | loss: 0.0038943379186093807\n",
      "Epoch: 4 batch: 330 | loss: 0.0037460154853761196\n",
      "Epoch: 4 batch: 340 | loss: 0.0038501396775245667\n",
      "Epoch: 4 batch: 350 | loss: 0.007785492110997438\n",
      "Epoch: 4 batch: 360 | loss: 0.008181185461580753\n",
      "Epoch: 4 batch: 370 | loss: 0.003856302471831441\n",
      "Epoch: 4 batch: 380 | loss: 0.002466632518917322\n",
      "Epoch: 4 batch: 390 | loss: 0.0020832198206335306\n",
      "Epoch: 4 batch: 400 | loss: 0.0019033546559512615\n",
      "Epoch: 4 batch: 410 | loss: 0.0007518936181440949\n",
      "Epoch: 4 batch: 420 | loss: 0.002317447680979967\n",
      "Epoch: 4 batch: 430 | loss: 0.003007778199389577\n",
      "Epoch: 4 batch: 440 | loss: 0.002487732097506523\n"
     ]
    },
    {
     "name": "stderr",
     "output_type": "stream",
     "text": [
      "65it [00:00, 273.76it/s]"
     ]
    },
    {
     "name": "stdout",
     "output_type": "stream",
     "text": [
      "Epoch: 4 valLoss: 0.004209672360163163\n"
     ]
    },
    {
     "name": "stderr",
     "output_type": "stream",
     "text": [
      "\n"
     ]
    },
    {
     "name": "stdout",
     "output_type": "stream",
     "text": [
      "Epoch: 5 batch: 0 | loss: 0.0031814228277653456\n",
      "Epoch: 5 batch: 10 | loss: 0.004970279522240162\n",
      "Epoch: 5 batch: 20 | loss: 0.000885831075720489\n",
      "Epoch: 5 batch: 30 | loss: 0.0018104208866134286\n",
      "Epoch: 5 batch: 40 | loss: 0.0016038250178098679\n",
      "Epoch: 5 batch: 50 | loss: 0.0034931094851344824\n",
      "Epoch: 5 batch: 60 | loss: 0.00220934534445405\n",
      "Epoch: 5 batch: 70 | loss: 0.0021165241487324238\n",
      "Epoch: 5 batch: 80 | loss: 0.003110187826678157\n",
      "Epoch: 5 batch: 90 | loss: 0.003746001049876213\n",
      "Epoch: 5 batch: 100 | loss: 0.00602708337828517\n",
      "Epoch: 5 batch: 110 | loss: 0.003694510320201516\n",
      "Epoch: 5 batch: 120 | loss: 0.007516675628721714\n",
      "Epoch: 5 batch: 130 | loss: 0.005622520111501217\n",
      "Epoch: 5 batch: 140 | loss: 0.003860701806843281\n",
      "Epoch: 5 batch: 150 | loss: 0.002220428315922618\n",
      "Epoch: 5 batch: 160 | loss: 0.0016828393563628197\n",
      "Epoch: 5 batch: 170 | loss: 0.0009081793832592666\n",
      "Epoch: 5 batch: 180 | loss: 0.0008900404209271073\n",
      "Epoch: 5 batch: 190 | loss: 0.002615101169794798\n",
      "Epoch: 5 batch: 200 | loss: 0.0027135880663990974\n",
      "Epoch: 5 batch: 210 | loss: 0.001924411510117352\n",
      "Epoch: 5 batch: 220 | loss: 0.0038958480581641197\n",
      "Epoch: 5 batch: 230 | loss: 0.00469632726162672\n",
      "Epoch: 5 batch: 240 | loss: 0.006942600477486849\n",
      "Epoch: 5 batch: 250 | loss: 0.002593762008473277\n",
      "Epoch: 5 batch: 260 | loss: 0.004566065035760403\n",
      "Epoch: 5 batch: 270 | loss: 0.0010362234897911549\n",
      "Epoch: 5 batch: 280 | loss: 0.0033803919795900583\n",
      "Epoch: 5 batch: 290 | loss: 0.002974400296807289\n",
      "Epoch: 5 batch: 300 | loss: 0.0046773203648626804\n",
      "Epoch: 5 batch: 310 | loss: 0.0031626408454030752\n",
      "Epoch: 5 batch: 320 | loss: 0.0036864657886326313\n",
      "Epoch: 5 batch: 330 | loss: 0.0025524762459099293\n",
      "Epoch: 5 batch: 340 | loss: 0.00475683156400919\n",
      "Epoch: 5 batch: 350 | loss: 0.006519274320453405\n",
      "Epoch: 5 batch: 360 | loss: 0.006658837664872408\n",
      "Epoch: 5 batch: 370 | loss: 0.004209393635392189\n",
      "Epoch: 5 batch: 380 | loss: 0.0019316442776471376\n",
      "Epoch: 5 batch: 390 | loss: 0.0018292873864993453\n",
      "Epoch: 5 batch: 400 | loss: 0.0019075372256338596\n",
      "Epoch: 5 batch: 410 | loss: 0.0011715824948623776\n",
      "Epoch: 5 batch: 420 | loss: 0.0011338097974658012\n",
      "Epoch: 5 batch: 430 | loss: 0.0016860520699992776\n",
      "Epoch: 5 batch: 440 | loss: 0.002938500139862299\n"
     ]
    },
    {
     "name": "stderr",
     "output_type": "stream",
     "text": [
      "65it [00:00, 277.45it/s]"
     ]
    },
    {
     "name": "stdout",
     "output_type": "stream",
     "text": [
      "Epoch: 5 valLoss: 0.0038148111170621854\n"
     ]
    },
    {
     "name": "stderr",
     "output_type": "stream",
     "text": [
      "\n"
     ]
    },
    {
     "name": "stdout",
     "output_type": "stream",
     "text": [
      "Epoch: 6 batch: 0 | loss: 0.0029218706768006086\n",
      "Epoch: 6 batch: 10 | loss: 0.0036576897837221622\n",
      "Epoch: 6 batch: 20 | loss: 0.0009324261336587369\n",
      "Epoch: 6 batch: 30 | loss: 0.0015391558408737183\n",
      "Epoch: 6 batch: 40 | loss: 0.0010631821351125836\n",
      "Epoch: 6 batch: 50 | loss: 0.002713680500164628\n",
      "Epoch: 6 batch: 60 | loss: 0.0014155152020975947\n",
      "Epoch: 6 batch: 70 | loss: 0.0015733677428215742\n",
      "Epoch: 6 batch: 80 | loss: 0.003638740163296461\n",
      "Epoch: 6 batch: 90 | loss: 0.00416555255651474\n",
      "Epoch: 6 batch: 100 | loss: 0.004583504516631365\n",
      "Epoch: 6 batch: 110 | loss: 0.004097334109246731\n",
      "Epoch: 6 batch: 120 | loss: 0.006124419625848532\n",
      "Epoch: 6 batch: 130 | loss: 0.005232644267380238\n",
      "Epoch: 6 batch: 140 | loss: 0.00390470027923584\n",
      "Epoch: 6 batch: 150 | loss: 0.003739270381629467\n",
      "Epoch: 6 batch: 160 | loss: 0.001711048069410026\n",
      "Epoch: 6 batch: 170 | loss: 0.001863033976405859\n",
      "Epoch: 6 batch: 180 | loss: 0.000802494352683425\n",
      "Epoch: 6 batch: 190 | loss: 0.001993042416870594\n",
      "Epoch: 6 batch: 200 | loss: 0.003034616122022271\n",
      "Epoch: 6 batch: 210 | loss: 0.001580839161761105\n",
      "Epoch: 6 batch: 220 | loss: 0.003352018306031823\n",
      "Epoch: 6 batch: 230 | loss: 0.0052938321605324745\n",
      "Epoch: 6 batch: 240 | loss: 0.004565171431750059\n",
      "Epoch: 6 batch: 250 | loss: 0.0022308025509119034\n",
      "Epoch: 6 batch: 260 | loss: 0.0025226741563528776\n",
      "Epoch: 6 batch: 270 | loss: 0.0010092754382640123\n",
      "Epoch: 6 batch: 280 | loss: 0.002056353958323598\n",
      "Epoch: 6 batch: 290 | loss: 0.0023344627115875483\n",
      "Epoch: 6 batch: 300 | loss: 0.004478213377296925\n",
      "Epoch: 6 batch: 310 | loss: 0.0022324651945382357\n",
      "Epoch: 6 batch: 320 | loss: 0.0020911134779453278\n",
      "Epoch: 6 batch: 330 | loss: 0.0028510100673884153\n",
      "Epoch: 6 batch: 340 | loss: 0.002521537011489272\n",
      "Epoch: 6 batch: 350 | loss: 0.006088613998144865\n",
      "Epoch: 6 batch: 360 | loss: 0.00468269269913435\n",
      "Epoch: 6 batch: 370 | loss: 0.0033871184568852186\n",
      "Epoch: 6 batch: 380 | loss: 0.0025084579829126596\n",
      "Epoch: 6 batch: 390 | loss: 0.0015474020037800074\n",
      "Epoch: 6 batch: 400 | loss: 0.0013270198833197355\n",
      "Epoch: 6 batch: 410 | loss: 0.000895959441550076\n",
      "Epoch: 6 batch: 420 | loss: 0.002196690533310175\n",
      "Epoch: 6 batch: 430 | loss: 0.001921393326483667\n",
      "Epoch: 6 batch: 440 | loss: 0.0022822213359177113\n"
     ]
    },
    {
     "name": "stderr",
     "output_type": "stream",
     "text": [
      "65it [00:00, 289.28it/s]"
     ]
    },
    {
     "name": "stdout",
     "output_type": "stream",
     "text": [
      "Epoch: 6 valLoss: 0.0034825124620852816\n"
     ]
    },
    {
     "name": "stderr",
     "output_type": "stream",
     "text": [
      "\n"
     ]
    },
    {
     "name": "stdout",
     "output_type": "stream",
     "text": [
      "Epoch: 7 batch: 0 | loss: 0.0025145229883491993\n",
      "Epoch: 7 batch: 10 | loss: 0.002761856885626912\n",
      "Epoch: 7 batch: 20 | loss: 0.001094493200071156\n",
      "Epoch: 7 batch: 30 | loss: 0.0015440753195434809\n",
      "Epoch: 7 batch: 40 | loss: 0.0014086918672546744\n",
      "Epoch: 7 batch: 50 | loss: 0.002389744622632861\n",
      "Epoch: 7 batch: 60 | loss: 0.0021052148658782244\n",
      "Epoch: 7 batch: 70 | loss: 0.0019450642867013812\n",
      "Epoch: 7 batch: 80 | loss: 0.0028312725480645895\n",
      "Epoch: 7 batch: 90 | loss: 0.0028740137349814177\n",
      "Epoch: 7 batch: 100 | loss: 0.004636271391063929\n",
      "Epoch: 7 batch: 110 | loss: 0.0032342157792299986\n",
      "Epoch: 7 batch: 120 | loss: 0.005608938634395599\n",
      "Epoch: 7 batch: 130 | loss: 0.005916287656873465\n",
      "Epoch: 7 batch: 140 | loss: 0.0037696438375860453\n",
      "Epoch: 7 batch: 150 | loss: 0.002432763809338212\n",
      "Epoch: 7 batch: 160 | loss: 0.001333667547442019\n",
      "Epoch: 7 batch: 170 | loss: 0.0012416556710377336\n",
      "Epoch: 7 batch: 180 | loss: 0.0007707271142862737\n",
      "Epoch: 7 batch: 190 | loss: 0.002052188152447343\n",
      "Epoch: 7 batch: 200 | loss: 0.0028228978626430035\n",
      "Epoch: 7 batch: 210 | loss: 0.0014652138343080878\n",
      "Epoch: 7 batch: 220 | loss: 0.004150524269789457\n",
      "Epoch: 7 batch: 230 | loss: 0.004903512541204691\n",
      "Epoch: 7 batch: 240 | loss: 0.005015140864998102\n",
      "Epoch: 7 batch: 250 | loss: 0.002339463448151946\n",
      "Epoch: 7 batch: 260 | loss: 0.00305590545758605\n",
      "Epoch: 7 batch: 270 | loss: 0.0008750960696488619\n",
      "Epoch: 7 batch: 280 | loss: 0.0029491351451724768\n",
      "Epoch: 7 batch: 290 | loss: 0.0027288130950182676\n",
      "Epoch: 7 batch: 300 | loss: 0.004173869267106056\n",
      "Epoch: 7 batch: 310 | loss: 0.001916443114168942\n",
      "Epoch: 7 batch: 320 | loss: 0.0021863533183932304\n",
      "Epoch: 7 batch: 330 | loss: 0.004323855042457581\n",
      "Epoch: 7 batch: 340 | loss: 0.0025932625867426395\n",
      "Epoch: 7 batch: 350 | loss: 0.004437378142029047\n",
      "Epoch: 7 batch: 360 | loss: 0.004684177692979574\n",
      "Epoch: 7 batch: 370 | loss: 0.0036242485512048006\n",
      "Epoch: 7 batch: 380 | loss: 0.002412320813164115\n",
      "Epoch: 7 batch: 390 | loss: 0.001954516163095832\n",
      "Epoch: 7 batch: 400 | loss: 0.0011923114070668817\n",
      "Epoch: 7 batch: 410 | loss: 0.0005439646192826331\n",
      "Epoch: 7 batch: 420 | loss: 0.002375463955104351\n",
      "Epoch: 7 batch: 430 | loss: 0.0017787429969757795\n",
      "Epoch: 7 batch: 440 | loss: 0.0023587404284626245\n"
     ]
    },
    {
     "name": "stderr",
     "output_type": "stream",
     "text": [
      "65it [00:00, 276.38it/s]"
     ]
    },
    {
     "name": "stdout",
     "output_type": "stream",
     "text": [
      "Epoch: 7 valLoss: 0.003387599423753302\n"
     ]
    },
    {
     "name": "stderr",
     "output_type": "stream",
     "text": [
      "\n"
     ]
    },
    {
     "name": "stdout",
     "output_type": "stream",
     "text": [
      "Epoch: 8 batch: 0 | loss: 0.0016795196570456028\n",
      "Epoch: 8 batch: 10 | loss: 0.0024492472875863314\n",
      "Epoch: 8 batch: 20 | loss: 0.0006448313943110406\n",
      "Epoch: 8 batch: 30 | loss: 0.00195326772518456\n",
      "Epoch: 8 batch: 40 | loss: 0.0014994704397395253\n",
      "Epoch: 8 batch: 50 | loss: 0.0023741903714835644\n",
      "Epoch: 8 batch: 60 | loss: 0.0018013754161074758\n",
      "Epoch: 8 batch: 70 | loss: 0.002071832772344351\n",
      "Epoch: 8 batch: 80 | loss: 0.00251982850022614\n",
      "Epoch: 8 batch: 90 | loss: 0.0028151911683380604\n",
      "Epoch: 8 batch: 100 | loss: 0.004300150088965893\n",
      "Epoch: 8 batch: 110 | loss: 0.0031761275604367256\n",
      "Epoch: 8 batch: 120 | loss: 0.0062888567335903645\n",
      "Epoch: 8 batch: 130 | loss: 0.0037435051053762436\n",
      "Epoch: 8 batch: 140 | loss: 0.0031275798100978136\n",
      "Epoch: 8 batch: 150 | loss: 0.0023692052345722914\n",
      "Epoch: 8 batch: 160 | loss: 0.0013430205872282386\n",
      "Epoch: 8 batch: 170 | loss: 0.000540790380910039\n",
      "Epoch: 8 batch: 180 | loss: 0.000815986015368253\n",
      "Epoch: 8 batch: 190 | loss: 0.0022271524649113417\n",
      "Epoch: 8 batch: 200 | loss: 0.002551267622038722\n",
      "Epoch: 8 batch: 210 | loss: 0.0012702965177595615\n",
      "Epoch: 8 batch: 220 | loss: 0.0026861734222620726\n",
      "Epoch: 8 batch: 230 | loss: 0.0041999113745987415\n",
      "Epoch: 8 batch: 240 | loss: 0.004932843614369631\n",
      "Epoch: 8 batch: 250 | loss: 0.0016609388403594494\n",
      "Epoch: 8 batch: 260 | loss: 0.0034496630541980267\n",
      "Epoch: 8 batch: 270 | loss: 0.0009940009331330657\n",
      "Epoch: 8 batch: 280 | loss: 0.0025235693901777267\n",
      "Epoch: 8 batch: 290 | loss: 0.0025014416314661503\n",
      "Epoch: 8 batch: 300 | loss: 0.0038945339620113373\n",
      "Epoch: 8 batch: 310 | loss: 0.0023474169429391623\n",
      "Epoch: 8 batch: 320 | loss: 0.002594254445284605\n",
      "Epoch: 8 batch: 330 | loss: 0.0030886083841323853\n",
      "Epoch: 8 batch: 340 | loss: 0.0022221964318305254\n",
      "Epoch: 8 batch: 350 | loss: 0.003981287125498056\n",
      "Epoch: 8 batch: 360 | loss: 0.003355637891218066\n",
      "Epoch: 8 batch: 370 | loss: 0.002598054939880967\n",
      "Epoch: 8 batch: 380 | loss: 0.0014584921300411224\n",
      "Epoch: 8 batch: 390 | loss: 0.0013382144970819354\n",
      "Epoch: 8 batch: 400 | loss: 0.0009389400947839022\n",
      "Epoch: 8 batch: 410 | loss: 0.000520025088917464\n",
      "Epoch: 8 batch: 420 | loss: 0.00213508028537035\n",
      "Epoch: 8 batch: 430 | loss: 0.001983199268579483\n",
      "Epoch: 8 batch: 440 | loss: 0.002046773908659816\n"
     ]
    },
    {
     "name": "stderr",
     "output_type": "stream",
     "text": [
      "65it [00:00, 283.92it/s]"
     ]
    },
    {
     "name": "stdout",
     "output_type": "stream",
     "text": [
      "Epoch: 8 valLoss: 0.0030715454848517574\n"
     ]
    },
    {
     "name": "stderr",
     "output_type": "stream",
     "text": [
      "\n"
     ]
    },
    {
     "name": "stdout",
     "output_type": "stream",
     "text": [
      "Epoch: 9 batch: 0 | loss: 0.0020740428008139133\n",
      "Epoch: 9 batch: 10 | loss: 0.003110245568677783\n",
      "Epoch: 9 batch: 20 | loss: 0.0009995982982218266\n",
      "Epoch: 9 batch: 30 | loss: 0.0013371474342420697\n",
      "Epoch: 9 batch: 40 | loss: 0.0014992858050391078\n",
      "Epoch: 9 batch: 50 | loss: 0.002621229737997055\n",
      "Epoch: 9 batch: 60 | loss: 0.0013338017743080854\n",
      "Epoch: 9 batch: 70 | loss: 0.0022645648568868637\n",
      "Epoch: 9 batch: 80 | loss: 0.0026554870419204235\n",
      "Epoch: 9 batch: 90 | loss: 0.0024514850229024887\n",
      "Epoch: 9 batch: 100 | loss: 0.004770305939018726\n",
      "Epoch: 9 batch: 110 | loss: 0.003260295605286956\n",
      "Epoch: 9 batch: 120 | loss: 0.006152191665023565\n",
      "Epoch: 9 batch: 130 | loss: 0.004771067760884762\n",
      "Epoch: 9 batch: 140 | loss: 0.0028400865849107504\n",
      "Epoch: 9 batch: 150 | loss: 0.0019737971015274525\n",
      "Epoch: 9 batch: 160 | loss: 0.0011124338489025831\n",
      "Epoch: 9 batch: 170 | loss: 0.0006977656157687306\n",
      "Epoch: 9 batch: 180 | loss: 0.0008317606989294291\n",
      "Epoch: 9 batch: 190 | loss: 0.002156090922653675\n",
      "Epoch: 9 batch: 200 | loss: 0.002889353781938553\n",
      "Epoch: 9 batch: 210 | loss: 0.0009578102035447955\n",
      "Epoch: 9 batch: 220 | loss: 0.002849164418876171\n",
      "Epoch: 9 batch: 230 | loss: 0.004145204089581966\n",
      "Epoch: 9 batch: 240 | loss: 0.0034300449769943953\n",
      "Epoch: 9 batch: 250 | loss: 0.0023257476277649403\n",
      "Epoch: 9 batch: 260 | loss: 0.0028140267822891474\n",
      "Epoch: 9 batch: 270 | loss: 0.0006240858929231763\n",
      "Epoch: 9 batch: 280 | loss: 0.0019606139976531267\n",
      "Epoch: 9 batch: 290 | loss: 0.0015355574432760477\n",
      "Epoch: 9 batch: 300 | loss: 0.003447753842920065\n",
      "Epoch: 9 batch: 310 | loss: 0.002418051939457655\n",
      "Epoch: 9 batch: 320 | loss: 0.0026850244030356407\n",
      "Epoch: 9 batch: 330 | loss: 0.0037174758035689592\n",
      "Epoch: 9 batch: 340 | loss: 0.002675851108506322\n",
      "Epoch: 9 batch: 350 | loss: 0.004620527848601341\n",
      "Epoch: 9 batch: 360 | loss: 0.0037801151629537344\n",
      "Epoch: 9 batch: 370 | loss: 0.0029324907809495926\n",
      "Epoch: 9 batch: 380 | loss: 0.0013477313332259655\n",
      "Epoch: 9 batch: 390 | loss: 0.0016518458724021912\n",
      "Epoch: 9 batch: 400 | loss: 0.0013193574268370867\n",
      "Epoch: 9 batch: 410 | loss: 0.0005158515996299684\n",
      "Epoch: 9 batch: 420 | loss: 0.0020119112450629473\n",
      "Epoch: 9 batch: 430 | loss: 0.0021296909544616938\n",
      "Epoch: 9 batch: 440 | loss: 0.0016116126207634807\n"
     ]
    },
    {
     "name": "stderr",
     "output_type": "stream",
     "text": [
      "65it [00:00, 302.05it/s]"
     ]
    },
    {
     "name": "stdout",
     "output_type": "stream",
     "text": [
      "Epoch: 9 valLoss: 0.002721225542379963\n"
     ]
    },
    {
     "name": "stderr",
     "output_type": "stream",
     "text": [
      "\n"
     ]
    },
    {
     "name": "stdout",
     "output_type": "stream",
     "text": [
      "Epoch: 10 batch: 0 | loss: 0.0027116055134683847\n",
      "Epoch: 10 batch: 10 | loss: 0.002415152033790946\n",
      "Epoch: 10 batch: 20 | loss: 0.0007719197310507298\n",
      "Epoch: 10 batch: 30 | loss: 0.0013649208704009652\n",
      "Epoch: 10 batch: 40 | loss: 0.001469177776016295\n",
      "Epoch: 10 batch: 50 | loss: 0.0025651755277067423\n",
      "Epoch: 10 batch: 60 | loss: 0.0013089703861624002\n",
      "Epoch: 10 batch: 70 | loss: 0.0015609822003170848\n",
      "Epoch: 10 batch: 80 | loss: 0.0020649470388889313\n",
      "Epoch: 10 batch: 90 | loss: 0.003015434369444847\n",
      "Epoch: 10 batch: 100 | loss: 0.005123570561408997\n",
      "Epoch: 10 batch: 110 | loss: 0.003723048372194171\n",
      "Epoch: 10 batch: 120 | loss: 0.005536576267331839\n",
      "Epoch: 10 batch: 130 | loss: 0.00443656463176012\n",
      "Epoch: 10 batch: 140 | loss: 0.002457460854202509\n",
      "Epoch: 10 batch: 150 | loss: 0.0019162866519764066\n",
      "Epoch: 10 batch: 160 | loss: 0.0007437168969772756\n",
      "Epoch: 10 batch: 170 | loss: 0.0014922723639756441\n",
      "Epoch: 10 batch: 180 | loss: 0.000665974454022944\n",
      "Epoch: 10 batch: 190 | loss: 0.002214673673734069\n",
      "Epoch: 10 batch: 200 | loss: 0.00222282693721354\n",
      "Epoch: 10 batch: 210 | loss: 0.0011619057040661573\n",
      "Epoch: 10 batch: 220 | loss: 0.0035900038201361895\n",
      "Epoch: 10 batch: 230 | loss: 0.0026123039424419403\n",
      "Epoch: 10 batch: 240 | loss: 0.00648915208876133\n",
      "Epoch: 10 batch: 250 | loss: 0.0023280910681933165\n",
      "Epoch: 10 batch: 260 | loss: 0.0030138737056404352\n",
      "Epoch: 10 batch: 270 | loss: 0.0008533868240192533\n",
      "Epoch: 10 batch: 280 | loss: 0.002828075084835291\n",
      "Epoch: 10 batch: 290 | loss: 0.0015342540573328733\n",
      "Epoch: 10 batch: 300 | loss: 0.0033500269055366516\n",
      "Epoch: 10 batch: 310 | loss: 0.0010315374238416553\n",
      "Epoch: 10 batch: 320 | loss: 0.0025558965280652046\n",
      "Epoch: 10 batch: 330 | loss: 0.002044419525191188\n",
      "Epoch: 10 batch: 340 | loss: 0.002162529854103923\n",
      "Epoch: 10 batch: 350 | loss: 0.0034391898661851883\n",
      "Epoch: 10 batch: 360 | loss: 0.003609576029703021\n",
      "Epoch: 10 batch: 370 | loss: 0.0026489277370274067\n",
      "Epoch: 10 batch: 380 | loss: 0.0015793952625244856\n",
      "Epoch: 10 batch: 390 | loss: 0.0012488947249948978\n",
      "Epoch: 10 batch: 400 | loss: 0.0009065201156772673\n",
      "Epoch: 10 batch: 410 | loss: 0.0003345181467011571\n",
      "Epoch: 10 batch: 420 | loss: 0.0023169415071606636\n",
      "Epoch: 10 batch: 430 | loss: 0.0019158334471285343\n",
      "Epoch: 10 batch: 440 | loss: 0.0017434024484828115\n"
     ]
    },
    {
     "name": "stderr",
     "output_type": "stream",
     "text": [
      "65it [00:00, 282.07it/s]"
     ]
    },
    {
     "name": "stdout",
     "output_type": "stream",
     "text": [
      "Epoch: 10 valLoss: 0.002820245945495187\n"
     ]
    },
    {
     "name": "stderr",
     "output_type": "stream",
     "text": [
      "\n"
     ]
    },
    {
     "name": "stdout",
     "output_type": "stream",
     "text": [
      "Epoch: 11 batch: 0 | loss: 0.0021786722354590893\n",
      "Epoch: 11 batch: 10 | loss: 0.0023347330279648304\n",
      "Epoch: 11 batch: 20 | loss: 0.0005897238734178245\n",
      "Epoch: 11 batch: 30 | loss: 0.0018802965059876442\n",
      "Epoch: 11 batch: 40 | loss: 0.0011150423670187593\n",
      "Epoch: 11 batch: 50 | loss: 0.0021097382996231318\n",
      "Epoch: 11 batch: 60 | loss: 0.0011990155326202512\n",
      "Epoch: 11 batch: 70 | loss: 0.0009205478127114475\n",
      "Epoch: 11 batch: 80 | loss: 0.002802027855068445\n",
      "Epoch: 11 batch: 90 | loss: 0.0026286940556019545\n",
      "Epoch: 11 batch: 100 | loss: 0.004152593202888966\n",
      "Epoch: 11 batch: 110 | loss: 0.002070534508675337\n",
      "Epoch: 11 batch: 120 | loss: 0.004925484303385019\n",
      "Epoch: 11 batch: 130 | loss: 0.003643580712378025\n",
      "Epoch: 11 batch: 140 | loss: 0.0021185160148888826\n",
      "Epoch: 11 batch: 150 | loss: 0.0010249813785776496\n",
      "Epoch: 11 batch: 160 | loss: 0.0007133269682526588\n",
      "Epoch: 11 batch: 170 | loss: 0.0011395284673199058\n",
      "Epoch: 11 batch: 180 | loss: 0.0006336588994599879\n",
      "Epoch: 11 batch: 190 | loss: 0.0019169207662343979\n",
      "Epoch: 11 batch: 200 | loss: 0.002243132097646594\n",
      "Epoch: 11 batch: 210 | loss: 0.0013559318613260984\n",
      "Epoch: 11 batch: 220 | loss: 0.0028598036151379347\n",
      "Epoch: 11 batch: 230 | loss: 0.0029511924367398024\n",
      "Epoch: 11 batch: 240 | loss: 0.004579660948365927\n",
      "Epoch: 11 batch: 250 | loss: 0.0023725717328488827\n",
      "Epoch: 11 batch: 260 | loss: 0.003685717238113284\n",
      "Epoch: 11 batch: 270 | loss: 0.0008320960332639515\n",
      "Epoch: 11 batch: 280 | loss: 0.0015421530697494745\n",
      "Epoch: 11 batch: 290 | loss: 0.0015685820253565907\n",
      "Epoch: 11 batch: 300 | loss: 0.0034455247223377228\n",
      "Epoch: 11 batch: 310 | loss: 0.0025496690068393946\n",
      "Epoch: 11 batch: 320 | loss: 0.001873718574643135\n",
      "Epoch: 11 batch: 330 | loss: 0.0017662697937339544\n",
      "Epoch: 11 batch: 340 | loss: 0.002481995616108179\n",
      "Epoch: 11 batch: 350 | loss: 0.003084966680034995\n",
      "Epoch: 11 batch: 360 | loss: 0.004497787449508905\n",
      "Epoch: 11 batch: 370 | loss: 0.0023924866691231728\n",
      "Epoch: 11 batch: 380 | loss: 0.0014643697068095207\n",
      "Epoch: 11 batch: 390 | loss: 0.0007365204510279\n",
      "Epoch: 11 batch: 400 | loss: 0.0006826031021773815\n",
      "Epoch: 11 batch: 410 | loss: 0.0004946421249769628\n",
      "Epoch: 11 batch: 420 | loss: 0.001159211155027151\n",
      "Epoch: 11 batch: 430 | loss: 0.001698469277471304\n",
      "Epoch: 11 batch: 440 | loss: 0.0018720458028838038\n"
     ]
    },
    {
     "name": "stderr",
     "output_type": "stream",
     "text": [
      "65it [00:00, 306.48it/s]"
     ]
    },
    {
     "name": "stdout",
     "output_type": "stream",
     "text": [
      "Epoch: 11 valLoss: 0.0024224608071773466\n"
     ]
    },
    {
     "name": "stderr",
     "output_type": "stream",
     "text": [
      "\n"
     ]
    },
    {
     "name": "stdout",
     "output_type": "stream",
     "text": [
      "Epoch: 12 batch: 0 | loss: 0.0019395006820559502\n",
      "Epoch: 12 batch: 10 | loss: 0.0023355737794190645\n",
      "Epoch: 12 batch: 20 | loss: 0.0006095814751461148\n",
      "Epoch: 12 batch: 30 | loss: 0.0015720875235274434\n",
      "Epoch: 12 batch: 40 | loss: 0.0009671472362242639\n",
      "Epoch: 12 batch: 50 | loss: 0.0018094509141519666\n",
      "Epoch: 12 batch: 60 | loss: 0.0010857594897970557\n",
      "Epoch: 12 batch: 70 | loss: 0.001220351317897439\n",
      "Epoch: 12 batch: 80 | loss: 0.0025191130116581917\n",
      "Epoch: 12 batch: 90 | loss: 0.0025562408845871687\n",
      "Epoch: 12 batch: 100 | loss: 0.0041807107627391815\n",
      "Epoch: 12 batch: 110 | loss: 0.00387232331559062\n",
      "Epoch: 12 batch: 120 | loss: 0.00409729965031147\n",
      "Epoch: 12 batch: 130 | loss: 0.004957954399287701\n",
      "Epoch: 12 batch: 140 | loss: 0.002817828906700015\n",
      "Epoch: 12 batch: 150 | loss: 0.0012795578222721815\n",
      "Epoch: 12 batch: 160 | loss: 0.0007857403834350407\n",
      "Epoch: 12 batch: 170 | loss: 0.0008761383942328393\n",
      "Epoch: 12 batch: 180 | loss: 0.0005671048420481384\n",
      "Epoch: 12 batch: 190 | loss: 0.0011893133632838726\n",
      "Epoch: 12 batch: 200 | loss: 0.00221039610914886\n",
      "Epoch: 12 batch: 210 | loss: 0.000910398899577558\n",
      "Epoch: 12 batch: 220 | loss: 0.0029323932249099016\n",
      "Epoch: 12 batch: 230 | loss: 0.0025111385621130466\n",
      "Epoch: 12 batch: 240 | loss: 0.0036930732894688845\n",
      "Epoch: 12 batch: 250 | loss: 0.0016761947190389037\n",
      "Epoch: 12 batch: 260 | loss: 0.0034306442830711603\n",
      "Epoch: 12 batch: 270 | loss: 0.0005279666511341929\n",
      "Epoch: 12 batch: 280 | loss: 0.0022371935192495584\n",
      "Epoch: 12 batch: 290 | loss: 0.0014413658063858747\n",
      "Epoch: 12 batch: 300 | loss: 0.0029601608403027058\n",
      "Epoch: 12 batch: 310 | loss: 0.001638854737393558\n",
      "Epoch: 12 batch: 320 | loss: 0.002330734860152006\n",
      "Epoch: 12 batch: 330 | loss: 0.0013426468940451741\n",
      "Epoch: 12 batch: 340 | loss: 0.0016853741835802794\n",
      "Epoch: 12 batch: 350 | loss: 0.0027559460140764713\n",
      "Epoch: 12 batch: 360 | loss: 0.003923994489014149\n",
      "Epoch: 12 batch: 370 | loss: 0.0029116696678102016\n",
      "Epoch: 12 batch: 380 | loss: 0.0016270163469016552\n",
      "Epoch: 12 batch: 390 | loss: 0.0010453725699335337\n",
      "Epoch: 12 batch: 400 | loss: 0.0005445730057545006\n",
      "Epoch: 12 batch: 410 | loss: 0.0006073451950214803\n",
      "Epoch: 12 batch: 420 | loss: 0.0014230203814804554\n",
      "Epoch: 12 batch: 430 | loss: 0.002271311590448022\n",
      "Epoch: 12 batch: 440 | loss: 0.0010305448668077588\n"
     ]
    },
    {
     "name": "stderr",
     "output_type": "stream",
     "text": [
      "65it [00:00, 279.06it/s]"
     ]
    },
    {
     "name": "stdout",
     "output_type": "stream",
     "text": [
      "Epoch: 12 valLoss: 0.002453246312863862\n"
     ]
    },
    {
     "name": "stderr",
     "output_type": "stream",
     "text": [
      "\n"
     ]
    },
    {
     "name": "stdout",
     "output_type": "stream",
     "text": [
      "Epoch: 13 batch: 0 | loss: 0.0018122318433597684\n",
      "Epoch: 13 batch: 10 | loss: 0.002048635855317116\n",
      "Epoch: 13 batch: 20 | loss: 0.0006221381481736898\n",
      "Epoch: 13 batch: 30 | loss: 0.0017781442729756236\n",
      "Epoch: 13 batch: 40 | loss: 0.0010983305983245373\n",
      "Epoch: 13 batch: 50 | loss: 0.0014967540046200156\n",
      "Epoch: 13 batch: 60 | loss: 0.001087395241484046\n",
      "Epoch: 13 batch: 70 | loss: 0.0012560695176944137\n",
      "Epoch: 13 batch: 80 | loss: 0.0022232159972190857\n",
      "Epoch: 13 batch: 90 | loss: 0.0025287880562245846\n",
      "Epoch: 13 batch: 100 | loss: 0.003644838696345687\n",
      "Epoch: 13 batch: 110 | loss: 0.00154087133705616\n",
      "Epoch: 13 batch: 120 | loss: 0.004265741910785437\n",
      "Epoch: 13 batch: 130 | loss: 0.0033615268766880035\n",
      "Epoch: 13 batch: 140 | loss: 0.002429698593914509\n",
      "Epoch: 13 batch: 150 | loss: 0.0013252859935164452\n",
      "Epoch: 13 batch: 160 | loss: 0.0005957761313766241\n",
      "Epoch: 13 batch: 170 | loss: 0.0007824533386155963\n",
      "Epoch: 13 batch: 180 | loss: 0.0007719660643488169\n",
      "Epoch: 13 batch: 190 | loss: 0.0016640785615891218\n",
      "Epoch: 13 batch: 200 | loss: 0.002361622639000416\n",
      "Epoch: 13 batch: 210 | loss: 0.0007837010198272765\n",
      "Epoch: 13 batch: 220 | loss: 0.002197031397372484\n",
      "Epoch: 13 batch: 230 | loss: 0.002226299373432994\n",
      "Epoch: 13 batch: 240 | loss: 0.0030452783685177565\n",
      "Epoch: 13 batch: 250 | loss: 0.0017897847574204206\n",
      "Epoch: 13 batch: 260 | loss: 0.002802583621814847\n",
      "Epoch: 13 batch: 270 | loss: 0.0007222460117191076\n",
      "Epoch: 13 batch: 280 | loss: 0.0020372294820845127\n",
      "Epoch: 13 batch: 290 | loss: 0.0016311497893184423\n",
      "Epoch: 13 batch: 300 | loss: 0.003370500635355711\n",
      "Epoch: 13 batch: 310 | loss: 0.0010637944797053933\n",
      "Epoch: 13 batch: 320 | loss: 0.0016661151312291622\n",
      "Epoch: 13 batch: 330 | loss: 0.0015604667132720351\n",
      "Epoch: 13 batch: 340 | loss: 0.001244763727299869\n",
      "Epoch: 13 batch: 350 | loss: 0.0019592437893152237\n",
      "Epoch: 13 batch: 360 | loss: 0.002943596336990595\n",
      "Epoch: 13 batch: 370 | loss: 0.0024894620291888714\n",
      "Epoch: 13 batch: 380 | loss: 0.0017449423903599381\n",
      "Epoch: 13 batch: 390 | loss: 0.0011034876806661487\n",
      "Epoch: 13 batch: 400 | loss: 0.0005493451608344913\n",
      "Epoch: 13 batch: 410 | loss: 0.0004543918767012656\n",
      "Epoch: 13 batch: 420 | loss: 0.0020664387848228216\n",
      "Epoch: 13 batch: 430 | loss: 0.001556742237880826\n",
      "Epoch: 13 batch: 440 | loss: 0.001914123771712184\n"
     ]
    },
    {
     "name": "stderr",
     "output_type": "stream",
     "text": [
      "65it [00:00, 285.08it/s]"
     ]
    },
    {
     "name": "stdout",
     "output_type": "stream",
     "text": [
      "Epoch: 13 valLoss: 0.0020581583977812333\n"
     ]
    },
    {
     "name": "stderr",
     "output_type": "stream",
     "text": [
      "\n"
     ]
    },
    {
     "name": "stdout",
     "output_type": "stream",
     "text": [
      "Epoch: 14 batch: 0 | loss: 0.0019244333961978555\n",
      "Epoch: 14 batch: 10 | loss: 0.002034935401752591\n",
      "Epoch: 14 batch: 20 | loss: 0.0009317699004895985\n",
      "Epoch: 14 batch: 30 | loss: 0.0009067645878531039\n",
      "Epoch: 14 batch: 40 | loss: 0.0009848070330917835\n",
      "Epoch: 14 batch: 50 | loss: 0.002032021526247263\n",
      "Epoch: 14 batch: 60 | loss: 0.0012945986818522215\n",
      "Epoch: 14 batch: 70 | loss: 0.0012013015802949667\n",
      "Epoch: 14 batch: 80 | loss: 0.0017616469413042068\n",
      "Epoch: 14 batch: 90 | loss: 0.001671581994742155\n",
      "Epoch: 14 batch: 100 | loss: 0.003028735751286149\n",
      "Epoch: 14 batch: 110 | loss: 0.001675915322266519\n",
      "Epoch: 14 batch: 120 | loss: 0.0034021767787635326\n",
      "Epoch: 14 batch: 130 | loss: 0.0033394137863069773\n",
      "Epoch: 14 batch: 140 | loss: 0.001602423144504428\n",
      "Epoch: 14 batch: 150 | loss: 0.0013051481219008565\n",
      "Epoch: 14 batch: 160 | loss: 0.0008611858356744051\n",
      "Epoch: 14 batch: 170 | loss: 0.0007744503091089427\n",
      "Epoch: 14 batch: 180 | loss: 0.0005996025283820927\n",
      "Epoch: 14 batch: 190 | loss: 0.0012805392034351826\n",
      "Epoch: 14 batch: 200 | loss: 0.001676285406574607\n",
      "Epoch: 14 batch: 210 | loss: 0.0008295541047118604\n",
      "Epoch: 14 batch: 220 | loss: 0.0017744348151609302\n",
      "Epoch: 14 batch: 230 | loss: 0.0017774575389921665\n",
      "Epoch: 14 batch: 240 | loss: 0.0033627634402364492\n",
      "Epoch: 14 batch: 250 | loss: 0.0018023133743554354\n",
      "Epoch: 14 batch: 260 | loss: 0.003415715415030718\n",
      "Epoch: 14 batch: 270 | loss: 0.00085354846669361\n",
      "Epoch: 14 batch: 280 | loss: 0.0012522940523922443\n",
      "Epoch: 14 batch: 290 | loss: 0.002010180614888668\n",
      "Epoch: 14 batch: 300 | loss: 0.0029015066102147102\n",
      "Epoch: 14 batch: 310 | loss: 0.0014677353901788592\n",
      "Epoch: 14 batch: 320 | loss: 0.0015050474321469665\n",
      "Epoch: 14 batch: 330 | loss: 0.0011786666000261903\n",
      "Epoch: 14 batch: 340 | loss: 0.00131799781229347\n",
      "Epoch: 14 batch: 350 | loss: 0.002339011989533901\n",
      "Epoch: 14 batch: 360 | loss: 0.001262002158910036\n",
      "Epoch: 14 batch: 370 | loss: 0.0019990717992186546\n",
      "Epoch: 14 batch: 380 | loss: 0.0010631507029756904\n",
      "Epoch: 14 batch: 390 | loss: 0.0005545146996155381\n",
      "Epoch: 14 batch: 400 | loss: 0.0005564005114138126\n",
      "Epoch: 14 batch: 410 | loss: 0.00027330033481121063\n",
      "Epoch: 14 batch: 420 | loss: 0.00066398672061041\n",
      "Epoch: 14 batch: 430 | loss: 0.0016113733872771263\n",
      "Epoch: 14 batch: 440 | loss: 0.0017544841393828392\n"
     ]
    },
    {
     "name": "stderr",
     "output_type": "stream",
     "text": [
      "65it [00:00, 304.15it/s]"
     ]
    },
    {
     "name": "stdout",
     "output_type": "stream",
     "text": [
      "Epoch: 14 valLoss: 0.0018206793366124625\n"
     ]
    },
    {
     "name": "stderr",
     "output_type": "stream",
     "text": [
      "\n"
     ]
    },
    {
     "name": "stdout",
     "output_type": "stream",
     "text": [
      "Epoch: 15 batch: 0 | loss: 0.0023205196484923363\n",
      "Epoch: 15 batch: 10 | loss: 0.0018658479675650597\n",
      "Epoch: 15 batch: 20 | loss: 0.0008363803499378264\n",
      "Epoch: 15 batch: 30 | loss: 0.001822873717173934\n",
      "Epoch: 15 batch: 40 | loss: 0.0007130226003937423\n",
      "Epoch: 15 batch: 50 | loss: 0.0013318165438249707\n",
      "Epoch: 15 batch: 60 | loss: 0.0012854472734034061\n",
      "Epoch: 15 batch: 70 | loss: 0.0013747263001278043\n",
      "Epoch: 15 batch: 80 | loss: 0.0026856567710638046\n",
      "Epoch: 15 batch: 90 | loss: 0.0015144172357395291\n",
      "Epoch: 15 batch: 100 | loss: 0.0033243680372834206\n",
      "Epoch: 15 batch: 110 | loss: 0.0015618123579770327\n",
      "Epoch: 15 batch: 120 | loss: 0.002546379342675209\n",
      "Epoch: 15 batch: 130 | loss: 0.002365953056141734\n",
      "Epoch: 15 batch: 140 | loss: 0.0008980307029560208\n",
      "Epoch: 15 batch: 150 | loss: 0.0006633541779592633\n",
      "Epoch: 15 batch: 160 | loss: 0.0004642573185265064\n",
      "Epoch: 15 batch: 170 | loss: 0.0008546630851924419\n",
      "Epoch: 15 batch: 180 | loss: 0.000621698098257184\n",
      "Epoch: 15 batch: 190 | loss: 0.001000312971882522\n",
      "Epoch: 15 batch: 200 | loss: 0.002257173415273428\n",
      "Epoch: 15 batch: 210 | loss: 0.0010833414271473885\n",
      "Epoch: 15 batch: 220 | loss: 0.0011538773542270064\n",
      "Epoch: 15 batch: 230 | loss: 0.0011463062837719917\n",
      "Epoch: 15 batch: 240 | loss: 0.0017862393287941813\n",
      "Epoch: 15 batch: 250 | loss: 0.0014840944204479456\n",
      "Epoch: 15 batch: 260 | loss: 0.0029633240774273872\n",
      "Epoch: 15 batch: 270 | loss: 0.0006492565153166652\n",
      "Epoch: 15 batch: 280 | loss: 0.0011932721827179193\n",
      "Epoch: 15 batch: 290 | loss: 0.0014000501250848174\n",
      "Epoch: 15 batch: 300 | loss: 0.0030280519276857376\n",
      "Epoch: 15 batch: 310 | loss: 0.001557276933453977\n",
      "Epoch: 15 batch: 320 | loss: 0.0016223187558352947\n",
      "Epoch: 15 batch: 330 | loss: 0.0012911866651847959\n",
      "Epoch: 15 batch: 340 | loss: 0.0016882838681340218\n",
      "Epoch: 15 batch: 350 | loss: 0.0012892956146970391\n",
      "Epoch: 15 batch: 360 | loss: 0.0014910787576809525\n",
      "Epoch: 15 batch: 370 | loss: 0.0012088908115401864\n",
      "Epoch: 15 batch: 380 | loss: 0.0013764388859272003\n",
      "Epoch: 15 batch: 390 | loss: 0.0004095213662367314\n",
      "Epoch: 15 batch: 400 | loss: 0.00041405658703297377\n",
      "Epoch: 15 batch: 410 | loss: 0.00032508530421182513\n",
      "Epoch: 15 batch: 420 | loss: 0.0011706025106832385\n",
      "Epoch: 15 batch: 430 | loss: 0.0019384860061109066\n",
      "Epoch: 15 batch: 440 | loss: 0.0014849459985271096\n"
     ]
    },
    {
     "name": "stderr",
     "output_type": "stream",
     "text": [
      "65it [00:00, 277.84it/s]"
     ]
    },
    {
     "name": "stdout",
     "output_type": "stream",
     "text": [
      "Epoch: 15 valLoss: 0.0014734731019426666\n"
     ]
    },
    {
     "name": "stderr",
     "output_type": "stream",
     "text": [
      "\n"
     ]
    },
    {
     "name": "stdout",
     "output_type": "stream",
     "text": [
      "Epoch: 16 batch: 0 | loss: 0.0018967249197885394\n",
      "Epoch: 16 batch: 10 | loss: 0.0011434413027018309\n",
      "Epoch: 16 batch: 20 | loss: 0.000711101689375937\n",
      "Epoch: 16 batch: 30 | loss: 0.0006971961702220142\n",
      "Epoch: 16 batch: 40 | loss: 0.0004686688771471381\n",
      "Epoch: 16 batch: 50 | loss: 0.0004520482034422457\n",
      "Epoch: 16 batch: 60 | loss: 0.0007357859285548329\n",
      "Epoch: 16 batch: 70 | loss: 0.0011647207429632545\n",
      "Epoch: 16 batch: 80 | loss: 0.0008368879789486527\n",
      "Epoch: 16 batch: 90 | loss: 0.0006318435189314187\n",
      "Epoch: 16 batch: 100 | loss: 0.002368353772908449\n",
      "Epoch: 16 batch: 110 | loss: 0.0022136957850307226\n",
      "Epoch: 16 batch: 120 | loss: 0.0021021165885031223\n",
      "Epoch: 16 batch: 130 | loss: 0.0013001635670661926\n",
      "Epoch: 16 batch: 140 | loss: 0.00038302704342640936\n",
      "Epoch: 16 batch: 150 | loss: 0.0004835185536649078\n",
      "Epoch: 16 batch: 160 | loss: 0.0002824084076564759\n",
      "Epoch: 16 batch: 170 | loss: 0.0010141549864783883\n",
      "Epoch: 16 batch: 180 | loss: 0.0002819855872076005\n",
      "Epoch: 16 batch: 190 | loss: 0.0004841997870244086\n",
      "Epoch: 16 batch: 200 | loss: 0.0007503462256863713\n",
      "Epoch: 16 batch: 210 | loss: 0.001017933594994247\n",
      "Epoch: 16 batch: 220 | loss: 0.001143240137025714\n",
      "Epoch: 16 batch: 230 | loss: 0.0008285122457891703\n",
      "Epoch: 16 batch: 240 | loss: 0.0008028605370782316\n",
      "Epoch: 16 batch: 250 | loss: 0.001163837849162519\n",
      "Epoch: 16 batch: 260 | loss: 0.0023526172153651714\n",
      "Epoch: 16 batch: 270 | loss: 0.0006891678203828633\n",
      "Epoch: 16 batch: 280 | loss: 0.0009870032081380486\n",
      "Epoch: 16 batch: 290 | loss: 0.0004342690226621926\n",
      "Epoch: 16 batch: 300 | loss: 0.0018181916093453765\n",
      "Epoch: 16 batch: 310 | loss: 0.0009202021756209433\n",
      "Epoch: 16 batch: 320 | loss: 0.0013397788861766458\n",
      "Epoch: 16 batch: 330 | loss: 0.0008360437350347638\n",
      "Epoch: 16 batch: 340 | loss: 0.0008744664955884218\n",
      "Epoch: 16 batch: 350 | loss: 0.0009761014953255653\n",
      "Epoch: 16 batch: 360 | loss: 0.0005387300625443459\n",
      "Epoch: 16 batch: 370 | loss: 0.0010472976136952639\n",
      "Epoch: 16 batch: 380 | loss: 0.0007846882217563689\n",
      "Epoch: 16 batch: 390 | loss: 0.00026153362705372274\n",
      "Epoch: 16 batch: 400 | loss: 0.0001812048867577687\n",
      "Epoch: 16 batch: 410 | loss: 0.00024432718055322766\n",
      "Epoch: 16 batch: 420 | loss: 0.0012529673986136913\n",
      "Epoch: 16 batch: 430 | loss: 0.0008690707618370652\n",
      "Epoch: 16 batch: 440 | loss: 0.0009974747663363814\n"
     ]
    },
    {
     "name": "stderr",
     "output_type": "stream",
     "text": [
      "65it [00:00, 271.05it/s]"
     ]
    },
    {
     "name": "stdout",
     "output_type": "stream",
     "text": [
      "Epoch: 16 valLoss: 0.0011190924321758632\n"
     ]
    },
    {
     "name": "stderr",
     "output_type": "stream",
     "text": [
      "\n"
     ]
    },
    {
     "name": "stdout",
     "output_type": "stream",
     "text": [
      "Epoch: 17 batch: 0 | loss: 0.0010618452215567231\n",
      "Epoch: 17 batch: 10 | loss: 0.0011666914215311408\n",
      "Epoch: 17 batch: 20 | loss: 0.0006598009495064616\n",
      "Epoch: 17 batch: 30 | loss: 0.0007749343640170991\n",
      "Epoch: 17 batch: 40 | loss: 0.0004621788684744388\n",
      "Epoch: 17 batch: 50 | loss: 0.00035897610359825194\n",
      "Epoch: 17 batch: 60 | loss: 0.0003840495483018458\n",
      "Epoch: 17 batch: 70 | loss: 0.0013508008560165763\n",
      "Epoch: 17 batch: 80 | loss: 0.0005055006477050483\n",
      "Epoch: 17 batch: 90 | loss: 0.0005709378747269511\n",
      "Epoch: 17 batch: 100 | loss: 0.0020485713612288237\n",
      "Epoch: 17 batch: 110 | loss: 0.001292002503760159\n",
      "Epoch: 17 batch: 120 | loss: 0.0019485722295939922\n",
      "Epoch: 17 batch: 130 | loss: 0.0016218762611970305\n",
      "Epoch: 17 batch: 140 | loss: 0.0007467969553545117\n",
      "Epoch: 17 batch: 150 | loss: 0.0004422123893164098\n",
      "Epoch: 17 batch: 160 | loss: 0.00047112590982578695\n",
      "Epoch: 17 batch: 170 | loss: 0.0006333161145448685\n",
      "Epoch: 17 batch: 180 | loss: 0.0004427350650075823\n",
      "Epoch: 17 batch: 190 | loss: 0.0002785614924505353\n",
      "Epoch: 17 batch: 200 | loss: 0.000734132481738925\n",
      "Epoch: 17 batch: 210 | loss: 0.0007889740518294275\n",
      "Epoch: 17 batch: 220 | loss: 0.0010207811137661338\n",
      "Epoch: 17 batch: 230 | loss: 0.0009275363991037011\n",
      "Epoch: 17 batch: 240 | loss: 0.0010822403710335493\n",
      "Epoch: 17 batch: 250 | loss: 0.0007621000986546278\n",
      "Epoch: 17 batch: 260 | loss: 0.002394628245383501\n",
      "Epoch: 17 batch: 270 | loss: 0.0007354884291999042\n",
      "Epoch: 17 batch: 280 | loss: 0.00046251388266682625\n",
      "Epoch: 17 batch: 290 | loss: 0.0006774335051886737\n",
      "Epoch: 17 batch: 300 | loss: 0.002206220757216215\n",
      "Epoch: 17 batch: 310 | loss: 0.0008512607309967279\n",
      "Epoch: 17 batch: 320 | loss: 0.0009500346495769918\n",
      "Epoch: 17 batch: 330 | loss: 0.0007321227458305657\n",
      "Epoch: 17 batch: 340 | loss: 0.0010983033571392298\n",
      "Epoch: 17 batch: 350 | loss: 0.0014472902985289693\n",
      "Epoch: 17 batch: 360 | loss: 0.0013289196649566293\n",
      "Epoch: 17 batch: 370 | loss: 0.0009390392806380987\n",
      "Epoch: 17 batch: 380 | loss: 0.0010384168708696961\n",
      "Epoch: 17 batch: 390 | loss: 0.00028049512184225023\n",
      "Epoch: 17 batch: 400 | loss: 0.0002753937733359635\n",
      "Epoch: 17 batch: 410 | loss: 0.00013867722009308636\n",
      "Epoch: 17 batch: 420 | loss: 0.0005415068590082228\n",
      "Epoch: 17 batch: 430 | loss: 0.0007030468550510705\n",
      "Epoch: 17 batch: 440 | loss: 0.0008878009975887835\n"
     ]
    },
    {
     "name": "stderr",
     "output_type": "stream",
     "text": [
      "65it [00:00, 256.53it/s]"
     ]
    },
    {
     "name": "stdout",
     "output_type": "stream",
     "text": [
      "Epoch: 17 valLoss: 0.0009784464962390193\n"
     ]
    },
    {
     "name": "stderr",
     "output_type": "stream",
     "text": [
      "\n"
     ]
    },
    {
     "name": "stdout",
     "output_type": "stream",
     "text": [
      "Epoch: 18 batch: 0 | loss: 0.0006976321456022561\n",
      "Epoch: 18 batch: 10 | loss: 0.0008237644215114415\n",
      "Epoch: 18 batch: 20 | loss: 0.0006136285373941064\n",
      "Epoch: 18 batch: 30 | loss: 0.0008673659758642316\n",
      "Epoch: 18 batch: 40 | loss: 0.00041955671622417867\n",
      "Epoch: 18 batch: 50 | loss: 0.0002313452132511884\n",
      "Epoch: 18 batch: 60 | loss: 0.0005400849040597677\n",
      "Epoch: 18 batch: 70 | loss: 0.0010026056552305818\n",
      "Epoch: 18 batch: 80 | loss: 0.0006874154205434024\n",
      "Epoch: 18 batch: 90 | loss: 0.0006282221875153482\n",
      "Epoch: 18 batch: 100 | loss: 0.0013512622099369764\n",
      "Epoch: 18 batch: 110 | loss: 0.0006089351954869926\n",
      "Epoch: 18 batch: 120 | loss: 0.001121416105888784\n",
      "Epoch: 18 batch: 130 | loss: 0.002098417840898037\n",
      "Epoch: 18 batch: 140 | loss: 0.00040299148531630635\n",
      "Epoch: 18 batch: 150 | loss: 0.0003702787507791072\n",
      "Epoch: 18 batch: 160 | loss: 0.00046669726725667715\n",
      "Epoch: 18 batch: 170 | loss: 0.000385389372240752\n",
      "Epoch: 18 batch: 180 | loss: 0.00018427417671773583\n",
      "Epoch: 18 batch: 190 | loss: 0.0005645474302582443\n",
      "Epoch: 18 batch: 200 | loss: 0.0007950050057843328\n",
      "Epoch: 18 batch: 210 | loss: 0.0007235287921503186\n",
      "Epoch: 18 batch: 220 | loss: 0.0006646211259067059\n",
      "Epoch: 18 batch: 230 | loss: 0.0006481243763118982\n",
      "Epoch: 18 batch: 240 | loss: 0.0008830494480207562\n",
      "Epoch: 18 batch: 250 | loss: 0.0004821130132768303\n",
      "Epoch: 18 batch: 260 | loss: 0.001501398510299623\n",
      "Epoch: 18 batch: 270 | loss: 0.00047178540262393653\n",
      "Epoch: 18 batch: 280 | loss: 0.000697271607350558\n",
      "Epoch: 18 batch: 290 | loss: 0.0005410064477473497\n",
      "Epoch: 18 batch: 300 | loss: 0.002025431487709284\n",
      "Epoch: 18 batch: 310 | loss: 0.0007041991339065135\n",
      "Epoch: 18 batch: 320 | loss: 0.0006829765625298023\n",
      "Epoch: 18 batch: 330 | loss: 0.0009272202732972801\n",
      "Epoch: 18 batch: 340 | loss: 0.00096419284818694\n",
      "Epoch: 18 batch: 350 | loss: 0.0009135699365288019\n",
      "Epoch: 18 batch: 360 | loss: 0.0006428258493542671\n",
      "Epoch: 18 batch: 370 | loss: 0.000393224589060992\n",
      "Epoch: 18 batch: 380 | loss: 0.0006088581867516041\n",
      "Epoch: 18 batch: 390 | loss: 0.0001357661676593125\n",
      "Epoch: 18 batch: 400 | loss: 0.0005190392257645726\n",
      "Epoch: 18 batch: 410 | loss: 0.00022784834436606616\n",
      "Epoch: 18 batch: 420 | loss: 0.0006098633166402578\n",
      "Epoch: 18 batch: 430 | loss: 0.0012702378444373608\n",
      "Epoch: 18 batch: 440 | loss: 0.0006538688903674483\n"
     ]
    },
    {
     "name": "stderr",
     "output_type": "stream",
     "text": [
      "65it [00:00, 304.59it/s]"
     ]
    },
    {
     "name": "stdout",
     "output_type": "stream",
     "text": [
      "Epoch: 18 valLoss: 0.001002634337955099\n"
     ]
    },
    {
     "name": "stderr",
     "output_type": "stream",
     "text": [
      "\n"
     ]
    },
    {
     "name": "stdout",
     "output_type": "stream",
     "text": [
      "Epoch: 19 batch: 0 | loss: 0.0007928667473606765\n",
      "Epoch: 19 batch: 10 | loss: 0.0007708596531301737\n",
      "Epoch: 19 batch: 20 | loss: 0.000542204303201288\n",
      "Epoch: 19 batch: 30 | loss: 0.0011527270544320345\n",
      "Epoch: 19 batch: 40 | loss: 0.00018892192747443914\n",
      "Epoch: 19 batch: 50 | loss: 0.0003826610336545855\n",
      "Epoch: 19 batch: 60 | loss: 0.0007165155257098377\n",
      "Epoch: 19 batch: 70 | loss: 0.0005017672665417194\n",
      "Epoch: 19 batch: 80 | loss: 0.0009316329378634691\n",
      "Epoch: 19 batch: 90 | loss: 0.0005093751242384315\n",
      "Epoch: 19 batch: 100 | loss: 0.0013322365703061223\n",
      "Epoch: 19 batch: 110 | loss: 0.0009496561251580715\n",
      "Epoch: 19 batch: 120 | loss: 0.000567052629776299\n",
      "Epoch: 19 batch: 130 | loss: 0.0015049714129418135\n",
      "Epoch: 19 batch: 140 | loss: 0.00022875699505675584\n",
      "Epoch: 19 batch: 150 | loss: 0.000244486698647961\n",
      "Epoch: 19 batch: 160 | loss: 0.0002216419525211677\n",
      "Epoch: 19 batch: 170 | loss: 0.0004157723451498896\n",
      "Epoch: 19 batch: 180 | loss: 0.00035425034002400935\n",
      "Epoch: 19 batch: 190 | loss: 0.00041925624827854335\n",
      "Epoch: 19 batch: 200 | loss: 0.0006147620733827353\n",
      "Epoch: 19 batch: 210 | loss: 0.0006569203687831759\n",
      "Epoch: 19 batch: 220 | loss: 0.0009632039000280201\n",
      "Epoch: 19 batch: 230 | loss: 0.0008761468343436718\n",
      "Epoch: 19 batch: 240 | loss: 0.0011637222487479448\n",
      "Epoch: 19 batch: 250 | loss: 0.0008731408161111176\n",
      "Epoch: 19 batch: 260 | loss: 0.001606444362550974\n",
      "Epoch: 19 batch: 270 | loss: 0.0005398949142545462\n",
      "Epoch: 19 batch: 280 | loss: 0.0004935761680826545\n",
      "Epoch: 19 batch: 290 | loss: 0.0003836916876025498\n",
      "Epoch: 19 batch: 300 | loss: 0.0016034452710300684\n",
      "Epoch: 19 batch: 310 | loss: 0.0008764570811763406\n",
      "Epoch: 19 batch: 320 | loss: 0.0006925711059011519\n",
      "Epoch: 19 batch: 330 | loss: 0.0004754353140015155\n",
      "Epoch: 19 batch: 340 | loss: 0.0011566845932975411\n",
      "Epoch: 19 batch: 350 | loss: 0.0007923284429125488\n",
      "Epoch: 19 batch: 360 | loss: 0.0005893096677027643\n",
      "Epoch: 19 batch: 370 | loss: 0.0009152980637736619\n",
      "Epoch: 19 batch: 380 | loss: 0.0005052337655797601\n",
      "Epoch: 19 batch: 390 | loss: 0.00013452691200654954\n",
      "Epoch: 19 batch: 400 | loss: 0.0002278165047755465\n",
      "Epoch: 19 batch: 410 | loss: 0.00021219720656517893\n",
      "Epoch: 19 batch: 420 | loss: 0.0005211708485148847\n",
      "Epoch: 19 batch: 430 | loss: 0.0013942120131105185\n",
      "Epoch: 19 batch: 440 | loss: 0.0008552909130230546\n"
     ]
    },
    {
     "name": "stderr",
     "output_type": "stream",
     "text": [
      "65it [00:00, 302.60it/s]"
     ]
    },
    {
     "name": "stdout",
     "output_type": "stream",
     "text": [
      "Epoch: 19 valLoss: 0.0009619863409732004\n"
     ]
    },
    {
     "name": "stderr",
     "output_type": "stream",
     "text": [
      "\n"
     ]
    },
    {
     "name": "stdout",
     "output_type": "stream",
     "text": [
      "Epoch: 20 batch: 0 | loss: 0.0005889046005904675\n",
      "Epoch: 20 batch: 10 | loss: 0.0009252476738765836\n",
      "Epoch: 20 batch: 20 | loss: 0.0007505575194954872\n",
      "Epoch: 20 batch: 30 | loss: 0.0005710514960810542\n",
      "Epoch: 20 batch: 40 | loss: 0.00023995983065105975\n",
      "Epoch: 20 batch: 50 | loss: 0.0002671244437806308\n",
      "Epoch: 20 batch: 60 | loss: 0.0005885633290745318\n",
      "Epoch: 20 batch: 70 | loss: 0.0006780880503356457\n",
      "Epoch: 20 batch: 80 | loss: 0.00031907085212878883\n",
      "Epoch: 20 batch: 90 | loss: 0.0004384353233035654\n",
      "Epoch: 20 batch: 100 | loss: 0.0010814316337928176\n",
      "Epoch: 20 batch: 110 | loss: 0.0004339861625339836\n",
      "Epoch: 20 batch: 120 | loss: 0.0006341403350234032\n",
      "Epoch: 20 batch: 130 | loss: 0.001919949660077691\n",
      "Epoch: 20 batch: 140 | loss: 0.0005668617668561637\n",
      "Epoch: 20 batch: 150 | loss: 0.0003514354466460645\n",
      "Epoch: 20 batch: 160 | loss: 0.0002639465674292296\n",
      "Epoch: 20 batch: 170 | loss: 0.00044586361036635935\n",
      "Epoch: 20 batch: 180 | loss: 0.0004750753578264266\n",
      "Epoch: 20 batch: 190 | loss: 0.00042265362571924925\n",
      "Epoch: 20 batch: 200 | loss: 0.0004179646202828735\n",
      "Epoch: 20 batch: 210 | loss: 0.0004306138725951314\n",
      "Epoch: 20 batch: 220 | loss: 0.0007992528844624758\n",
      "Epoch: 20 batch: 230 | loss: 0.00033403298584744334\n",
      "Epoch: 20 batch: 240 | loss: 0.00032931860187090933\n",
      "Epoch: 20 batch: 250 | loss: 0.0007948625716380775\n",
      "Epoch: 20 batch: 260 | loss: 0.002090168185532093\n",
      "Epoch: 20 batch: 270 | loss: 0.000312979391310364\n",
      "Epoch: 20 batch: 280 | loss: 0.00040177395567297935\n",
      "Epoch: 20 batch: 290 | loss: 0.0006806039018556476\n",
      "Epoch: 20 batch: 300 | loss: 0.001993407728150487\n",
      "Epoch: 20 batch: 310 | loss: 0.0008870692690834403\n",
      "Epoch: 20 batch: 320 | loss: 0.0005527556058950722\n",
      "Epoch: 20 batch: 330 | loss: 0.00036274062586016953\n",
      "Epoch: 20 batch: 340 | loss: 0.0015721693634986877\n",
      "Epoch: 20 batch: 350 | loss: 0.0007437648018822074\n",
      "Epoch: 20 batch: 360 | loss: 0.00044043452362529933\n",
      "Epoch: 20 batch: 370 | loss: 0.0004874883743468672\n",
      "Epoch: 20 batch: 380 | loss: 0.0005166077753528953\n",
      "Epoch: 20 batch: 390 | loss: 0.00021900614956393838\n",
      "Epoch: 20 batch: 400 | loss: 0.00026074619381688535\n",
      "Epoch: 20 batch: 410 | loss: 0.0002422263059997931\n",
      "Epoch: 20 batch: 420 | loss: 0.0006061089807190001\n",
      "Epoch: 20 batch: 430 | loss: 0.000980442389845848\n",
      "Epoch: 20 batch: 440 | loss: 0.0005306053790263832\n"
     ]
    },
    {
     "name": "stderr",
     "output_type": "stream",
     "text": [
      "65it [00:00, 291.05it/s]"
     ]
    },
    {
     "name": "stdout",
     "output_type": "stream",
     "text": [
      "Epoch: 20 valLoss: 0.0010185067667672358\n"
     ]
    },
    {
     "name": "stderr",
     "output_type": "stream",
     "text": [
      "\n"
     ]
    },
    {
     "name": "stdout",
     "output_type": "stream",
     "text": [
      "Epoch: 21 batch: 0 | loss: 0.00048696849262341857\n",
      "Epoch: 21 batch: 10 | loss: 0.0005920705152675509\n",
      "Epoch: 21 batch: 20 | loss: 0.00043317655217833817\n",
      "Epoch: 21 batch: 30 | loss: 0.0005548654589802027\n",
      "Epoch: 21 batch: 40 | loss: 0.0002145818289136514\n",
      "Epoch: 21 batch: 50 | loss: 0.00022492169227916747\n",
      "Epoch: 21 batch: 60 | loss: 0.0003562362107913941\n",
      "Epoch: 21 batch: 70 | loss: 0.0007851124973967671\n",
      "Epoch: 21 batch: 80 | loss: 0.00042418192606419325\n",
      "Epoch: 21 batch: 90 | loss: 0.00023934572527650744\n",
      "Epoch: 21 batch: 100 | loss: 0.0004802677722182125\n",
      "Epoch: 21 batch: 110 | loss: 0.0008042579283937812\n",
      "Epoch: 21 batch: 120 | loss: 0.001080955844372511\n",
      "Epoch: 21 batch: 130 | loss: 0.0020407612901180983\n",
      "Epoch: 21 batch: 140 | loss: 0.000400689197704196\n",
      "Epoch: 21 batch: 150 | loss: 0.0003646613913588226\n",
      "Epoch: 21 batch: 160 | loss: 0.00019577788771130145\n",
      "Epoch: 21 batch: 170 | loss: 0.0004057202604599297\n",
      "Epoch: 21 batch: 180 | loss: 0.00030652902205474675\n",
      "Epoch: 21 batch: 190 | loss: 0.0004216808301862329\n",
      "Epoch: 21 batch: 200 | loss: 0.0006450160872191191\n",
      "Epoch: 21 batch: 210 | loss: 0.0005353144370019436\n",
      "Epoch: 21 batch: 220 | loss: 0.0005629387451335788\n",
      "Epoch: 21 batch: 230 | loss: 0.0003708366130013019\n",
      "Epoch: 21 batch: 240 | loss: 0.0008844798430800438\n",
      "Epoch: 21 batch: 250 | loss: 0.0005883827107027173\n",
      "Epoch: 21 batch: 260 | loss: 0.0018075548578053713\n",
      "Epoch: 21 batch: 270 | loss: 0.00040010339580476284\n",
      "Epoch: 21 batch: 280 | loss: 0.000409555621445179\n",
      "Epoch: 21 batch: 290 | loss: 0.0005875359638594091\n",
      "Epoch: 21 batch: 300 | loss: 0.0016926926327869296\n",
      "Epoch: 21 batch: 310 | loss: 0.0004126226995140314\n",
      "Epoch: 21 batch: 320 | loss: 0.00099697255063802\n",
      "Epoch: 21 batch: 330 | loss: 0.0002966600295621902\n",
      "Epoch: 21 batch: 340 | loss: 0.0008723078644834459\n",
      "Epoch: 21 batch: 350 | loss: 0.0009154616855084896\n",
      "Epoch: 21 batch: 360 | loss: 0.0006800160626880825\n",
      "Epoch: 21 batch: 370 | loss: 0.0008887638105079532\n",
      "Epoch: 21 batch: 380 | loss: 0.0005478272214531898\n",
      "Epoch: 21 batch: 390 | loss: 0.00021237287728581578\n",
      "Epoch: 21 batch: 400 | loss: 0.0002076607634080574\n",
      "Epoch: 21 batch: 410 | loss: 0.00022815432748757303\n",
      "Epoch: 21 batch: 420 | loss: 0.00041902426164597273\n",
      "Epoch: 21 batch: 430 | loss: 0.0010056492174044251\n",
      "Epoch: 21 batch: 440 | loss: 0.00082207634113729\n"
     ]
    },
    {
     "name": "stderr",
     "output_type": "stream",
     "text": [
      "65it [00:00, 305.84it/s]"
     ]
    },
    {
     "name": "stdout",
     "output_type": "stream",
     "text": [
      "Epoch: 21 valLoss: 0.0008156918242717346\n"
     ]
    },
    {
     "name": "stderr",
     "output_type": "stream",
     "text": [
      "\n"
     ]
    },
    {
     "name": "stdout",
     "output_type": "stream",
     "text": [
      "Epoch: 22 batch: 0 | loss: 0.0005804241518490016\n",
      "Epoch: 22 batch: 10 | loss: 0.0004995749332010746\n",
      "Epoch: 22 batch: 20 | loss: 0.0005056991940364242\n",
      "Epoch: 22 batch: 30 | loss: 0.0004591720353346318\n",
      "Epoch: 22 batch: 40 | loss: 0.0002071217750199139\n",
      "Epoch: 22 batch: 50 | loss: 0.00023193872766569257\n",
      "Epoch: 22 batch: 60 | loss: 0.0003820231941062957\n",
      "Epoch: 22 batch: 70 | loss: 0.000360435078619048\n",
      "Epoch: 22 batch: 80 | loss: 0.0004359551821835339\n",
      "Epoch: 22 batch: 90 | loss: 0.0005744644440710545\n",
      "Epoch: 22 batch: 100 | loss: 0.0008559258421882987\n",
      "Epoch: 22 batch: 110 | loss: 0.0006720165256410837\n",
      "Epoch: 22 batch: 120 | loss: 0.0008041600813157856\n",
      "Epoch: 22 batch: 130 | loss: 0.0014771476853638887\n",
      "Epoch: 22 batch: 140 | loss: 0.00044102975516580045\n",
      "Epoch: 22 batch: 150 | loss: 0.00023472074826713651\n",
      "Epoch: 22 batch: 160 | loss: 0.000241377143538557\n",
      "Epoch: 22 batch: 170 | loss: 0.00036824439303018153\n",
      "Epoch: 22 batch: 180 | loss: 0.00027593623963184655\n",
      "Epoch: 22 batch: 190 | loss: 0.0004431616689544171\n",
      "Epoch: 22 batch: 200 | loss: 0.0005953522631898522\n",
      "Epoch: 22 batch: 210 | loss: 0.00043618420022539794\n",
      "Epoch: 22 batch: 220 | loss: 0.0004499135247897357\n",
      "Epoch: 22 batch: 230 | loss: 0.0004706850741058588\n",
      "Epoch: 22 batch: 240 | loss: 0.000544035981874913\n",
      "Epoch: 22 batch: 250 | loss: 0.0003444867325015366\n",
      "Epoch: 22 batch: 260 | loss: 0.0016851400723680854\n",
      "Epoch: 22 batch: 270 | loss: 0.00031516479793936014\n",
      "Epoch: 22 batch: 280 | loss: 0.00039589160587638617\n",
      "Epoch: 22 batch: 290 | loss: 0.0006697161588817835\n",
      "Epoch: 22 batch: 300 | loss: 0.0020587067119777203\n",
      "Epoch: 22 batch: 310 | loss: 0.0006306173163466156\n",
      "Epoch: 22 batch: 320 | loss: 0.0006241727969609201\n",
      "Epoch: 22 batch: 330 | loss: 0.0006411202484741807\n",
      "Epoch: 22 batch: 340 | loss: 0.0008271940751001239\n",
      "Epoch: 22 batch: 350 | loss: 0.0008826956036500633\n",
      "Epoch: 22 batch: 360 | loss: 0.0007242934661917388\n",
      "Epoch: 22 batch: 370 | loss: 0.00043890587403438985\n",
      "Epoch: 22 batch: 380 | loss: 0.000801283516921103\n",
      "Epoch: 22 batch: 390 | loss: 0.0002724653168115765\n",
      "Epoch: 22 batch: 400 | loss: 0.0001787835790310055\n",
      "Epoch: 22 batch: 410 | loss: 0.00011175595136592165\n",
      "Epoch: 22 batch: 420 | loss: 0.0004947521956637502\n",
      "Epoch: 22 batch: 430 | loss: 0.00040540940244682133\n",
      "Epoch: 22 batch: 440 | loss: 0.0005327126127667725\n"
     ]
    },
    {
     "name": "stderr",
     "output_type": "stream",
     "text": [
      "65it [00:00, 295.64it/s]"
     ]
    },
    {
     "name": "stdout",
     "output_type": "stream",
     "text": [
      "Epoch: 22 valLoss: 0.0008523323333114571\n"
     ]
    },
    {
     "name": "stderr",
     "output_type": "stream",
     "text": [
      "\n"
     ]
    },
    {
     "name": "stdout",
     "output_type": "stream",
     "text": [
      "Epoch: 23 batch: 0 | loss: 0.0004830412508454174\n",
      "Epoch: 23 batch: 10 | loss: 0.0005981642170809209\n",
      "Epoch: 23 batch: 20 | loss: 0.00030412606429308653\n",
      "Epoch: 23 batch: 30 | loss: 0.0003835851384792477\n",
      "Epoch: 23 batch: 40 | loss: 0.00023462036915589124\n",
      "Epoch: 23 batch: 50 | loss: 0.00025930063566192985\n",
      "Epoch: 23 batch: 60 | loss: 0.00034038283047266304\n",
      "Epoch: 23 batch: 70 | loss: 0.000511682010255754\n",
      "Epoch: 23 batch: 80 | loss: 0.0008815396577119827\n",
      "Epoch: 23 batch: 90 | loss: 0.00032105695572681725\n",
      "Epoch: 23 batch: 100 | loss: 0.0009829148184508085\n",
      "Epoch: 23 batch: 110 | loss: 0.0005186300259083509\n",
      "Epoch: 23 batch: 120 | loss: 0.0006656120531260967\n",
      "Epoch: 23 batch: 130 | loss: 0.0024100146256387234\n",
      "Epoch: 23 batch: 140 | loss: 0.0003879820869769901\n",
      "Epoch: 23 batch: 150 | loss: 0.000375553936464712\n",
      "Epoch: 23 batch: 160 | loss: 0.0002008175797527656\n",
      "Epoch: 23 batch: 170 | loss: 0.0006109600653871894\n",
      "Epoch: 23 batch: 180 | loss: 0.0001539658842375502\n",
      "Epoch: 23 batch: 190 | loss: 0.000482379604363814\n",
      "Epoch: 23 batch: 200 | loss: 0.0007087903213687241\n",
      "Epoch: 23 batch: 210 | loss: 0.00048767882981337607\n",
      "Epoch: 23 batch: 220 | loss: 0.0012282697716727853\n",
      "Epoch: 23 batch: 230 | loss: 0.0004363006737548858\n",
      "Epoch: 23 batch: 240 | loss: 0.0009276387863792479\n",
      "Epoch: 23 batch: 250 | loss: 0.0004383930063340813\n",
      "Epoch: 23 batch: 260 | loss: 0.0019187243888154626\n",
      "Epoch: 23 batch: 270 | loss: 0.0005773657467216253\n",
      "Epoch: 23 batch: 280 | loss: 0.0006605415255762637\n",
      "Epoch: 23 batch: 290 | loss: 0.0005806484841741621\n",
      "Epoch: 23 batch: 300 | loss: 0.001750465831719339\n",
      "Epoch: 23 batch: 310 | loss: 0.00034308069734834135\n",
      "Epoch: 23 batch: 320 | loss: 0.0006363424472510815\n",
      "Epoch: 23 batch: 330 | loss: 0.0004160533135291189\n",
      "Epoch: 23 batch: 340 | loss: 0.0009752616169862449\n",
      "Epoch: 23 batch: 350 | loss: 0.0006661799270659685\n",
      "Epoch: 23 batch: 360 | loss: 0.0005967131583020091\n",
      "Epoch: 23 batch: 370 | loss: 0.00041640628478489816\n",
      "Epoch: 23 batch: 380 | loss: 0.00045748267439194024\n",
      "Epoch: 23 batch: 390 | loss: 0.00013906943786423653\n",
      "Epoch: 23 batch: 400 | loss: 0.0002526206662878394\n",
      "Epoch: 23 batch: 410 | loss: 0.00014115565863903612\n",
      "Epoch: 23 batch: 420 | loss: 0.00027158172451891005\n",
      "Epoch: 23 batch: 430 | loss: 0.0006824544398114085\n",
      "Epoch: 23 batch: 440 | loss: 0.000724167563021183\n"
     ]
    },
    {
     "name": "stderr",
     "output_type": "stream",
     "text": [
      "65it [00:00, 292.63it/s]"
     ]
    },
    {
     "name": "stdout",
     "output_type": "stream",
     "text": [
      "Epoch: 23 valLoss: 0.0008291038792050547\n"
     ]
    },
    {
     "name": "stderr",
     "output_type": "stream",
     "text": [
      "\n"
     ]
    },
    {
     "name": "stdout",
     "output_type": "stream",
     "text": [
      "Epoch: 24 batch: 0 | loss: 0.0005930857150815427\n",
      "Epoch: 24 batch: 10 | loss: 0.0008744396036490798\n",
      "Epoch: 24 batch: 20 | loss: 0.0005520808044821024\n",
      "Epoch: 24 batch: 30 | loss: 0.0004373997508082539\n",
      "Epoch: 24 batch: 40 | loss: 0.00023512588813900948\n",
      "Epoch: 24 batch: 50 | loss: 0.0002775029861368239\n",
      "Epoch: 24 batch: 60 | loss: 0.0005147844203747809\n",
      "Epoch: 24 batch: 70 | loss: 0.00036000905674882233\n",
      "Epoch: 24 batch: 80 | loss: 0.0004111932939849794\n",
      "Epoch: 24 batch: 90 | loss: 0.0005175650585442781\n",
      "Epoch: 24 batch: 100 | loss: 0.000980998040176928\n",
      "Epoch: 24 batch: 110 | loss: 0.000543019559700042\n",
      "Epoch: 24 batch: 120 | loss: 0.0009530134848318994\n",
      "Epoch: 24 batch: 130 | loss: 0.0017864098772406578\n",
      "Epoch: 24 batch: 140 | loss: 0.0002602092281449586\n",
      "Epoch: 24 batch: 150 | loss: 0.000480598391732201\n",
      "Epoch: 24 batch: 160 | loss: 0.0001628848840482533\n",
      "Epoch: 24 batch: 170 | loss: 0.00039353477768599987\n",
      "Epoch: 24 batch: 180 | loss: 0.00016670166223775595\n",
      "Epoch: 24 batch: 190 | loss: 0.00024203388602472842\n",
      "Epoch: 24 batch: 200 | loss: 0.0006698185461573303\n",
      "Epoch: 24 batch: 210 | loss: 0.0002809254510793835\n",
      "Epoch: 24 batch: 220 | loss: 0.0005572257796302438\n",
      "Epoch: 24 batch: 230 | loss: 0.00038343557389453053\n",
      "Epoch: 24 batch: 240 | loss: 0.0006327010923996568\n",
      "Epoch: 24 batch: 250 | loss: 0.0005087050958536565\n",
      "Epoch: 24 batch: 260 | loss: 0.0017435082700103521\n",
      "Epoch: 24 batch: 270 | loss: 0.0005276462179608643\n",
      "Epoch: 24 batch: 280 | loss: 0.00036022771382704377\n",
      "Epoch: 24 batch: 290 | loss: 0.0006796956877224147\n",
      "Epoch: 24 batch: 300 | loss: 0.0017323673237115145\n",
      "Epoch: 24 batch: 310 | loss: 0.0004412252164911479\n",
      "Epoch: 24 batch: 320 | loss: 0.0004736713890451938\n",
      "Epoch: 24 batch: 330 | loss: 0.0005738421459682286\n",
      "Epoch: 24 batch: 340 | loss: 0.0011062605772167444\n",
      "Epoch: 24 batch: 350 | loss: 0.0006038254941813648\n",
      "Epoch: 24 batch: 360 | loss: 0.00043310970067977905\n",
      "Epoch: 24 batch: 370 | loss: 0.0006063863984309137\n",
      "Epoch: 24 batch: 380 | loss: 0.0005617221468128264\n",
      "Epoch: 24 batch: 390 | loss: 0.00023261873866431415\n",
      "Epoch: 24 batch: 400 | loss: 0.0002036949445027858\n",
      "Epoch: 24 batch: 410 | loss: 0.00010869108518818393\n",
      "Epoch: 24 batch: 420 | loss: 0.0003179228806402534\n",
      "Epoch: 24 batch: 430 | loss: 0.0005759682971984148\n",
      "Epoch: 24 batch: 440 | loss: 0.00040381663711741567\n"
     ]
    },
    {
     "name": "stderr",
     "output_type": "stream",
     "text": [
      "65it [00:00, 274.97it/s]"
     ]
    },
    {
     "name": "stdout",
     "output_type": "stream",
     "text": [
      "Epoch: 24 valLoss: 0.0008118035914858997\n"
     ]
    },
    {
     "name": "stderr",
     "output_type": "stream",
     "text": [
      "\n"
     ]
    },
    {
     "name": "stdout",
     "output_type": "stream",
     "text": [
      "Epoch: 25 batch: 0 | loss: 0.0004439220065250993\n",
      "Epoch: 25 batch: 10 | loss: 0.00058488838840276\n",
      "Epoch: 25 batch: 20 | loss: 0.00026534206699579954\n",
      "Epoch: 25 batch: 30 | loss: 0.0003831834765151143\n",
      "Epoch: 25 batch: 40 | loss: 0.00033260061172768474\n",
      "Epoch: 25 batch: 50 | loss: 0.00021956062118988484\n",
      "Epoch: 25 batch: 60 | loss: 0.0003651197475846857\n",
      "Epoch: 25 batch: 70 | loss: 0.00045866434811614454\n",
      "Epoch: 25 batch: 80 | loss: 0.0004149876185692847\n",
      "Epoch: 25 batch: 90 | loss: 0.0002317978214705363\n",
      "Epoch: 25 batch: 100 | loss: 0.0008120679412968457\n",
      "Epoch: 25 batch: 110 | loss: 0.0005775571917183697\n",
      "Epoch: 25 batch: 120 | loss: 0.0005362916854210198\n",
      "Epoch: 25 batch: 130 | loss: 0.0014648656360805035\n",
      "Epoch: 25 batch: 140 | loss: 0.00024246377870440483\n",
      "Epoch: 25 batch: 150 | loss: 0.00026996672386303544\n",
      "Epoch: 25 batch: 160 | loss: 0.00026913394685834646\n",
      "Epoch: 25 batch: 170 | loss: 0.000185696582775563\n",
      "Epoch: 25 batch: 180 | loss: 0.0001424345391569659\n",
      "Epoch: 25 batch: 190 | loss: 0.0003141511115245521\n",
      "Epoch: 25 batch: 200 | loss: 0.0004191241750959307\n",
      "Epoch: 25 batch: 210 | loss: 0.0004945228574797511\n",
      "Epoch: 25 batch: 220 | loss: 0.00036943017039448023\n",
      "Epoch: 25 batch: 230 | loss: 0.0005097393877804279\n",
      "Epoch: 25 batch: 240 | loss: 0.0006133159040473402\n",
      "Epoch: 25 batch: 250 | loss: 0.0005280988989397883\n",
      "Epoch: 25 batch: 260 | loss: 0.0015923130558803678\n",
      "Epoch: 25 batch: 270 | loss: 0.00032233845558948815\n",
      "Epoch: 25 batch: 280 | loss: 0.00040299378451891243\n",
      "Epoch: 25 batch: 290 | loss: 0.0004712658701464534\n",
      "Epoch: 25 batch: 300 | loss: 0.0020272801630198956\n",
      "Epoch: 25 batch: 310 | loss: 0.0004941492807120085\n",
      "Epoch: 25 batch: 320 | loss: 0.0005436721257865429\n",
      "Epoch: 25 batch: 330 | loss: 0.0004488769918680191\n",
      "Epoch: 25 batch: 340 | loss: 0.0007196136866696179\n",
      "Epoch: 25 batch: 350 | loss: 0.0005816045450046659\n",
      "Epoch: 25 batch: 360 | loss: 0.0004616141668520868\n",
      "Epoch: 25 batch: 370 | loss: 0.00029185987659730017\n",
      "Epoch: 25 batch: 380 | loss: 0.000371128146070987\n",
      "Epoch: 25 batch: 390 | loss: 0.00019218127999920398\n",
      "Epoch: 25 batch: 400 | loss: 0.000318574981065467\n",
      "Epoch: 25 batch: 410 | loss: 0.00019406602950766683\n",
      "Epoch: 25 batch: 420 | loss: 0.0004230445483699441\n",
      "Epoch: 25 batch: 430 | loss: 0.0005896072252653539\n",
      "Epoch: 25 batch: 440 | loss: 0.0005224950728006661\n"
     ]
    },
    {
     "name": "stderr",
     "output_type": "stream",
     "text": [
      "65it [00:00, 280.87it/s]"
     ]
    },
    {
     "name": "stdout",
     "output_type": "stream",
     "text": [
      "Epoch: 25 valLoss: 0.0007848230029056277\n"
     ]
    },
    {
     "name": "stderr",
     "output_type": "stream",
     "text": [
      "\n"
     ]
    },
    {
     "name": "stdout",
     "output_type": "stream",
     "text": [
      "Epoch: 26 batch: 0 | loss: 0.0005528569454327226\n",
      "Epoch: 26 batch: 10 | loss: 0.000741247262340039\n",
      "Epoch: 26 batch: 20 | loss: 0.0005507914465852082\n",
      "Epoch: 26 batch: 30 | loss: 0.0003237733617424965\n",
      "Epoch: 26 batch: 40 | loss: 0.0002580569125711918\n",
      "Epoch: 26 batch: 50 | loss: 0.0002250155812362209\n",
      "Epoch: 26 batch: 60 | loss: 0.0003852078225463629\n",
      "Epoch: 26 batch: 70 | loss: 0.00029054711922071874\n",
      "Epoch: 26 batch: 80 | loss: 0.0004117790376767516\n",
      "Epoch: 26 batch: 90 | loss: 0.0005580091383308172\n",
      "Epoch: 26 batch: 100 | loss: 0.0008821911178529263\n",
      "Epoch: 26 batch: 110 | loss: 0.00036583756445907056\n",
      "Epoch: 26 batch: 120 | loss: 0.0004401553887873888\n",
      "Epoch: 26 batch: 130 | loss: 0.002408930566161871\n",
      "Epoch: 26 batch: 140 | loss: 0.000288202689262107\n",
      "Epoch: 26 batch: 150 | loss: 0.0002419847878627479\n",
      "Epoch: 26 batch: 160 | loss: 0.00017259256856050342\n",
      "Epoch: 26 batch: 170 | loss: 0.0002560052671469748\n",
      "Epoch: 26 batch: 180 | loss: 0.0001521166559541598\n",
      "Epoch: 26 batch: 190 | loss: 0.00023206064361147583\n",
      "Epoch: 26 batch: 200 | loss: 0.0008573872619308531\n",
      "Epoch: 26 batch: 210 | loss: 0.0004549069853965193\n",
      "Epoch: 26 batch: 220 | loss: 0.0004880836349911988\n",
      "Epoch: 26 batch: 230 | loss: 0.00025860735331662\n",
      "Epoch: 26 batch: 240 | loss: 0.0009412867948412895\n",
      "Epoch: 26 batch: 250 | loss: 0.0004257489345036447\n",
      "Epoch: 26 batch: 260 | loss: 0.0019713628571480513\n",
      "Epoch: 26 batch: 270 | loss: 0.0003173779114149511\n",
      "Epoch: 26 batch: 280 | loss: 0.0003051317180506885\n",
      "Epoch: 26 batch: 290 | loss: 0.00041510676965117455\n",
      "Epoch: 26 batch: 300 | loss: 0.0013928789412602782\n",
      "Epoch: 26 batch: 310 | loss: 0.00042888009920716286\n",
      "Epoch: 26 batch: 320 | loss: 0.00077947968384251\n",
      "Epoch: 26 batch: 330 | loss: 0.0003529881942085922\n",
      "Epoch: 26 batch: 340 | loss: 0.0007393220439553261\n",
      "Epoch: 26 batch: 350 | loss: 0.0006439019343815744\n",
      "Epoch: 26 batch: 360 | loss: 0.0007409550016745925\n",
      "Epoch: 26 batch: 370 | loss: 0.0003292976471129805\n",
      "Epoch: 26 batch: 380 | loss: 0.0002678503224160522\n",
      "Epoch: 26 batch: 390 | loss: 0.00018016733520198613\n",
      "Epoch: 26 batch: 400 | loss: 0.00022470351541414857\n",
      "Epoch: 26 batch: 410 | loss: 0.00014642126916442066\n",
      "Epoch: 26 batch: 420 | loss: 0.00034167684498243034\n",
      "Epoch: 26 batch: 430 | loss: 0.00040706858271732926\n",
      "Epoch: 26 batch: 440 | loss: 0.0006198843475431204\n"
     ]
    },
    {
     "name": "stderr",
     "output_type": "stream",
     "text": [
      "65it [00:00, 286.58it/s]"
     ]
    },
    {
     "name": "stdout",
     "output_type": "stream",
     "text": [
      "Epoch: 26 valLoss: 0.0007207156047189484\n"
     ]
    },
    {
     "name": "stderr",
     "output_type": "stream",
     "text": [
      "\n"
     ]
    },
    {
     "name": "stdout",
     "output_type": "stream",
     "text": [
      "Epoch: 27 batch: 0 | loss: 0.00047745395568199456\n",
      "Epoch: 27 batch: 10 | loss: 0.0005108572077006102\n",
      "Epoch: 27 batch: 20 | loss: 0.0004992483300156891\n",
      "Epoch: 27 batch: 30 | loss: 0.00024004960141610354\n",
      "Epoch: 27 batch: 40 | loss: 0.00022528087720274925\n",
      "Epoch: 27 batch: 50 | loss: 0.00026188441552221775\n",
      "Epoch: 27 batch: 60 | loss: 0.0004554834740702063\n",
      "Epoch: 27 batch: 70 | loss: 0.0002848982985597104\n",
      "Epoch: 27 batch: 80 | loss: 0.00057682377519086\n",
      "Epoch: 27 batch: 90 | loss: 0.0003262055979575962\n",
      "Epoch: 27 batch: 100 | loss: 0.0009574303985573351\n",
      "Epoch: 27 batch: 110 | loss: 0.000727257807739079\n",
      "Epoch: 27 batch: 120 | loss: 0.0005929210456088185\n",
      "Epoch: 27 batch: 130 | loss: 0.0019694017246365547\n",
      "Epoch: 27 batch: 140 | loss: 0.0002938120160251856\n",
      "Epoch: 27 batch: 150 | loss: 0.00030925762257538736\n",
      "Epoch: 27 batch: 160 | loss: 0.00015942724712658674\n",
      "Epoch: 27 batch: 170 | loss: 0.00030131093808449805\n",
      "Epoch: 27 batch: 180 | loss: 0.00014611704682465643\n",
      "Epoch: 27 batch: 190 | loss: 0.00038229432539083064\n",
      "Epoch: 27 batch: 200 | loss: 0.0007184029091149569\n",
      "Epoch: 27 batch: 210 | loss: 0.0003569010877981782\n",
      "Epoch: 27 batch: 220 | loss: 0.00033645768417045474\n",
      "Epoch: 27 batch: 230 | loss: 0.0002733309520408511\n",
      "Epoch: 27 batch: 240 | loss: 0.0006565152434632182\n",
      "Epoch: 27 batch: 250 | loss: 0.0003115520521532744\n",
      "Epoch: 27 batch: 260 | loss: 0.0014037960208952427\n",
      "Epoch: 27 batch: 270 | loss: 0.0002851210592780262\n",
      "Epoch: 27 batch: 280 | loss: 0.00048056620289571583\n",
      "Epoch: 27 batch: 290 | loss: 0.00046923605259507895\n",
      "Epoch: 27 batch: 300 | loss: 0.0021809611935168505\n",
      "Epoch: 27 batch: 310 | loss: 0.0006254903273656964\n",
      "Epoch: 27 batch: 320 | loss: 0.0005464348942041397\n",
      "Epoch: 27 batch: 330 | loss: 0.0004863079229835421\n",
      "Epoch: 27 batch: 340 | loss: 0.0006363157299347222\n",
      "Epoch: 27 batch: 350 | loss: 0.0006713134935125709\n",
      "Epoch: 27 batch: 360 | loss: 0.0006718236254528165\n",
      "Epoch: 27 batch: 370 | loss: 0.00036650404217652977\n",
      "Epoch: 27 batch: 380 | loss: 0.000477816560305655\n",
      "Epoch: 27 batch: 390 | loss: 0.00017173169180750847\n",
      "Epoch: 27 batch: 400 | loss: 0.000261176930507645\n",
      "Epoch: 27 batch: 410 | loss: 0.00012680985673796386\n",
      "Epoch: 27 batch: 420 | loss: 0.00035024029784835875\n",
      "Epoch: 27 batch: 430 | loss: 0.0007424621726386249\n",
      "Epoch: 27 batch: 440 | loss: 0.00048282023635692894\n"
     ]
    },
    {
     "name": "stderr",
     "output_type": "stream",
     "text": [
      "65it [00:00, 281.47it/s]"
     ]
    },
    {
     "name": "stdout",
     "output_type": "stream",
     "text": [
      "Epoch: 27 valLoss: 0.0008169500305924109\n"
     ]
    },
    {
     "name": "stderr",
     "output_type": "stream",
     "text": [
      "\n"
     ]
    },
    {
     "name": "stdout",
     "output_type": "stream",
     "text": [
      "Epoch: 28 batch: 0 | loss: 0.00032500241650268435\n",
      "Epoch: 28 batch: 10 | loss: 0.0003662037488538772\n",
      "Epoch: 28 batch: 20 | loss: 0.0004608880262821913\n",
      "Epoch: 28 batch: 30 | loss: 0.0004684148298110813\n",
      "Epoch: 28 batch: 40 | loss: 0.00024114387633744627\n",
      "Epoch: 28 batch: 50 | loss: 0.000245121365878731\n",
      "Epoch: 28 batch: 60 | loss: 0.00018883991288021207\n",
      "Epoch: 28 batch: 70 | loss: 0.0006688733119517565\n",
      "Epoch: 28 batch: 80 | loss: 0.000371753383660689\n",
      "Epoch: 28 batch: 90 | loss: 0.0002551265642978251\n",
      "Epoch: 28 batch: 100 | loss: 0.0011315152514725924\n",
      "Epoch: 28 batch: 110 | loss: 0.00037267047446221113\n",
      "Epoch: 28 batch: 120 | loss: 0.0007085207034833729\n",
      "Epoch: 28 batch: 130 | loss: 0.0017831308068707585\n",
      "Epoch: 28 batch: 140 | loss: 0.00042696064338088036\n",
      "Epoch: 28 batch: 150 | loss: 0.0002991441579069942\n",
      "Epoch: 28 batch: 160 | loss: 0.00014799700875300914\n",
      "Epoch: 28 batch: 170 | loss: 0.00021082542662043124\n",
      "Epoch: 28 batch: 180 | loss: 0.00012055977276759222\n",
      "Epoch: 28 batch: 190 | loss: 0.00032062327954918146\n",
      "Epoch: 28 batch: 200 | loss: 0.0008043837151490152\n",
      "Epoch: 28 batch: 210 | loss: 0.00038382611819542944\n",
      "Epoch: 28 batch: 220 | loss: 0.0009717358043417335\n",
      "Epoch: 28 batch: 230 | loss: 0.0004692531074397266\n",
      "Epoch: 28 batch: 240 | loss: 0.0006891866796649992\n",
      "Epoch: 28 batch: 250 | loss: 0.0004080830840393901\n",
      "Epoch: 28 batch: 260 | loss: 0.0014524077996611595\n",
      "Epoch: 28 batch: 270 | loss: 0.0002472060441505164\n",
      "Epoch: 28 batch: 280 | loss: 0.0002661723701748997\n",
      "Epoch: 28 batch: 290 | loss: 0.0005701877526007593\n",
      "Epoch: 28 batch: 300 | loss: 0.0014267812948673964\n",
      "Epoch: 28 batch: 310 | loss: 0.0004126458370592445\n",
      "Epoch: 28 batch: 320 | loss: 0.0006615273887291551\n",
      "Epoch: 28 batch: 330 | loss: 0.0005288661923259497\n",
      "Epoch: 28 batch: 340 | loss: 0.0006324855494312942\n",
      "Epoch: 28 batch: 350 | loss: 0.0005790699506178498\n",
      "Epoch: 28 batch: 360 | loss: 0.0004624418797902763\n",
      "Epoch: 28 batch: 370 | loss: 0.0003540677425917238\n",
      "Epoch: 28 batch: 380 | loss: 0.0002833364123944193\n",
      "Epoch: 28 batch: 390 | loss: 0.00015929767687339336\n",
      "Epoch: 28 batch: 400 | loss: 0.0002445296850055456\n",
      "Epoch: 28 batch: 410 | loss: 0.00015655421884730458\n",
      "Epoch: 28 batch: 420 | loss: 0.0005478776292875409\n",
      "Epoch: 28 batch: 430 | loss: 0.000553024816326797\n",
      "Epoch: 28 batch: 440 | loss: 0.00023727187362965196\n"
     ]
    },
    {
     "name": "stderr",
     "output_type": "stream",
     "text": [
      "65it [00:00, 269.37it/s]"
     ]
    },
    {
     "name": "stdout",
     "output_type": "stream",
     "text": [
      "Epoch: 28 valLoss: 0.0008638795937171091\n"
     ]
    },
    {
     "name": "stderr",
     "output_type": "stream",
     "text": [
      "\n"
     ]
    },
    {
     "name": "stdout",
     "output_type": "stream",
     "text": [
      "Epoch: 29 batch: 0 | loss: 0.0003709531156346202\n",
      "Epoch: 29 batch: 10 | loss: 0.00032463009119965136\n",
      "Epoch: 29 batch: 20 | loss: 0.00027760062948800623\n",
      "Epoch: 29 batch: 30 | loss: 0.00027929790667258203\n",
      "Epoch: 29 batch: 40 | loss: 0.00023796828463673592\n",
      "Epoch: 29 batch: 50 | loss: 0.00024386413861066103\n",
      "Epoch: 29 batch: 60 | loss: 0.0002260405890410766\n",
      "Epoch: 29 batch: 70 | loss: 0.00034744542790576816\n",
      "Epoch: 29 batch: 80 | loss: 0.0004481631040107459\n",
      "Epoch: 29 batch: 90 | loss: 0.00033240337506867945\n",
      "Epoch: 29 batch: 100 | loss: 0.0005659793387167156\n",
      "Epoch: 29 batch: 110 | loss: 0.00034579800558276474\n",
      "Epoch: 29 batch: 120 | loss: 0.00066005700500682\n",
      "Epoch: 29 batch: 130 | loss: 0.0017865216359496117\n",
      "Epoch: 29 batch: 140 | loss: 0.00045388779835775495\n",
      "Epoch: 29 batch: 150 | loss: 0.00025012047262862325\n",
      "Epoch: 29 batch: 160 | loss: 0.00016876593872439116\n",
      "Epoch: 29 batch: 170 | loss: 0.00020877581846434623\n",
      "Epoch: 29 batch: 180 | loss: 0.00014751286653336138\n",
      "Epoch: 29 batch: 190 | loss: 0.00042359851067885756\n",
      "Epoch: 29 batch: 200 | loss: 0.00045143766328692436\n",
      "Epoch: 29 batch: 210 | loss: 0.0002667799999471754\n",
      "Epoch: 29 batch: 220 | loss: 0.00028124410891905427\n",
      "Epoch: 29 batch: 230 | loss: 0.000223579874727875\n",
      "Epoch: 29 batch: 240 | loss: 0.0011471615871414542\n",
      "Epoch: 29 batch: 250 | loss: 0.0002520658017601818\n",
      "Epoch: 29 batch: 260 | loss: 0.001199058024212718\n",
      "Epoch: 29 batch: 270 | loss: 0.000279449945082888\n",
      "Epoch: 29 batch: 280 | loss: 0.00014750732225365937\n",
      "Epoch: 29 batch: 290 | loss: 0.00047457325854338706\n",
      "Epoch: 29 batch: 300 | loss: 0.0012708799913525581\n",
      "Epoch: 29 batch: 310 | loss: 0.0005233626579865813\n",
      "Epoch: 29 batch: 320 | loss: 0.0005053423228673637\n",
      "Epoch: 29 batch: 330 | loss: 0.0004094422038178891\n",
      "Epoch: 29 batch: 340 | loss: 0.0005299170734360814\n",
      "Epoch: 29 batch: 350 | loss: 0.000635532895103097\n",
      "Epoch: 29 batch: 360 | loss: 0.0005263661732897162\n",
      "Epoch: 29 batch: 370 | loss: 0.0002876217768061906\n",
      "Epoch: 29 batch: 380 | loss: 0.0002873954945243895\n",
      "Epoch: 29 batch: 390 | loss: 0.0001696702092885971\n",
      "Epoch: 29 batch: 400 | loss: 0.00020443838729988784\n",
      "Epoch: 29 batch: 410 | loss: 0.00010333102545700967\n",
      "Epoch: 29 batch: 420 | loss: 0.00045860858517698944\n",
      "Epoch: 29 batch: 430 | loss: 0.0006331275799311697\n",
      "Epoch: 29 batch: 440 | loss: 0.00029838242335245013\n"
     ]
    },
    {
     "name": "stderr",
     "output_type": "stream",
     "text": [
      "65it [00:00, 165.94it/s]"
     ]
    },
    {
     "name": "stdout",
     "output_type": "stream",
     "text": [
      "Epoch: 29 valLoss: 0.0007312662150510106\n",
      "Testing... 129\n"
     ]
    },
    {
     "name": "stderr",
     "output_type": "stream",
     "text": [
      "\n",
      "129it [00:00, 335.92it/s]\n"
     ]
    },
    {
     "name": "stdout",
     "output_type": "stream",
     "text": [
      "r2Score:  0.9732221421565376\n",
      "meanSquaredError:  0.0013827450061916385\n",
      "RMSE:  0.037185279428715315\n",
      "meanAbsoluteError:  0.013599438024481905\n"
     ]
    },
    {
     "data": {
      "image/png": "[encoded data removed]",
      "text/plain": [
       "<Figure size 432x288 with 1 Axes>"
      ]
     },
     "metadata": {
      "needs_background": "light"
     },
     "output_type": "display_data"
    }
   ],
   "source": [
    "import torch\n",
    "from torch.utils.data import DataLoader\n",
    "\n",
    "from config import Config\n",
    "\n",
    "from utils.dataTools import *\n",
    "from utils.models import CNNBiLSTM\n",
    "from utils.trainer import CNNBiLstm_evaluate,CNNBiLstmtrain\n",
    "\n",
    "if __name__ == '__main__':\n",
    "    config = Config()\n",
    "\n",
    "    print(\"Data loading...\")\n",
    "    # 序列数据\n",
    "    dataset = mydataReader(\"./dataProcessed/testData.csv\")\n",
    "\n",
    "    # 创建X/Y\n",
    "    # 划分训练集和测试集，70% 作为训练集,10%作为验证集,20%作为测试集\n",
    "    (train_X ,train_Y ), (val_X,val_Y), (test_X ,test_Y )= dataset.split(lookback=config.lookback,trainSet_ratio=0.7,valSet_ratio=0.1)\n",
    "\n",
    "    # 创建Pytorch使用的dataset\n",
    "    trainSet = custom_dataset(train_X,train_Y)\n",
    "    valSet = custom_dataset(val_X,val_Y)\n",
    "    testSet = custom_dataset(test_X,test_Y)\n",
    "\n",
    "    train_loader = DataLoader(trainSet, batch_size = config.batch_size,\n",
    "                              shuffle=False, pin_memory=True, num_workers=4, drop_last=True)\n",
    "    val_loader = DataLoader(valSet, batch_size = config.batch_size,\n",
    "                              shuffle=False, pin_memory=True, num_workers=4, drop_last=False)\n",
    "    test_loader = DataLoader(testSet, batch_size = config.batch_size,\n",
    "                            shuffle=False, pin_memory=True, num_workers=4, drop_last=False)\n",
    "\n",
    "\n",
    "    print(\"Model loading...\")\n",
    "    model = CNNBiLSTM(hidden_size=12,num_layers=2).to(config.device)\n",
    "    criterion = torch.nn.MSELoss()\n",
    "    optimizer = torch.optim.AdamW(model.parameters(),\n",
    "                                 lr=config.learning_rate, weight_decay=config.weight_decay)\n",
    "\n",
    "    print(\"Training...\")\n",
    "    model = CNNBiLstmtrain(model,\n",
    "                  trainloader=train_loader,\n",
    "                  valloader=val_loader,\n",
    "                  criterion=criterion,\n",
    "                  optimizer=optimizer,\n",
    "                  config=config)\n",
    "\n",
    "    print(\"Testing...\", round(len(testSet)/config.batch_size))\n",
    "    y_pre,y = CNNBiLstm_evaluate(model, test_loader, config)\n"
   ]
  },
  {
   "cell_type": "code",
   "execution_count": 2,
   "metadata": {},
   "outputs": [],
   "source": [
    "pd.DataFrame({'y_true':y,'y_pre':y_pre}).to_csv(\"./result/CNN-BiLSTMpre-middle.csv\",index=False)\n"
   ]
  },
  {
   "cell_type": "markdown",
   "metadata": {},
   "source": [
    "CNN-BiLSTM-middle\n",
    "r2Score:  0.9732221421565376\n",
    "meanSquaredError:  0.0013827450061916385\n",
    "RMSE:  0.037185279428715315\n",
    "meanAbsoluteError:  0.013599438024481905"
   ]
  },
  {
   "cell_type": "code",
   "execution_count": 5,
   "metadata": {},
   "outputs": [
    {
     "name": "stdout",
     "output_type": "stream",
     "text": [
      "[16:00:47] WARNING: ../src/learner.cc:576: \n",
      "Parameters: { \"randam_state\" } might not be used.\n",
      "\n",
      "  This could be a false alarm, with some parameters getting used by language bindings but\n",
      "  then being mistakenly passed down to XGBoost core, or some parameter actually being used\n",
      "  but getting flagged wrongly here. Please open an issue if you find any such cases.\n",
      "\n",
      "\n",
      "测试集MSELoss:  0.000546731\n",
      "测试集MAELoss:  0.007865759\n",
      "测试集RMSELoss:  0.02338228\n",
      "测试集r2-score:  0.9894121580243599\n"
     ]
    },
    {
     "data": {
      "text/plain": [
       "<matplotlib.legend.Legend at 0x7fefe51716d0>"
      ]
     },
     "execution_count": 5,
     "metadata": {},
     "output_type": "execute_result"
    },
    {
     "data": {
      "image/png": "[encoded data removed]",
      "text/plain": [
       "<Figure size 432x288 with 1 Axes>"
      ]
     },
     "metadata": {
      "needs_background": "light"
     },
     "output_type": "display_data"
    }
   ],
   "source": [
    "# 加载xgboost模型\n",
    "from sklearn.metrics import mean_squared_error,mean_absolute_error\n",
    "from sklearn.metrics import r2_score\n",
    "import xgboost as xgb\n",
    "import numpy as np\n",
    "# 定义模型\n",
    "# model = xgb.XGBRegressor(max_depth = 6,learning_rate = 0.05,n_estimators = 100,randam_state=42)\n",
    "model = xgb.XGBRegressor(max_depth = 4,learning_rate = 0.05,n_estimators = 100,randam_state=42)\n",
    "\n",
    "# 训练\n",
    "model.fit(train_X.squeeze(),train_Y.squeeze())\n",
    "test_predict=model.predict(test_X.squeeze())\n",
    "train_predict = model.predict(train_X.squeeze())\n",
    "\n",
    "# MSE\n",
    "msetest=mean_squared_error(test_Y.squeeze(),test_predict)\n",
    "maetest=mean_absolute_error(test_Y.squeeze(),test_predict)\n",
    "msetrain=mean_squared_error(train_Y.squeeze(),train_predict)\n",
    "print(\"测试集MSELoss: \",msetest)\n",
    "print(\"测试集MAELoss: \",maetest)\n",
    "print(\"测试集RMSELoss: \",np.sqrt(msetest))\n",
    "# print(msetrain)\n",
    "\n",
    "# R2-score\n",
    "r2Test = r2_score(test_Y.squeeze(),test_predict)\n",
    "print(\"测试集r2-score: \",r2Test)\n",
    "\n",
    "# 画出实际结果和预测的结果\n",
    "import matplotlib.pyplot as plt\n",
    "y = test_Y.squeeze()\n",
    "y_pre = test_predict\n",
    "pd.DataFrame({'y_true':y,'y_pre':y_pre}).to_csv(\"./result/XGBoostpre-best.csv\",index=False)\n",
    "plt.plot(range(len(y[:1000])),y_pre[:1000],color = 'red',linewidth = 1.5,linestyle = '-.',label='prediction')\n",
    "plt.plot(range(len(y[:1000])),y[:1000],color = 'blue',linewidth = 1.5,linestyle = '-', label='real')\n",
    "plt.legend(loc='best')"
   ]
  },
  {
   "cell_type": "markdown",
   "metadata": {},
   "source": [
    "树-80\n",
    "测试集MSELoss:  0.0005582242\n",
    "测试集MAELoss:  0.008747728\n",
    "测试集RMSELoss:  0.023626769\n",
    "测试集r2-score:  0.9891895839209156"
   ]
  }
 ],
 "metadata": {
  "interpreter": {
   "hash": "0585272c6395396341ee04675bd50926ae099db04beb93efeb4cdfb816b7c2a3"
  },
  "kernelspec": {
   "display_name": "Python 3 (ipykernel)",
   "language": "python",
   "name": "python3"
  },
  "language_info": {
   "codemirror_mode": {
    "name": "ipython",
    "version": 3
   },
   "file_extension": ".py",
   "mimetype": "text/x-python",
   "name": "python",
   "nbconvert_exporter": "python",
   "pygments_lexer": "ipython3",
   "version": "3.7.10"
  }
 },
 "nbformat": 4,
 "nbformat_minor": 4
}
