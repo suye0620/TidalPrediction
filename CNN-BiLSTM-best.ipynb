{
 "cells": [
  {
   "cell_type": "markdown",
   "metadata": {},
   "source": [
    ",,degrees_east,degrees_north,UTC,millibars,degrees true,knots,knots,meters,seconds,degrees_true,meters,degrees_C,degrees_C,degrees_C,dimensionless,percent,degrees,degrees_true,seconds,"
   ]
  },
  {
   "cell_type": "code",
   "execution_count": 1,
   "metadata": {},
   "outputs": [
    {
     "name": "stdout",
     "output_type": "stream",
     "text": [
      "Data loading...\n"
     ]
    },
    {
     "name": "stderr",
     "output_type": "stream",
     "text": [
      "100%|██████████| 19274/19274 [00:00<00:00, 998653.68it/s]"
     ]
    },
    {
     "name": "stdout",
     "output_type": "stream",
     "text": [
      "测试集大小为3856\n",
      "Model loading...\n"
     ]
    },
    {
     "name": "stderr",
     "output_type": "stream",
     "text": [
      "\n",
      "/environment/miniconda3/lib/python3.7/site-packages/torch/nn/modules/rnn.py:65: UserWarning: dropout option adds dropout after all but last recurrent layer, so non-zero dropout expects num_layers greater than 1, but got dropout=0.5 and num_layers=1\n",
      "  \"num_layers={}\".format(dropout, num_layers))\n"
     ]
    },
    {
     "name": "stdout",
     "output_type": "stream",
     "text": [
      "Training...\n",
      "Epoch: 0 batch: 0 | loss: 0.058016810566186905\n",
      "Epoch: 0 batch: 10 | loss: 0.4973565340042114\n",
      "Epoch: 0 batch: 20 | loss: 0.01145316381007433\n",
      "Epoch: 0 batch: 30 | loss: 0.3888881802558899\n",
      "Epoch: 0 batch: 40 | loss: 0.04634303227066994\n",
      "Epoch: 0 batch: 50 | loss: 0.07504814863204956\n",
      "Epoch: 0 batch: 60 | loss: 0.21425066888332367\n",
      "Epoch: 0 batch: 70 | loss: 0.0054249875247478485\n",
      "Epoch: 0 batch: 80 | loss: 0.1909332126379013\n",
      "Epoch: 0 batch: 90 | loss: 0.025694074109196663\n",
      "Epoch: 0 batch: 100 | loss: 0.034016069024801254\n",
      "Epoch: 0 batch: 110 | loss: 0.026832934468984604\n",
      "Epoch: 0 batch: 120 | loss: 0.05872773751616478\n",
      "Epoch: 0 batch: 130 | loss: 0.03595360368490219\n",
      "Epoch: 0 batch: 140 | loss: 0.017053477466106415\n",
      "Epoch: 0 batch: 150 | loss: 0.017207607626914978\n",
      "Epoch: 0 batch: 160 | loss: 0.026982279494404793\n",
      "Epoch: 0 batch: 170 | loss: 0.04057658463716507\n",
      "Epoch: 0 batch: 180 | loss: 0.029451701790094376\n",
      "Epoch: 0 batch: 190 | loss: 0.0258098766207695\n",
      "Epoch: 0 batch: 200 | loss: 0.016934126615524292\n",
      "Epoch: 0 batch: 210 | loss: 0.030292976647615433\n",
      "Epoch: 0 batch: 220 | loss: 0.047064751386642456\n",
      "Epoch: 0 batch: 230 | loss: 0.035793863236904144\n",
      "Epoch: 0 batch: 240 | loss: 0.050646379590034485\n",
      "Epoch: 0 batch: 250 | loss: 0.0884212851524353\n",
      "Epoch: 0 batch: 260 | loss: 0.10465332865715027\n",
      "Epoch: 0 batch: 270 | loss: 0.07262749969959259\n",
      "Epoch: 0 batch: 280 | loss: 0.015918640419840813\n",
      "Epoch: 0 batch: 290 | loss: 0.01041509211063385\n",
      "Epoch: 0 batch: 300 | loss: 0.08251473307609558\n",
      "Epoch: 0 batch: 310 | loss: 0.07044172286987305\n",
      "Epoch: 0 batch: 320 | loss: 0.10130080580711365\n",
      "Epoch: 0 batch: 330 | loss: 0.05655480548739433\n",
      "Epoch: 0 batch: 340 | loss: 0.03360651433467865\n",
      "Epoch: 0 batch: 350 | loss: 0.028896832838654518\n",
      "Epoch: 0 batch: 360 | loss: 0.02759593352675438\n",
      "Epoch: 0 batch: 370 | loss: 0.06404606252908707\n",
      "Epoch: 0 batch: 380 | loss: 0.046480175107717514\n",
      "Epoch: 0 batch: 390 | loss: 0.020145539194345474\n",
      "Epoch: 0 batch: 400 | loss: 0.005846659652888775\n",
      "Epoch: 0 batch: 410 | loss: 0.018793977797031403\n",
      "Epoch: 0 batch: 420 | loss: 0.06090933829545975\n",
      "Epoch: 0 batch: 430 | loss: 0.05807721987366676\n",
      "Epoch: 0 batch: 440 | loss: 0.08872585743665695\n"
     ]
    },
    {
     "name": "stderr",
     "output_type": "stream",
     "text": [
      "65it [00:00, 291.04it/s]"
     ]
    },
    {
     "name": "stdout",
     "output_type": "stream",
     "text": [
      "Epoch: 0 valLoss: 0.056222507304980754\n"
     ]
    },
    {
     "name": "stderr",
     "output_type": "stream",
     "text": [
      "\n"
     ]
    },
    {
     "name": "stdout",
     "output_type": "stream",
     "text": [
      "Epoch: 1 batch: 0 | loss: 0.06977163255214691\n",
      "Epoch: 1 batch: 10 | loss: 0.05425228923559189\n",
      "Epoch: 1 batch: 20 | loss: 0.08430712670087814\n",
      "Epoch: 1 batch: 30 | loss: 0.048893291503190994\n",
      "Epoch: 1 batch: 40 | loss: 0.024053769186139107\n",
      "Epoch: 1 batch: 50 | loss: 0.014956287108361721\n",
      "Epoch: 1 batch: 60 | loss: 0.03227337822318077\n",
      "Epoch: 1 batch: 70 | loss: 0.0678548663854599\n",
      "Epoch: 1 batch: 80 | loss: 0.05464416742324829\n",
      "Epoch: 1 batch: 90 | loss: 0.02046426571905613\n",
      "Epoch: 1 batch: 100 | loss: 0.030092991888523102\n",
      "Epoch: 1 batch: 110 | loss: 0.02277866005897522\n",
      "Epoch: 1 batch: 120 | loss: 0.052723322063684464\n",
      "Epoch: 1 batch: 130 | loss: 0.027082771062850952\n",
      "Epoch: 1 batch: 140 | loss: 0.011760912835597992\n",
      "Epoch: 1 batch: 150 | loss: 0.00938563235104084\n",
      "Epoch: 1 batch: 160 | loss: 0.02028721757233143\n",
      "Epoch: 1 batch: 170 | loss: 0.02439536526799202\n",
      "Epoch: 1 batch: 180 | loss: 0.02217816188931465\n",
      "Epoch: 1 batch: 190 | loss: 0.016590435057878494\n",
      "Epoch: 1 batch: 200 | loss: 0.009086188860237598\n",
      "Epoch: 1 batch: 210 | loss: 0.019848303869366646\n",
      "Epoch: 1 batch: 220 | loss: 0.021780623123049736\n",
      "Epoch: 1 batch: 230 | loss: 0.020860834047198296\n",
      "Epoch: 1 batch: 240 | loss: 0.022127382457256317\n",
      "Epoch: 1 batch: 250 | loss: 0.05164019390940666\n",
      "Epoch: 1 batch: 260 | loss: 0.0443902462720871\n",
      "Epoch: 1 batch: 270 | loss: 0.04499255120754242\n",
      "Epoch: 1 batch: 280 | loss: 0.006867105606943369\n",
      "Epoch: 1 batch: 290 | loss: 0.004934130236506462\n",
      "Epoch: 1 batch: 300 | loss: 0.03661113232374191\n",
      "Epoch: 1 batch: 310 | loss: 0.03197930380702019\n",
      "Epoch: 1 batch: 320 | loss: 0.050543781369924545\n",
      "Epoch: 1 batch: 330 | loss: 0.023550448939204216\n",
      "Epoch: 1 batch: 340 | loss: 0.021260270848870277\n",
      "Epoch: 1 batch: 350 | loss: 0.010192607529461384\n",
      "Epoch: 1 batch: 360 | loss: 0.007428627926856279\n",
      "Epoch: 1 batch: 370 | loss: 0.02183796837925911\n",
      "Epoch: 1 batch: 380 | loss: 0.01052042655646801\n",
      "Epoch: 1 batch: 390 | loss: 0.004968614783138037\n",
      "Epoch: 1 batch: 400 | loss: 0.0011750514386221766\n",
      "Epoch: 1 batch: 410 | loss: 0.004595424514263868\n",
      "Epoch: 1 batch: 420 | loss: 0.013623645529150963\n",
      "Epoch: 1 batch: 430 | loss: 0.01038418710231781\n",
      "Epoch: 1 batch: 440 | loss: 0.02549169585108757\n"
     ]
    },
    {
     "name": "stderr",
     "output_type": "stream",
     "text": [
      "65it [00:00, 300.76it/s]"
     ]
    },
    {
     "name": "stdout",
     "output_type": "stream",
     "text": [
      "Epoch: 1 valLoss: 0.014885237923011989\n"
     ]
    },
    {
     "name": "stderr",
     "output_type": "stream",
     "text": [
      "\n"
     ]
    },
    {
     "name": "stdout",
     "output_type": "stream",
     "text": [
      "Epoch: 2 batch: 0 | loss: 0.016692357137799263\n",
      "Epoch: 2 batch: 10 | loss: 0.006499179173260927\n",
      "Epoch: 2 batch: 20 | loss: 0.019386837258934975\n",
      "Epoch: 2 batch: 30 | loss: 0.010071206837892532\n",
      "Epoch: 2 batch: 40 | loss: 0.006864562164992094\n",
      "Epoch: 2 batch: 50 | loss: 0.0023684923071414232\n",
      "Epoch: 2 batch: 60 | loss: 0.0024601982440799475\n",
      "Epoch: 2 batch: 70 | loss: 0.013022889383137226\n",
      "Epoch: 2 batch: 80 | loss: 0.009124625474214554\n",
      "Epoch: 2 batch: 90 | loss: 0.00776260020211339\n",
      "Epoch: 2 batch: 100 | loss: 0.004687604494392872\n",
      "Epoch: 2 batch: 110 | loss: 0.007617436349391937\n",
      "Epoch: 2 batch: 120 | loss: 0.006133433431386948\n",
      "Epoch: 2 batch: 130 | loss: 0.009123033843934536\n",
      "Epoch: 2 batch: 140 | loss: 0.003514035139232874\n",
      "Epoch: 2 batch: 150 | loss: 0.0011606748448684812\n",
      "Epoch: 2 batch: 160 | loss: 0.0007263754960149527\n",
      "Epoch: 2 batch: 170 | loss: 0.0006591861601918936\n",
      "Epoch: 2 batch: 180 | loss: 0.0019803550094366074\n",
      "Epoch: 2 batch: 190 | loss: 0.0035449103452265263\n",
      "Epoch: 2 batch: 200 | loss: 0.0030290456488728523\n",
      "Epoch: 2 batch: 210 | loss: 0.003253356786444783\n",
      "Epoch: 2 batch: 220 | loss: 0.0029611478094011545\n",
      "Epoch: 2 batch: 230 | loss: 0.005902014207094908\n",
      "Epoch: 2 batch: 240 | loss: 0.003826085478067398\n",
      "Epoch: 2 batch: 250 | loss: 0.0024841974955052137\n",
      "Epoch: 2 batch: 260 | loss: 0.0018586022779345512\n",
      "Epoch: 2 batch: 270 | loss: 0.0016536484472453594\n",
      "Epoch: 2 batch: 280 | loss: 0.0037284474819898605\n",
      "Epoch: 2 batch: 290 | loss: 0.0022847368381917477\n",
      "Epoch: 2 batch: 300 | loss: 0.004136446863412857\n",
      "Epoch: 2 batch: 310 | loss: 0.0012173826107755303\n",
      "Epoch: 2 batch: 320 | loss: 0.004559667315334082\n",
      "Epoch: 2 batch: 330 | loss: 0.006426680367439985\n",
      "Epoch: 2 batch: 340 | loss: 0.0054006450809538364\n",
      "Epoch: 2 batch: 350 | loss: 0.007724771276116371\n",
      "Epoch: 2 batch: 360 | loss: 0.004540291614830494\n",
      "Epoch: 2 batch: 370 | loss: 0.0025713928043842316\n",
      "Epoch: 2 batch: 380 | loss: 0.0011446784483268857\n",
      "Epoch: 2 batch: 390 | loss: 0.0019695099908858538\n",
      "Epoch: 2 batch: 400 | loss: 0.0008864660048857331\n",
      "Epoch: 2 batch: 410 | loss: 0.0005250354879535735\n",
      "Epoch: 2 batch: 420 | loss: 0.0009715096675790846\n",
      "Epoch: 2 batch: 430 | loss: 0.0018632367718964815\n",
      "Epoch: 2 batch: 440 | loss: 0.0020801047794520855\n"
     ]
    },
    {
     "name": "stderr",
     "output_type": "stream",
     "text": [
      "65it [00:00, 282.00it/s]"
     ]
    },
    {
     "name": "stdout",
     "output_type": "stream",
     "text": [
      "Epoch: 2 valLoss: 0.005132409182377101\n"
     ]
    },
    {
     "name": "stderr",
     "output_type": "stream",
     "text": [
      "\n"
     ]
    },
    {
     "name": "stdout",
     "output_type": "stream",
     "text": [
      "Epoch: 3 batch: 0 | loss: 0.002968622837215662\n",
      "Epoch: 3 batch: 10 | loss: 0.002161620883271098\n",
      "Epoch: 3 batch: 20 | loss: 0.0015357545344159007\n",
      "Epoch: 3 batch: 30 | loss: 0.0024001619312912226\n",
      "Epoch: 3 batch: 40 | loss: 0.001180977444164455\n",
      "Epoch: 3 batch: 50 | loss: 0.003477667458355427\n",
      "Epoch: 3 batch: 60 | loss: 0.001527105108834803\n",
      "Epoch: 3 batch: 70 | loss: 0.0018208537949249148\n",
      "Epoch: 3 batch: 80 | loss: 0.004542033188045025\n",
      "Epoch: 3 batch: 90 | loss: 0.004457010887563229\n",
      "Epoch: 3 batch: 100 | loss: 0.007112410850822926\n",
      "Epoch: 3 batch: 110 | loss: 0.0047700535506010056\n",
      "Epoch: 3 batch: 120 | loss: 0.005836534313857555\n",
      "Epoch: 3 batch: 130 | loss: 0.006986198481172323\n",
      "Epoch: 3 batch: 140 | loss: 0.005796004552394152\n",
      "Epoch: 3 batch: 150 | loss: 0.0017460290109738708\n",
      "Epoch: 3 batch: 160 | loss: 0.0008841094677336514\n",
      "Epoch: 3 batch: 170 | loss: 0.0005021978868171573\n",
      "Epoch: 3 batch: 180 | loss: 0.0005836718482896686\n",
      "Epoch: 3 batch: 190 | loss: 0.0034558670595288277\n",
      "Epoch: 3 batch: 200 | loss: 0.0035161518026143312\n",
      "Epoch: 3 batch: 210 | loss: 0.0045997570268809795\n",
      "Epoch: 3 batch: 220 | loss: 0.0029926495626568794\n",
      "Epoch: 3 batch: 230 | loss: 0.0069357408210635185\n",
      "Epoch: 3 batch: 240 | loss: 0.004127502907067537\n",
      "Epoch: 3 batch: 250 | loss: 0.002146992599591613\n",
      "Epoch: 3 batch: 260 | loss: 0.00178511010017246\n",
      "Epoch: 3 batch: 270 | loss: 0.0008199564181268215\n",
      "Epoch: 3 batch: 280 | loss: 0.0036452743224799633\n",
      "Epoch: 3 batch: 290 | loss: 0.0022724163718521595\n",
      "Epoch: 3 batch: 300 | loss: 0.0037552472203969955\n",
      "Epoch: 3 batch: 310 | loss: 0.0010665995068848133\n",
      "Epoch: 3 batch: 320 | loss: 0.0034177096094936132\n",
      "Epoch: 3 batch: 330 | loss: 0.005875992588698864\n",
      "Epoch: 3 batch: 340 | loss: 0.004544599913060665\n",
      "Epoch: 3 batch: 350 | loss: 0.00739804282784462\n",
      "Epoch: 3 batch: 360 | loss: 0.004105991218239069\n",
      "Epoch: 3 batch: 370 | loss: 0.002425586339086294\n",
      "Epoch: 3 batch: 380 | loss: 0.0010902916546911001\n",
      "Epoch: 3 batch: 390 | loss: 0.0018514251569285989\n",
      "Epoch: 3 batch: 400 | loss: 0.0008234231499955058\n",
      "Epoch: 3 batch: 410 | loss: 0.0004949660506099463\n",
      "Epoch: 3 batch: 420 | loss: 0.0009191316785290837\n",
      "Epoch: 3 batch: 430 | loss: 0.00170469144359231\n",
      "Epoch: 3 batch: 440 | loss: 0.0017671016976237297\n"
     ]
    },
    {
     "name": "stderr",
     "output_type": "stream",
     "text": [
      "65it [00:00, 280.74it/s]"
     ]
    },
    {
     "name": "stdout",
     "output_type": "stream",
     "text": [
      "Epoch: 3 valLoss: 0.004602062728362628\n"
     ]
    },
    {
     "name": "stderr",
     "output_type": "stream",
     "text": [
      "\n"
     ]
    },
    {
     "name": "stdout",
     "output_type": "stream",
     "text": [
      "Epoch: 4 batch: 0 | loss: 0.0026805663947016\n",
      "Epoch: 4 batch: 10 | loss: 0.0019833368714898825\n",
      "Epoch: 4 batch: 20 | loss: 0.0012726871063932776\n",
      "Epoch: 4 batch: 30 | loss: 0.002111506648361683\n",
      "Epoch: 4 batch: 40 | loss: 0.0010447599925100803\n",
      "Epoch: 4 batch: 50 | loss: 0.0031139408238232136\n",
      "Epoch: 4 batch: 60 | loss: 0.0013721740106120706\n",
      "Epoch: 4 batch: 70 | loss: 0.00155088200699538\n",
      "Epoch: 4 batch: 80 | loss: 0.0040649669244885445\n",
      "Epoch: 4 batch: 90 | loss: 0.0038971828762441874\n",
      "Epoch: 4 batch: 100 | loss: 0.00647564185783267\n",
      "Epoch: 4 batch: 110 | loss: 0.004157806746661663\n",
      "Epoch: 4 batch: 120 | loss: 0.00525843258947134\n",
      "Epoch: 4 batch: 130 | loss: 0.006282046902924776\n",
      "Epoch: 4 batch: 140 | loss: 0.005198767874389887\n",
      "Epoch: 4 batch: 150 | loss: 0.001598157687112689\n",
      "Epoch: 4 batch: 160 | loss: 0.0007970969891175628\n",
      "Epoch: 4 batch: 170 | loss: 0.0004501005169004202\n",
      "Epoch: 4 batch: 180 | loss: 0.0005068084574304521\n",
      "Epoch: 4 batch: 190 | loss: 0.0030391858890652657\n",
      "Epoch: 4 batch: 200 | loss: 0.003088642843067646\n",
      "Epoch: 4 batch: 210 | loss: 0.004210855811834335\n",
      "Epoch: 4 batch: 220 | loss: 0.002563027897849679\n",
      "Epoch: 4 batch: 230 | loss: 0.006228219717741013\n",
      "Epoch: 4 batch: 240 | loss: 0.0036443520803004503\n",
      "Epoch: 4 batch: 250 | loss: 0.0019207397708669305\n",
      "Epoch: 4 batch: 260 | loss: 0.0017309663817286491\n",
      "Epoch: 4 batch: 270 | loss: 0.0006955026183277369\n",
      "Epoch: 4 batch: 280 | loss: 0.0032490012235939503\n",
      "Epoch: 4 batch: 290 | loss: 0.002024324145168066\n",
      "Epoch: 4 batch: 300 | loss: 0.0033409427851438522\n",
      "Epoch: 4 batch: 310 | loss: 0.0009314659982919693\n",
      "Epoch: 4 batch: 320 | loss: 0.0030079877469688654\n",
      "Epoch: 4 batch: 330 | loss: 0.005174351390451193\n",
      "Epoch: 4 batch: 340 | loss: 0.003903937293216586\n",
      "Epoch: 4 batch: 350 | loss: 0.006610635202378035\n",
      "Epoch: 4 batch: 360 | loss: 0.003500079270452261\n",
      "Epoch: 4 batch: 370 | loss: 0.002148066181689501\n",
      "Epoch: 4 batch: 380 | loss: 0.0009655327303335071\n",
      "Epoch: 4 batch: 390 | loss: 0.0015991807449609041\n",
      "Epoch: 4 batch: 400 | loss: 0.000723829900380224\n",
      "Epoch: 4 batch: 410 | loss: 0.0004329784133005887\n",
      "Epoch: 4 batch: 420 | loss: 0.0008263970958068967\n",
      "Epoch: 4 batch: 430 | loss: 0.001494668540544808\n",
      "Epoch: 4 batch: 440 | loss: 0.0015218723565340042\n"
     ]
    },
    {
     "name": "stderr",
     "output_type": "stream",
     "text": [
      "65it [00:00, 322.58it/s]"
     ]
    },
    {
     "name": "stdout",
     "output_type": "stream",
     "text": [
      "Epoch: 4 valLoss: 0.004022698590713134\n"
     ]
    },
    {
     "name": "stderr",
     "output_type": "stream",
     "text": [
      "\n"
     ]
    },
    {
     "name": "stdout",
     "output_type": "stream",
     "text": [
      "Epoch: 5 batch: 0 | loss: 0.0023438965436071157\n",
      "Epoch: 5 batch: 10 | loss: 0.0017491396283730865\n",
      "Epoch: 5 batch: 20 | loss: 0.0010659891413524747\n",
      "Epoch: 5 batch: 30 | loss: 0.0018165683140978217\n",
      "Epoch: 5 batch: 40 | loss: 0.0009223893284797668\n",
      "Epoch: 5 batch: 50 | loss: 0.00267864391207695\n",
      "Epoch: 5 batch: 60 | loss: 0.0011846276465803385\n",
      "Epoch: 5 batch: 70 | loss: 0.0013132531894370914\n",
      "Epoch: 5 batch: 80 | loss: 0.0034844616893678904\n",
      "Epoch: 5 batch: 90 | loss: 0.0032673480454832315\n",
      "Epoch: 5 batch: 100 | loss: 0.005743839778006077\n",
      "Epoch: 5 batch: 110 | loss: 0.0034701547119766474\n",
      "Epoch: 5 batch: 120 | loss: 0.004586999770253897\n",
      "Epoch: 5 batch: 130 | loss: 0.005524969194084406\n",
      "Epoch: 5 batch: 140 | loss: 0.004477349109947681\n",
      "Epoch: 5 batch: 150 | loss: 0.0014087833696976304\n",
      "Epoch: 5 batch: 160 | loss: 0.0007054031011648476\n",
      "Epoch: 5 batch: 170 | loss: 0.00038373316056095064\n",
      "Epoch: 5 batch: 180 | loss: 0.0004334854893386364\n",
      "Epoch: 5 batch: 190 | loss: 0.0025542285293340683\n",
      "Epoch: 5 batch: 200 | loss: 0.0026198443956673145\n",
      "Epoch: 5 batch: 210 | loss: 0.003722415305674076\n",
      "Epoch: 5 batch: 220 | loss: 0.002080161590129137\n",
      "Epoch: 5 batch: 230 | loss: 0.00535991694778204\n",
      "Epoch: 5 batch: 240 | loss: 0.0031183590181171894\n",
      "Epoch: 5 batch: 250 | loss: 0.0016667767195031047\n",
      "Epoch: 5 batch: 260 | loss: 0.0016758436104282737\n",
      "Epoch: 5 batch: 270 | loss: 0.0005771961295977235\n",
      "Epoch: 5 batch: 280 | loss: 0.0027744078543037176\n",
      "Epoch: 5 batch: 290 | loss: 0.0017347593093290925\n",
      "Epoch: 5 batch: 300 | loss: 0.0028901544865220785\n",
      "Epoch: 5 batch: 310 | loss: 0.0007808955269865692\n",
      "Epoch: 5 batch: 320 | loss: 0.002552647376433015\n",
      "Epoch: 5 batch: 330 | loss: 0.004408660810440779\n",
      "Epoch: 5 batch: 340 | loss: 0.0032269598450511694\n",
      "Epoch: 5 batch: 350 | loss: 0.00567973405122757\n",
      "Epoch: 5 batch: 360 | loss: 0.002832439262419939\n",
      "Epoch: 5 batch: 370 | loss: 0.0018402386922389269\n",
      "Epoch: 5 batch: 380 | loss: 0.0008250754908658564\n",
      "Epoch: 5 batch: 390 | loss: 0.0013248850591480732\n",
      "Epoch: 5 batch: 400 | loss: 0.0005866468418389559\n",
      "Epoch: 5 batch: 410 | loss: 0.0003603355144150555\n",
      "Epoch: 5 batch: 420 | loss: 0.0007118922076188028\n",
      "Epoch: 5 batch: 430 | loss: 0.0012505115009844303\n",
      "Epoch: 5 batch: 440 | loss: 0.0012627271935343742\n"
     ]
    },
    {
     "name": "stderr",
     "output_type": "stream",
     "text": [
      "65it [00:00, 318.23it/s]"
     ]
    },
    {
     "name": "stdout",
     "output_type": "stream",
     "text": [
      "Epoch: 5 valLoss: 0.0033838962414306376\n"
     ]
    },
    {
     "name": "stderr",
     "output_type": "stream",
     "text": [
      "\n"
     ]
    },
    {
     "name": "stdout",
     "output_type": "stream",
     "text": [
      "Epoch: 6 batch: 0 | loss: 0.001974916085600853\n",
      "Epoch: 6 batch: 10 | loss: 0.0014433596516028047\n",
      "Epoch: 6 batch: 20 | loss: 0.0008685814682394266\n",
      "Epoch: 6 batch: 30 | loss: 0.0014855104964226484\n",
      "Epoch: 6 batch: 40 | loss: 0.000781919457949698\n",
      "Epoch: 6 batch: 50 | loss: 0.0022064221557229757\n",
      "Epoch: 6 batch: 60 | loss: 0.0009591179550625384\n",
      "Epoch: 6 batch: 70 | loss: 0.0010638850508257747\n",
      "Epoch: 6 batch: 80 | loss: 0.002864781068637967\n",
      "Epoch: 6 batch: 90 | loss: 0.0026199587155133486\n",
      "Epoch: 6 batch: 100 | loss: 0.0048666768707334995\n",
      "Epoch: 6 batch: 110 | loss: 0.0027647113893181086\n",
      "Epoch: 6 batch: 120 | loss: 0.003834639908745885\n",
      "Epoch: 6 batch: 130 | loss: 0.004664107225835323\n",
      "Epoch: 6 batch: 140 | loss: 0.0036753234453499317\n",
      "Epoch: 6 batch: 150 | loss: 0.0011625989573076367\n",
      "Epoch: 6 batch: 160 | loss: 0.0005851277965120971\n",
      "Epoch: 6 batch: 170 | loss: 0.0003137855092063546\n",
      "Epoch: 6 batch: 180 | loss: 0.0003615721652749926\n",
      "Epoch: 6 batch: 190 | loss: 0.002054861979559064\n",
      "Epoch: 6 batch: 200 | loss: 0.002093189163133502\n",
      "Epoch: 6 batch: 210 | loss: 0.003151073819026351\n",
      "Epoch: 6 batch: 220 | loss: 0.0016004877397790551\n",
      "Epoch: 6 batch: 230 | loss: 0.004369201138615608\n",
      "Epoch: 6 batch: 240 | loss: 0.0024728470016270876\n",
      "Epoch: 6 batch: 250 | loss: 0.001384345581755042\n",
      "Epoch: 6 batch: 260 | loss: 0.001588549930602312\n",
      "Epoch: 6 batch: 270 | loss: 0.0004694121307693422\n",
      "Epoch: 6 batch: 280 | loss: 0.00217482540756464\n",
      "Epoch: 6 batch: 290 | loss: 0.0014110587071627378\n",
      "Epoch: 6 batch: 300 | loss: 0.002403207356110215\n",
      "Epoch: 6 batch: 310 | loss: 0.0006188718252815306\n",
      "Epoch: 6 batch: 320 | loss: 0.0020878512877970934\n",
      "Epoch: 6 batch: 330 | loss: 0.0035036352928727865\n",
      "Epoch: 6 batch: 340 | loss: 0.0025332183577120304\n",
      "Epoch: 6 batch: 350 | loss: 0.0046635959297418594\n",
      "Epoch: 6 batch: 360 | loss: 0.0021619824692606926\n",
      "Epoch: 6 batch: 370 | loss: 0.0014821152435615659\n",
      "Epoch: 6 batch: 380 | loss: 0.0006622945656999946\n",
      "Epoch: 6 batch: 390 | loss: 0.0010299173882231116\n",
      "Epoch: 6 batch: 400 | loss: 0.0004551961610559374\n",
      "Epoch: 6 batch: 410 | loss: 0.00028337191906757653\n",
      "Epoch: 6 batch: 420 | loss: 0.0005736373132094741\n",
      "Epoch: 6 batch: 430 | loss: 0.0009793463395908475\n",
      "Epoch: 6 batch: 440 | loss: 0.000999758718535304\n"
     ]
    },
    {
     "name": "stderr",
     "output_type": "stream",
     "text": [
      "65it [00:00, 316.54it/s]"
     ]
    },
    {
     "name": "stdout",
     "output_type": "stream",
     "text": [
      "Epoch: 6 valLoss: 0.0027073541093546125\n"
     ]
    },
    {
     "name": "stderr",
     "output_type": "stream",
     "text": [
      "\n"
     ]
    },
    {
     "name": "stdout",
     "output_type": "stream",
     "text": [
      "Epoch: 7 batch: 0 | loss: 0.0015707280253991485\n",
      "Epoch: 7 batch: 10 | loss: 0.0011329525150358677\n",
      "Epoch: 7 batch: 20 | loss: 0.0006746419239789248\n",
      "Epoch: 7 batch: 30 | loss: 0.0011267659720033407\n",
      "Epoch: 7 batch: 40 | loss: 0.0006459119613282382\n",
      "Epoch: 7 batch: 50 | loss: 0.0016898623434826732\n",
      "Epoch: 7 batch: 60 | loss: 0.0007204863941296935\n",
      "Epoch: 7 batch: 70 | loss: 0.0008234200067818165\n",
      "Epoch: 7 batch: 80 | loss: 0.0021620681509375572\n",
      "Epoch: 7 batch: 90 | loss: 0.0019810541998595\n",
      "Epoch: 7 batch: 100 | loss: 0.003855076851323247\n",
      "Epoch: 7 batch: 110 | loss: 0.0020730956457555294\n",
      "Epoch: 7 batch: 120 | loss: 0.00301086506806314\n",
      "Epoch: 7 batch: 130 | loss: 0.0037978272885084152\n",
      "Epoch: 7 batch: 140 | loss: 0.0027704022359102964\n",
      "Epoch: 7 batch: 150 | loss: 0.0009043438476510346\n",
      "Epoch: 7 batch: 160 | loss: 0.00045580274309031665\n",
      "Epoch: 7 batch: 170 | loss: 0.00022447318769991398\n",
      "Epoch: 7 batch: 180 | loss: 0.00029257009737193584\n",
      "Epoch: 7 batch: 190 | loss: 0.0015090657398104668\n",
      "Epoch: 7 batch: 200 | loss: 0.0015649745473638177\n",
      "Epoch: 7 batch: 210 | loss: 0.0024412632919847965\n",
      "Epoch: 7 batch: 220 | loss: 0.0011370324064046144\n",
      "Epoch: 7 batch: 230 | loss: 0.003205629764124751\n",
      "Epoch: 7 batch: 240 | loss: 0.0017789184348657727\n",
      "Epoch: 7 batch: 250 | loss: 0.0010701443534344435\n",
      "Epoch: 7 batch: 260 | loss: 0.0014704162022098899\n",
      "Epoch: 7 batch: 270 | loss: 0.00038076340570114553\n",
      "Epoch: 7 batch: 280 | loss: 0.0015445201424881816\n",
      "Epoch: 7 batch: 290 | loss: 0.0010665510781109333\n",
      "Epoch: 7 batch: 300 | loss: 0.0018935651751235127\n",
      "Epoch: 7 batch: 310 | loss: 0.0004493192827794701\n",
      "Epoch: 7 batch: 320 | loss: 0.0016196343349292874\n",
      "Epoch: 7 batch: 330 | loss: 0.0024889628402888775\n",
      "Epoch: 7 batch: 340 | loss: 0.0018859136616811156\n",
      "Epoch: 7 batch: 350 | loss: 0.0034306328743696213\n",
      "Epoch: 7 batch: 360 | loss: 0.0015125510981306434\n",
      "Epoch: 7 batch: 370 | loss: 0.0010942310327664018\n",
      "Epoch: 7 batch: 380 | loss: 0.00047096709022298455\n",
      "Epoch: 7 batch: 390 | loss: 0.0007286651525646448\n",
      "Epoch: 7 batch: 400 | loss: 0.00031245333957485855\n",
      "Epoch: 7 batch: 410 | loss: 0.0002016202633967623\n",
      "Epoch: 7 batch: 420 | loss: 0.00039686320815235376\n",
      "Epoch: 7 batch: 430 | loss: 0.0006832729559391737\n",
      "Epoch: 7 batch: 440 | loss: 0.0007438377942889929\n"
     ]
    },
    {
     "name": "stderr",
     "output_type": "stream",
     "text": [
      "65it [00:00, 309.72it/s]"
     ]
    },
    {
     "name": "stdout",
     "output_type": "stream",
     "text": [
      "Epoch: 7 valLoss: 0.002004274616430669\n"
     ]
    },
    {
     "name": "stderr",
     "output_type": "stream",
     "text": [
      "\n"
     ]
    },
    {
     "name": "stdout",
     "output_type": "stream",
     "text": [
      "Epoch: 8 batch: 0 | loss: 0.0011124812299385667\n",
      "Epoch: 8 batch: 10 | loss: 0.00077252829214558\n",
      "Epoch: 8 batch: 20 | loss: 0.0004835092113353312\n",
      "Epoch: 8 batch: 30 | loss: 0.0007369084632955492\n",
      "Epoch: 8 batch: 40 | loss: 0.0005136424442753196\n",
      "Epoch: 8 batch: 50 | loss: 0.0011468156008049846\n",
      "Epoch: 8 batch: 60 | loss: 0.00046006307820789516\n",
      "Epoch: 8 batch: 70 | loss: 0.0005909801693633199\n",
      "Epoch: 8 batch: 80 | loss: 0.0014063377166166902\n",
      "Epoch: 8 batch: 90 | loss: 0.0013801404275000095\n",
      "Epoch: 8 batch: 100 | loss: 0.002644400345161557\n",
      "Epoch: 8 batch: 110 | loss: 0.001456611673347652\n",
      "Epoch: 8 batch: 120 | loss: 0.0020869027357548475\n",
      "Epoch: 8 batch: 130 | loss: 0.0029671667143702507\n",
      "Epoch: 8 batch: 140 | loss: 0.001783730462193489\n",
      "Epoch: 8 batch: 150 | loss: 0.0006165850209072232\n",
      "Epoch: 8 batch: 160 | loss: 0.0003132012498099357\n",
      "Epoch: 8 batch: 170 | loss: 0.0001311493688262999\n",
      "Epoch: 8 batch: 180 | loss: 0.00022934925800655037\n",
      "Epoch: 8 batch: 190 | loss: 0.0009157618624158204\n",
      "Epoch: 8 batch: 200 | loss: 0.001027413527481258\n",
      "Epoch: 8 batch: 210 | loss: 0.0015197147149592638\n",
      "Epoch: 8 batch: 220 | loss: 0.0006914551486261189\n",
      "Epoch: 8 batch: 230 | loss: 0.0019111121073365211\n",
      "Epoch: 8 batch: 240 | loss: 0.0010648510651662946\n",
      "Epoch: 8 batch: 250 | loss: 0.0007136603817343712\n",
      "Epoch: 8 batch: 260 | loss: 0.001287953113205731\n",
      "Epoch: 8 batch: 270 | loss: 0.0003096151340287179\n",
      "Epoch: 8 batch: 280 | loss: 0.000823747250251472\n",
      "Epoch: 8 batch: 290 | loss: 0.0006933494005352259\n",
      "Epoch: 8 batch: 300 | loss: 0.0013592290924862027\n",
      "Epoch: 8 batch: 310 | loss: 0.0002922134881373495\n",
      "Epoch: 8 batch: 320 | loss: 0.0010987060377374291\n",
      "Epoch: 8 batch: 330 | loss: 0.0013753122184425592\n",
      "Epoch: 8 batch: 340 | loss: 0.0012845523888245225\n",
      "Epoch: 8 batch: 350 | loss: 0.0020090474281460047\n",
      "Epoch: 8 batch: 360 | loss: 0.0009106011711992323\n",
      "Epoch: 8 batch: 370 | loss: 0.0006719199591316283\n",
      "Epoch: 8 batch: 380 | loss: 0.000254770799074322\n",
      "Epoch: 8 batch: 390 | loss: 0.000413688801927492\n",
      "Epoch: 8 batch: 400 | loss: 0.00017754134023562074\n",
      "Epoch: 8 batch: 410 | loss: 0.00011757283209590241\n",
      "Epoch: 8 batch: 420 | loss: 0.00020239387231413275\n",
      "Epoch: 8 batch: 430 | loss: 0.00038897310150787234\n",
      "Epoch: 8 batch: 440 | loss: 0.00047786353388801217\n"
     ]
    },
    {
     "name": "stderr",
     "output_type": "stream",
     "text": [
      "65it [00:00, 280.16it/s]"
     ]
    },
    {
     "name": "stdout",
     "output_type": "stream",
     "text": [
      "Epoch: 8 valLoss: 0.001293965391731395\n"
     ]
    },
    {
     "name": "stderr",
     "output_type": "stream",
     "text": [
      "\n"
     ]
    },
    {
     "name": "stdout",
     "output_type": "stream",
     "text": [
      "Epoch: 9 batch: 0 | loss: 0.0006099253660067916\n",
      "Epoch: 9 batch: 10 | loss: 0.0003843889862764627\n",
      "Epoch: 9 batch: 20 | loss: 0.0002971772337332368\n",
      "Epoch: 9 batch: 30 | loss: 0.00033858392271213233\n",
      "Epoch: 9 batch: 40 | loss: 0.00036164853372611105\n",
      "Epoch: 9 batch: 50 | loss: 0.0005928569589741528\n",
      "Epoch: 9 batch: 60 | loss: 0.0002261702757095918\n",
      "Epoch: 9 batch: 70 | loss: 0.00035360929905436933\n",
      "Epoch: 9 batch: 80 | loss: 0.0006516628200188279\n",
      "Epoch: 9 batch: 90 | loss: 0.0008364912937395275\n",
      "Epoch: 9 batch: 100 | loss: 0.0013631117762997746\n",
      "Epoch: 9 batch: 110 | loss: 0.0008587779593653977\n",
      "Epoch: 9 batch: 120 | loss: 0.0011228026123717427\n",
      "Epoch: 9 batch: 130 | loss: 0.002147698774933815\n",
      "Epoch: 9 batch: 140 | loss: 0.0007785463239997625\n",
      "Epoch: 9 batch: 150 | loss: 0.0003027812927030027\n",
      "Epoch: 9 batch: 160 | loss: 0.00015989151143003255\n",
      "Epoch: 9 batch: 170 | loss: 5.10510872118175e-05\n",
      "Epoch: 9 batch: 180 | loss: 0.00017019275401253253\n",
      "Epoch: 9 batch: 190 | loss: 0.00037411259836517274\n",
      "Epoch: 9 batch: 200 | loss: 0.0005562531878240407\n",
      "Epoch: 9 batch: 210 | loss: 0.0006558033637702465\n",
      "Epoch: 9 batch: 220 | loss: 0.0003254006151109934\n",
      "Epoch: 9 batch: 230 | loss: 0.0007863349746912718\n",
      "Epoch: 9 batch: 240 | loss: 0.00048577968846075237\n",
      "Epoch: 9 batch: 250 | loss: 0.00038211504579521716\n",
      "Epoch: 9 batch: 260 | loss: 0.0011450856691226363\n",
      "Epoch: 9 batch: 270 | loss: 0.00023360500927083194\n",
      "Epoch: 9 batch: 280 | loss: 0.0002531892678234726\n",
      "Epoch: 9 batch: 290 | loss: 0.0003328609454911202\n",
      "Epoch: 9 batch: 300 | loss: 0.0009303961414843798\n",
      "Epoch: 9 batch: 310 | loss: 0.00016221679106820375\n",
      "Epoch: 9 batch: 320 | loss: 0.0005546052707359195\n",
      "Epoch: 9 batch: 330 | loss: 0.000509181001689285\n",
      "Epoch: 9 batch: 340 | loss: 0.0007632167544215918\n",
      "Epoch: 9 batch: 350 | loss: 0.0008497564704157412\n",
      "Epoch: 9 batch: 360 | loss: 0.000380385055905208\n",
      "Epoch: 9 batch: 370 | loss: 0.00029329219250939786\n",
      "Epoch: 9 batch: 380 | loss: 7.96628519310616e-05\n",
      "Epoch: 9 batch: 390 | loss: 0.0001596138608874753\n",
      "Epoch: 9 batch: 400 | loss: 6.51693408144638e-05\n",
      "Epoch: 9 batch: 410 | loss: 4.800411261385307e-05\n",
      "Epoch: 9 batch: 420 | loss: 9.329220483778045e-05\n",
      "Epoch: 9 batch: 430 | loss: 0.00020396089530549943\n",
      "Epoch: 9 batch: 440 | loss: 0.0002493990759830922\n"
     ]
    },
    {
     "name": "stderr",
     "output_type": "stream",
     "text": [
      "65it [00:00, 294.43it/s]"
     ]
    },
    {
     "name": "stdout",
     "output_type": "stream",
     "text": [
      "Epoch: 9 valLoss: 0.00077663596203974\n"
     ]
    },
    {
     "name": "stderr",
     "output_type": "stream",
     "text": [
      "\n"
     ]
    },
    {
     "name": "stdout",
     "output_type": "stream",
     "text": [
      "Epoch: 10 batch: 0 | loss: 0.00026500591775402427\n",
      "Epoch: 10 batch: 10 | loss: 0.00014188858040142804\n",
      "Epoch: 10 batch: 20 | loss: 0.0001689516066107899\n",
      "Epoch: 10 batch: 30 | loss: 0.0001181295228889212\n",
      "Epoch: 10 batch: 40 | loss: 0.0001846064842538908\n",
      "Epoch: 10 batch: 50 | loss: 0.00018448990886099637\n",
      "Epoch: 10 batch: 60 | loss: 7.530333095928654e-05\n",
      "Epoch: 10 batch: 70 | loss: 0.00016933862934820354\n",
      "Epoch: 10 batch: 80 | loss: 0.0001887991529656574\n",
      "Epoch: 10 batch: 90 | loss: 0.00036300241481512785\n",
      "Epoch: 10 batch: 100 | loss: 0.0005511165945790708\n",
      "Epoch: 10 batch: 110 | loss: 0.00037007115315645933\n",
      "Epoch: 10 batch: 120 | loss: 0.0004664227017201483\n",
      "Epoch: 10 batch: 130 | loss: 0.001469897571951151\n",
      "Epoch: 10 batch: 140 | loss: 0.0001793718693079427\n",
      "Epoch: 10 batch: 150 | loss: 8.059143146965653e-05\n",
      "Epoch: 10 batch: 160 | loss: 6.385505548678339e-05\n",
      "Epoch: 10 batch: 170 | loss: 2.664744170033373e-05\n",
      "Epoch: 10 batch: 180 | loss: 8.835206244839355e-05\n",
      "Epoch: 10 batch: 190 | loss: 0.00010403256601421162\n",
      "Epoch: 10 batch: 200 | loss: 0.00028300678241066635\n",
      "Epoch: 10 batch: 210 | loss: 0.0003354493819642812\n",
      "Epoch: 10 batch: 220 | loss: 0.00012466545740608126\n",
      "Epoch: 10 batch: 230 | loss: 0.00029685217305086553\n",
      "Epoch: 10 batch: 240 | loss: 0.0001849803957156837\n",
      "Epoch: 10 batch: 250 | loss: 0.00018179579637944698\n",
      "Epoch: 10 batch: 260 | loss: 0.0011155717074871063\n",
      "Epoch: 10 batch: 270 | loss: 0.00018213375005871058\n",
      "Epoch: 10 batch: 280 | loss: 9.298238001065329e-05\n",
      "Epoch: 10 batch: 290 | loss: 0.0001667009200900793\n",
      "Epoch: 10 batch: 300 | loss: 0.0007787292706780136\n",
      "Epoch: 10 batch: 310 | loss: 9.229566057911143e-05\n",
      "Epoch: 10 batch: 320 | loss: 0.0002424567355774343\n",
      "Epoch: 10 batch: 330 | loss: 0.00017960311379283667\n",
      "Epoch: 10 batch: 340 | loss: 0.0004141737590543926\n",
      "Epoch: 10 batch: 350 | loss: 0.00038804233190603554\n",
      "Epoch: 10 batch: 360 | loss: 0.0001234651281265542\n",
      "Epoch: 10 batch: 370 | loss: 0.00011159892892464995\n",
      "Epoch: 10 batch: 380 | loss: 2.7129146474180743e-05\n",
      "Epoch: 10 batch: 390 | loss: 6.764556019334123e-05\n",
      "Epoch: 10 batch: 400 | loss: 3.398870467208326e-05\n",
      "Epoch: 10 batch: 410 | loss: 2.351252805965487e-05\n",
      "Epoch: 10 batch: 420 | loss: 5.0074006139766425e-05\n",
      "Epoch: 10 batch: 430 | loss: 0.00013962156663183123\n",
      "Epoch: 10 batch: 440 | loss: 0.00015559224993921816\n"
     ]
    },
    {
     "name": "stderr",
     "output_type": "stream",
     "text": [
      "65it [00:00, 289.96it/s]"
     ]
    },
    {
     "name": "stdout",
     "output_type": "stream",
     "text": [
      "Epoch: 10 valLoss: 0.0005853980878169452\n"
     ]
    },
    {
     "name": "stderr",
     "output_type": "stream",
     "text": [
      "\n"
     ]
    },
    {
     "name": "stdout",
     "output_type": "stream",
     "text": [
      "Epoch: 11 batch: 0 | loss: 0.00013874722935725003\n",
      "Epoch: 11 batch: 10 | loss: 6.537273293361068e-05\n",
      "Epoch: 11 batch: 20 | loss: 0.0001104157418012619\n",
      "Epoch: 11 batch: 30 | loss: 6.288475560722873e-05\n",
      "Epoch: 11 batch: 40 | loss: 8.32364457892254e-05\n",
      "Epoch: 11 batch: 50 | loss: 5.825936023029499e-05\n",
      "Epoch: 11 batch: 60 | loss: 2.4079805371002294e-05\n",
      "Epoch: 11 batch: 70 | loss: 9.729615703690797e-05\n",
      "Epoch: 11 batch: 80 | loss: 7.00820455676876e-05\n",
      "Epoch: 11 batch: 90 | loss: 0.00010841222683666274\n",
      "Epoch: 11 batch: 100 | loss: 0.0002383687678957358\n",
      "Epoch: 11 batch: 110 | loss: 0.000113369278551545\n",
      "Epoch: 11 batch: 120 | loss: 0.0002033931959886104\n",
      "Epoch: 11 batch: 130 | loss: 0.0011181958252564073\n",
      "Epoch: 11 batch: 140 | loss: 4.466367681743577e-05\n",
      "Epoch: 11 batch: 150 | loss: 1.5075167539180256e-05\n",
      "Epoch: 11 batch: 160 | loss: 3.640164140961133e-05\n",
      "Epoch: 11 batch: 170 | loss: 1.8714745237957686e-05\n",
      "Epoch: 11 batch: 180 | loss: 3.389553239685483e-05\n",
      "Epoch: 11 batch: 190 | loss: 5.953947038506158e-05\n",
      "Epoch: 11 batch: 200 | loss: 0.00021636813471559435\n",
      "Epoch: 11 batch: 210 | loss: 0.000250158627750352\n",
      "Epoch: 11 batch: 220 | loss: 7.030339475022629e-05\n",
      "Epoch: 11 batch: 230 | loss: 0.00016699946718290448\n",
      "Epoch: 11 batch: 240 | loss: 0.00017690178356133401\n",
      "Epoch: 11 batch: 250 | loss: 0.00010737066622823477\n",
      "Epoch: 11 batch: 260 | loss: 0.0011444420088082552\n",
      "Epoch: 11 batch: 270 | loss: 0.0001748173963278532\n",
      "Epoch: 11 batch: 280 | loss: 9.573285205988213e-05\n",
      "Epoch: 11 batch: 290 | loss: 0.0001437684550182894\n",
      "Epoch: 11 batch: 300 | loss: 0.0007766366470605135\n",
      "Epoch: 11 batch: 310 | loss: 5.8095858548767865e-05\n",
      "Epoch: 11 batch: 320 | loss: 0.00013470271369442344\n",
      "Epoch: 11 batch: 330 | loss: 0.00010096914047608152\n",
      "Epoch: 11 batch: 340 | loss: 0.0002911376068368554\n",
      "Epoch: 11 batch: 350 | loss: 0.00026755043654702604\n",
      "Epoch: 11 batch: 360 | loss: 5.809621143271215e-05\n",
      "Epoch: 11 batch: 370 | loss: 6.409861816791818e-05\n",
      "Epoch: 11 batch: 380 | loss: 1.9071441784035414e-05\n",
      "Epoch: 11 batch: 390 | loss: 5.545081148738973e-05\n",
      "Epoch: 11 batch: 400 | loss: 3.2822717912495136e-05\n",
      "Epoch: 11 batch: 410 | loss: 2.0037759895785712e-05\n",
      "Epoch: 11 batch: 420 | loss: 4.9520269385538995e-05\n",
      "Epoch: 11 batch: 430 | loss: 0.00013383649638853967\n",
      "Epoch: 11 batch: 440 | loss: 0.0001223319413838908\n"
     ]
    },
    {
     "name": "stderr",
     "output_type": "stream",
     "text": [
      "65it [00:00, 262.77it/s]"
     ]
    },
    {
     "name": "stdout",
     "output_type": "stream",
     "text": [
      "Epoch: 11 valLoss: 0.000556013495358212\n"
     ]
    },
    {
     "name": "stderr",
     "output_type": "stream",
     "text": [
      "\n"
     ]
    },
    {
     "name": "stdout",
     "output_type": "stream",
     "text": [
      "Epoch: 12 batch: 0 | loss: 8.460215758532286e-05\n",
      "Epoch: 12 batch: 10 | loss: 5.395919652073644e-05\n",
      "Epoch: 12 batch: 20 | loss: 8.33072917885147e-05\n",
      "Epoch: 12 batch: 30 | loss: 4.98376066389028e-05\n",
      "Epoch: 12 batch: 40 | loss: 4.943054591421969e-05\n",
      "Epoch: 12 batch: 50 | loss: 3.790713526541367e-05\n",
      "Epoch: 12 batch: 60 | loss: 1.643973337195348e-05\n",
      "Epoch: 12 batch: 70 | loss: 7.591711619170383e-05\n",
      "Epoch: 12 batch: 80 | loss: 5.221970423008315e-05\n",
      "Epoch: 12 batch: 90 | loss: 6.754927744623274e-05\n",
      "Epoch: 12 batch: 100 | loss: 0.00014342341455630958\n",
      "Epoch: 12 batch: 110 | loss: 5.874298221897334e-05\n",
      "Epoch: 12 batch: 120 | loss: 0.00012486557534430176\n",
      "Epoch: 12 batch: 130 | loss: 0.001003039302304387\n",
      "Epoch: 12 batch: 140 | loss: 2.8219044907018542e-05\n",
      "Epoch: 12 batch: 150 | loss: 1.1020709280273877e-05\n",
      "Epoch: 12 batch: 160 | loss: 3.109384488197975e-05\n",
      "Epoch: 12 batch: 170 | loss: 1.7462985852034763e-05\n",
      "Epoch: 12 batch: 180 | loss: 1.9065477317781188e-05\n",
      "Epoch: 12 batch: 190 | loss: 6.0997521359240636e-05\n",
      "Epoch: 12 batch: 200 | loss: 0.00023232783132698387\n",
      "Epoch: 12 batch: 210 | loss: 0.00021083635510876775\n",
      "Epoch: 12 batch: 220 | loss: 5.425874041975476e-05\n",
      "Epoch: 12 batch: 230 | loss: 0.00012401638377923518\n",
      "Epoch: 12 batch: 240 | loss: 0.00017276787548325956\n",
      "Epoch: 12 batch: 250 | loss: 8.007978613022715e-05\n",
      "Epoch: 12 batch: 260 | loss: 0.0011228350922465324\n",
      "Epoch: 12 batch: 270 | loss: 0.0002068135072477162\n",
      "Epoch: 12 batch: 280 | loss: 0.00011306973465252668\n",
      "Epoch: 12 batch: 290 | loss: 0.00014699560415465385\n",
      "Epoch: 12 batch: 300 | loss: 0.0007885353988967836\n",
      "Epoch: 12 batch: 310 | loss: 5.3691823268309236e-05\n",
      "Epoch: 12 batch: 320 | loss: 0.00010554337495705113\n",
      "Epoch: 12 batch: 330 | loss: 8.273607090814039e-05\n",
      "Epoch: 12 batch: 340 | loss: 0.000271277705905959\n",
      "Epoch: 12 batch: 350 | loss: 0.00023894084733910859\n",
      "Epoch: 12 batch: 360 | loss: 4.509365317062475e-05\n",
      "Epoch: 12 batch: 370 | loss: 5.2355273510329425e-05\n",
      "Epoch: 12 batch: 380 | loss: 1.7996921087615192e-05\n",
      "Epoch: 12 batch: 390 | loss: 5.2341591072035953e-05\n",
      "Epoch: 12 batch: 400 | loss: 3.5079818189842626e-05\n",
      "Epoch: 12 batch: 410 | loss: 1.925415199366398e-05\n",
      "Epoch: 12 batch: 420 | loss: 5.422296089818701e-05\n",
      "Epoch: 12 batch: 430 | loss: 0.00013446627417579293\n",
      "Epoch: 12 batch: 440 | loss: 0.00010690854833228514\n"
     ]
    },
    {
     "name": "stderr",
     "output_type": "stream",
     "text": [
      "65it [00:00, 314.84it/s]"
     ]
    },
    {
     "name": "stdout",
     "output_type": "stream",
     "text": [
      "Epoch: 12 valLoss: 0.0005514418365506992\n"
     ]
    },
    {
     "name": "stderr",
     "output_type": "stream",
     "text": [
      "\n"
     ]
    },
    {
     "name": "stdout",
     "output_type": "stream",
     "text": [
      "Epoch: 13 batch: 0 | loss: 6.511724495794624e-05\n",
      "Epoch: 13 batch: 10 | loss: 5.016714567318559e-05\n",
      "Epoch: 13 batch: 20 | loss: 7.378666487056762e-05\n",
      "Epoch: 13 batch: 30 | loss: 4.77943176520057e-05\n",
      "Epoch: 13 batch: 40 | loss: 4.406711013871245e-05\n",
      "Epoch: 13 batch: 50 | loss: 3.498359728837386e-05\n",
      "Epoch: 13 batch: 60 | loss: 1.6407106159022078e-05\n",
      "Epoch: 13 batch: 70 | loss: 6.953650154173374e-05\n",
      "Epoch: 13 batch: 80 | loss: 4.8892205086303875e-05\n",
      "Epoch: 13 batch: 90 | loss: 6.914020923431963e-05\n",
      "Epoch: 13 batch: 100 | loss: 0.00011517920938786119\n",
      "Epoch: 13 batch: 110 | loss: 5.797810808871873e-05\n",
      "Epoch: 13 batch: 120 | loss: 0.00010657311941031367\n",
      "Epoch: 13 batch: 130 | loss: 0.0009782230481505394\n",
      "Epoch: 13 batch: 140 | loss: 2.6554984287940897e-05\n",
      "Epoch: 13 batch: 150 | loss: 1.2393110409902874e-05\n",
      "Epoch: 13 batch: 160 | loss: 3.016862137883436e-05\n",
      "Epoch: 13 batch: 170 | loss: 1.7970351109397598e-05\n",
      "Epoch: 13 batch: 180 | loss: 1.5464822354260832e-05\n",
      "Epoch: 13 batch: 190 | loss: 6.20129139861092e-05\n",
      "Epoch: 13 batch: 200 | loss: 0.0002367747511016205\n",
      "Epoch: 13 batch: 210 | loss: 0.0001896927278721705\n",
      "Epoch: 13 batch: 220 | loss: 3.969520912505686e-05\n",
      "Epoch: 13 batch: 230 | loss: 0.00010062505316454917\n",
      "Epoch: 13 batch: 240 | loss: 0.00014546731836162508\n",
      "Epoch: 13 batch: 250 | loss: 6.881454464746639e-05\n",
      "Epoch: 13 batch: 260 | loss: 0.0011161575093865395\n",
      "Epoch: 13 batch: 270 | loss: 0.0002198020665673539\n",
      "Epoch: 13 batch: 280 | loss: 0.00010892103455262259\n",
      "Epoch: 13 batch: 290 | loss: 0.00014400051441043615\n",
      "Epoch: 13 batch: 300 | loss: 0.0007870271219871938\n",
      "Epoch: 13 batch: 310 | loss: 5.22184454894159e-05\n",
      "Epoch: 13 batch: 320 | loss: 0.00010619653039611876\n",
      "Epoch: 13 batch: 330 | loss: 8.550249185645953e-05\n",
      "Epoch: 13 batch: 340 | loss: 0.0002657773729879409\n",
      "Epoch: 13 batch: 350 | loss: 0.00023239973234012723\n",
      "Epoch: 13 batch: 360 | loss: 4.20925352955237e-05\n",
      "Epoch: 13 batch: 370 | loss: 4.892778815701604e-05\n",
      "Epoch: 13 batch: 380 | loss: 1.772285577317234e-05\n",
      "Epoch: 13 batch: 390 | loss: 5.20026296726428e-05\n",
      "Epoch: 13 batch: 400 | loss: 3.397202453925274e-05\n",
      "Epoch: 13 batch: 410 | loss: 1.8977840227307752e-05\n",
      "Epoch: 13 batch: 420 | loss: 5.453653648146428e-05\n",
      "Epoch: 13 batch: 430 | loss: 0.00013227836461737752\n",
      "Epoch: 13 batch: 440 | loss: 9.823929576668888e-05\n"
     ]
    },
    {
     "name": "stderr",
     "output_type": "stream",
     "text": [
      "65it [00:00, 347.25it/s]"
     ]
    },
    {
     "name": "stdout",
     "output_type": "stream",
     "text": [
      "Epoch: 13 valLoss: 0.0005458505883606767\n"
     ]
    },
    {
     "name": "stderr",
     "output_type": "stream",
     "text": [
      "\n"
     ]
    },
    {
     "name": "stdout",
     "output_type": "stream",
     "text": [
      "Epoch: 14 batch: 0 | loss: 5.401732414611615e-05\n",
      "Epoch: 14 batch: 10 | loss: 4.904576053377241e-05\n",
      "Epoch: 14 batch: 20 | loss: 6.965356442378834e-05\n",
      "Epoch: 14 batch: 30 | loss: 4.984661063645035e-05\n",
      "Epoch: 14 batch: 40 | loss: 4.2503004806349054e-05\n",
      "Epoch: 14 batch: 50 | loss: 3.319892130093649e-05\n",
      "Epoch: 14 batch: 60 | loss: 1.5993588021956384e-05\n",
      "Epoch: 14 batch: 70 | loss: 6.692188617307693e-05\n",
      "Epoch: 14 batch: 80 | loss: 5.003101978218183e-05\n",
      "Epoch: 14 batch: 90 | loss: 6.879470311105251e-05\n",
      "Epoch: 14 batch: 100 | loss: 0.00010678639955585822\n",
      "Epoch: 14 batch: 110 | loss: 5.676979344571009e-05\n",
      "Epoch: 14 batch: 120 | loss: 0.00010020909394370392\n",
      "Epoch: 14 batch: 130 | loss: 0.0009824989829212427\n",
      "Epoch: 14 batch: 140 | loss: 2.4645361918373965e-05\n",
      "Epoch: 14 batch: 150 | loss: 1.2103093467885628e-05\n",
      "Epoch: 14 batch: 160 | loss: 3.0457487810053863e-05\n",
      "Epoch: 14 batch: 170 | loss: 1.7681724784779362e-05\n",
      "Epoch: 14 batch: 180 | loss: 1.436222100892337e-05\n",
      "Epoch: 14 batch: 190 | loss: 6.205254612723365e-05\n",
      "Epoch: 14 batch: 200 | loss: 0.00023916273494251072\n",
      "Epoch: 14 batch: 210 | loss: 0.00017251234385184944\n",
      "Epoch: 14 batch: 220 | loss: 3.728297815541737e-05\n",
      "Epoch: 14 batch: 230 | loss: 8.812113082967699e-05\n",
      "Epoch: 14 batch: 240 | loss: 0.00012652082659769803\n",
      "Epoch: 14 batch: 250 | loss: 6.463295721914619e-05\n",
      "Epoch: 14 batch: 260 | loss: 0.001115827588364482\n",
      "Epoch: 14 batch: 270 | loss: 0.00021248712437227368\n",
      "Epoch: 14 batch: 280 | loss: 9.341234544990584e-05\n",
      "Epoch: 14 batch: 290 | loss: 0.00014388527779374272\n",
      "Epoch: 14 batch: 300 | loss: 0.0007823114283382893\n",
      "Epoch: 14 batch: 310 | loss: 5.2092986152274534e-05\n",
      "Epoch: 14 batch: 320 | loss: 0.00010352488607168198\n",
      "Epoch: 14 batch: 330 | loss: 8.363123197341338e-05\n",
      "Epoch: 14 batch: 340 | loss: 0.0002608856884762645\n",
      "Epoch: 14 batch: 350 | loss: 0.00023012042220216244\n",
      "Epoch: 14 batch: 360 | loss: 4.16934271925129e-05\n",
      "Epoch: 14 batch: 370 | loss: 4.6101144107524306e-05\n",
      "Epoch: 14 batch: 380 | loss: 1.832395173551049e-05\n",
      "Epoch: 14 batch: 390 | loss: 5.257679367787205e-05\n",
      "Epoch: 14 batch: 400 | loss: 3.417702464503236e-05\n",
      "Epoch: 14 batch: 410 | loss: 1.883999902929645e-05\n",
      "Epoch: 14 batch: 420 | loss: 5.4872212785994634e-05\n",
      "Epoch: 14 batch: 430 | loss: 0.00013355090050026774\n",
      "Epoch: 14 batch: 440 | loss: 9.088592923944816e-05\n"
     ]
    },
    {
     "name": "stderr",
     "output_type": "stream",
     "text": [
      "65it [00:00, 317.33it/s]"
     ]
    },
    {
     "name": "stdout",
     "output_type": "stream",
     "text": [
      "Epoch: 14 valLoss: 0.0005406915706879952\n"
     ]
    },
    {
     "name": "stderr",
     "output_type": "stream",
     "text": [
      "\n"
     ]
    },
    {
     "name": "stdout",
     "output_type": "stream",
     "text": [
      "Epoch: 15 batch: 0 | loss: 4.805811113328673e-05\n",
      "Epoch: 15 batch: 10 | loss: 4.816223736270331e-05\n",
      "Epoch: 15 batch: 20 | loss: 6.60269579384476e-05\n",
      "Epoch: 15 batch: 30 | loss: 5.05644638906233e-05\n",
      "Epoch: 15 batch: 40 | loss: 4.025236194138415e-05\n",
      "Epoch: 15 batch: 50 | loss: 3.0718067137058824e-05\n",
      "Epoch: 15 batch: 60 | loss: 1.6528594642295502e-05\n",
      "Epoch: 15 batch: 70 | loss: 6.529443635372445e-05\n",
      "Epoch: 15 batch: 80 | loss: 4.94614323542919e-05\n",
      "Epoch: 15 batch: 90 | loss: 6.495562411146238e-05\n",
      "Epoch: 15 batch: 100 | loss: 9.882246376946568e-05\n",
      "Epoch: 15 batch: 110 | loss: 5.206737478147261e-05\n",
      "Epoch: 15 batch: 120 | loss: 9.769541793502867e-05\n",
      "Epoch: 15 batch: 130 | loss: 0.000991740613244474\n",
      "Epoch: 15 batch: 140 | loss: 2.310398303961847e-05\n",
      "Epoch: 15 batch: 150 | loss: 1.3881004633731209e-05\n",
      "Epoch: 15 batch: 160 | loss: 2.9140623155399226e-05\n",
      "Epoch: 15 batch: 170 | loss: 1.7722155462251976e-05\n",
      "Epoch: 15 batch: 180 | loss: 1.2949234587722458e-05\n",
      "Epoch: 15 batch: 190 | loss: 6.319538806565106e-05\n",
      "Epoch: 15 batch: 200 | loss: 0.00023904233239591122\n",
      "Epoch: 15 batch: 210 | loss: 0.0001644079020479694\n",
      "Epoch: 15 batch: 220 | loss: 4.978915967512876e-05\n",
      "Epoch: 15 batch: 230 | loss: 9.286082058679312e-05\n",
      "Epoch: 15 batch: 240 | loss: 0.00012241651711519808\n",
      "Epoch: 15 batch: 250 | loss: 6.13840384176001e-05\n",
      "Epoch: 15 batch: 260 | loss: 0.0011174444807693362\n",
      "Epoch: 15 batch: 270 | loss: 0.00020467364811338484\n",
      "Epoch: 15 batch: 280 | loss: 8.63020250108093e-05\n",
      "Epoch: 15 batch: 290 | loss: 0.00014397400082089007\n",
      "Epoch: 15 batch: 300 | loss: 0.0007782194879837334\n",
      "Epoch: 15 batch: 310 | loss: 5.164769754628651e-05\n",
      "Epoch: 15 batch: 320 | loss: 0.00010209413449047133\n",
      "Epoch: 15 batch: 330 | loss: 9.410212805960327e-05\n",
      "Epoch: 15 batch: 340 | loss: 0.000257688807323575\n",
      "Epoch: 15 batch: 350 | loss: 0.00022417800209950656\n",
      "Epoch: 15 batch: 360 | loss: 3.783354986808263e-05\n",
      "Epoch: 15 batch: 370 | loss: 4.746986451209523e-05\n",
      "Epoch: 15 batch: 380 | loss: 2.0130786651861854e-05\n",
      "Epoch: 15 batch: 390 | loss: 5.294710354064591e-05\n",
      "Epoch: 15 batch: 400 | loss: 3.488834045128897e-05\n",
      "Epoch: 15 batch: 410 | loss: 1.8515593183110468e-05\n",
      "Epoch: 15 batch: 420 | loss: 5.3081083024153486e-05\n",
      "Epoch: 15 batch: 430 | loss: 0.00013263720029499382\n",
      "Epoch: 15 batch: 440 | loss: 8.399465878028423e-05\n"
     ]
    },
    {
     "name": "stderr",
     "output_type": "stream",
     "text": [
      "65it [00:00, 349.54it/s]"
     ]
    },
    {
     "name": "stdout",
     "output_type": "stream",
     "text": [
      "Epoch: 15 valLoss: 0.0005353315031959811\n"
     ]
    },
    {
     "name": "stderr",
     "output_type": "stream",
     "text": [
      "\n"
     ]
    },
    {
     "name": "stdout",
     "output_type": "stream",
     "text": [
      "Epoch: 16 batch: 0 | loss: 4.326925773057155e-05\n",
      "Epoch: 16 batch: 10 | loss: 4.652083953260444e-05\n",
      "Epoch: 16 batch: 20 | loss: 6.179662159411237e-05\n",
      "Epoch: 16 batch: 30 | loss: 4.7444700612686574e-05\n",
      "Epoch: 16 batch: 40 | loss: 3.803496292675845e-05\n",
      "Epoch: 16 batch: 50 | loss: 2.887501977966167e-05\n",
      "Epoch: 16 batch: 60 | loss: 1.7058469893527217e-05\n",
      "Epoch: 16 batch: 70 | loss: 6.310486060101539e-05\n",
      "Epoch: 16 batch: 80 | loss: 5.1501319831004366e-05\n",
      "Epoch: 16 batch: 90 | loss: 6.16183242527768e-05\n",
      "Epoch: 16 batch: 100 | loss: 9.309266897616908e-05\n",
      "Epoch: 16 batch: 110 | loss: 4.7551464376738295e-05\n",
      "Epoch: 16 batch: 120 | loss: 9.888886415865272e-05\n",
      "Epoch: 16 batch: 130 | loss: 0.0009942414471879601\n",
      "Epoch: 16 batch: 140 | loss: 2.2864620405016467e-05\n",
      "Epoch: 16 batch: 150 | loss: 1.847945895860903e-05\n",
      "Epoch: 16 batch: 160 | loss: 2.8997823392273858e-05\n",
      "Epoch: 16 batch: 170 | loss: 1.897727452160325e-05\n",
      "Epoch: 16 batch: 180 | loss: 1.2012424122076482e-05\n",
      "Epoch: 16 batch: 190 | loss: 6.230909639270976e-05\n",
      "Epoch: 16 batch: 200 | loss: 0.00023964305000845343\n",
      "Epoch: 16 batch: 210 | loss: 0.00016063990187831223\n",
      "Epoch: 16 batch: 220 | loss: 5.660695387632586e-05\n",
      "Epoch: 16 batch: 230 | loss: 0.00010608929005684331\n",
      "Epoch: 16 batch: 240 | loss: 0.00010667146125342697\n",
      "Epoch: 16 batch: 250 | loss: 5.842390964971855e-05\n",
      "Epoch: 16 batch: 260 | loss: 0.0011225758353248239\n",
      "Epoch: 16 batch: 270 | loss: 0.00020353270519990474\n",
      "Epoch: 16 batch: 280 | loss: 8.203761535696685e-05\n",
      "Epoch: 16 batch: 290 | loss: 0.00014410287258215249\n",
      "Epoch: 16 batch: 300 | loss: 0.0007718030828982592\n",
      "Epoch: 16 batch: 310 | loss: 5.138154301675968e-05\n",
      "Epoch: 16 batch: 320 | loss: 0.00010439820471219718\n",
      "Epoch: 16 batch: 330 | loss: 0.00010826117068063468\n",
      "Epoch: 16 batch: 340 | loss: 0.0002535287931095809\n",
      "Epoch: 16 batch: 350 | loss: 0.000217875320231542\n",
      "Epoch: 16 batch: 360 | loss: 3.939530870411545e-05\n",
      "Epoch: 16 batch: 370 | loss: 4.8917921958491206e-05\n",
      "Epoch: 16 batch: 380 | loss: 2.0635805412894115e-05\n",
      "Epoch: 16 batch: 390 | loss: 5.14670173288323e-05\n",
      "Epoch: 16 batch: 400 | loss: 3.799763726419769e-05\n",
      "Epoch: 16 batch: 410 | loss: 1.8580387404654175e-05\n",
      "Epoch: 16 batch: 420 | loss: 5.7000917877303436e-05\n",
      "Epoch: 16 batch: 430 | loss: 0.00012997812882531434\n",
      "Epoch: 16 batch: 440 | loss: 7.868459942983463e-05\n"
     ]
    },
    {
     "name": "stderr",
     "output_type": "stream",
     "text": [
      "65it [00:00, 318.39it/s]"
     ]
    },
    {
     "name": "stdout",
     "output_type": "stream",
     "text": [
      "Epoch: 16 valLoss: 0.000530022075615424\n"
     ]
    },
    {
     "name": "stderr",
     "output_type": "stream",
     "text": [
      "\n"
     ]
    },
    {
     "name": "stdout",
     "output_type": "stream",
     "text": [
      "Epoch: 17 batch: 0 | loss: 3.929248487111181e-05\n",
      "Epoch: 17 batch: 10 | loss: 4.7405672376044095e-05\n",
      "Epoch: 17 batch: 20 | loss: 5.808550486108288e-05\n",
      "Epoch: 17 batch: 30 | loss: 4.4948003051104024e-05\n",
      "Epoch: 17 batch: 40 | loss: 3.7634661566698924e-05\n",
      "Epoch: 17 batch: 50 | loss: 2.7713944291463122e-05\n",
      "Epoch: 17 batch: 60 | loss: 1.768511901900638e-05\n",
      "Epoch: 17 batch: 70 | loss: 6.117919110693038e-05\n",
      "Epoch: 17 batch: 80 | loss: 5.3970488806953654e-05\n",
      "Epoch: 17 batch: 90 | loss: 6.059042425476946e-05\n",
      "Epoch: 17 batch: 100 | loss: 8.80393708939664e-05\n",
      "Epoch: 17 batch: 110 | loss: 4.2118252167711034e-05\n",
      "Epoch: 17 batch: 120 | loss: 8.988247282104567e-05\n",
      "Epoch: 17 batch: 130 | loss: 0.000985029386356473\n",
      "Epoch: 17 batch: 140 | loss: 2.47348962147953e-05\n",
      "Epoch: 17 batch: 150 | loss: 1.66647932928754e-05\n",
      "Epoch: 17 batch: 160 | loss: 3.007755003636703e-05\n",
      "Epoch: 17 batch: 170 | loss: 1.8177006495534442e-05\n",
      "Epoch: 17 batch: 180 | loss: 1.2534150300780311e-05\n",
      "Epoch: 17 batch: 190 | loss: 6.428970664273947e-05\n",
      "Epoch: 17 batch: 200 | loss: 0.00023874136968515813\n",
      "Epoch: 17 batch: 210 | loss: 0.0001594069617567584\n",
      "Epoch: 17 batch: 220 | loss: 5.879057789570652e-05\n",
      "Epoch: 17 batch: 230 | loss: 0.00012354629870969802\n",
      "Epoch: 17 batch: 240 | loss: 9.590249101165682e-05\n",
      "Epoch: 17 batch: 250 | loss: 5.944673466729e-05\n",
      "Epoch: 17 batch: 260 | loss: 0.0011213035322725773\n",
      "Epoch: 17 batch: 270 | loss: 0.00020541134290397167\n",
      "Epoch: 17 batch: 280 | loss: 8.09335833764635e-05\n",
      "Epoch: 17 batch: 290 | loss: 0.00014363511581905186\n",
      "Epoch: 17 batch: 300 | loss: 0.0007652820204384625\n",
      "Epoch: 17 batch: 310 | loss: 5.070856786915101e-05\n",
      "Epoch: 17 batch: 320 | loss: 0.00010425681830383837\n",
      "Epoch: 17 batch: 330 | loss: 0.00010658248356776312\n",
      "Epoch: 17 batch: 340 | loss: 0.0002488784957677126\n",
      "Epoch: 17 batch: 350 | loss: 0.0002137369883712381\n",
      "Epoch: 17 batch: 360 | loss: 4.003589856438339e-05\n",
      "Epoch: 17 batch: 370 | loss: 5.005259663448669e-05\n",
      "Epoch: 17 batch: 380 | loss: 2.012774712056853e-05\n",
      "Epoch: 17 batch: 390 | loss: 5.0829323299694806e-05\n",
      "Epoch: 17 batch: 400 | loss: 3.8307643990265206e-05\n",
      "Epoch: 17 batch: 410 | loss: 1.8404463844490238e-05\n",
      "Epoch: 17 batch: 420 | loss: 5.6068522098939866e-05\n",
      "Epoch: 17 batch: 430 | loss: 0.0001285774342250079\n",
      "Epoch: 17 batch: 440 | loss: 7.345203630393371e-05\n"
     ]
    },
    {
     "name": "stderr",
     "output_type": "stream",
     "text": [
      "65it [00:00, 306.46it/s]"
     ]
    },
    {
     "name": "stdout",
     "output_type": "stream",
     "text": [
      "Epoch: 17 valLoss: 0.0005248431734679494\n"
     ]
    },
    {
     "name": "stderr",
     "output_type": "stream",
     "text": [
      "\n"
     ]
    },
    {
     "name": "stdout",
     "output_type": "stream",
     "text": [
      "Epoch: 18 batch: 0 | loss: 3.6128902138443664e-05\n",
      "Epoch: 18 batch: 10 | loss: 4.6846282202750444e-05\n",
      "Epoch: 18 batch: 20 | loss: 5.4245570936473086e-05\n",
      "Epoch: 18 batch: 30 | loss: 4.615613943315111e-05\n",
      "Epoch: 18 batch: 40 | loss: 3.704178016050719e-05\n",
      "Epoch: 18 batch: 50 | loss: 2.6228353817714378e-05\n",
      "Epoch: 18 batch: 60 | loss: 1.7771639249986038e-05\n",
      "Epoch: 18 batch: 70 | loss: 5.990843055769801e-05\n",
      "Epoch: 18 batch: 80 | loss: 5.359663919080049e-05\n",
      "Epoch: 18 batch: 90 | loss: 5.7600038417149335e-05\n",
      "Epoch: 18 batch: 100 | loss: 8.417307253694162e-05\n",
      "Epoch: 18 batch: 110 | loss: 3.8660997233819216e-05\n",
      "Epoch: 18 batch: 120 | loss: 7.865854422561824e-05\n",
      "Epoch: 18 batch: 130 | loss: 0.0009736120700836182\n",
      "Epoch: 18 batch: 140 | loss: 2.490396218490787e-05\n",
      "Epoch: 18 batch: 150 | loss: 1.5114227608137298e-05\n",
      "Epoch: 18 batch: 160 | loss: 2.938731267931871e-05\n",
      "Epoch: 18 batch: 170 | loss: 1.801378130039666e-05\n",
      "Epoch: 18 batch: 180 | loss: 1.1252600415900815e-05\n",
      "Epoch: 18 batch: 190 | loss: 6.414016388589516e-05\n",
      "Epoch: 18 batch: 200 | loss: 0.00023584568407386541\n",
      "Epoch: 18 batch: 210 | loss: 0.00016356779087800533\n",
      "Epoch: 18 batch: 220 | loss: 5.03404407936614e-05\n",
      "Epoch: 18 batch: 230 | loss: 0.0001229097251780331\n",
      "Epoch: 18 batch: 240 | loss: 9.579663310432807e-05\n",
      "Epoch: 18 batch: 250 | loss: 6.245902477530763e-05\n",
      "Epoch: 18 batch: 260 | loss: 0.0011234852718189359\n",
      "Epoch: 18 batch: 270 | loss: 0.00018265839025843889\n",
      "Epoch: 18 batch: 280 | loss: 8.182221063179895e-05\n",
      "Epoch: 18 batch: 290 | loss: 0.0001476232282584533\n",
      "Epoch: 18 batch: 300 | loss: 0.0007553095347248018\n",
      "Epoch: 18 batch: 310 | loss: 5.283422797219828e-05\n",
      "Epoch: 18 batch: 320 | loss: 0.00010114772885572165\n",
      "Epoch: 18 batch: 330 | loss: 0.00011093029024777934\n",
      "Epoch: 18 batch: 340 | loss: 0.0002458423550706357\n",
      "Epoch: 18 batch: 350 | loss: 0.00021259851928334683\n",
      "Epoch: 18 batch: 360 | loss: 4.286782132112421e-05\n",
      "Epoch: 18 batch: 370 | loss: 4.6625373215647414e-05\n",
      "Epoch: 18 batch: 380 | loss: 1.9769158825511113e-05\n",
      "Epoch: 18 batch: 390 | loss: 5.1430670282570645e-05\n",
      "Epoch: 18 batch: 400 | loss: 4.124705810681917e-05\n",
      "Epoch: 18 batch: 410 | loss: 1.8216103853774257e-05\n",
      "Epoch: 18 batch: 420 | loss: 5.98312180954963e-05\n",
      "Epoch: 18 batch: 430 | loss: 0.0001294106914428994\n",
      "Epoch: 18 batch: 440 | loss: 6.992080307099968e-05\n"
     ]
    },
    {
     "name": "stderr",
     "output_type": "stream",
     "text": [
      "65it [00:00, 324.41it/s]"
     ]
    },
    {
     "name": "stdout",
     "output_type": "stream",
     "text": [
      "Epoch: 18 valLoss: 0.0005205470130082337\n"
     ]
    },
    {
     "name": "stderr",
     "output_type": "stream",
     "text": [
      "\n"
     ]
    },
    {
     "name": "stdout",
     "output_type": "stream",
     "text": [
      "Epoch: 19 batch: 0 | loss: 3.3784512197598815e-05\n",
      "Epoch: 19 batch: 10 | loss: 4.75278684461955e-05\n",
      "Epoch: 19 batch: 20 | loss: 5.170616350369528e-05\n",
      "Epoch: 19 batch: 30 | loss: 4.5554752432508394e-05\n",
      "Epoch: 19 batch: 40 | loss: 3.657970592030324e-05\n",
      "Epoch: 19 batch: 50 | loss: 2.527042306610383e-05\n",
      "Epoch: 19 batch: 60 | loss: 1.743362554407213e-05\n",
      "Epoch: 19 batch: 70 | loss: 5.806698391097598e-05\n",
      "Epoch: 19 batch: 80 | loss: 5.942654752288945e-05\n",
      "Epoch: 19 batch: 90 | loss: 5.6956268963404e-05\n",
      "Epoch: 19 batch: 100 | loss: 8.130465721478686e-05\n",
      "Epoch: 19 batch: 110 | loss: 3.609848499763757e-05\n",
      "Epoch: 19 batch: 120 | loss: 6.45976178930141e-05\n",
      "Epoch: 19 batch: 130 | loss: 0.0009704084950499237\n",
      "Epoch: 19 batch: 140 | loss: 2.4052456865319982e-05\n",
      "Epoch: 19 batch: 150 | loss: 1.5282352251233533e-05\n",
      "Epoch: 19 batch: 160 | loss: 2.9188489861553535e-05\n",
      "Epoch: 19 batch: 170 | loss: 1.7905460481415503e-05\n",
      "Epoch: 19 batch: 180 | loss: 1.0046195711765904e-05\n",
      "Epoch: 19 batch: 190 | loss: 6.453627429436892e-05\n",
      "Epoch: 19 batch: 200 | loss: 0.00023467358550988138\n",
      "Epoch: 19 batch: 210 | loss: 0.00016483021317981184\n",
      "Epoch: 19 batch: 220 | loss: 4.264896779204719e-05\n",
      "Epoch: 19 batch: 230 | loss: 0.00011569618800422177\n",
      "Epoch: 19 batch: 240 | loss: 9.756784129422158e-05\n",
      "Epoch: 19 batch: 250 | loss: 6.874481186969206e-05\n",
      "Epoch: 19 batch: 260 | loss: 0.001143804518505931\n",
      "Epoch: 19 batch: 270 | loss: 0.0001637896930333227\n",
      "Epoch: 19 batch: 280 | loss: 7.997627835720778e-05\n",
      "Epoch: 19 batch: 290 | loss: 0.0001498589845141396\n",
      "Epoch: 19 batch: 300 | loss: 0.0007490265415981412\n",
      "Epoch: 19 batch: 310 | loss: 5.192455864744261e-05\n",
      "Epoch: 19 batch: 320 | loss: 0.0001004578298307024\n",
      "Epoch: 19 batch: 330 | loss: 0.00010817675502039492\n",
      "Epoch: 19 batch: 340 | loss: 0.00024287945416290313\n",
      "Epoch: 19 batch: 350 | loss: 0.00021253718296065927\n",
      "Epoch: 19 batch: 360 | loss: 4.470948260859586e-05\n",
      "Epoch: 19 batch: 370 | loss: 4.394022835185751e-05\n",
      "Epoch: 19 batch: 380 | loss: 1.9478335161693394e-05\n",
      "Epoch: 19 batch: 390 | loss: 5.161236913409084e-05\n",
      "Epoch: 19 batch: 400 | loss: 4.4020322093274444e-05\n",
      "Epoch: 19 batch: 410 | loss: 1.861588316387497e-05\n",
      "Epoch: 19 batch: 420 | loss: 5.5800879636080936e-05\n",
      "Epoch: 19 batch: 430 | loss: 0.00012737861834466457\n",
      "Epoch: 19 batch: 440 | loss: 6.60014629829675e-05\n"
     ]
    },
    {
     "name": "stderr",
     "output_type": "stream",
     "text": [
      "65it [00:00, 305.80it/s]"
     ]
    },
    {
     "name": "stdout",
     "output_type": "stream",
     "text": [
      "Epoch: 19 valLoss: 0.0005164593844978147\n"
     ]
    },
    {
     "name": "stderr",
     "output_type": "stream",
     "text": [
      "\n"
     ]
    },
    {
     "name": "stdout",
     "output_type": "stream",
     "text": [
      "Epoch: 20 batch: 0 | loss: 3.179037230438553e-05\n",
      "Epoch: 20 batch: 10 | loss: 4.80983653687872e-05\n",
      "Epoch: 20 batch: 20 | loss: 4.872687713941559e-05\n",
      "Epoch: 20 batch: 30 | loss: 4.593138874042779e-05\n",
      "Epoch: 20 batch: 40 | loss: 3.6255878512747586e-05\n",
      "Epoch: 20 batch: 50 | loss: 2.509851947252173e-05\n",
      "Epoch: 20 batch: 60 | loss: 1.82138683157973e-05\n",
      "Epoch: 20 batch: 70 | loss: 5.7015429774764925e-05\n",
      "Epoch: 20 batch: 80 | loss: 5.973527368041687e-05\n",
      "Epoch: 20 batch: 90 | loss: 5.328539918991737e-05\n",
      "Epoch: 20 batch: 100 | loss: 7.842158083803952e-05\n",
      "Epoch: 20 batch: 110 | loss: 3.466587804723531e-05\n",
      "Epoch: 20 batch: 120 | loss: 5.690944817615673e-05\n",
      "Epoch: 20 batch: 130 | loss: 0.0009709516889415681\n",
      "Epoch: 20 batch: 140 | loss: 2.5739871489349753e-05\n",
      "Epoch: 20 batch: 150 | loss: 1.4187632586981636e-05\n",
      "Epoch: 20 batch: 160 | loss: 2.7981937819276936e-05\n",
      "Epoch: 20 batch: 170 | loss: 1.7917875084094703e-05\n",
      "Epoch: 20 batch: 180 | loss: 9.388337275595404e-06\n",
      "Epoch: 20 batch: 190 | loss: 6.447969644796103e-05\n",
      "Epoch: 20 batch: 200 | loss: 0.00023087230511009693\n",
      "Epoch: 20 batch: 210 | loss: 0.00016708347538951784\n",
      "Epoch: 20 batch: 220 | loss: 3.745497815543786e-05\n",
      "Epoch: 20 batch: 230 | loss: 0.00010043602378573269\n",
      "Epoch: 20 batch: 240 | loss: 8.883843111107126e-05\n",
      "Epoch: 20 batch: 250 | loss: 6.662522355327383e-05\n",
      "Epoch: 20 batch: 260 | loss: 0.0011506739538162947\n",
      "Epoch: 20 batch: 270 | loss: 0.00014943614951334894\n",
      "Epoch: 20 batch: 280 | loss: 8.136993710650131e-05\n",
      "Epoch: 20 batch: 290 | loss: 0.0001501431397628039\n",
      "Epoch: 20 batch: 300 | loss: 0.0007415482541546226\n",
      "Epoch: 20 batch: 310 | loss: 5.108140976517461e-05\n",
      "Epoch: 20 batch: 320 | loss: 9.639767813496292e-05\n",
      "Epoch: 20 batch: 330 | loss: 0.00010363099863752723\n",
      "Epoch: 20 batch: 340 | loss: 0.00024192719138227403\n",
      "Epoch: 20 batch: 350 | loss: 0.0002146461483789608\n",
      "Epoch: 20 batch: 360 | loss: 4.89529556944035e-05\n",
      "Epoch: 20 batch: 370 | loss: 4.117107891943306e-05\n",
      "Epoch: 20 batch: 380 | loss: 1.9388191503821872e-05\n",
      "Epoch: 20 batch: 390 | loss: 5.1029106543865055e-05\n",
      "Epoch: 20 batch: 400 | loss: 4.7467379772569984e-05\n",
      "Epoch: 20 batch: 410 | loss: 1.840746153902728e-05\n",
      "Epoch: 20 batch: 420 | loss: 5.282964775688015e-05\n",
      "Epoch: 20 batch: 430 | loss: 0.00012627702380996197\n",
      "Epoch: 20 batch: 440 | loss: 6.2829079979565e-05\n"
     ]
    },
    {
     "name": "stderr",
     "output_type": "stream",
     "text": [
      "65it [00:00, 340.12it/s]"
     ]
    },
    {
     "name": "stdout",
     "output_type": "stream",
     "text": [
      "Epoch: 20 valLoss: 0.000512103254258834\n"
     ]
    },
    {
     "name": "stderr",
     "output_type": "stream",
     "text": [
      "\n"
     ]
    },
    {
     "name": "stdout",
     "output_type": "stream",
     "text": [
      "Epoch: 21 batch: 0 | loss: 3.0874703952576965e-05\n",
      "Epoch: 21 batch: 10 | loss: 4.883069050265476e-05\n",
      "Epoch: 21 batch: 20 | loss: 4.626719965017401e-05\n",
      "Epoch: 21 batch: 30 | loss: 4.7061112127266824e-05\n",
      "Epoch: 21 batch: 40 | loss: 3.403381924727e-05\n",
      "Epoch: 21 batch: 50 | loss: 2.4210619812947698e-05\n",
      "Epoch: 21 batch: 60 | loss: 1.8719689251156524e-05\n",
      "Epoch: 21 batch: 70 | loss: 5.590033470070921e-05\n",
      "Epoch: 21 batch: 80 | loss: 6.11230279901065e-05\n",
      "Epoch: 21 batch: 90 | loss: 5.129491546540521e-05\n",
      "Epoch: 21 batch: 100 | loss: 7.691657083341852e-05\n",
      "Epoch: 21 batch: 110 | loss: 3.332331471028738e-05\n",
      "Epoch: 21 batch: 120 | loss: 5.1759896450676024e-05\n",
      "Epoch: 21 batch: 130 | loss: 0.0009740658570080996\n",
      "Epoch: 21 batch: 140 | loss: 2.6302357582608238e-05\n",
      "Epoch: 21 batch: 150 | loss: 1.4180993275658693e-05\n",
      "Epoch: 21 batch: 160 | loss: 2.767141631920822e-05\n",
      "Epoch: 21 batch: 170 | loss: 1.8036404071608558e-05\n",
      "Epoch: 21 batch: 180 | loss: 9.280871381633915e-06\n",
      "Epoch: 21 batch: 190 | loss: 6.439413846237585e-05\n",
      "Epoch: 21 batch: 200 | loss: 0.00023097441589925438\n",
      "Epoch: 21 batch: 210 | loss: 0.00017125029989983886\n",
      "Epoch: 21 batch: 220 | loss: 3.4596585464896634e-05\n",
      "Epoch: 21 batch: 230 | loss: 8.958533726399764e-05\n",
      "Epoch: 21 batch: 240 | loss: 8.523173164576292e-05\n",
      "Epoch: 21 batch: 250 | loss: 6.608109833905473e-05\n",
      "Epoch: 21 batch: 260 | loss: 0.0011459313100203872\n",
      "Epoch: 21 batch: 270 | loss: 0.00014952142373658717\n",
      "Epoch: 21 batch: 280 | loss: 8.183837053366005e-05\n",
      "Epoch: 21 batch: 290 | loss: 0.0001494035532232374\n",
      "Epoch: 21 batch: 300 | loss: 0.0007340899901464581\n",
      "Epoch: 21 batch: 310 | loss: 5.202857937547378e-05\n",
      "Epoch: 21 batch: 320 | loss: 9.586737724021077e-05\n",
      "Epoch: 21 batch: 330 | loss: 0.00010050177661469206\n",
      "Epoch: 21 batch: 340 | loss: 0.00023959737154655159\n",
      "Epoch: 21 batch: 350 | loss: 0.00021910299255978316\n",
      "Epoch: 21 batch: 360 | loss: 5.546533066080883e-05\n",
      "Epoch: 21 batch: 370 | loss: 3.8068661524448544e-05\n",
      "Epoch: 21 batch: 380 | loss: 2.1614216166199185e-05\n",
      "Epoch: 21 batch: 390 | loss: 5.039932148065418e-05\n",
      "Epoch: 21 batch: 400 | loss: 5.046990918344818e-05\n",
      "Epoch: 21 batch: 410 | loss: 1.9233204511692747e-05\n",
      "Epoch: 21 batch: 420 | loss: 4.541139060165733e-05\n",
      "Epoch: 21 batch: 430 | loss: 0.00012543554475996643\n",
      "Epoch: 21 batch: 440 | loss: 6.032504825270735e-05\n"
     ]
    },
    {
     "name": "stderr",
     "output_type": "stream",
     "text": [
      "65it [00:00, 280.00it/s]"
     ]
    },
    {
     "name": "stdout",
     "output_type": "stream",
     "text": [
      "Epoch: 21 valLoss: 0.0005093291967104296\n"
     ]
    },
    {
     "name": "stderr",
     "output_type": "stream",
     "text": [
      "\n"
     ]
    },
    {
     "name": "stdout",
     "output_type": "stream",
     "text": [
      "Epoch: 22 batch: 0 | loss: 3.0822204280411825e-05\n",
      "Epoch: 22 batch: 10 | loss: 4.895475649391301e-05\n",
      "Epoch: 22 batch: 20 | loss: 4.421061385073699e-05\n",
      "Epoch: 22 batch: 30 | loss: 4.6661949454573914e-05\n",
      "Epoch: 22 batch: 40 | loss: 3.3031756174750626e-05\n",
      "Epoch: 22 batch: 50 | loss: 2.3930288080009632e-05\n",
      "Epoch: 22 batch: 60 | loss: 1.985758717637509e-05\n",
      "Epoch: 22 batch: 70 | loss: 5.48018651898019e-05\n",
      "Epoch: 22 batch: 80 | loss: 6.326111179077998e-05\n",
      "Epoch: 22 batch: 90 | loss: 4.8998404963640496e-05\n",
      "Epoch: 22 batch: 100 | loss: 7.450271368725225e-05\n",
      "Epoch: 22 batch: 110 | loss: 3.200046921847388e-05\n",
      "Epoch: 22 batch: 120 | loss: 4.564553819363937e-05\n",
      "Epoch: 22 batch: 130 | loss: 0.0009733335464261472\n",
      "Epoch: 22 batch: 140 | loss: 2.8014428608003072e-05\n",
      "Epoch: 22 batch: 150 | loss: 1.5113523659238126e-05\n",
      "Epoch: 22 batch: 160 | loss: 2.7713997042155825e-05\n",
      "Epoch: 22 batch: 170 | loss: 1.797914046619553e-05\n",
      "Epoch: 22 batch: 180 | loss: 9.015838259074371e-06\n",
      "Epoch: 22 batch: 190 | loss: 6.504878547275439e-05\n",
      "Epoch: 22 batch: 200 | loss: 0.00022780591098126024\n",
      "Epoch: 22 batch: 210 | loss: 0.00017349174595437944\n",
      "Epoch: 22 batch: 220 | loss: 3.5099434171570465e-05\n",
      "Epoch: 22 batch: 230 | loss: 7.826178625691682e-05\n",
      "Epoch: 22 batch: 240 | loss: 7.874493894632906e-05\n",
      "Epoch: 22 batch: 250 | loss: 6.074796328903176e-05\n",
      "Epoch: 22 batch: 260 | loss: 0.0011319415643811226\n",
      "Epoch: 22 batch: 270 | loss: 0.0001483849628129974\n",
      "Epoch: 22 batch: 280 | loss: 8.14317463664338e-05\n",
      "Epoch: 22 batch: 290 | loss: 0.0001509719149908051\n",
      "Epoch: 22 batch: 300 | loss: 0.0007308452622964978\n",
      "Epoch: 22 batch: 310 | loss: 5.305710874381475e-05\n",
      "Epoch: 22 batch: 320 | loss: 9.166582458419725e-05\n",
      "Epoch: 22 batch: 330 | loss: 9.593729191692546e-05\n",
      "Epoch: 22 batch: 340 | loss: 0.00023902053362689912\n",
      "Epoch: 22 batch: 350 | loss: 0.00022201302635949105\n",
      "Epoch: 22 batch: 360 | loss: 6.092679177527316e-05\n",
      "Epoch: 22 batch: 370 | loss: 3.3972795790759847e-05\n",
      "Epoch: 22 batch: 380 | loss: 2.3679684090893716e-05\n",
      "Epoch: 22 batch: 390 | loss: 4.931521834805608e-05\n",
      "Epoch: 22 batch: 400 | loss: 5.0585022108862177e-05\n",
      "Epoch: 22 batch: 410 | loss: 1.9314789824420586e-05\n",
      "Epoch: 22 batch: 420 | loss: 4.324148903833702e-05\n",
      "Epoch: 22 batch: 430 | loss: 0.00012739462545141578\n",
      "Epoch: 22 batch: 440 | loss: 5.814771066070534e-05\n"
     ]
    },
    {
     "name": "stderr",
     "output_type": "stream",
     "text": [
      "65it [00:00, 318.77it/s]"
     ]
    },
    {
     "name": "stdout",
     "output_type": "stream",
     "text": [
      "Epoch: 22 valLoss: 0.000508401449126215\n"
     ]
    },
    {
     "name": "stderr",
     "output_type": "stream",
     "text": [
      "\n"
     ]
    },
    {
     "name": "stdout",
     "output_type": "stream",
     "text": [
      "Epoch: 23 batch: 0 | loss: 3.21728948620148e-05\n",
      "Epoch: 23 batch: 10 | loss: 4.851327685173601e-05\n",
      "Epoch: 23 batch: 20 | loss: 4.273666490917094e-05\n",
      "Epoch: 23 batch: 30 | loss: 4.959516445524059e-05\n",
      "Epoch: 23 batch: 40 | loss: 3.1715258955955505e-05\n",
      "Epoch: 23 batch: 50 | loss: 2.435714668536093e-05\n",
      "Epoch: 23 batch: 60 | loss: 2.056487210211344e-05\n",
      "Epoch: 23 batch: 70 | loss: 5.417158899945207e-05\n",
      "Epoch: 23 batch: 80 | loss: 6.0241589380893856e-05\n",
      "Epoch: 23 batch: 90 | loss: 4.8261852498399094e-05\n",
      "Epoch: 23 batch: 100 | loss: 7.120855298126116e-05\n",
      "Epoch: 23 batch: 110 | loss: 3.099402965744957e-05\n",
      "Epoch: 23 batch: 120 | loss: 4.075855758856051e-05\n",
      "Epoch: 23 batch: 130 | loss: 0.000972436333540827\n",
      "Epoch: 23 batch: 140 | loss: 2.6070601961691864e-05\n",
      "Epoch: 23 batch: 150 | loss: 1.4888383702782448e-05\n",
      "Epoch: 23 batch: 160 | loss: 2.782991032290738e-05\n",
      "Epoch: 23 batch: 170 | loss: 1.8578381059342064e-05\n",
      "Epoch: 23 batch: 180 | loss: 8.879883353074547e-06\n",
      "Epoch: 23 batch: 190 | loss: 6.440210563596338e-05\n",
      "Epoch: 23 batch: 200 | loss: 0.00022700091358274221\n",
      "Epoch: 23 batch: 210 | loss: 0.00017310136172454804\n",
      "Epoch: 23 batch: 220 | loss: 3.473916513030417e-05\n",
      "Epoch: 23 batch: 230 | loss: 7.131107850000262e-05\n",
      "Epoch: 23 batch: 240 | loss: 7.742677553324029e-05\n",
      "Epoch: 23 batch: 250 | loss: 5.819951547891833e-05\n",
      "Epoch: 23 batch: 260 | loss: 0.0011295534204691648\n",
      "Epoch: 23 batch: 270 | loss: 0.00015089243242982775\n",
      "Epoch: 23 batch: 280 | loss: 7.95917003415525e-05\n",
      "Epoch: 23 batch: 290 | loss: 0.0001532837632112205\n",
      "Epoch: 23 batch: 300 | loss: 0.0007245821179822087\n",
      "Epoch: 23 batch: 310 | loss: 5.427350333775394e-05\n",
      "Epoch: 23 batch: 320 | loss: 8.859382069204003e-05\n",
      "Epoch: 23 batch: 330 | loss: 9.196936298394576e-05\n",
      "Epoch: 23 batch: 340 | loss: 0.00023958587553352118\n",
      "Epoch: 23 batch: 350 | loss: 0.00022322710719890893\n",
      "Epoch: 23 batch: 360 | loss: 6.635874160565436e-05\n",
      "Epoch: 23 batch: 370 | loss: 3.1549014238407835e-05\n",
      "Epoch: 23 batch: 380 | loss: 2.5731145797180943e-05\n",
      "Epoch: 23 batch: 390 | loss: 4.807595178135671e-05\n",
      "Epoch: 23 batch: 400 | loss: 5.081608833279461e-05\n",
      "Epoch: 23 batch: 410 | loss: 1.9803896066150628e-05\n",
      "Epoch: 23 batch: 420 | loss: 4.042556247441098e-05\n",
      "Epoch: 23 batch: 430 | loss: 0.00013015556032769382\n",
      "Epoch: 23 batch: 440 | loss: 5.608542051049881e-05\n"
     ]
    },
    {
     "name": "stderr",
     "output_type": "stream",
     "text": [
      "65it [00:00, 312.64it/s]"
     ]
    },
    {
     "name": "stdout",
     "output_type": "stream",
     "text": [
      "Epoch: 23 valLoss: 0.0005074687447771806\n"
     ]
    },
    {
     "name": "stderr",
     "output_type": "stream",
     "text": [
      "\n"
     ]
    },
    {
     "name": "stdout",
     "output_type": "stream",
     "text": [
      "Epoch: 24 batch: 0 | loss: 3.318210656289011e-05\n",
      "Epoch: 24 batch: 10 | loss: 5.008188236388378e-05\n",
      "Epoch: 24 batch: 20 | loss: 4.227340832585469e-05\n",
      "Epoch: 24 batch: 30 | loss: 5.037098890170455e-05\n",
      "Epoch: 24 batch: 40 | loss: 3.0353781767189503e-05\n",
      "Epoch: 24 batch: 50 | loss: 2.3286045689019375e-05\n",
      "Epoch: 24 batch: 60 | loss: 2.065069929813035e-05\n",
      "Epoch: 24 batch: 70 | loss: 5.350918581825681e-05\n",
      "Epoch: 24 batch: 80 | loss: 6.418656266760081e-05\n",
      "Epoch: 24 batch: 90 | loss: 4.604155765264295e-05\n",
      "Epoch: 24 batch: 100 | loss: 6.629047129536048e-05\n",
      "Epoch: 24 batch: 110 | loss: 3.021452903340105e-05\n",
      "Epoch: 24 batch: 120 | loss: 3.628469494287856e-05\n",
      "Epoch: 24 batch: 130 | loss: 0.0009733824990689754\n",
      "Epoch: 24 batch: 140 | loss: 2.8970520361326635e-05\n",
      "Epoch: 24 batch: 150 | loss: 1.6328769561368972e-05\n",
      "Epoch: 24 batch: 160 | loss: 2.7563599360291846e-05\n",
      "Epoch: 24 batch: 170 | loss: 1.8663049559108913e-05\n",
      "Epoch: 24 batch: 180 | loss: 8.811252882878762e-06\n",
      "Epoch: 24 batch: 190 | loss: 6.461940211011097e-05\n",
      "Epoch: 24 batch: 200 | loss: 0.00022672148770652711\n",
      "Epoch: 24 batch: 210 | loss: 0.00017363189544994384\n",
      "Epoch: 24 batch: 220 | loss: 3.7377511034719646e-05\n",
      "Epoch: 24 batch: 230 | loss: 6.703301187371835e-05\n",
      "Epoch: 24 batch: 240 | loss: 7.745566836092621e-05\n",
      "Epoch: 24 batch: 250 | loss: 5.6334491091547534e-05\n",
      "Epoch: 24 batch: 260 | loss: 0.0011283217463642359\n",
      "Epoch: 24 batch: 270 | loss: 0.0001503101666457951\n",
      "Epoch: 24 batch: 280 | loss: 7.976537744980305e-05\n",
      "Epoch: 24 batch: 290 | loss: 0.00015297917707357556\n",
      "Epoch: 24 batch: 300 | loss: 0.000720050185918808\n",
      "Epoch: 24 batch: 310 | loss: 5.38768908882048e-05\n",
      "Epoch: 24 batch: 320 | loss: 8.662424806971103e-05\n",
      "Epoch: 24 batch: 330 | loss: 8.623626490589231e-05\n",
      "Epoch: 24 batch: 340 | loss: 0.00023895164486020803\n",
      "Epoch: 24 batch: 350 | loss: 0.0002306579117430374\n",
      "Epoch: 24 batch: 360 | loss: 7.532678864663467e-05\n",
      "Epoch: 24 batch: 370 | loss: 2.9623613954754546e-05\n",
      "Epoch: 24 batch: 380 | loss: 2.704861617530696e-05\n",
      "Epoch: 24 batch: 390 | loss: 4.759726289194077e-05\n",
      "Epoch: 24 batch: 400 | loss: 4.882723806076683e-05\n",
      "Epoch: 24 batch: 410 | loss: 1.980451270355843e-05\n",
      "Epoch: 24 batch: 420 | loss: 3.950197424273938e-05\n",
      "Epoch: 24 batch: 430 | loss: 0.00013292876246850938\n",
      "Epoch: 24 batch: 440 | loss: 5.49365249753464e-05\n"
     ]
    },
    {
     "name": "stderr",
     "output_type": "stream",
     "text": [
      "65it [00:00, 292.20it/s]"
     ]
    },
    {
     "name": "stdout",
     "output_type": "stream",
     "text": [
      "Epoch: 24 valLoss: 0.0005058153259087895\n"
     ]
    },
    {
     "name": "stderr",
     "output_type": "stream",
     "text": [
      "\n"
     ]
    },
    {
     "name": "stdout",
     "output_type": "stream",
     "text": [
      "Epoch: 25 batch: 0 | loss: 3.277582072769292e-05\n",
      "Epoch: 25 batch: 10 | loss: 5.182208769838326e-05\n",
      "Epoch: 25 batch: 20 | loss: 4.1656119719846174e-05\n",
      "Epoch: 25 batch: 30 | loss: 5.621785021503456e-05\n",
      "Epoch: 25 batch: 40 | loss: 2.9070539312670007e-05\n",
      "Epoch: 25 batch: 50 | loss: 2.2759724743082188e-05\n",
      "Epoch: 25 batch: 60 | loss: 1.9901841369573958e-05\n",
      "Epoch: 25 batch: 70 | loss: 5.303065699990839e-05\n",
      "Epoch: 25 batch: 80 | loss: 7.068023114698008e-05\n",
      "Epoch: 25 batch: 90 | loss: 4.6370227209990844e-05\n",
      "Epoch: 25 batch: 100 | loss: 6.472125096479431e-05\n",
      "Epoch: 25 batch: 110 | loss: 2.996312832692638e-05\n",
      "Epoch: 25 batch: 120 | loss: 3.353776992298663e-05\n",
      "Epoch: 25 batch: 130 | loss: 0.0009764779824763536\n",
      "Epoch: 25 batch: 140 | loss: 2.847817631845828e-05\n",
      "Epoch: 25 batch: 150 | loss: 1.682278343650978e-05\n",
      "Epoch: 25 batch: 160 | loss: 2.7546730052563362e-05\n",
      "Epoch: 25 batch: 170 | loss: 1.8330061720917e-05\n",
      "Epoch: 25 batch: 180 | loss: 8.683374289830681e-06\n",
      "Epoch: 25 batch: 190 | loss: 6.390680209733546e-05\n",
      "Epoch: 25 batch: 200 | loss: 0.00022476064623333514\n",
      "Epoch: 25 batch: 210 | loss: 0.00017630630463827401\n",
      "Epoch: 25 batch: 220 | loss: 4.100330625078641e-05\n",
      "Epoch: 25 batch: 230 | loss: 6.28735069767572e-05\n",
      "Epoch: 25 batch: 240 | loss: 7.723153248662129e-05\n",
      "Epoch: 25 batch: 250 | loss: 5.536043317988515e-05\n",
      "Epoch: 25 batch: 260 | loss: 0.0011313155991956592\n",
      "Epoch: 25 batch: 270 | loss: 0.00014540960546582937\n",
      "Epoch: 25 batch: 280 | loss: 7.899202319094911e-05\n",
      "Epoch: 25 batch: 290 | loss: 0.00015282805543392897\n",
      "Epoch: 25 batch: 300 | loss: 0.0007155544008128345\n",
      "Epoch: 25 batch: 310 | loss: 5.468986273626797e-05\n",
      "Epoch: 25 batch: 320 | loss: 8.513093780493364e-05\n",
      "Epoch: 25 batch: 330 | loss: 8.190907828975469e-05\n",
      "Epoch: 25 batch: 340 | loss: 0.0002388611901551485\n",
      "Epoch: 25 batch: 350 | loss: 0.00023431036970578134\n",
      "Epoch: 25 batch: 360 | loss: 7.866953819757327e-05\n",
      "Epoch: 25 batch: 370 | loss: 2.861185566871427e-05\n",
      "Epoch: 25 batch: 380 | loss: 2.651573231560178e-05\n",
      "Epoch: 25 batch: 390 | loss: 4.811025792150758e-05\n",
      "Epoch: 25 batch: 400 | loss: 5.024182246415876e-05\n",
      "Epoch: 25 batch: 410 | loss: 2.0039562514284626e-05\n",
      "Epoch: 25 batch: 420 | loss: 3.97923358832486e-05\n",
      "Epoch: 25 batch: 430 | loss: 0.00013596760982181877\n",
      "Epoch: 25 batch: 440 | loss: 5.3863586799707264e-05\n"
     ]
    },
    {
     "name": "stderr",
     "output_type": "stream",
     "text": [
      "65it [00:00, 300.13it/s]"
     ]
    },
    {
     "name": "stdout",
     "output_type": "stream",
     "text": [
      "Epoch: 25 valLoss: 0.0005066905188957854\n"
     ]
    },
    {
     "name": "stderr",
     "output_type": "stream",
     "text": [
      "\n"
     ]
    },
    {
     "name": "stdout",
     "output_type": "stream",
     "text": [
      "Epoch: 26 batch: 0 | loss: 3.510097667458467e-05\n",
      "Epoch: 26 batch: 10 | loss: 5.533318835659884e-05\n",
      "Epoch: 26 batch: 20 | loss: 4.126327985431999e-05\n",
      "Epoch: 26 batch: 30 | loss: 5.8225286920787767e-05\n",
      "Epoch: 26 batch: 40 | loss: 2.8367789127514698e-05\n",
      "Epoch: 26 batch: 50 | loss: 2.3044511181069538e-05\n",
      "Epoch: 26 batch: 60 | loss: 2.1254290913930163e-05\n",
      "Epoch: 26 batch: 70 | loss: 5.273141141515225e-05\n",
      "Epoch: 26 batch: 80 | loss: 6.71471789246425e-05\n",
      "Epoch: 26 batch: 90 | loss: 4.430217813933268e-05\n",
      "Epoch: 26 batch: 100 | loss: 6.229650171007961e-05\n",
      "Epoch: 26 batch: 110 | loss: 2.924349973909557e-05\n",
      "Epoch: 26 batch: 120 | loss: 3.085168282268569e-05\n",
      "Epoch: 26 batch: 130 | loss: 0.0009770961478352547\n",
      "Epoch: 26 batch: 140 | loss: 2.4570748792029917e-05\n",
      "Epoch: 26 batch: 150 | loss: 1.6570291336392984e-05\n",
      "Epoch: 26 batch: 160 | loss: 2.758108894340694e-05\n",
      "Epoch: 26 batch: 170 | loss: 1.8485441614757292e-05\n",
      "Epoch: 26 batch: 180 | loss: 8.506181075063068e-06\n",
      "Epoch: 26 batch: 190 | loss: 6.397041579475626e-05\n",
      "Epoch: 26 batch: 200 | loss: 0.00022157632338348776\n",
      "Epoch: 26 batch: 210 | loss: 0.00017329497495666146\n",
      "Epoch: 26 batch: 220 | loss: 4.0037815779214725e-05\n",
      "Epoch: 26 batch: 230 | loss: 5.952972423983738e-05\n",
      "Epoch: 26 batch: 240 | loss: 8.070387411862612e-05\n",
      "Epoch: 26 batch: 250 | loss: 5.3485262469621375e-05\n",
      "Epoch: 26 batch: 260 | loss: 0.001128084142692387\n",
      "Epoch: 26 batch: 270 | loss: 0.00014402878878172487\n",
      "Epoch: 26 batch: 280 | loss: 7.980025839060545e-05\n",
      "Epoch: 26 batch: 290 | loss: 0.00015446437464561313\n",
      "Epoch: 26 batch: 300 | loss: 0.0007110114092938602\n",
      "Epoch: 26 batch: 310 | loss: 5.466923175845295e-05\n",
      "Epoch: 26 batch: 320 | loss: 8.072215860011056e-05\n",
      "Epoch: 26 batch: 330 | loss: 8.436485222773626e-05\n",
      "Epoch: 26 batch: 340 | loss: 0.00023957894882187247\n",
      "Epoch: 26 batch: 350 | loss: 0.00023544649593532085\n",
      "Epoch: 26 batch: 360 | loss: 8.064078429015353e-05\n",
      "Epoch: 26 batch: 370 | loss: 2.7198002499062568e-05\n",
      "Epoch: 26 batch: 380 | loss: 2.779778151307255e-05\n",
      "Epoch: 26 batch: 390 | loss: 4.773423643200658e-05\n",
      "Epoch: 26 batch: 400 | loss: 4.962556340615265e-05\n",
      "Epoch: 26 batch: 410 | loss: 1.9621505998657085e-05\n",
      "Epoch: 26 batch: 420 | loss: 3.8175010558916256e-05\n",
      "Epoch: 26 batch: 430 | loss: 0.00013994266919326037\n",
      "Epoch: 26 batch: 440 | loss: 5.2506657084450126e-05\n"
     ]
    },
    {
     "name": "stderr",
     "output_type": "stream",
     "text": [
      "65it [00:00, 295.41it/s]"
     ]
    },
    {
     "name": "stdout",
     "output_type": "stream",
     "text": [
      "Epoch: 26 valLoss: 0.000504099425104521\n"
     ]
    },
    {
     "name": "stderr",
     "output_type": "stream",
     "text": [
      "\n"
     ]
    },
    {
     "name": "stdout",
     "output_type": "stream",
     "text": [
      "Epoch: 27 batch: 0 | loss: 3.477080463198945e-05\n",
      "Epoch: 27 batch: 10 | loss: 5.721123670809902e-05\n",
      "Epoch: 27 batch: 20 | loss: 4.139149677939713e-05\n",
      "Epoch: 27 batch: 30 | loss: 5.677751323673874e-05\n",
      "Epoch: 27 batch: 40 | loss: 2.7763613616116345e-05\n",
      "Epoch: 27 batch: 50 | loss: 2.1687876142095774e-05\n",
      "Epoch: 27 batch: 60 | loss: 1.844721191446297e-05\n",
      "Epoch: 27 batch: 70 | loss: 5.220407183514908e-05\n",
      "Epoch: 27 batch: 80 | loss: 6.78617725498043e-05\n",
      "Epoch: 27 batch: 90 | loss: 4.35266993008554e-05\n",
      "Epoch: 27 batch: 100 | loss: 6.0097987443441525e-05\n",
      "Epoch: 27 batch: 110 | loss: 2.8686688892776147e-05\n",
      "Epoch: 27 batch: 120 | loss: 2.9236598493298516e-05\n",
      "Epoch: 27 batch: 130 | loss: 0.0009785282891243696\n",
      "Epoch: 27 batch: 140 | loss: 2.6492984034121037e-05\n",
      "Epoch: 27 batch: 150 | loss: 1.7117175957537256e-05\n",
      "Epoch: 27 batch: 160 | loss: 2.752265390881803e-05\n",
      "Epoch: 27 batch: 170 | loss: 1.8698063286137767e-05\n",
      "Epoch: 27 batch: 180 | loss: 8.235921086452436e-06\n",
      "Epoch: 27 batch: 190 | loss: 6.406152533600107e-05\n",
      "Epoch: 27 batch: 200 | loss: 0.000221626105485484\n",
      "Epoch: 27 batch: 210 | loss: 0.00017470588500145823\n",
      "Epoch: 27 batch: 220 | loss: 4.412070848047733e-05\n",
      "Epoch: 27 batch: 230 | loss: 5.9338715800549835e-05\n",
      "Epoch: 27 batch: 240 | loss: 7.969478610903025e-05\n",
      "Epoch: 27 batch: 250 | loss: 5.098749534226954e-05\n",
      "Epoch: 27 batch: 260 | loss: 0.0011313852155581117\n",
      "Epoch: 27 batch: 270 | loss: 0.00014585682947654277\n",
      "Epoch: 27 batch: 280 | loss: 7.98282926552929e-05\n",
      "Epoch: 27 batch: 290 | loss: 0.00015462431474588811\n",
      "Epoch: 27 batch: 300 | loss: 0.0007051249267533422\n",
      "Epoch: 27 batch: 310 | loss: 5.541406062548049e-05\n",
      "Epoch: 27 batch: 320 | loss: 8.125470776576549e-05\n",
      "Epoch: 27 batch: 330 | loss: 7.89729820098728e-05\n",
      "Epoch: 27 batch: 340 | loss: 0.00024014918017201126\n",
      "Epoch: 27 batch: 350 | loss: 0.00023893987236078829\n",
      "Epoch: 27 batch: 360 | loss: 8.129125490086153e-05\n",
      "Epoch: 27 batch: 370 | loss: 2.5843030016403645e-05\n",
      "Epoch: 27 batch: 380 | loss: 2.7407264497014694e-05\n",
      "Epoch: 27 batch: 390 | loss: 4.821711263502948e-05\n",
      "Epoch: 27 batch: 400 | loss: 4.948332207277417e-05\n",
      "Epoch: 27 batch: 410 | loss: 1.963836621143855e-05\n",
      "Epoch: 27 batch: 420 | loss: 3.6923411244060844e-05\n",
      "Epoch: 27 batch: 430 | loss: 0.00014149516937322915\n",
      "Epoch: 27 batch: 440 | loss: 5.153659003553912e-05\n"
     ]
    },
    {
     "name": "stderr",
     "output_type": "stream",
     "text": [
      "65it [00:00, 293.67it/s]"
     ]
    },
    {
     "name": "stdout",
     "output_type": "stream",
     "text": [
      "Epoch: 27 valLoss: 0.0005053629557067958\n"
     ]
    },
    {
     "name": "stderr",
     "output_type": "stream",
     "text": [
      "\n"
     ]
    },
    {
     "name": "stdout",
     "output_type": "stream",
     "text": [
      "Epoch: 28 batch: 0 | loss: 3.678906068671495e-05\n",
      "Epoch: 28 batch: 10 | loss: 5.937664536759257e-05\n",
      "Epoch: 28 batch: 20 | loss: 3.999672117060982e-05\n",
      "Epoch: 28 batch: 30 | loss: 5.914337816648185e-05\n",
      "Epoch: 28 batch: 40 | loss: 2.7822059564641677e-05\n",
      "Epoch: 28 batch: 50 | loss: 2.1511834347620606e-05\n",
      "Epoch: 28 batch: 60 | loss: 1.776595672708936e-05\n",
      "Epoch: 28 batch: 70 | loss: 5.191185846342705e-05\n",
      "Epoch: 28 batch: 80 | loss: 6.553241109941155e-05\n",
      "Epoch: 28 batch: 90 | loss: 4.23620585934259e-05\n",
      "Epoch: 28 batch: 100 | loss: 5.78193248657044e-05\n",
      "Epoch: 28 batch: 110 | loss: 2.8665090212598443e-05\n",
      "Epoch: 28 batch: 120 | loss: 2.7675605451804586e-05\n",
      "Epoch: 28 batch: 130 | loss: 0.0009835087694227695\n",
      "Epoch: 28 batch: 140 | loss: 2.694358590815682e-05\n",
      "Epoch: 28 batch: 150 | loss: 1.7301195839536376e-05\n",
      "Epoch: 28 batch: 160 | loss: 2.798239620460663e-05\n",
      "Epoch: 28 batch: 170 | loss: 1.894240631372668e-05\n",
      "Epoch: 28 batch: 180 | loss: 8.480641554342583e-06\n",
      "Epoch: 28 batch: 190 | loss: 6.38735291431658e-05\n",
      "Epoch: 28 batch: 200 | loss: 0.0002204094926128164\n",
      "Epoch: 28 batch: 210 | loss: 0.00017526854935567826\n",
      "Epoch: 28 batch: 220 | loss: 4.376568176667206e-05\n",
      "Epoch: 28 batch: 230 | loss: 5.995160972815938e-05\n",
      "Epoch: 28 batch: 240 | loss: 7.940197247080505e-05\n",
      "Epoch: 28 batch: 250 | loss: 5.1326594984857365e-05\n",
      "Epoch: 28 batch: 260 | loss: 0.0011331094428896904\n",
      "Epoch: 28 batch: 270 | loss: 0.00014253096014726907\n",
      "Epoch: 28 batch: 280 | loss: 8.010368037503213e-05\n",
      "Epoch: 28 batch: 290 | loss: 0.000154579320224002\n",
      "Epoch: 28 batch: 300 | loss: 0.0007017034804448485\n",
      "Epoch: 28 batch: 310 | loss: 5.677185981767252e-05\n",
      "Epoch: 28 batch: 320 | loss: 7.895958697190508e-05\n",
      "Epoch: 28 batch: 330 | loss: 7.623965211678296e-05\n",
      "Epoch: 28 batch: 340 | loss: 0.00024056120309978724\n",
      "Epoch: 28 batch: 350 | loss: 0.0002402187674306333\n",
      "Epoch: 28 batch: 360 | loss: 8.265044016297907e-05\n",
      "Epoch: 28 batch: 370 | loss: 2.5589219148969278e-05\n",
      "Epoch: 28 batch: 380 | loss: 2.7028077965951525e-05\n",
      "Epoch: 28 batch: 390 | loss: 4.743883982882835e-05\n",
      "Epoch: 28 batch: 400 | loss: 4.878870822722092e-05\n",
      "Epoch: 28 batch: 410 | loss: 2.0237903299857862e-05\n",
      "Epoch: 28 batch: 420 | loss: 3.8608573959209025e-05\n",
      "Epoch: 28 batch: 430 | loss: 0.00014177571574691683\n",
      "Epoch: 28 batch: 440 | loss: 5.060157855041325e-05\n"
     ]
    },
    {
     "name": "stderr",
     "output_type": "stream",
     "text": [
      "65it [00:00, 303.93it/s]"
     ]
    },
    {
     "name": "stdout",
     "output_type": "stream",
     "text": [
      "Epoch: 28 valLoss: 0.000501191475712137\n"
     ]
    },
    {
     "name": "stderr",
     "output_type": "stream",
     "text": [
      "\n"
     ]
    },
    {
     "name": "stdout",
     "output_type": "stream",
     "text": [
      "Epoch: 29 batch: 0 | loss: 3.471514719421975e-05\n",
      "Epoch: 29 batch: 10 | loss: 5.6343607866438106e-05\n",
      "Epoch: 29 batch: 20 | loss: 3.817994365817867e-05\n",
      "Epoch: 29 batch: 30 | loss: 5.5005155445542186e-05\n",
      "Epoch: 29 batch: 40 | loss: 2.6847270419239067e-05\n",
      "Epoch: 29 batch: 50 | loss: 2.1199612092459574e-05\n",
      "Epoch: 29 batch: 60 | loss: 1.8271517546963878e-05\n",
      "Epoch: 29 batch: 70 | loss: 5.217387297307141e-05\n",
      "Epoch: 29 batch: 80 | loss: 6.82276368024759e-05\n",
      "Epoch: 29 batch: 90 | loss: 4.073688978678547e-05\n",
      "Epoch: 29 batch: 100 | loss: 5.529983536689542e-05\n",
      "Epoch: 29 batch: 110 | loss: 2.8637234208872542e-05\n",
      "Epoch: 29 batch: 120 | loss: 2.5931247364496812e-05\n",
      "Epoch: 29 batch: 130 | loss: 0.0009868209017440677\n",
      "Epoch: 29 batch: 140 | loss: 2.609701914479956e-05\n",
      "Epoch: 29 batch: 150 | loss: 1.7680760720395483e-05\n",
      "Epoch: 29 batch: 160 | loss: 2.794212196022272e-05\n",
      "Epoch: 29 batch: 170 | loss: 1.8687345800572075e-05\n",
      "Epoch: 29 batch: 180 | loss: 8.4319162851898e-06\n",
      "Epoch: 29 batch: 190 | loss: 6.395752279786393e-05\n",
      "Epoch: 29 batch: 200 | loss: 0.00021998945157974958\n",
      "Epoch: 29 batch: 210 | loss: 0.00017371910507790744\n",
      "Epoch: 29 batch: 220 | loss: 4.3383948650443926e-05\n",
      "Epoch: 29 batch: 230 | loss: 5.70318843529094e-05\n",
      "Epoch: 29 batch: 240 | loss: 8.057042578002438e-05\n",
      "Epoch: 29 batch: 250 | loss: 5.1918032113462687e-05\n",
      "Epoch: 29 batch: 260 | loss: 0.0011320599587634206\n",
      "Epoch: 29 batch: 270 | loss: 0.00013993737229611725\n",
      "Epoch: 29 batch: 280 | loss: 8.00180496298708e-05\n",
      "Epoch: 29 batch: 290 | loss: 0.00015440200513694435\n",
      "Epoch: 29 batch: 300 | loss: 0.0006983792409300804\n",
      "Epoch: 29 batch: 310 | loss: 5.687942757504061e-05\n",
      "Epoch: 29 batch: 320 | loss: 7.707330223638564e-05\n",
      "Epoch: 29 batch: 330 | loss: 7.399285095743835e-05\n",
      "Epoch: 29 batch: 340 | loss: 0.00024028634652495384\n",
      "Epoch: 29 batch: 350 | loss: 0.00024062702141236514\n",
      "Epoch: 29 batch: 360 | loss: 8.175829134415835e-05\n",
      "Epoch: 29 batch: 370 | loss: 2.498681169527117e-05\n",
      "Epoch: 29 batch: 380 | loss: 2.5386223569512367e-05\n",
      "Epoch: 29 batch: 390 | loss: 4.795019412995316e-05\n",
      "Epoch: 29 batch: 400 | loss: 4.8300553316948935e-05\n",
      "Epoch: 29 batch: 410 | loss: 1.9971004803664982e-05\n",
      "Epoch: 29 batch: 420 | loss: 3.7495785363717005e-05\n",
      "Epoch: 29 batch: 430 | loss: 0.0001435024751117453\n",
      "Epoch: 29 batch: 440 | loss: 5.003446131013334e-05\n"
     ]
    },
    {
     "name": "stderr",
     "output_type": "stream",
     "text": [
      "65it [00:00, 274.04it/s]"
     ]
    },
    {
     "name": "stdout",
     "output_type": "stream",
     "text": [
      "Epoch: 29 valLoss: 0.0005016295164270419\n",
      "Testing... 129\n"
     ]
    },
    {
     "name": "stderr",
     "output_type": "stream",
     "text": [
      "\n",
      "129it [00:00, 360.66it/s]\n"
     ]
    },
    {
     "name": "stdout",
     "output_type": "stream",
     "text": [
      "r2Score:  0.98421481496701\n",
      "meanSquaredError:  0.0008151094797714251\n",
      "RMSE:  0.028550122237416518\n",
      "meanAbsoluteError:  0.010631182822022061\n"
     ]
    },
    {
     "data": {
      "image/png": "[encoded data removed]",
      "text/plain": [
       "<Figure size 432x288 with 1 Axes>"
      ]
     },
     "metadata": {
      "needs_background": "light"
     },
     "output_type": "display_data"
    }
   ],
   "source": [
    "import torch\n",
    "from torch.utils.data import DataLoader\n",
    "\n",
    "from config import Config\n",
    "\n",
    "from utils.dataTools import *\n",
    "from utils.models import CNNBiLSTM\n",
    "from utils.trainer import CNNBiLstm_evaluate,CNNBiLstmtrain\n",
    "\n",
    "if __name__ == '__main__':\n",
    "    config = Config()\n",
    "\n",
    "    print(\"Data loading...\")\n",
    "    # 序列数据\n",
    "    dataset = mydataReader(\"./dataProcessed/testData.csv\")\n",
    "\n",
    "    # 创建X/Y\n",
    "    # 划分训练集和测试集，70% 作为训练集,10%作为验证集,20%作为测试集\n",
    "    (train_X ,train_Y ), (val_X,val_Y), (test_X ,test_Y )= dataset.split(lookback=config.lookback,trainSet_ratio=0.7,valSet_ratio=0.1)\n",
    "\n",
    "    # 创建Pytorch使用的dataset\n",
    "    trainSet = custom_dataset(train_X,train_Y)\n",
    "    valSet = custom_dataset(val_X,val_Y)\n",
    "    testSet = custom_dataset(test_X,test_Y)\n",
    "\n",
    "    train_loader = DataLoader(trainSet, batch_size = config.batch_size,\n",
    "                              shuffle=False, pin_memory=True, num_workers=4, drop_last=True)\n",
    "    val_loader = DataLoader(valSet, batch_size = config.batch_size,\n",
    "                              shuffle=False, pin_memory=True, num_workers=4, drop_last=False)\n",
    "    test_loader = DataLoader(testSet, batch_size = config.batch_size,\n",
    "                            shuffle=False, pin_memory=True, num_workers=4, drop_last=False)\n",
    "\n",
    "\n",
    "    print(\"Model loading...\")\n",
    "    model = CNNBiLSTM(hidden_size=12,num_layers=1).to(config.device)\n",
    "    criterion = torch.nn.MSELoss()\n",
    "    optimizer = torch.optim.AdamW(model.parameters(),\n",
    "                                 lr=config.learning_rate, weight_decay=config.weight_decay)\n",
    "\n",
    "    print(\"Training...\")\n",
    "    model = CNNBiLstmtrain(model,\n",
    "                  trainloader=train_loader,\n",
    "                  valloader=val_loader,\n",
    "                  criterion=criterion,\n",
    "                  optimizer=optimizer,\n",
    "                  config=config)\n",
    "\n",
    "    print(\"Testing...\", round(len(testSet)/config.batch_size))\n",
    "    y_pre,y = CNNBiLstm_evaluate(model, test_loader, config)\n"
   ]
  },
  {
   "cell_type": "code",
   "execution_count": 2,
   "metadata": {},
   "outputs": [],
   "source": [
    "pd.DataFrame({'y_true':y,'y_pre':y_pre}).to_csv(\"./result/CNN-BiLSTMpre-best.csv\",index=False)\n"
   ]
  },
  {
   "cell_type": "markdown",
   "metadata": {},
   "source": [
    "CNN-BiLSTM-middle\n",
    "r2Score:  0.9732221421565376\n",
    "meanSquaredError:  0.0013827450061916385\n",
    "RMSE:  0.037185279428715315\n",
    "meanAbsoluteError:  0.013599438024481905"
   ]
  },
  {
   "cell_type": "code",
   "execution_count": 5,
   "metadata": {},
   "outputs": [
    {
     "name": "stdout",
     "output_type": "stream",
     "text": [
      "[16:00:47] WARNING: ../src/learner.cc:576: \n",
      "Parameters: { \"randam_state\" } might not be used.\n",
      "\n",
      "  This could be a false alarm, with some parameters getting used by language bindings but\n",
      "  then being mistakenly passed down to XGBoost core, or some parameter actually being used\n",
      "  but getting flagged wrongly here. Please open an issue if you find any such cases.\n",
      "\n",
      "\n",
      "测试集MSELoss:  0.000546731\n",
      "测试集MAELoss:  0.007865759\n",
      "测试集RMSELoss:  0.02338228\n",
      "测试集r2-score:  0.9894121580243599\n"
     ]
    },
    {
     "data": {
      "text/plain": [
       "<matplotlib.legend.Legend at 0x7fefe51716d0>"
      ]
     },
     "execution_count": 5,
     "metadata": {},
     "output_type": "execute_result"
    },
    {
     "data": {
      "image/png": "[encoded data removed]",
      "text/plain": [
       "<Figure size 432x288 with 1 Axes>"
      ]
     },
     "metadata": {
      "needs_background": "light"
     },
     "output_type": "display_data"
    }
   ],
   "source": [
    "# 加载xgboost模型\n",
    "from sklearn.metrics import mean_squared_error,mean_absolute_error\n",
    "from sklearn.metrics import r2_score\n",
    "import xgboost as xgb\n",
    "import numpy as np\n",
    "# 定义模型\n",
    "# model = xgb.XGBRegressor(max_depth = 6,learning_rate = 0.05,n_estimators = 100,randam_state=42)\n",
    "model = xgb.XGBRegressor(max_depth = 4,learning_rate = 0.05,n_estimators = 100,randam_state=42)\n",
    "\n",
    "# 训练\n",
    "model.fit(train_X.squeeze(),train_Y.squeeze())\n",
    "test_predict=model.predict(test_X.squeeze())\n",
    "train_predict = model.predict(train_X.squeeze())\n",
    "\n",
    "# MSE\n",
    "msetest=mean_squared_error(test_Y.squeeze(),test_predict)\n",
    "maetest=mean_absolute_error(test_Y.squeeze(),test_predict)\n",
    "msetrain=mean_squared_error(train_Y.squeeze(),train_predict)\n",
    "print(\"测试集MSELoss: \",msetest)\n",
    "print(\"测试集MAELoss: \",maetest)\n",
    "print(\"测试集RMSELoss: \",np.sqrt(msetest))\n",
    "# print(msetrain)\n",
    "\n",
    "# R2-score\n",
    "r2Test = r2_score(test_Y.squeeze(),test_predict)\n",
    "print(\"测试集r2-score: \",r2Test)\n",
    "\n",
    "# 画出实际结果和预测的结果\n",
    "import matplotlib.pyplot as plt\n",
    "y = test_Y.squeeze()\n",
    "y_pre = test_predict\n",
    "pd.DataFrame({'y_true':y,'y_pre':y_pre}).to_csv(\"./result/XGBoostpre-best.csv\",index=False)\n",
    "plt.plot(range(len(y[:1000])),y_pre[:1000],color = 'red',linewidth = 1.5,linestyle = '-.',label='prediction')\n",
    "plt.plot(range(len(y[:1000])),y[:1000],color = 'blue',linewidth = 1.5,linestyle = '-', label='real')\n",
    "plt.legend(loc='best')"
   ]
  },
  {
   "cell_type": "markdown",
   "metadata": {},
   "source": [
    "树-80\n",
    "测试集MSELoss:  0.0005582242\n",
    "测试集MAELoss:  0.008747728\n",
    "测试集RMSELoss:  0.023626769\n",
    "测试集r2-score:  0.9891895839209156"
   ]
  }
 ],
 "metadata": {
  "interpreter": {
   "hash": "0585272c6395396341ee04675bd50926ae099db04beb93efeb4cdfb816b7c2a3"
  },
  "kernelspec": {
   "display_name": "Python 3 (ipykernel)",
   "language": "python",
   "name": "python3"
  },
  "language_info": {
   "codemirror_mode": {
    "name": "ipython",
    "version": 3
   },
   "file_extension": ".py",
   "mimetype": "text/x-python",
   "name": "python",
   "nbconvert_exporter": "python",
   "pygments_lexer": "ipython3",
   "version": "3.7.10"
  }
 },
 "nbformat": 4,
 "nbformat_minor": 4
}
