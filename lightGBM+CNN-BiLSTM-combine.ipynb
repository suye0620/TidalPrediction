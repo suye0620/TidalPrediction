{
 "cells": [
  {
   "cell_type": "code",
   "execution_count": 1,
   "metadata": {},
   "outputs": [],
   "source": [
    "import pandas as pd\n",
    "import numpy as np\n",
    "from sklearn.metrics import r2_score,mean_absolute_error,mean_squared_error\n",
    "\n",
    "# 计算lightGBM+CNNBiLSTM\n",
    "df_lightGBM = pd.read_csv(\"./result/lightGBMpre-best.csv\")\n",
    "df_CNNBiLSTM = pd.read_csv(\"./result/CNN-BiLSTMpre-best.csv\")"
   ]
  },
  {
   "cell_type": "code",
   "execution_count": 2,
   "metadata": {},
   "outputs": [],
   "source": [
    "# 计算基模型的累计误差\n",
    "def CumMSE(df_model:pd.DataFrame):\n",
    "    \"\"\"\n",
    "    df_model第一列为true，第二列为pre\n",
    "    \"\"\"\n",
    "    cum_mse = []\n",
    "    for i in range(len(df_model)):\n",
    "        cum_mse.append(mean_squared_error(df_model.iloc[:i+1,0],df_model.iloc[:i+1,1]))\n",
    "    return cum_mse\n",
    "\n",
    "cum_mse_lightGBM = CumMSE(df_lightGBM)\n",
    "cum_mse_CNNBiLSTM = CumMSE(df_CNNBiLSTM)\n",
    "\n",
    "# 计算组合权重\n",
    "def CombineWeight(cum_mse1:list,cum_mse2:list):\n",
    "    \"\"\"\n",
    "    :parameters:\n",
    "    cum_mse1: 模型1累计误差 \n",
    "    cum_mse2: 模型2累计误差\n",
    "    \n",
    "    :return: \n",
    "    模型1的组合权重\n",
    "    \"\"\"\n",
    "    weightList = []\n",
    "    for i in range(len(cum_mse1)):\n",
    "        weightOfModel1 = cum_mse1[i]/sum([cum_mse1[i],cum_mse2[i]])\n",
    "        weightList.append(weightOfModel1)\n",
    "    return weightList\n",
    "\n",
    "weight_lightGBM = CombineWeight(cum_mse_lightGBM,cum_mse_CNNBiLSTM)\n",
    "    "
   ]
  },
  {
   "cell_type": "code",
   "execution_count": 4,
   "metadata": {},
   "outputs": [],
   "source": [
    "# 计算lightGBM+CNNBiLSTM组合预测值\n",
    "def CombineModel(df_Model1:pd.DataFrame,df_Model2:pd.DataFrame,combineWeightOfModel1:list):\n",
    "    \"\"\"\n",
    "    :parameters:\n",
    "    df_Model1: 模型1的结果\n",
    "    df_Model2: 模型2的结果\n",
    "    combineWeightOfModel1: 模型1的组合权重\n",
    "\n",
    "    :return: 预测值\n",
    "    \"\"\"\n",
    "    y_pre = []\n",
    "    for idx,weight in enumerate(combineWeightOfModel1):\n",
    "        prediction = df_Model1['y_pre'][idx] *weight + df_Model2['y_pre'][idx]*(1-weight)\n",
    "        y_pre.append(prediction)\n",
    "    return y_pre\n",
    "\n",
    "y_pre = CombineModel(df_lightGBM,df_CNNBiLSTM,weight_lightGBM)\n",
    "y = df_lightGBM.loc[:,'y_true']\n"
   ]
  },
  {
   "cell_type": "code",
   "execution_count": 5,
   "metadata": {},
   "outputs": [
    {
     "name": "stdout",
     "output_type": "stream",
     "text": [
      "r2Score:  0.9874592500114563\n",
      "meanSquaredError:  0.0006475745566911211\n",
      "RMSE:  0.025447486254856707\n",
      "meanAbsoluteError:  0.008720665109818292\n"
     ]
    }
   ],
   "source": [
    "# 计算lightGBM+CNNBiLSTM组合评价\n",
    "r2Score = r2_score(y_true=y, y_pred=y_pre)\n",
    "meanSquaredError = mean_squared_error(y_true=y, y_pred=y_pre)\n",
    "meanAbsoluteError = mean_absolute_error(y_true=y, y_pred=y_pre)\n",
    "print(\"r2Score: \", r2Score)\n",
    "print(\"meanSquaredError: \", meanSquaredError)\n",
    "print('RMSE: ',np.sqrt(meanSquaredError))\n",
    "print(\"meanAbsoluteError: \", meanAbsoluteError)\n"
   ]
  },
  {
   "cell_type": "code",
   "execution_count": 23,
   "metadata": {},
   "outputs": [
    {
     "data": {
      "text/plain": [
       "Index(['Model_name', 'r2-score', 'MSE', 'RMSE', 'MAE'], dtype='object')"
      ]
     },
     "execution_count": 23,
     "metadata": {},
     "output_type": "execute_result"
    }
   ],
   "source": [
    "df_evaluate = pd.read_csv(\"./result/组合模型结果.csv\")\n",
    "df_evaluate.columns"
   ]
  },
  {
   "cell_type": "code",
   "execution_count": 26,
   "metadata": {},
   "outputs": [
    {
     "data": {
      "text/html": [
       "<div>\n",
       "<style scoped>\n",
       "    .dataframe tbody tr th:only-of-type {\n",
       "        vertical-align: middle;\n",
       "    }\n",
       "\n",
       "    .dataframe tbody tr th {\n",
       "        vertical-align: top;\n",
       "    }\n",
       "\n",
       "    .dataframe thead th {\n",
       "        text-align: right;\n",
       "    }\n",
       "</style>\n",
       "<table border=\"1\" class=\"dataframe\">\n",
       "  <thead>\n",
       "    <tr style=\"text-align: right;\">\n",
       "      <th></th>\n",
       "      <th>Model_name</th>\n",
       "      <th>variable</th>\n",
       "      <th>value</th>\n",
       "    </tr>\n",
       "  </thead>\n",
       "  <tbody>\n",
       "    <tr>\n",
       "      <th>0</th>\n",
       "      <td>BiLSTM</td>\n",
       "      <td>MSE</td>\n",
       "      <td>0.001828</td>\n",
       "    </tr>\n",
       "    <tr>\n",
       "      <th>1</th>\n",
       "      <td>XGBoost</td>\n",
       "      <td>MSE</td>\n",
       "      <td>0.000961</td>\n",
       "    </tr>\n",
       "    <tr>\n",
       "      <th>2</th>\n",
       "      <td>CNN-BiLSTM</td>\n",
       "      <td>MSE</td>\n",
       "      <td>0.001383</td>\n",
       "    </tr>\n",
       "    <tr>\n",
       "      <th>3</th>\n",
       "      <td>XGBoost+BiLSTM</td>\n",
       "      <td>MSE</td>\n",
       "      <td>0.001344</td>\n",
       "    </tr>\n",
       "    <tr>\n",
       "      <th>4</th>\n",
       "      <td>XGBoost+CNN-BiLSTM</td>\n",
       "      <td>MSE</td>\n",
       "      <td>0.000643</td>\n",
       "    </tr>\n",
       "    <tr>\n",
       "      <th>5</th>\n",
       "      <td>BiLSTM</td>\n",
       "      <td>RMSE</td>\n",
       "      <td>0.042752</td>\n",
       "    </tr>\n",
       "    <tr>\n",
       "      <th>6</th>\n",
       "      <td>XGBoost</td>\n",
       "      <td>RMSE</td>\n",
       "      <td>0.031005</td>\n",
       "    </tr>\n",
       "    <tr>\n",
       "      <th>7</th>\n",
       "      <td>CNN-BiLSTM</td>\n",
       "      <td>RMSE</td>\n",
       "      <td>0.037185</td>\n",
       "    </tr>\n",
       "    <tr>\n",
       "      <th>8</th>\n",
       "      <td>XGBoost+BiLSTM</td>\n",
       "      <td>RMSE</td>\n",
       "      <td>0.036661</td>\n",
       "    </tr>\n",
       "    <tr>\n",
       "      <th>9</th>\n",
       "      <td>XGBoost+CNN-BiLSTM</td>\n",
       "      <td>RMSE</td>\n",
       "      <td>0.025357</td>\n",
       "    </tr>\n",
       "    <tr>\n",
       "      <th>10</th>\n",
       "      <td>BiLSTM</td>\n",
       "      <td>MAE</td>\n",
       "      <td>0.029179</td>\n",
       "    </tr>\n",
       "    <tr>\n",
       "      <th>11</th>\n",
       "      <td>XGBoost</td>\n",
       "      <td>MAE</td>\n",
       "      <td>0.020055</td>\n",
       "    </tr>\n",
       "    <tr>\n",
       "      <th>12</th>\n",
       "      <td>CNN-BiLSTM</td>\n",
       "      <td>MAE</td>\n",
       "      <td>0.013599</td>\n",
       "    </tr>\n",
       "    <tr>\n",
       "      <th>13</th>\n",
       "      <td>XGBoost+BiLSTM</td>\n",
       "      <td>MAE</td>\n",
       "      <td>0.024733</td>\n",
       "    </tr>\n",
       "    <tr>\n",
       "      <th>14</th>\n",
       "      <td>XGBoost+CNN-BiLSTM</td>\n",
       "      <td>MAE</td>\n",
       "      <td>0.008780</td>\n",
       "    </tr>\n",
       "  </tbody>\n",
       "</table>\n",
       "</div>"
      ],
      "text/plain": [
       "            Model_name variable     value\n",
       "0               BiLSTM      MSE  0.001828\n",
       "1              XGBoost      MSE  0.000961\n",
       "2           CNN-BiLSTM      MSE  0.001383\n",
       "3       XGBoost+BiLSTM      MSE  0.001344\n",
       "4   XGBoost+CNN-BiLSTM      MSE  0.000643\n",
       "5               BiLSTM     RMSE  0.042752\n",
       "6              XGBoost     RMSE  0.031005\n",
       "7           CNN-BiLSTM     RMSE  0.037185\n",
       "8       XGBoost+BiLSTM     RMSE  0.036661\n",
       "9   XGBoost+CNN-BiLSTM     RMSE  0.025357\n",
       "10              BiLSTM      MAE  0.029179\n",
       "11             XGBoost      MAE  0.020055\n",
       "12          CNN-BiLSTM      MAE  0.013599\n",
       "13      XGBoost+BiLSTM      MAE  0.024733\n",
       "14  XGBoost+CNN-BiLSTM      MAE  0.008780"
      ]
     },
     "execution_count": 26,
     "metadata": {},
     "output_type": "execute_result"
    }
   ],
   "source": [
    "df_evaluate = df_evaluate[['Model_name', 'MSE', 'RMSE', 'MAE']].melt(id_vars='Model_name')\n",
    "df_evaluate"
   ]
  },
  {
   "cell_type": "code",
   "execution_count": 27,
   "metadata": {},
   "outputs": [
    {
     "data": {
      "image/png": "[encoded data removed]",
      "text/plain": [
       "<Figure size 589.1x432 with 1 Axes>"
      ]
     },
     "metadata": {},
     "output_type": "display_data"
    }
   ],
   "source": [
    "import seaborn as sns\n",
    "sns.set_theme(style=\"whitegrid\")\n",
    "\n",
    "# Draw a nested barplot by species and sex\n",
    "g = sns.catplot(\n",
    "    data=df_evaluate, kind=\"bar\",\n",
    "    x=\"variable\"\t, y=\"value\", hue=\"Model_name\",\n",
    "    ci=\"sd\", palette=\"dark\", alpha=.6, height=6\n",
    ")\n",
    "g.despine(left=True)\n",
    "g.set_axis_labels(\"\", \"value\")\n",
    "g.legend.set_title(\"\")"
   ]
  },
  {
   "cell_type": "code",
   "execution_count": null,
   "metadata": {},
   "outputs": [],
   "source": []
  }
 ],
 "metadata": {
  "interpreter": {
   "hash": "bf66d7ede83c666f4812156377ed9bfbc71a2669306570e2ed65a732f7607a02"
  },
  "kernelspec": {
   "display_name": "Python 3.8.12 ('pytorch1')",
   "language": "python",
   "name": "python3"
  },
  "language_info": {
   "codemirror_mode": {
    "name": "ipython",
    "version": 3
   },
   "file_extension": ".py",
   "mimetype": "text/x-python",
   "name": "python",
   "nbconvert_exporter": "python",
   "pygments_lexer": "ipython3",
   "version": "3.8.12"
  },
  "orig_nbformat": 4
 },
 "nbformat": 4,
 "nbformat_minor": 2
}
