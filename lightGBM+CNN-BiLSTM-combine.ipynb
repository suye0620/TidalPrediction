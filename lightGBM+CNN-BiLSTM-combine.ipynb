{
 "cells": [
  {
   "cell_type": "code",
   "execution_count": 1,
   "metadata": {},
   "outputs": [],
   "source": [
    "import pandas as pd\n",
    "import numpy as np\n",
    "from sklearn.metrics import r2_score,mean_absolute_error,mean_squared_error\n",
    "\n",
    "# 计算lightGBM+CNNBiLSTM\n",
    "df_lightGBM = pd.read_csv(\"./result/lightGBMpre-best.csv\")\n",
    "df_CNNBiLSTM = pd.read_csv(\"./result/CNN-BiLSTMpre-best.csv\")"
   ]
  },
  {
   "cell_type": "code",
   "execution_count": 2,
   "metadata": {},
   "outputs": [],
   "source": [
    "# 计算基模型的累计误差\n",
    "def CumMSE(df_model:pd.DataFrame):\n",
    "    \"\"\"\n",
    "    df_model第一列为true，第二列为pre\n",
    "    \"\"\"\n",
    "    cum_mse = []\n",
    "    for i in range(len(df_model)):\n",
    "        cum_mse.append(mean_squared_error(df_model.iloc[:i+1,0],df_model.iloc[:i+1,1]))\n",
    "    return cum_mse\n",
    "\n",
    "cum_mse_lightGBM = CumMSE(df_lightGBM)\n",
    "cum_mse_CNNBiLSTM = CumMSE(df_CNNBiLSTM)\n",
    "\n",
    "# 计算组合权重\n",
    "def CombineWeight(cum_mse1:list,cum_mse2:list):\n",
    "    \"\"\"\n",
    "    :parameters:\n",
    "    cum_mse1: 模型1累计误差 \n",
    "    cum_mse2: 模型2累计误差\n",
    "    \n",
    "    :return: \n",
    "    模型1的组合权重\n",
    "    \"\"\"\n",
    "    weightList = []\n",
    "    for i in range(len(cum_mse1)):\n",
    "        weightOfModel1 = cum_mse1[i]/sum([cum_mse1[i],cum_mse2[i]])\n",
    "        weightList.append(weightOfModel1)\n",
    "    return weightList\n",
    "\n",
    "weight_lightGBM = CombineWeight(cum_mse_lightGBM,cum_mse_CNNBiLSTM)\n",
    "    "
   ]
  },
  {
   "cell_type": "code",
   "execution_count": 4,
   "metadata": {},
   "outputs": [],
   "source": [
    "# 计算lightGBM+CNNBiLSTM组合预测值\n",
    "def CombineModel(df_Model1:pd.DataFrame,df_Model2:pd.DataFrame,combineWeightOfModel1:list):\n",
    "    \"\"\"\n",
    "    :parameters:\n",
    "    df_Model1: 模型1的结果\n",
    "    df_Model2: 模型2的结果\n",
    "    combineWeightOfModel1: 模型1的组合权重\n",
    "\n",
    "    :return: 预测值\n",
    "    \"\"\"\n",
    "    y_pre = []\n",
    "    for idx,weight in enumerate(combineWeightOfModel1):\n",
    "        prediction = df_Model1['y_pre'][idx] *weight + df_Model2['y_pre'][idx]*(1-weight)\n",
    "        y_pre.append(prediction)\n",
    "    return y_pre\n",
    "\n",
    "y_pre = CombineModel(df_lightGBM,df_CNNBiLSTM,weight_lightGBM)\n",
    "y = df_lightGBM.loc[:,'y_true']\n"
   ]
  },
  {
   "cell_type": "code",
   "execution_count": 5,
   "metadata": {},
   "outputs": [
    {
     "name": "stdout",
     "output_type": "stream",
     "text": [
      "r2Score:  0.9874592500114563\n",
      "meanSquaredError:  0.0006475745566911211\n",
      "RMSE:  0.025447486254856707\n",
      "meanAbsoluteError:  0.008720665109818292\n"
     ]
    }
   ],
   "source": [
    "# 计算lightGBM+CNNBiLSTM组合评价\n",
    "r2Score = r2_score(y_true=y, y_pred=y_pre)\n",
    "meanSquaredError = mean_squared_error(y_true=y, y_pred=y_pre)\n",
    "meanAbsoluteError = mean_absolute_error(y_true=y, y_pred=y_pre)\n",
    "print(\"r2Score: \", r2Score)\n",
    "print(\"meanSquaredError: \", meanSquaredError)\n",
    "print('RMSE: ',np.sqrt(meanSquaredError))\n",
    "print(\"meanAbsoluteError: \", meanAbsoluteError)\n"
   ]
  },
  {
   "cell_type": "code",
   "execution_count": 26,
   "metadata": {},
   "outputs": [],
   "source": [
    "import pandas as pd\n",
    "df_evaluate = pd.read_csv(\"./result/组合模型结果.csv\")\n",
    "df_evaluate = df_evaluate[(df_evaluate['Port name'] == 'Howth')&(df_evaluate['Model name'] != 'BiLSTM')]"
   ]
  },
  {
   "cell_type": "code",
   "execution_count": 27,
   "metadata": {},
   "outputs": [],
   "source": [
    "df_evaluate = df_evaluate[['Model name', 'RMSE', 'MAE']].melt(id_vars='Model name')\n",
    "# df_evaluate"
   ]
  },
  {
   "cell_type": "code",
   "execution_count": 39,
   "metadata": {},
   "outputs": [
    {
     "data": {
      "image/png": "[encoded data removed]",
      "text/plain": [
       "<Figure size 576x432 with 1 Axes>"
      ]
     },
     "metadata": {},
     "output_type": "display_data"
    }
   ],
   "source": [
    "import seaborn as sns\n",
    "import matplotlib.pyplot as plt\n",
    "\n",
    "# 创建画布\n",
    "fig = plt.figure(figsize=(8,6))\n",
    "ax1 = fig.add_subplot(1,1,1)\n",
    "\n",
    "sns.set(context='notebook', style='ticks', font_scale=1.3,\n",
    "rc = {'font.weight':600,'legend.fontsize':10,'legend.title_fontsize':12,\n",
    "'legend.framealpha':0.6,\n",
    "'legend.borderpad':     0.4,\n",
    "'legend.labelspacing':  0.3  })\n",
    "\n",
    "rc = {\"weight\":600}\n",
    "# Draw a nested barplot by species and sex\n",
    "sns.barplot(\n",
    "    data=df_evaluate, \n",
    "    x=\"variable\"\t, y=\"value\", hue=\"Model name\",\n",
    "    palette=\"dark\", alpha=.6,ax=ax1\n",
    ")\n",
    "\n",
    "ax1.set_ylabel('',rc)\n",
    "ax1.set_xlabel('',rc)\n",
    "\n",
    "fig.savefig(\"./plot/compare\",dpi=600)"
   ]
  },
  {
   "cell_type": "code",
   "execution_count": null,
   "metadata": {},
   "outputs": [],
   "source": []
  }
 ],
 "metadata": {
  "kernelspec": {
   "display_name": "Python 3.9.15 ('mytorch')",
   "language": "python",
   "name": "python3"
  },
  "language_info": {
   "codemirror_mode": {
    "name": "ipython",
    "version": 3
   },
   "file_extension": ".py",
   "mimetype": "text/x-python",
   "name": "python",
   "nbconvert_exporter": "python",
   "pygments_lexer": "ipython3",
   "version": "3.9.15"
  },
  "orig_nbformat": 4,
  "vscode": {
   "interpreter": {
    "hash": "b37abde0529af7da1a963f31ba3242770f93db2f07c6f8aaa89fc53ac00eddbe"
   }
  }
 },
 "nbformat": 4,
 "nbformat_minor": 2
}
